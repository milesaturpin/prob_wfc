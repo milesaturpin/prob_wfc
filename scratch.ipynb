{
 "cells": [
  {
   "cell_type": "code",
   "execution_count": 1,
   "metadata": {},
   "outputs": [],
   "source": [
    "import matplotlib.pyplot as plt\n",
    "import skimage as sk\n",
    "from skimage import data, io, filters, color\n",
    "from skimage.transform import rescale, resize, downscale_local_mean\n",
    "import pandas as pd\n",
    "import numpy as np\n",
    "from math import floor"
   ]
  },
  {
   "cell_type": "code",
   "execution_count": 2,
   "metadata": {},
   "outputs": [],
   "source": [
    "img = io.imread('data/1.png')\n",
    "img = color.rgb2gray(img)\n",
    "img = rescale(img, 0.08, anti_aliasing=False, anti_aliasing_sigma=7)\n",
    "img = ((img*2).round()/2).astype(int)"
   ]
  },
  {
   "cell_type": "code",
   "execution_count": 390,
   "metadata": {},
   "outputs": [],
   "source": [
    "img = io.imread('data/6.png')\n",
    "img = color.rgb2gray(img)\n",
    "img = rescale(img, 1/12, anti_aliasing=False, anti_aliasing_sigma=7)\n",
    "img = ((img*2).round()/2).astype(int)"
   ]
  },
  {
   "cell_type": "code",
   "execution_count": 228,
   "metadata": {},
   "outputs": [],
   "source": [
    "img = io.imread('data/6.png')\n",
    "img = color.rgb2gray(img)\n",
    "img = rescale(img, 1/12, anti_aliasing=False, anti_aliasing_sigma=7)\n",
    "img = ((img*2).round()/2).astype(int)"
   ]
  },
  {
   "cell_type": "code",
   "execution_count": null,
   "metadata": {},
   "outputs": [],
   "source": []
  },
  {
   "cell_type": "code",
   "execution_count": 43,
   "metadata": {},
   "outputs": [
    {
     "data": {
      "text/plain": [
       "(16, 16)"
      ]
     },
     "execution_count": 43,
     "metadata": {},
     "output_type": "execute_result"
    }
   ],
   "source": [
    "img.shape"
   ]
  },
  {
   "cell_type": "code",
   "execution_count": 44,
   "metadata": {},
   "outputs": [
    {
     "data": {
      "text/plain": [
       "<matplotlib.image.AxesImage at 0x7fdc510e5c18>"
      ]
     },
     "execution_count": 44,
     "metadata": {},
     "output_type": "execute_result"
    },
    {
     "data": {
      "image/png": "[encoded data removed]",
      "text/plain": [
       "<Figure size 432x288 with 1 Axes>"
      ]
     },
     "metadata": {
      "needs_background": "light"
     },
     "output_type": "display_data"
    }
   ],
   "source": [
    "plt.imshow(img, cmap='gray')"
   ]
  },
  {
   "cell_type": "markdown",
   "metadata": {},
   "source": [
    "Take a 3x3 patch and turn into sequence, treat each entry as categorical variance and compute covariance matrix between each pair"
   ]
  },
  {
   "cell_type": "code",
   "execution_count": 4,
   "metadata": {},
   "outputs": [],
   "source": [
    "def ndim2flat_idx(idx, shape):\n",
    "    \"\"\"\n",
    "    Inverse to np.unravel_index.\n",
    "    \n",
    "    E.g. ndim2flat_idx([1,2], (3,3)) = 5\n",
    "    \"\"\"\n",
    "    flat_idx = 0\n",
    "    place = 1\n",
    "    for i in range(len(idx))[::-1]:\n",
    "        if idx[i] >= shape[i]:\n",
    "            raise ValueError('Index too big for shape!')\n",
    "        flat_idx += idx[i]*place\n",
    "        place = place*shape[i]\n",
    "    return flat_idx"
   ]
  },
  {
   "cell_type": "markdown",
   "metadata": {},
   "source": [
    "oh wait Im counting if matches self oops"
   ]
  },
  {
   "cell_type": "code",
   "execution_count": 589,
   "metadata": {},
   "outputs": [
    {
     "name": "stderr",
     "output_type": "stream",
     "text": [
      "/Users/milesturpin/miniconda3/lib/python3.6/site-packages/ipykernel_launcher.py:35: RuntimeWarning: invalid value encountered in true_divide\n"
     ]
    }
   ],
   "source": [
    "# num loops = 64*64*50*50 = 10 million\n",
    "\n",
    "def compute_count_tensor(img, kernel_size, stride, dilation=0):\n",
    "    \"\"\"\n",
    "    Currently kernel size is also stride.\n",
    "    \"\"\"\n",
    "    \n",
    "    indices = [[i,j] for i in range(kernel_size) for j in range(kernel_size)]\n",
    "    \n",
    "    w = img.shape[1]\n",
    "    h = img.shape[0]\n",
    "    num_convs_w = floor((w-kernel_size)/stride)+1\n",
    "    num_convs_h = floor((w-kernel_size)/stride)+1\n",
    "    \n",
    "    count_tensor = np.zeros([kernel_size**2,\n",
    "                             kernel_size**2, 2,2])\n",
    "    for i in range(0, num_convs_h, stride):\n",
    "        for j in range(0, num_convs_w, stride):\n",
    "            for idx1 in indices:\n",
    "                for idx2 in indices:\n",
    "\n",
    "                    idx = (\n",
    "                        ndim2flat_idx(idx1, (kernel_size,kernel_size)),\n",
    "                        ndim2flat_idx(idx2, (kernel_size,kernel_size)),\n",
    "                        img[i + idx1[0], j + idx1[1]],\n",
    "                        img[i + idx2[0], j + idx2[1]]\n",
    "                    )\n",
    "\n",
    "                    if idx1 != idx2:\n",
    "                        count_tensor[idx] = count_tensor[idx] + 1\n",
    "                        \n",
    "    return count_tensor\n",
    "\n",
    "def normalize_count_tensor(count_tensor):\n",
    "    normalized_tensor = count_tensor / np.sum(count_tensor, axis=(2,3), keepdims=True)\n",
    "    affinity_tensor = np.log(normalized_tensor + 0.0000001)\n",
    "    return affinity_tensor\n",
    "        \n",
    "        \n",
    "count_tensor = compute_count_tensor(img, kernel_size=4, stride=1)\n",
    "affinity_tensor = normalize_count_tensor(count_tensor)"
   ]
  },
  {
   "cell_type": "code",
   "execution_count": 351,
   "metadata": {},
   "outputs": [
    {
     "data": {
      "text/plain": [
       "array([[[[0., 0., 0., ..., 0., 0., 0.],\n",
       "         [0., 0., 1., ..., 0., 1., 1.],\n",
       "         [0., 1., 0., ..., 0., 1., 1.],\n",
       "         ...,\n",
       "         [0., 0., 0., ..., 0., 0., 0.],\n",
       "         [0., 1., 1., ..., 0., 0., 1.],\n",
       "         [0., 1., 1., ..., 0., 1., 0.]],\n",
       "\n",
       "        [[0., 0., 0., ..., 0., 0., 0.],\n",
       "         [1., 0., 0., ..., 1., 0., 0.],\n",
       "         [1., 0., 0., ..., 1., 0., 0.],\n",
       "         ...,\n",
       "         [0., 0., 0., ..., 0., 0., 0.],\n",
       "         [1., 0., 0., ..., 1., 0., 0.],\n",
       "         [1., 0., 0., ..., 1., 0., 0.]]],\n",
       "\n",
       "\n",
       "       [[[0., 1., 1., ..., 0., 1., 1.],\n",
       "         [0., 0., 0., ..., 0., 0., 0.],\n",
       "         [0., 0., 0., ..., 0., 0., 0.],\n",
       "         ...,\n",
       "         [0., 1., 1., ..., 0., 1., 1.],\n",
       "         [0., 0., 0., ..., 0., 0., 0.],\n",
       "         [0., 0., 0., ..., 0., 0., 0.]],\n",
       "\n",
       "        [[0., 0., 0., ..., 1., 0., 0.],\n",
       "         [0., 0., 0., ..., 0., 0., 0.],\n",
       "         [0., 0., 0., ..., 0., 0., 0.],\n",
       "         ...,\n",
       "         [1., 0., 0., ..., 0., 0., 0.],\n",
       "         [0., 0., 0., ..., 0., 0., 0.],\n",
       "         [0., 0., 0., ..., 0., 0., 0.]]]])"
      ]
     },
     "execution_count": 351,
     "metadata": {},
     "output_type": "execute_result"
    }
   ],
   "source": [
    "np.swapaxes(np.swapaxes(count_tensor, 0,2), 1,3).round(2)"
   ]
  },
  {
   "cell_type": "code",
   "execution_count": 590,
   "metadata": {},
   "outputs": [
    {
     "data": {
      "image/png": "[encoded data removed]",
      "text/plain": [
       "<Figure size 864x864 with 4 Axes>"
      ]
     },
     "metadata": {
      "needs_background": "light"
     },
     "output_type": "display_data"
    }
   ],
   "source": [
    "fig, axes = plt.subplots(2,2, figsize=(12,12))\n",
    "for i in range(2):\n",
    "    for j in range(2):\n",
    "        axes[i,j].imshow(affinity_tensor[:,:,i,j], cmap='gray')\n",
    "        axes[i,j].set_title(f'({i},{j})')"
   ]
  },
  {
   "cell_type": "code",
   "execution_count": 510,
   "metadata": {},
   "outputs": [
    {
     "data": {
      "text/plain": [
       "7"
      ]
     },
     "execution_count": 510,
     "metadata": {},
     "output_type": "execute_result"
    }
   ],
   "source": [
    "floor((16-4)/2)+1"
   ]
  },
  {
   "cell_type": "code",
   "execution_count": 534,
   "metadata": {},
   "outputs": [
    {
     "data": {
      "text/plain": [
       "array([ 0,  2,  4,  6,  8, 10, 12])"
      ]
     },
     "execution_count": 534,
     "metadata": {},
     "output_type": "execute_result"
    }
   ],
   "source": [
    "2 * np.arange(7)"
   ]
  },
  {
   "cell_type": "code",
   "execution_count": 591,
   "metadata": {},
   "outputs": [],
   "source": [
    "def calc_total_log_prob(affinity_tensor, img, kernel_size, stride):\n",
    "    \n",
    "    w = img.shape[1]\n",
    "    h = img.shape[0]\n",
    "    num_convs_w = floor((w-kernel_size)/stride)+1\n",
    "    num_convs_h = floor((w-kernel_size)/stride)+1\n",
    "    \n",
    "    log_prob = 0\n",
    "    cnt2 = 0\n",
    "    for i in stride * np.arange(num_convs_h):\n",
    "        #print('i', i)\n",
    "        for j in stride * np.arange(num_convs_w):\n",
    "            #print('j', j)\n",
    "            local_prob, cnt = calc_log_prob(affinity_tensor, img, i, j, kernel_size)\n",
    "            log_prob = log_prob + local_prob\n",
    "            #print(cnt)\n",
    "            cnt2 += cnt\n",
    "                    \n",
    "    return log_prob, cnt2\n",
    "\n",
    "def calc_log_prob(affinity_tensor, img, i, j, kernel_size):\n",
    "    \n",
    "    indices = [[i,j] for i in range(kernel_size) for j in range(kernel_size)]\n",
    "    log_prob = 0\n",
    "    #res = []\n",
    "    #res2 = []\n",
    "    cnt = 0\n",
    "    for pos1 in range(16):\n",
    "        # plus 1 so that no collisions\n",
    "        for pos2 in range(pos1+1, 16):\n",
    "            idx1 = indices[pos1]\n",
    "            idx2 = indices[pos2]\n",
    "            #print(idx1, idx2)\n",
    "\n",
    "            idx = (\n",
    "                pos1, \n",
    "                pos2,\n",
    "                img[i + idx1[0], j + idx1[1]],\n",
    "                img[i + idx2[0], j + idx2[1]]\n",
    "            )\n",
    "            \n",
    "            if idx1 != idx2:\n",
    "                #res.append(int(affinity_tensor[idx]))\n",
    "                #res2.append({(i,j, ndim2flat_idx(idx1, (kernel_size,kernel_size)),\n",
    "                #            ndim2flat_idx(idx2, (kernel_size,kernel_size))) :int(affinity_tensor[idx])})\n",
    "                log_prob = log_prob + affinity_tensor[idx]\n",
    "                cnt+=1\n",
    "                    \n",
    "    return log_prob, cnt\n",
    "#, res, res2"
   ]
  },
  {
   "cell_type": "code",
   "execution_count": 596,
   "metadata": {},
   "outputs": [
    {
     "data": {
      "text/plain": [
       "(-20154.492237574534, 20280)"
      ]
     },
     "execution_count": 596,
     "metadata": {},
     "output_type": "execute_result"
    }
   ],
   "source": [
    "calc_total_log_prob(affinity_tensor, img, 4, 1)"
   ]
  },
  {
   "cell_type": "code",
   "execution_count": null,
   "metadata": {},
   "outputs": [],
   "source": []
  },
  {
   "cell_type": "code",
   "execution_count": 593,
   "metadata": {},
   "outputs": [
    {
     "data": {
      "text/plain": [
       "(-10211.131067387303, 20280)"
      ]
     },
     "execution_count": 593,
     "metadata": {},
     "output_type": "execute_result"
    }
   ],
   "source": [
    "calc_total_log_prob(affinity_tensor, np.zeros((16,16)).astype(int), 4,1)"
   ]
  },
  {
   "cell_type": "code",
   "execution_count": 595,
   "metadata": {},
   "outputs": [
    {
     "name": "stdout",
     "output_type": "stream",
     "text": [
      "(-11929.030404303096, 20280)\n"
     ]
    },
    {
     "data": {
      "text/plain": [
       "<matplotlib.image.AxesImage at 0x7fdc51db4a58>"
      ]
     },
     "execution_count": 595,
     "metadata": {},
     "output_type": "execute_result"
    },
    {
     "data": {
      "image/png": "[encoded data removed]",
      "text/plain": [
       "<Figure size 432x288 with 1 Axes>"
      ]
     },
     "metadata": {
      "needs_background": "light"
     },
     "output_type": "display_data"
    }
   ],
   "source": [
    "arr = (np.random.rand(16,16) < 0.05).astype(int)       \n",
    "print(calc_total_log_prob(affinity_tensor, arr, 4,1))\n",
    "plt.imshow(arr, cmap='gray')"
   ]
  },
  {
   "cell_type": "code",
   "execution_count": 154,
   "metadata": {},
   "outputs": [
    {
     "data": {
      "text/plain": [
       "-49064.11417021296"
      ]
     },
     "execution_count": 154,
     "metadata": {},
     "output_type": "execute_result"
    }
   ],
   "source": [
    "calc_total_log_prob(affinity_tensor, (np.zeros((16,16))+1).astype(int), 4)"
   ]
  },
  {
   "cell_type": "code",
   "execution_count": 155,
   "metadata": {},
   "outputs": [
    {
     "name": "stdout",
     "output_type": "stream",
     "text": [
      "-20264.842141236186\n"
     ]
    },
    {
     "data": {
      "text/plain": [
       "<matplotlib.image.AxesImage at 0x7f9ab0d54048>"
      ]
     },
     "execution_count": 155,
     "metadata": {},
     "output_type": "execute_result"
    },
    {
     "data": {
      "image/png": "[encoded data removed]",
      "text/plain": [
       "<Figure size 432x288 with 1 Axes>"
      ]
     },
     "metadata": {
      "needs_background": "light"
     },
     "output_type": "display_data"
    }
   ],
   "source": [
    "arr = (np.random.rand(16,16) < 0.2).astype(int)\n",
    "print(calc_total_log_prob(affinity_tensor, arr, 4))\n",
    "plt.imshow(arr, cmap='gray')"
   ]
  },
  {
   "cell_type": "code",
   "execution_count": 156,
   "metadata": {},
   "outputs": [],
   "source": [
    "#count_tensor[2,4].flatten() / count_tensor[2,4].flatten().sum()"
   ]
  },
  {
   "cell_type": "code",
   "execution_count": 157,
   "metadata": {},
   "outputs": [],
   "source": [
    "# total = []\n",
    "# other = []\n",
    "# for i in range(img.shape[0]-2):\n",
    "#     for j in range(img.shape[1]-2):\n",
    "        \n",
    "#         total.append([img[i + idx[0], j + idx[1]] for idx in indices])\n",
    "#         other += [[idx[0], idx[1], ] for idx in indices]"
   ]
  },
  {
   "cell_type": "markdown",
   "metadata": {},
   "source": []
  },
  {
   "cell_type": "markdown",
   "metadata": {},
   "source": [
    "scan across the image, at every location, look at all pairwise combinations of pixels in the window, and add a count to the co-occurence values \n",
    "\n",
    "[idx, data] size (3^2 * (width-2)^2, 4)\n",
    "0, 6, 0, 1\n",
    "0, 4, 1, 0\n",
    "\n",
    "or\n",
    "\n",
    "[pos1, pos2, conv_filter_idx]\n",
    "\n",
    "-> [pos1, pos2, value1, value2] = count; size (9, 9, 2, 2)"
   ]
  },
  {
   "cell_type": "code",
   "execution_count": 158,
   "metadata": {},
   "outputs": [
    {
     "data": {
      "text/plain": [
       "-171.4119594134845"
      ]
     },
     "execution_count": 158,
     "metadata": {},
     "output_type": "execute_result"
    }
   ],
   "source": [
    "calc_log_prob(affinity_tensor, img, 9, 9, 4)"
   ]
  },
  {
   "cell_type": "code",
   "execution_count": 159,
   "metadata": {},
   "outputs": [
    {
     "data": {
      "text/plain": [
       "0.4336758440171742"
      ]
     },
     "execution_count": 159,
     "metadata": {},
     "output_type": "execute_result"
    }
   ],
   "source": [
    "np.random.rand()"
   ]
  },
  {
   "cell_type": "code",
   "execution_count": null,
   "metadata": {},
   "outputs": [],
   "source": [
    "np.array(\n",
    "        [kernel_size*floor(a/kernel_size), \n",
    "        kernel_size*floor(b/kernel_size)])"
   ]
  },
  {
   "cell_type": "code",
   "execution_count": 327,
   "metadata": {},
   "outputs": [
    {
     "data": {
      "text/plain": [
       "2"
      ]
     },
     "execution_count": 327,
     "metadata": {},
     "output_type": "execute_result"
    }
   ],
   "source": [
    "# stride=2\n",
    "# kernel_size=3\n",
    "# floor((6-kernel_size)/stride)+1"
   ]
  },
  {
   "cell_type": "code",
   "execution_count": null,
   "metadata": {},
   "outputs": [],
   "source": []
  },
  {
   "cell_type": "code",
   "execution_count": 368,
   "metadata": {},
   "outputs": [
    {
     "name": "stdout",
     "output_type": "stream",
     "text": [
      "9\n",
      "12\n"
     ]
    }
   ],
   "source": [
    "# stride=2\n",
    "# kernel_size=4\n",
    "# num_convs_h = floor((20-kernel_size)/stride)+1\n",
    "# print(num_convs_h)\n",
    "# print(stride*np.random.randint(num_convs_h))"
   ]
  },
  {
   "cell_type": "code",
   "execution_count": 597,
   "metadata": {},
   "outputs": [],
   "source": [
    "\n",
    "\n",
    "def mcmc_step(affinity_tensor, img, beta, kernel_size, stride):\n",
    "    '''Monte Carlo step using Metropolis algorithm '''\n",
    "    \n",
    "    # Get the kernel indices that we're calculating energy for\n",
    "    h=img.shape[0]\n",
    "    w=img.shape[1]\n",
    "    #kernel_idx = np.array(\n",
    "    #    [kernel_size*floor(a/kernel_size), \n",
    "    #    kernel_size*floor(b/kernel_size)])\n",
    "    num_convs_w = floor((w-kernel_size)/stride)+1\n",
    "    num_convs_h = floor((h-kernel_size)/stride)+1\n",
    "    \n",
    "    # Multiply stride by sample from number of filters to get idx of corner\n",
    "    kernel_idx = np.array([\n",
    "        stride*np.random.randint(num_convs_h),\n",
    "        stride*np.random.randint(num_convs_w)])\n",
    "        \n",
    "    # Random positions relative to sequence\n",
    "    pos1 = np.random.randint(kernel_size**2)\n",
    "    pos2 = np.random.randint(kernel_size**2)\n",
    "    # Get relative indices in window\n",
    "    idx1 = np.unravel_index(pos1, (kernel_size,kernel_size))\n",
    "    idx2 = np.unravel_index(pos2, (kernel_size,kernel_size))\n",
    "    abs_idx1 = tuple(kernel_idx + idx1)\n",
    "    abs_idx2 = tuple(kernel_idx + idx2)\n",
    "    \n",
    "    \n",
    "    # Calc current log_prob for sampled window\n",
    "    log_prob, cnt = calc_total_log_prob(\n",
    "       affinity_tensor, img, kernel_size, stride)\n",
    "    #print(cnt)\n",
    "    #, res1, res11\n",
    "#     log_prob = calc_log_prob(\n",
    "#         affinity_tensor, img, kernel_idx[0], kernel_idx[1], kernel_size)\n",
    "\n",
    "    # Get current config for pos1 and pos2 and propose new config\n",
    "    # Accept config with some probability\n",
    "    current_config = [img[abs_idx1], img[abs_idx2]]\n",
    "    \n",
    "    modded_img = img.copy()\n",
    "    #modded_img[abs_idx1] = np.random.randint(2)\n",
    "    #modded_img[abs_idx2] = np.random.randint(2)\n",
    "    \n",
    "    # just make sure you dont sample old config\n",
    "    sample_config = lambda: [np.random.randint(2), np.random.randint(2)]\n",
    "    proposal_config = sample_config()\n",
    "    while proposal_config == current_config:\n",
    "        proposal_config = sample_config()\n",
    "    modded_img[abs_idx1] = proposal_config[0]\n",
    "    modded_img[abs_idx2] = proposal_config[1]\n",
    "    \n",
    "    # Proposal log_prob\n",
    "    modded_log_prob, cnt2 = calc_total_log_prob(\n",
    "       affinity_tensor, modded_img, kernel_size, stride)\n",
    "    #print(cnt2)\n",
    "    #print('mod')\n",
    "    #, res2, res22\n",
    "#     modded_log_prob = calc_log_prob(\n",
    "#         affinity_tensor, modded_img, kernel_idx[0], kernel_idx[1], kernel_size)\n",
    "\n",
    "    \n",
    "    log_diff = modded_log_prob - log_prob\n",
    "\n",
    "    #print(list(zip(res1, res2)))\n",
    "    #print([i==j for (i,j) in list(zip(res1, res2))])\n",
    "    #print(len(res1)-sum([i==j for (i,j) in list(zip(res1, res2))]))\n",
    "    #print(np.where([i!=j for (i,j) in list(zip(res1, res2))]))\n",
    "    #print(np.array(res11)[np.where([i!=j for (i,j) in list(zip(res1, res2))])[0]])\n",
    "    #print(np.array(res22)[np.where([i!=j for (i,j) in list(zip(res1, res2))])[0]])\n",
    "    \n",
    "    #print(kernel_size, stride)\n",
    "    #print(kernel_idx)\n",
    "    #print(pos1, pos2, idx1, idx2)\n",
    "    #print(abs_idx1, abs_idx2)\n",
    "    #print('current', current_config)\n",
    "    #print('mod', modded_img[abs_idx1], modded_img[abs_idx2])\n",
    "    ##\n",
    "    #print(log_prob, modded_log_prob)\n",
    "    #print('log diff', log_diff)\n",
    "    #print(np.exp(log_diff*beta))\n",
    "\n",
    "    # If higher likelihood then keep\n",
    "    if log_diff >= 0:\n",
    "        #print('accept!')\n",
    "        return modded_img, 1, modded_log_prob\n",
    "    # if lower likelihood, accept with some prob\n",
    "    elif np.random.rand() < np.exp(log_diff*beta):\n",
    "        #print('accept!')\n",
    "        return modded_img, 1, modded_log_prob\n",
    "    else:\n",
    "        #print('reject :(')\n",
    "        return img, 0, log_prob\n",
    "\n",
    "\n",
    "def calcEnergy(config):\n",
    "    '''Energy of a given configuration'''\n",
    "    energy = 0\n",
    "    for i in range(len(config)):\n",
    "        for j in range(len(config)):\n",
    "            S = config[i,j]\n",
    "            nb = config[(i+1)%N, j] + config[i,(j+1)%N] + config[(i-1)%N, j] + config[i,(j-1)%N]\n",
    "            energy += -nb*S\n",
    "    return energy/4.\n",
    "\n",
    "\n",
    "def calcMag(config):\n",
    "    '''Magnetization of a given configuration'''\n",
    "    mag = np.sum(config)\n",
    "    return mag"
   ]
  },
  {
   "cell_type": "code",
   "execution_count": 598,
   "metadata": {},
   "outputs": [
    {
     "data": {
      "text/plain": [
       "(array([[1, 0, 0, 0, 1, 0, 0, 0, 0, 0, 1, 0, 0, 0, 0, 0],\n",
       "        [0, 1, 0, 1, 0, 1, 0, 0, 0, 1, 0, 1, 0, 0, 0, 1],\n",
       "        [0, 0, 1, 0, 0, 0, 1, 0, 1, 0, 0, 0, 1, 0, 1, 0],\n",
       "        [0, 1, 0, 0, 0, 0, 0, 1, 0, 0, 0, 0, 0, 1, 0, 0],\n",
       "        [1, 0, 0, 0, 0, 0, 1, 0, 0, 0, 0, 0, 0, 0, 1, 0],\n",
       "        [0, 0, 0, 0, 0, 1, 0, 0, 0, 0, 0, 0, 0, 0, 0, 1],\n",
       "        [1, 0, 0, 0, 1, 0, 0, 0, 1, 0, 0, 0, 0, 0, 1, 0],\n",
       "        [0, 1, 0, 1, 0, 0, 0, 1, 0, 1, 0, 0, 0, 1, 0, 0],\n",
       "        [0, 0, 1, 0, 0, 0, 1, 0, 0, 0, 1, 0, 1, 0, 0, 0],\n",
       "        [0, 0, 0, 1, 0, 1, 0, 0, 0, 0, 0, 1, 0, 0, 0, 1],\n",
       "        [1, 0, 0, 0, 1, 0, 0, 0, 0, 0, 0, 0, 1, 0, 1, 0],\n",
       "        [0, 1, 0, 1, 0, 0, 0, 0, 0, 0, 0, 0, 0, 1, 0, 0],\n",
       "        [0, 0, 1, 0, 0, 0, 0, 0, 0, 0, 0, 0, 1, 0, 0, 0],\n",
       "        [0, 0, 0, 1, 0, 0, 0, 1, 0, 0, 0, 1, 0, 0, 0, 0],\n",
       "        [0, 0, 0, 0, 1, 0, 1, 0, 1, 0, 1, 0, 0, 0, 0, 0],\n",
       "        [0, 0, 0, 0, 0, 1, 0, 0, 0, 1, 0, 0, 0, 0, 0, 0]]),\n",
       " 0,\n",
       " -20154.492237574534)"
      ]
     },
     "execution_count": 598,
     "metadata": {},
     "output_type": "execute_result"
    }
   ],
   "source": [
    "# 3\n",
    "np.random.seed(5)\n",
    "mcmc_step(affinity_tensor, img, beta=0.05, kernel_size=4, stride=1)"
   ]
  },
  {
   "cell_type": "code",
   "execution_count": 608,
   "metadata": {},
   "outputs": [],
   "source": [
    "#np.random.seed(4)\n",
    "\n",
    "samps = []\n",
    "accepts = []\n",
    "probs = []\n",
    "\n",
    "img_samp = np.random.randint(2, size=img.shape)\n",
    "#img_samp = np.zeros((16,16)).astype(int)\n",
    "\n",
    "tot_steps = 1000\n",
    "upper_beta=10\n",
    "lower_beta=0.5\n",
    "\n",
    "# Take down temperature over time\n",
    "betas = np.linspace(lower_beta, upper_beta, tot_steps)\n",
    "for step in range(tot_steps):\n",
    "    \n",
    "    img_samp, accept, log_prob = mcmc_step(\n",
    "        affinity_tensor, img_samp, beta=betas[step], kernel_size=4, stride=1)\n",
    "    #betas[step]\n",
    "    samps.append(img_samp)\n",
    "    accepts.append(accept)\n",
    "    probs.append(log_prob)\n",
    "    \n",
    "#     if step == tot_steps:\n",
    "#         print(step)\n",
    "    "
   ]
  },
  {
   "cell_type": "code",
   "execution_count": 609,
   "metadata": {},
   "outputs": [
    {
     "name": "stdout",
     "output_type": "stream",
     "text": [
      "0.142\n"
     ]
    }
   ],
   "source": [
    "print(sum(accepts)/len(accepts))"
   ]
  },
  {
   "cell_type": "code",
   "execution_count": 610,
   "metadata": {},
   "outputs": [
    {
     "data": {
      "text/plain": [
       "<matplotlib.axes._subplots.AxesSubplot at 0x7fdc62ac5a90>"
      ]
     },
     "execution_count": 610,
     "metadata": {},
     "output_type": "execute_result"
    },
    {
     "data": {
      "image/png": "[encoded data removed]",
      "text/plain": [
       "<Figure size 432x288 with 1 Axes>"
      ]
     },
     "metadata": {
      "needs_background": "light"
     },
     "output_type": "display_data"
    }
   ],
   "source": [
    "accept_df = pd.Series(accepts).cumsum().reset_index()\n",
    "(accept_df[0]/(accept_df['index']+1)).plot()\n"
   ]
  },
  {
   "cell_type": "code",
   "execution_count": 611,
   "metadata": {},
   "outputs": [
    {
     "data": {
      "text/plain": [
       "<matplotlib.axes._subplots.AxesSubplot at 0x7fdc294dc358>"
      ]
     },
     "execution_count": 611,
     "metadata": {},
     "output_type": "execute_result"
    },
    {
     "data": {
      "image/png": "[encoded data removed]",
      "text/plain": [
       "<Figure size 432x288 with 1 Axes>"
      ]
     },
     "metadata": {
      "needs_background": "light"
     },
     "output_type": "display_data"
    }
   ],
   "source": [
    "accept_df = pd.Series(accepts).rolling(100).sum().reset_index()\n",
    "(accept_df[0]/100).plot()\n"
   ]
  },
  {
   "cell_type": "code",
   "execution_count": 612,
   "metadata": {},
   "outputs": [
    {
     "data": {
      "text/plain": [
       "[<matplotlib.lines.Line2D at 0x7fdc39450f28>]"
      ]
     },
     "execution_count": 612,
     "metadata": {},
     "output_type": "execute_result"
    },
    {
     "data": {
      "image/png": "[encoded data removed]",
      "text/plain": [
       "<Figure size 432x288 with 1 Axes>"
      ]
     },
     "metadata": {
      "needs_background": "light"
     },
     "output_type": "display_data"
    }
   ],
   "source": [
    "plt.plot(probs)"
   ]
  },
  {
   "cell_type": "code",
   "execution_count": 613,
   "metadata": {},
   "outputs": [],
   "source": [
    "from matplotlib import animation, rc\n",
    "from IPython.display import HTML"
   ]
  },
  {
   "cell_type": "code",
   "execution_count": 614,
   "metadata": {},
   "outputs": [
    {
     "data": {
      "text/plain": [
       "(-4088.3047578435844, 5880)"
      ]
     },
     "execution_count": 614,
     "metadata": {},
     "output_type": "execute_result"
    }
   ],
   "source": [
    "calc_total_log_prob(affinity_tensor, samps[-1], 4,2)"
   ]
  },
  {
   "cell_type": "code",
   "execution_count": null,
   "metadata": {},
   "outputs": [],
   "source": []
  },
  {
   "cell_type": "code",
   "execution_count": 615,
   "metadata": {},
   "outputs": [
    {
     "data": {
      "text/plain": [
       "<matplotlib.image.AxesImage at 0x7fdc3956ad30>"
      ]
     },
     "execution_count": 615,
     "metadata": {},
     "output_type": "execute_result"
    },
    {
     "data": {
      "image/png": "[encoded data removed]",
      "text/plain": [
       "<Figure size 432x288 with 1 Axes>"
      ]
     },
     "metadata": {
      "needs_background": "light"
     },
     "output_type": "display_data"
    }
   ],
   "source": [
    "plt.imshow(samps[-1],cmap='gray')"
   ]
  },
  {
   "cell_type": "code",
   "execution_count": 587,
   "metadata": {},
   "outputs": [],
   "source": [
    "import datetime"
   ]
  },
  {
   "cell_type": "code",
   "execution_count": 588,
   "metadata": {},
   "outputs": [
    {
     "data": {
      "image/png": "[encoded data removed]",
      "text/plain": [
       "<Figure size 288x288 with 1 Axes>"
      ]
     },
     "metadata": {
      "needs_background": "light"
     },
     "output_type": "display_data"
    }
   ],
   "source": [
    "fig, ax = plt.subplots(1,1, figsize=(4,4))\n",
    "\n",
    "#im = ax.imshow(samps[0])\n",
    "ax.axis('off')\n",
    "\n",
    "num_frames=min(50, len(samps))\n",
    "frame_idx = np.round(\n",
    "    np.linspace(0, len(samps)-1, num_frames)).astype(int)\n",
    "\n",
    "def init():\n",
    "    im.set_array(samps[0])\n",
    "    return im\n",
    "\n",
    "def animate(i):\n",
    "    #print(i)\n",
    "    #ax.clear()\n",
    "    ax.imshow(samps[frame_idx[i]], cmap='gray')\n",
    "    #im.set_array(samps[i])\n",
    "\n",
    "anim = animation.FuncAnimation(\n",
    "    fig, animate, \n",
    "    frames=num_frames-1, \n",
    "    #init_func=init, \n",
    "    interval=75) \n",
    "\n",
    "directory = datetime.datetime.now().strftime(\"%m%d%y_%H%M%S\")\n",
    "anim.save(f'gifs/{directory}.gif', writer='imagemagick')"
   ]
  },
  {
   "cell_type": "code",
   "execution_count": 75,
   "metadata": {},
   "outputs": [
    {
     "data": {
      "text/html": [
       "<video width=\"720\" height=\"720\" controls autoplay loop>\n",
       "  <source type=\"video/mp4\" src=\"data:video/mp4;base64,AAAAHGZ0eXBNNFYgAAACAGlzb21pc28yYXZjMQAAAAhmcmVlAAAgY21kYXQAAAKvBgX//6vcRem9\n",
       "5tlIt5Ys2CDZI+7veDI2NCAtIGNvcmUgMTUyIHIyODU0IGU5YTU5MDMgLSBILjI2NC9NUEVHLTQg\n",
       "QVZDIGNvZGVjIC0gQ29weWxlZnQgMjAwMy0yMDE3IC0gaHR0cDovL3d3dy52aWRlb2xhbi5vcmcv\n",
       "eDI2NC5odG1sIC0gb3B0aW9uczogY2FiYWM9MSByZWY9MyBkZWJsb2NrPTE6MDowIGFuYWx5c2U9\n",
       "MHgzOjB4MTEzIG1lPWhleCBzdWJtZT03IHBzeT0xIHBzeV9yZD0xLjAwOjAuMDAgbWl4ZWRfcmVm\n",
       "PTEgbWVfcmFuZ2U9MTYgY2hyb21hX21lPTEgdHJlbGxpcz0xIDh4OGRjdD0xIGNxbT0wIGRlYWR6\n",
       "b25lPTIxLDExIGZhc3RfcHNraXA9MSBjaHJvbWFfcXBfb2Zmc2V0PS0yIHRocmVhZHM9MjIgbG9v\n",
       "a2FoZWFkX3RocmVhZHM9MyBzbGljZWRfdGhyZWFkcz0wIG5yPTAgZGVjaW1hdGU9MSBpbnRlcmxh\n",
       "Y2VkPTAgYmx1cmF5X2NvbXBhdD0wIGNvbnN0cmFpbmVkX2ludHJhPTAgYmZyYW1lcz0zIGJfcHly\n",
       "YW1pZD0yIGJfYWRhcHQ9MSBiX2JpYXM9MCBkaXJlY3Q9MSB3ZWlnaHRiPTEgb3Blbl9nb3A9MCB3\n",
       "ZWlnaHRwPTIga2V5aW50PTI1MCBrZXlpbnRfbWluPTEwIHNjZW5lY3V0PTQwIGludHJhX3JlZnJl\n",
       "c2g9MCByY19sb29rYWhlYWQ9NDAgcmM9Y3JmIG1idHJlZT0xIGNyZj0yMy4wIHFjb21wPTAuNjAg\n",
       "cXBtaW49MCBxcG1heD02OSBxcHN0ZXA9NCBpcF9yYXRpbz0xLjQwIGFxPTE6MS4wMACAAAARkmWI\n",
       "hAAR//73iB8yy2n5OtdyEeetLq0fUO5GcV6kvf4gAAADAAADAAADAzSyCkX1Rzvzg8AAAAMDPACD\n",
       "gTcE6YPGAf+vEAVcItEAU3kpzuFKEvfVvcsqcp8CcG57C+xgUwtgSNrcUop961UpZac+Wpvb5DXN\n",
       "wODRNFvDTzxZ8NBjyXaIb7/96QeT8P40DoR9ZaLaONyhLrnU+lyosi9y0PlBUmKWXhwH6Txyeoc+\n",
       "+eBFqq3y3VHs/8BhG0Ula/2MvmBiy/9eZM5w+U8vS2RO6jyLd8cCmQz/2Kqzdl7p3vV/zpxjilJI\n",
       "6FMPGkqNnCZ51G0DftX9gdQl63CQkKQ7WKCdh5rnoHbucW0ZO6Ec6IxbP8HFrj8NmGrCiFYsQI1E\n",
       "a7PuTNPsUgESy4QaZehlud5wWEJ+GC68l43SSOSKGh2f3X5DT2cwTLoHyYqZkpTXMo3ob0Ya2can\n",
       "wOt6gLzjGiLdVvsWszlVnlddEyCv/CTg7iey4bXOULwAAIxeEtCU/qujA2ZaBv5cZAfqU+TlKHQB\n",
       "/PxFWLSWMfP94V7k7ZCF2YbBMH3+suxNdsKtCX7x0KAhIC+qAMBAjbFQ7OgpCNPBYBlhoNWojVLZ\n",
       "5ZzWtY/dNDT6/raLfAYrTAS6Jd0qJWANXB+a52Hnm73uRoYh5s0F9Iy17sVA0o/pcT6qWfUxljLC\n",
       "V/eM9+8tKmKliyAMa79CTWjI7AxR2LLPxcS1ovb4rr312nK/Sv9TmR1ZB4XlmM/sv3FsIVMRvl7U\n",
       "YGleJqBwvYrXhRpUBePCsUJ+1q12SABlGI8ulew6v2Tqlaz0ToJJkZn/Do7J5TuEg03K58LpeQJ6\n",
       "qlCZlAuQT7ofDEhQKMCVy7Ylj/O9ugz7jDzqbv1/38NJRioSQGUKK5JTVdB4qoCfcxqnUAzThlS/\n",
       "hLxbbwyGBGqNCDWjmTxsR+CwVZ/MxCkd1Elvg59WNl6C5ZI1xeqIjCG5eeI1CJ6OpYxghbOuS2Cn\n",
       "3u+0DTLDylh12LVgwPS6vRaomJI2PnMhSIZyAYZ0tc+TqguJJvPcyevapJdpzJUG4ZXohreL9srC\n",
       "poFyG44DamLkCXU+9dePlA2K+P2MnM2B+IyzSVbtIT66NIwdXnOBkjtXsF+HnImJvqQosEevdwQw\n",
       "nq0cm1HEzZaV/fibHEAAAYlHWuI+oobAMBTkQh79LiVeaBQiUkL5JQJDuvIjSWIF2xGOZT0cyXz7\n",
       "hRxr2qy8BXFNUGt42d/8g21SLLK1pdKSOY7JfKwLwFJZtJjAY1Q7Pnk++IvqAaFv5rt/LKVuWdnP\n",
       "2DvMhgbVJ2fqekJjO/Z4tQIRSvmUOs0l5JZuS5xPjPHAAE3FNSEYRTosDwQyAgqfgWG/BFDu9Nx2\n",
       "1rgPHIlbxbp4AzZKniRwCE+6A6mRVqqTLT7XIUEe4EEogqBc2e4X9lQ9KGdPtH2xTJYY1tXBPK84\n",
       "Hp4ELpO6GdASUEX0AJ0dJ81TiTjAIi/65Uik9H+ZynXtKfaGwZDYLIcO/goQfNzqTRb20TycAAAM\n",
       "uhzAGnNMFjGsTZ2/rWNyipKk/R7pq2etukJURioIdnzvUblg+XaYXdkHf6CN9iK6VaG1R1J2qzLm\n",
       "gTbEzqLxsGkHv/7utAnfo04NEjNt9Rhjq79gXKFfnUyuAAADAAeCXntp13xW+p4HbwXyhSc3midG\n",
       "eqEDiK0Izlhcz+76dVRUq4HwnAOhhs2tvtYwtE3ShnP9PamfYFZOf/8ZDU5E/jrsl++vohTI2BsR\n",
       "1hs8hd1Slrp6azank5wNLicGQ8JISwPiUhNf2PxoTBmvDeaA62TJmFtYiu6BwC++tD4kgQEPOnbJ\n",
       "3RAgHApRRAEarVN6IQ6lo71ULld5/QGhoGSVHdT8+/Y+Rqmu2rUTFbZUE6cyUtbc7zbDRW73ryEH\n",
       "N+coZl0jJb8lmK+Gz946IR3a3VWhxqWa/veAHFRk3x6Sf5v6w1gLNeJcfD//oaKTwB3C8OfpGM4B\n",
       "7k0crHiot70oLx+XLHvNnoKgCLSMAnwXqafb1wk6HDfD82Pf9hXpbLaqeNGEvgEfh2iNTl3VU8/2\n",
       "sQSBvCsLC1vOn0Iv7Rin4Lu5nHh6HAZrtbvCoW7aC4CHC4mhBtcywIRuej1XWzpQv/K/TeqLKLBz\n",
       "9syy1nUgg36Y0akbh05VfWFg71miHdb9FmHL2tk2ws9oQpTB6idcZmY+FOiqqbqx8Ro6Uw8Lp36A\n",
       "Vy0yLYACjWihrrYARrqOt3vwoAGR0RtEx0a6GuqET4cI3UNGM3u0eNgLNf+zqFi0rRlIM8c1vbJf\n",
       "Jd64P9iWcnOB0yzQcfdW8fLpeWxKuLnZxiyL/VA+3QUIiniHxK2WVMdUw+/gY3DXI8lRvrd/6Kxa\n",
       "WPv3B/tf0H6ZXH+PkW1az/dp8WZwevQOupuAApuMrYMplltDHZFhoomp/RQmV5owCAvpS3K+NBH0\n",
       "qgdQroHTZrEJDIJR2V7Mn5w5296jFYCLMo7W6OP5fA6SjzhiPH1RS2HlS5nWSgwFKH3VFO+MJgbh\n",
       "2UtFdK12TJ4+CHw+wKiVPi4/S299ff7dHJEiwxZdOQZfGY8y0YOBMrU/TowUxAvK7/JT4Een4g2G\n",
       "FbPGQ03n4lezvbyI6eg1zjB1EwqsWnYF4iUIsvfdF39b3FSQ4Kq9f/NgRwvmtrW/PGWPorYZ1nmk\n",
       "zVCfYXmwwTGFkHJy1ImlneFXIFp1/ts7APuUQAeti2W7TozzwaGRyXWGnGBMr2V/FQmIJxZpMBdH\n",
       "3KrEmqr02yyNutyuBup/yEWbrQ/UgK9bVbSv48r/36c1CEyxH86X30nzFm/U1ILCMBPKLiL0L2zC\n",
       "cGmsgjhkuPyuvIyUwgb8VzJDCsLGV/ZGHFwuyTEQHas3+UzVdmyN1zrewuI/tnxh4pC5kaLQRH6e\n",
       "o9081g5kTUVK7w6aByxuDNeCyvvE2ASM2mI0n5vRESPlAo6PKdn3JmAceg7ksUESifJCP3TeTXTy\n",
       "qYGAl1p728axxOWBlALSufCrUTmZaG9L0QfinLC8n4toTsma+vt8jI6BgichBdCaP9brfG+f/gpD\n",
       "k8+8KeCK4KoJgSwz6Vntboe5KZFQXTHwfTUzNHqQ8ZPec7jml+AGhZf9PrVWX4qli0GnHeF2OuUB\n",
       "xYnTUPE3pUpkvVjh7Tq1z9Z6AbANANViisVPH2pd/qnWTaPTc/bG4+tEQwLvynDzZ3pGa98XI0x7\n",
       "vnJQa9RMMUN+3RJzT01M11lvf35h4mIA0a34x3hXMQPsL/TV6ZBr+6zReHQa0uMJ2qavmNt/EmJs\n",
       "QDx298QajDDQAQisbTwVn6yMVQM1kZoVpLmzKzu8FlH6vPvMkIFyfPLnRXdyS1zC4hQpUkl+habD\n",
       "+rsBgGaUxlOhEVydWSKzs9VsNTLM74D7ai/FYELLoWQmY/FFtq5RzsBMT98p2WdCXwn3JqfVsf9S\n",
       "15kG1+xuyi6LVfpaA3v2h5b0dgYXvf56Ba8IWno5kvn2KuunkPynaBNUGt42eCtpee1ykNAxzHZL\n",
       "3eydsJ+JcYy5aoHr4q1BEeWscCV7i3Pr+q48oGCA12SsppBZPUWq5j9d9Ng91RKRrn1Iw9ygsMZy\n",
       "yETF++mqJQxxIAAIcHaCDLeZYM+VFKLW0UYuIOM+KRyhE9UcqpNuCjEjF85DYZccRsw1zy3HWG/m\n",
       "+C5JNBXMLAjaAlvYqhQBpTt130y6k1fEHlgNoZTd/FWQEILzqY82rQ80lolw0N/MIS3TwFQCzRoJ\n",
       "LSqO4Jg38gvuOB0ixiU5hR64Fyt1yXwx55v4nwEzIqURWGv9P7dqX945lO1WB8FkH3+nDRCBtrDl\n",
       "tjMlWe/pAwEFRGCYdHZFxRyjyzd74vl28bPfk4q10VHEXo4fQsxpcVMOLMQX6OKoxz81vQKMQ+Oh\n",
       "Gum7a5zeRMsUP3nDScbrsXIg29bMf+SmxSlzIgKaeuSRyMS5tNzZyqOeExCl7fLhDeHSUrED5kgE\n",
       "rJlkmIWzvAllpdGdkMgxuvE16CcJwALACaTu8GuqexjkgvdMYyJAWGdDRyRFHWnkpGFabTaEf/Z5\n",
       "D3RoDHSg9GEwUBTIFnqksRmAQP1hrK9Fz/PGHQ110YmERTSTdfn4/jp5FfkErfK90W2f+yzY3cvb\n",
       "yR2xbIb1VjcuK7heJwNBhDZ2GYBOUuKi01B0JJqxTKRd/G8rDBa8rvUTSGpWo/4ipl/CTWwGQblo\n",
       "Ozr2aEBg//DTfFNUH6tsz48ILanj2e8hzgIi48uPbqi4mzPEBe+Hfu3oLZN3qTTOCbSQVHLQDXCn\n",
       "WCrEOK0MbaLInGpnKn0gOJwdymfpZtmsEMDFwXaGiEtpX8+0zlaFWCXHE2gJVLVAheUNZHsWkhdJ\n",
       "SUI5SMKrLwvEnTEriSVIuZRXp6N/9+cMtSzO7b7l62ig/NCHyHwinxnj0+jZ/4yLn9RdG0fmZ239\n",
       "m0fpY+iBKKuUn11rqVAm/nyoqxHWl3Cs0etVXkqaZi7Tq2FJihxcFYu/L/IA18IzVLiJTj9muv6m\n",
       "wEOzdfoP7hbMFuiCeyDtOSYqLPp5kcgH8s9s2nLDPcjFsS//DtAULoVuK6gSeiAHiqnUZnH7aFrQ\n",
       "jZ80wFSlUhWnmYms9NZkNBD1G8BpA9p1UAEMBRUDlDAnPJsWEvSu1Wp5jnDE1OXQeAgverq7VtPp\n",
       "Mm0GnYtURXi8RGB7qoWn9bQwPsRaLafHeqGhHXWxRtJRkRQDnP7n2773WxJn5DEL/de0fTW9gNWn\n",
       "6VKd2+ylXckC8FXRU5D4Y97Sa0DYr3zX+tm0V4zay1gx5BlfYtS0OOHEgt4X53kDsTArxD25i8QX\n",
       "KXfNoTQSvZrBXRa2LV1DPc1e7EPoeW1DGqVPHFa0NiiMKI0VqO6VqlF/wOuzFa5KdKkdkkrxfc2X\n",
       "pNUnI9NarPVJ3t+DrAhqtpCe0NoQUUEyxZ233fXpS+TCbyRaB3vQePnKQbu7QEUW5Cv0a7zXo4nj\n",
       "ciPIYHXtdc2yWgNWw74xJnzuH8ojEekfEbBd5OT8nnbLhwklfX5rWCqcvGlNnGncl0Sig220Xx5B\n",
       "mOZDSidugmA4hrB+67D57IitSmeSmC16YrcUz9GS5xuwBS677rFvryuQ8AAAAwCVHnHfN9hBWZ4R\n",
       "ts2CbHB6BhLwNid9vcRDb5WmlJiSHvbP/0s7p1Ca+pZAVRZBvNWhiJzKzXnEa6Qg7UwKXmC9kQN1\n",
       "0ByJxWHo2PTnes6j9cyHhSW87ME998cjeRD91l9hplW1DjDj8czLSzM0ot6UDfkn6NPe2GF8Oht8\n",
       "7paPw3g/tFItY+w99yV/HndXjhr/mObTPq/EM/DUGBaXFvIJcSy7xcBfr2Owt+jqSrk+xybHx/II\n",
       "J/bRK/XkWlYqLagoJ3gES9qzUG1D/4aNfH7hRfmcViIVUKfT7x6GY8teR98Sg9oBMB4iPHH3P/oE\n",
       "IsJP0wi8EsymgosZ8pXuDC3NWOmVYKvl8uPCnAAAAwNljjoiK14deWQpT9BBzUioc37vjTpYemqG\n",
       "HLOo4JfM61+KeR6SXzWKQ8moCDrv5aQn7pX++fe3UtmwaQ7Bkf4oJpJDUh3/rzZNc09fRJUo5vyr\n",
       "RgpmsryFFJxbxTTbYPzcanWCKt712+B1T4FyZAFWQuoy/horulRcGWWSNUDleZNZyOwGn1UK6Wx5\n",
       "m6bYuxkDJnsABzZ1vXQ5Urn6GHVqH6lueH/lgak6TlPKWLNP30PmD/nVAZV/x1BXxubQwVenKBIA\n",
       "8mf6w4gNPg1W6NAvbWbhSH5wArBdu3bsLFxsF81YeNr61PWd/9wpOaMOZQ0w33ZLVBA54zLmwCLH\n",
       "BgGDsDAekUz7jsA1rJ4XSkGMuW1tw2nK6buyX7e1htFH1kMJPXX+0wMe0vVtBiJ76bu+DVyCUk3g\n",
       "7wuNg9DLvjfREp10dElOi+zT3hbQaC+OpB/14S9RYNqvrakt7ZAAfvFR7wuXXthRfdD5abIweNQb\n",
       "DVXiAmmUK6JFRpRRcY7BbrbV3G7bvlSVttY77KGCRRNgGBQAAAMAAAMAAAMAAAMAfsEAAAKPQZok\n",
       "bEEf/rUqgAAHzP7vgAIsE7Kaf//P9dJDavzOi1ujQGEf5jrIBMC7vR1WlxsgjizysLhL49SxcJJf\n",
       "HX6DiFIJ5icRYlGHndWtsMppv+RYSWQgEWwf5faX8PK0YlHv6r8FfPoJDVMLVrCnKcKVXlIeKoTN\n",
       "91KMlUObOdaFuGncn2vg38bkU3t/kX2gZfPutjAqg9/rBZE6uSRRIvrry8jnAXTUZ0oKpdC+T/b7\n",
       "o702cdHGCukuPO1c4ZIrhc8io7oDo4xGvw1XqMW6EjUX0t0RY8SM73u0t+6XtCuxMDDWBSvqgcV+\n",
       "yWChzFc+Um7ZI9x8gzCgvQLDKAsZQq4vJ9e6xH4c5oGkl0b3thbr0+tH9SWGIl7RtmpXyhmONjVi\n",
       "J0ydKOmmir5uyqC7djHrjD8sLTVfK+JkiJ+FXcNUbyTdMIo7prSJsTrQNi5hxz211RbuBkzo+Pby\n",
       "5OVIr3hZuz7bOPSoUQ/P1aMRwEIPjlzBm4iOsRaQ81+uVbam8j0x9rcQs6CjDPn41UMFKbEN+mqW\n",
       "wECtfpriTkGkNq7BxLMb9T8e2zxPWikA+1yhucgBDg0r/YKx7NRDpWD2aVXpSUXyIMFqpHpy0ewc\n",
       "MbkO898PAF3SHNfqQB5msVvDaS/Hvmhp0QqxoXDqw2hpDi+AfaSNcUuwuTZp7KGIFtgD+vE+D8fr\n",
       "NrjW2v5t3GYqG9WDbrs3xHuM9KXQ9gGhFBWhZXekf1WTSsi8eAFteInQT+euEH7osDoekKfUQ4rB\n",
       "mnmLCV5G+hJN7vzMy5qaKX/6L9d4xdaN/EkxdJVYyV8fYs4U/8ysi3/syfqcDm/gMqPCrZbXPLCM\n",
       "NqIvGkDenttCtb++kEqPXayUyL7ffigeMAAAALxBnkJ4h38AAB6NB7zWK5yoWZQgAAhMdv8nV9Af\n",
       "/jEjBhLJZPB4U4tXWqocAH7/2QseAAeP6XfvRoLs2kFubwaSQW60nCoftTyc1q/PK/5eBtrWThM0\n",
       "RVzdr99kIPCItZMsxj43GbJA2/tBqlxbyv1Hr/msDnhfi4mkg33t3v4K9gJRdfaw1DQld9F3i4FC\n",
       "+YKc5NtNYcKf3cfPG5Gpyv1By4giAtwFOY412OwKaZCHTX3FHweNCniSNaYDBwAAAIcBnmF0Q38A\n",
       "ACxHe8gB2v6gis3HyBZWIv6ICMwHcqBNZUU+Pk8uqC6m2xndA2H6tgA5yfg+MiOx0KKqt3dlt/Ws\n",
       "iNg7/6taDB+YdHtCyni/R/ZF2vOoa7N8LxMTcIg1RtKCAeUNSSKC7SP/RZJ6NEjziEwoybvEcIqQ\n",
       "qGHNBqOmqrBSMkOAGVAAAAB5AZ5jakN/AAADACJR//CTK2y0wnMSMp3CzIkAUwi+uuJqiAKYNMEK\n",
       "0QdGB4kncgDQHqmD8YgA7Lyx2KZgRejFBG2JxKOyeCd2bt5ckzadV42s2cGqzuOuTcmVqmtkYUuP\n",
       "mSViNjaOAkijmDTDPkT1E/zD57EXT5Ak4QAAAKRBmmhJqEFomUwII//+tSqAAAAGW+QRACCBCidE\n",
       "nFGV4QLKTbT5nvjuxpR0PTldvQcSgdUYuwx/+L7oInLrz+yII84Kq+pw0W51FaclfE/SWX3ViJDo\n",
       "DAS5HqJHjsorX02Iw+xXB0IPWnB0eB8J1RhdvHWrn8r3fXrZOBx5HGK7mGCJbuDIn93EyUDiA/5M\n",
       "p6bkAUQ13GGOAAI4ux1RW+139gB6QQAAAG9BnoZFESw7/wAAAwAYbbIQAgc7da9Hx0m/+aFetBqe\n",
       "6BBgwMG5ZX2Lt6hihwiIj+0rKJe5ggPE5s5oQ7tHAAyrR1PmhKuf1ivswkdWIB0XxDFxHEIRO4ma\n",
       "vTKq2xc4/kb7htyEztMljXBEsA6ugTcAAABRAZ6ldEN/AAADACJR/+mD+rnvEs4jByutNMCTiwa/\n",
       "xyteiEFmM/B8qFTQ/LIZzjLfZMT3I5w0ZiVcsW1y8hP9gWjT+Ke6v6i3cSh0ZWRT/B8xAAAAVAGe\n",
       "p2pDfwAAAwAiUf/paDT/5ZxPt0CoUKp46jeLRdVTWgN16nxllMBeXY8b2w2Rtx0s4Ra7vdDLmvr2\n",
       "jPYT3RFSABp0cAI0jt9lfizBQPPX9KIXkAAAANdBmqxJqEFsmUwIIf/+qlUAAAMADLe9ogBA+flU\n",
       "axlSp7+w66dueIEAE5bbmcaWvbe+VRnZvFmdIdQhYmwjM5wj+l38aF1S1RLV/zp2jdptdTiU89WV\n",
       "WqxxG0Jtq6rEWcCIsFMbExlqvAj/9SoHLXPx0FiSMj9vPJS8fil1YYKUrQhpeVVs3BKIdors8dDq\n",
       "AF84cOyIpxywM1S8D233DEnWBStTi5QHtIGqcL87knG3CUA9RqmPaloGo35ycHV9/A+o+sJCu1RQ\n",
       "pSfAwg8PtQUZZpRPUqAN6AAAAJlBnspFFSw7/wAAAwAYbbIQAgc7cxF8ElZ+Bn1pZo/kgPkUjnDF\n",
       "x+VCfYfiZ8S4qiUyEc2jC34ACoE5/1YEPa2nUaWiwNrIBztzoIF3HyAqqs4L/B6R3f4/zsCSxTBG\n",
       "7q6gCE34f6bUqpG+35kcdWZrTNWMwk92Lc07Qu5PVvHrus8oJEAZwOvmCUp1iUz+DEqUq2WekOPo\n",
       "EvEAAABXAZ7pdEN/AAADACJR/+loNP/lnE+3QKhQqnjqOAvfzHxVGghTrRysmAfYPNV4sbaHF29Z\n",
       "B+M+hikVZU/1KvHkUC4uEoLmvY1FcUFrAzkUSZnL+y/HAJmAAAAAZAGe62pDfwAAAwAiUf/paDT/\n",
       "9N6uXE5pwXSWH5w4UuNxo2yADmvLHYpjUq+P8SfWL0Lh0nwF40fXdN6lXjiiLFp31LWHYKh0e57p\n",
       "WvhiURwGlyUZ1GirfA6co8Bp4l98tGvw8m4AAADZQZrwSahBbJlMCH///qmWAAADA+uz/2BiE5wA\n",
       "CaEu0V3msEd1daWgynk7u6QAQr5BuKLF/VgGwErwW7xAvDMqdn+WjEkPJpoyr//TiZJkVHCyDpRM\n",
       "KnhX+x9Tc5WKlaVZdEvP29huV7Ra35kmfZzj8Hk64HFyXnSZ8v5gNwGVjWr8tqPMpBzRWdZN5hSE\n",
       "Bngc0LaX1b6L32UXZA+h44QAhl/HnMHtIb6NnilhoPGIWlqUdIrxuIiHZNBrJUTaWUVAmSaN2F3F\n",
       "oEcg093YpSK0I2tRLIvz/IoDewAAAHxBnw5FFSw7/wAAAwHz/u6IJX/6cUgBMVcWsOf3UAGrhgTi\n",
       "E8Ots/fUg+pabHBojsaBP3pvLUmdRDTzJj9ZTBGK0pi5hipZp6dOFsnL6R/S8+QjW8Qt8Qydi3yI\n",
       "o6yXyeCM3uCva+WE5PNV19rNDP73rOd8qcLoESZeYE3BAAAAVgGfLXRDfwAAAwAiUf/paDT/8xxR\n",
       "V5VinEwaRCNVhDPtsV9r7HSw1r1Jksdvr/2q6GgjUbV42jFsmURxZGePSO+HB2jOj95Y5O1L+CJR\n",
       "sS+CcaG7rAR9AAAAdAGfL2pDfwAAAwLWnR/VsarSIhPEOgAc7YPI1Ortl9Nn3KHbKw++y9/6kXhn\n",
       "fdxXlI+Kd36du7ShnLt4Pwi/MRIVDWaIngFaoNwrhDvGGjgMIQ9fKYazOFfc2U/9y5/Cm2wTLYOp\n",
       "LjPeVSIVsjz1OCHloHdAAAAAtEGbM0moQWyZTAhv//6nhAAAbsTZPiOp1H6dRlSMQAY8bH9fjY2V\n",
       "ZblBbZhBpSNOgh9jLATNuFEK/ocpTZIvKx/wINE2nru/ljptlNWe5UdStL7ciKbtfqC0KAn1Ko2m\n",
       "pqZ6WnHt7Cq6DV4liZzPK/lIdIwXmcvxuPuHOYvXFpKR6iwiP4jAf2GqDu+ZwkKK7ZfL2QvZrRti\n",
       "d0rqCA7IahU6uBf5uL3PxiO8ZEJQZFa/lQgBdwAAAHVBn1FFFSw3/wAAJ8nSGt0kEPBD8M1S93Qy\n",
       "zHVEqEAIF0dthioyK3e/DkbNP8Ur1J9UlKPyQQ/s0cJCrtxIGGXXqW9hoijcG1MfnSe9dqnzRmGr\n",
       "7ynjxJQNMYQNYn2ixAl6miADDAqIKJdPMx5aKYNH1v1dwg8AAABQAZ9yakN/AAADAOKUPZirvBl5\n",
       "4FVkz5bHtKggzRyu1jK4VbTHGVPYmbn92XNXvHp7wue2ecpkauK4hoS8yhAH/runWCoQVV0lKp4V\n",
       "UkYgk4AAAAQWbW9vdgAAAGxtdmhkAAAAAAAAAAAAAAAAAAAD6AAAB9AAAQAAAQAAAAAAAAAAAAAA\n",
       "AAEAAAAAAAAAAAAAAAAAAAABAAAAAAAAAAAAAAAAAABAAAAAAAAAAAAAAAAAAAAAAAAAAAAAAAAA\n",
       "AAAAAAAAAgAAA0B0cmFrAAAAXHRraGQAAAADAAAAAAAAAAAAAAABAAAAAAAAB9AAAAAAAAAAAAAA\n",
       "AAAAAAAAAAEAAAAAAAAAAAAAAAAAAAABAAAAAAAAAAAAAAAAAABAAAAAAtAAAALQAAAAAAAkZWR0\n",
       "cwAAABxlbHN0AAAAAAAAAAEAAAfQAAAIAAABAAAAAAK4bWRpYQAAACBtZGhkAAAAAAAAAAAAAAAA\n",
       "AAAoAAAAUABVxAAAAAAALWhkbHIAAAAAAAAAAHZpZGUAAAAAAAAAAAAAAABWaWRlb0hhbmRsZXIA\n",
       "AAACY21pbmYAAAAUdm1oZAAAAAEAAAAAAAAAAAAAACRkaW5mAAAAHGRyZWYAAAAAAAAAAQAAAAx1\n",
       "cmwgAAAAAQAAAiNzdGJsAAAAs3N0c2QAAAAAAAAAAQAAAKNhdmMxAAAAAAAAAAEAAAAAAAAAAAAA\n",
       "AAAAAAAAAtAC0ABIAAAASAAAAAAAAAABAAAAAAAAAAAAAAAAAAAAAAAAAAAAAAAAAAAAAAAAAAAA\n",
       "GP//AAAAMWF2Y0MBZAAf/+EAGGdkAB+s2UC0FuhAAAADAEAAAAUDxgxlgAEABmjr48siwAAAABx1\n",
       "dWlka2hA8l8kT8W6OaUbzwMj8wAAAAAAAAAYc3R0cwAAAAAAAAABAAAAFAAABAAAAAAUc3RzcwAA\n",
       "AAAAAAABAAAAAQAAAKhjdHRzAAAAAAAAABMAAAABAAAIAAAAAAEAABQAAAAAAQAACAAAAAABAAAA\n",
       "AAAAAAEAAAQAAAAAAQAAFAAAAAABAAAIAAAAAAEAAAAAAAAAAQAABAAAAAABAAAUAAAAAAEAAAgA\n",
       "AAAAAQAAAAAAAAABAAAEAAAAAAEAABQAAAAAAQAACAAAAAABAAAAAAAAAAEAAAQAAAAAAQAAEAAA\n",
       "AAACAAAEAAAAABxzdHNjAAAAAAAAAAEAAAABAAAAFAAAAAEAAABkc3RzegAAAAAAAAAAAAAAFAAA\n",
       "FEkAAAKTAAAAwAAAAIsAAAB9AAAAqAAAAHMAAABVAAAAWAAAANsAAACdAAAAWwAAAGgAAADdAAAA\n",
       "gAAAAFoAAAB4AAAAuAAAAHkAAABUAAAAFHN0Y28AAAAAAAAAAQAAACwAAABidWR0YQAAAFptZXRh\n",
       "AAAAAAAAACFoZGxyAAAAAAAAAABtZGlyYXBwbAAAAAAAAAAAAAAAAC1pbHN0AAAAJal0b28AAAAd\n",
       "ZGF0YQAAAAEAAAAATGF2ZjU4LjEyLjEwMA==\n",
       "\">\n",
       "  Your browser does not support the video tag.\n",
       "</video>"
      ],
      "text/plain": [
       "<IPython.core.display.HTML object>"
      ]
     },
     "execution_count": 75,
     "metadata": {},
     "output_type": "execute_result"
    },
    {
     "data": {
      "image/png": "[encoded data removed]",
      "text/plain": [
       "<Figure size 720x720 with 1 Axes>"
      ]
     },
     "metadata": {
      "needs_background": "light"
     },
     "output_type": "display_data"
    }
   ],
   "source": [
    "HTML(anim.to_jshtml())"
   ]
  },
  {
   "cell_type": "code",
   "execution_count": null,
   "metadata": {},
   "outputs": [],
   "source": []
  },
  {
   "cell_type": "code",
   "execution_count": null,
   "metadata": {},
   "outputs": [],
   "source": []
  },
  {
   "cell_type": "code",
   "execution_count": null,
   "metadata": {},
   "outputs": [],
   "source": []
  },
  {
   "cell_type": "code",
   "execution_count": null,
   "metadata": {},
   "outputs": [],
   "source": []
  },
  {
   "cell_type": "code",
   "execution_count": null,
   "metadata": {},
   "outputs": [],
   "source": []
  },
  {
   "cell_type": "code",
   "execution_count": null,
   "metadata": {},
   "outputs": [],
   "source": []
  },
  {
   "cell_type": "code",
   "execution_count": null,
   "metadata": {},
   "outputs": [],
   "source": []
  },
  {
   "cell_type": "code",
   "execution_count": 138,
   "metadata": {},
   "outputs": [
    {
     "data": {
      "text/plain": [
       "<matplotlib.image.AxesImage at 0x7fb048516da0>"
      ]
     },
     "execution_count": 138,
     "metadata": {},
     "output_type": "execute_result"
    },
    {
     "data": {
      "image/png": "[encoded data removed]",
      "text/plain": [
       "<Figure size 1584x360 with 1 Axes>"
      ]
     },
     "metadata": {
      "needs_background": "light"
     },
     "output_type": "display_data"
    }
   ],
   "source": [
    "plt.figure(figsize=(22,5))\n",
    "plt.imshow(np.array(total).T, )"
   ]
  },
  {
   "cell_type": "code",
   "execution_count": null,
   "metadata": {},
   "outputs": [],
   "source": []
  },
  {
   "cell_type": "code",
   "execution_count": null,
   "metadata": {},
   "outputs": [],
   "source": []
  },
  {
   "cell_type": "code",
   "execution_count": 146,
   "metadata": {},
   "outputs": [],
   "source": [
    "for i in range(len(df.columns)):\n",
    "    df.loc[:,i] = df.loc[:,i].astype('category')"
   ]
  },
  {
   "cell_type": "code",
   "execution_count": 149,
   "metadata": {},
   "outputs": [
    {
     "name": "stdout",
     "output_type": "stream",
     "text": [
      "<class 'pandas.core.frame.DataFrame'>\n",
      "RangeIndex: 196 entries, 0 to 195\n",
      "Data columns (total 9 columns):\n",
      "0    196 non-null category\n",
      "1    196 non-null category\n",
      "2    196 non-null category\n",
      "3    196 non-null category\n",
      "4    196 non-null category\n",
      "5    196 non-null category\n",
      "6    196 non-null category\n",
      "7    196 non-null category\n",
      "8    196 non-null category\n",
      "dtypes: category(9)\n",
      "memory usage: 2.6 KB\n"
     ]
    }
   ],
   "source": [
    "df.info()"
   ]
  },
  {
   "cell_type": "code",
   "execution_count": 150,
   "metadata": {},
   "outputs": [
    {
     "ename": "TypeError",
     "evalue": "'int' object is not iterable",
     "output_type": "error",
     "traceback": [
      "\u001b[0;31m---------------------------------------------------------------------------\u001b[0m",
      "\u001b[0;31mTypeError\u001b[0m                                 Traceback (most recent call last)",
      "\u001b[0;32m<ipython-input-150-332859af580d>\u001b[0m in \u001b[0;36m<module>\u001b[0;34m\u001b[0m\n\u001b[1;32m      1\u001b[0m \u001b[0mdf\u001b[0m \u001b[0;34m=\u001b[0m \u001b[0mpd\u001b[0m\u001b[0;34m.\u001b[0m\u001b[0mDataFrame\u001b[0m\u001b[0;34m(\u001b[0m\u001b[0mtotal\u001b[0m\u001b[0;34m)\u001b[0m\u001b[0;34m\u001b[0m\u001b[0m\n\u001b[1;32m      2\u001b[0m \u001b[0;34m\u001b[0m\u001b[0m\n\u001b[0;32m----> 3\u001b[0;31m \u001b[0mpd\u001b[0m\u001b[0;34m.\u001b[0m\u001b[0mcrosstab\u001b[0m\u001b[0;34m(\u001b[0m\u001b[0mdf\u001b[0m\u001b[0;34m,\u001b[0m \u001b[0mcolumns\u001b[0m\u001b[0;34m=\u001b[0m\u001b[0mdf\u001b[0m\u001b[0;34m.\u001b[0m\u001b[0mcolumns\u001b[0m\u001b[0;34m)\u001b[0m\u001b[0;34m\u001b[0m\u001b[0m\n\u001b[0m",
      "\u001b[0;32m~/miniconda3/lib/python3.6/site-packages/pandas/core/reshape/pivot.py\u001b[0m in \u001b[0;36mcrosstab\u001b[0;34m(index, columns, values, rownames, colnames, aggfunc, margins, margins_name, dropna, normalize)\u001b[0m\n\u001b[1;32m    480\u001b[0m \u001b[0;34m\u001b[0m\u001b[0m\n\u001b[1;32m    481\u001b[0m     \u001b[0;32mfrom\u001b[0m \u001b[0mpandas\u001b[0m \u001b[0;32mimport\u001b[0m \u001b[0mDataFrame\u001b[0m\u001b[0;34m\u001b[0m\u001b[0m\n\u001b[0;32m--> 482\u001b[0;31m     \u001b[0mdf\u001b[0m \u001b[0;34m=\u001b[0m \u001b[0mDataFrame\u001b[0m\u001b[0;34m(\u001b[0m\u001b[0mdata\u001b[0m\u001b[0;34m,\u001b[0m \u001b[0mindex\u001b[0m\u001b[0;34m=\u001b[0m\u001b[0mcommon_idx\u001b[0m\u001b[0;34m)\u001b[0m\u001b[0;34m\u001b[0m\u001b[0m\n\u001b[0m\u001b[1;32m    483\u001b[0m     \u001b[0;32mif\u001b[0m \u001b[0mvalues\u001b[0m \u001b[0;32mis\u001b[0m \u001b[0;32mNone\u001b[0m\u001b[0;34m:\u001b[0m\u001b[0;34m\u001b[0m\u001b[0m\n\u001b[1;32m    484\u001b[0m         \u001b[0mdf\u001b[0m\u001b[0;34m[\u001b[0m\u001b[0;34m'__dummy__'\u001b[0m\u001b[0;34m]\u001b[0m \u001b[0;34m=\u001b[0m \u001b[0;36m0\u001b[0m\u001b[0;34m\u001b[0m\u001b[0m\n",
      "\u001b[0;32m~/miniconda3/lib/python3.6/site-packages/pandas/core/frame.py\u001b[0m in \u001b[0;36m__init__\u001b[0;34m(self, data, index, columns, dtype, copy)\u001b[0m\n\u001b[1;32m    346\u001b[0m                                  dtype=dtype, copy=copy)\n\u001b[1;32m    347\u001b[0m         \u001b[0;32melif\u001b[0m \u001b[0misinstance\u001b[0m\u001b[0;34m(\u001b[0m\u001b[0mdata\u001b[0m\u001b[0;34m,\u001b[0m \u001b[0mdict\u001b[0m\u001b[0;34m)\u001b[0m\u001b[0;34m:\u001b[0m\u001b[0;34m\u001b[0m\u001b[0m\n\u001b[0;32m--> 348\u001b[0;31m             \u001b[0mmgr\u001b[0m \u001b[0;34m=\u001b[0m \u001b[0mself\u001b[0m\u001b[0;34m.\u001b[0m\u001b[0m_init_dict\u001b[0m\u001b[0;34m(\u001b[0m\u001b[0mdata\u001b[0m\u001b[0;34m,\u001b[0m \u001b[0mindex\u001b[0m\u001b[0;34m,\u001b[0m \u001b[0mcolumns\u001b[0m\u001b[0;34m,\u001b[0m \u001b[0mdtype\u001b[0m\u001b[0;34m=\u001b[0m\u001b[0mdtype\u001b[0m\u001b[0;34m)\u001b[0m\u001b[0;34m\u001b[0m\u001b[0m\n\u001b[0m\u001b[1;32m    349\u001b[0m         \u001b[0;32melif\u001b[0m \u001b[0misinstance\u001b[0m\u001b[0;34m(\u001b[0m\u001b[0mdata\u001b[0m\u001b[0;34m,\u001b[0m \u001b[0mma\u001b[0m\u001b[0;34m.\u001b[0m\u001b[0mMaskedArray\u001b[0m\u001b[0;34m)\u001b[0m\u001b[0;34m:\u001b[0m\u001b[0;34m\u001b[0m\u001b[0m\n\u001b[1;32m    350\u001b[0m             \u001b[0;32mimport\u001b[0m \u001b[0mnumpy\u001b[0m\u001b[0;34m.\u001b[0m\u001b[0mma\u001b[0m\u001b[0;34m.\u001b[0m\u001b[0mmrecords\u001b[0m \u001b[0;32mas\u001b[0m \u001b[0mmrecords\u001b[0m\u001b[0;34m\u001b[0m\u001b[0m\n",
      "\u001b[0;32m~/miniconda3/lib/python3.6/site-packages/pandas/core/frame.py\u001b[0m in \u001b[0;36m_init_dict\u001b[0;34m(self, data, index, columns, dtype)\u001b[0m\n\u001b[1;32m    457\u001b[0m             \u001b[0marrays\u001b[0m \u001b[0;34m=\u001b[0m \u001b[0;34m[\u001b[0m\u001b[0mdata\u001b[0m\u001b[0;34m[\u001b[0m\u001b[0mk\u001b[0m\u001b[0;34m]\u001b[0m \u001b[0;32mfor\u001b[0m \u001b[0mk\u001b[0m \u001b[0;32min\u001b[0m \u001b[0mkeys\u001b[0m\u001b[0;34m]\u001b[0m\u001b[0;34m\u001b[0m\u001b[0m\n\u001b[1;32m    458\u001b[0m \u001b[0;34m\u001b[0m\u001b[0m\n\u001b[0;32m--> 459\u001b[0;31m         \u001b[0;32mreturn\u001b[0m \u001b[0m_arrays_to_mgr\u001b[0m\u001b[0;34m(\u001b[0m\u001b[0marrays\u001b[0m\u001b[0;34m,\u001b[0m \u001b[0mdata_names\u001b[0m\u001b[0;34m,\u001b[0m \u001b[0mindex\u001b[0m\u001b[0;34m,\u001b[0m \u001b[0mcolumns\u001b[0m\u001b[0;34m,\u001b[0m \u001b[0mdtype\u001b[0m\u001b[0;34m=\u001b[0m\u001b[0mdtype\u001b[0m\u001b[0;34m)\u001b[0m\u001b[0;34m\u001b[0m\u001b[0m\n\u001b[0m\u001b[1;32m    460\u001b[0m \u001b[0;34m\u001b[0m\u001b[0m\n\u001b[1;32m    461\u001b[0m     \u001b[0;32mdef\u001b[0m \u001b[0m_init_ndarray\u001b[0m\u001b[0;34m(\u001b[0m\u001b[0mself\u001b[0m\u001b[0;34m,\u001b[0m \u001b[0mvalues\u001b[0m\u001b[0;34m,\u001b[0m \u001b[0mindex\u001b[0m\u001b[0;34m,\u001b[0m \u001b[0mcolumns\u001b[0m\u001b[0;34m,\u001b[0m \u001b[0mdtype\u001b[0m\u001b[0;34m=\u001b[0m\u001b[0;32mNone\u001b[0m\u001b[0;34m,\u001b[0m \u001b[0mcopy\u001b[0m\u001b[0;34m=\u001b[0m\u001b[0;32mFalse\u001b[0m\u001b[0;34m)\u001b[0m\u001b[0;34m:\u001b[0m\u001b[0;34m\u001b[0m\u001b[0m\n",
      "\u001b[0;32m~/miniconda3/lib/python3.6/site-packages/pandas/core/frame.py\u001b[0m in \u001b[0;36m_arrays_to_mgr\u001b[0;34m(arrays, arr_names, index, columns, dtype)\u001b[0m\n\u001b[1;32m   7357\u001b[0m \u001b[0;34m\u001b[0m\u001b[0m\n\u001b[1;32m   7358\u001b[0m     \u001b[0;31m# don't force copy because getting jammed in an ndarray anyway\u001b[0m\u001b[0;34m\u001b[0m\u001b[0;34m\u001b[0m\u001b[0m\n\u001b[0;32m-> 7359\u001b[0;31m     \u001b[0marrays\u001b[0m \u001b[0;34m=\u001b[0m \u001b[0m_homogenize\u001b[0m\u001b[0;34m(\u001b[0m\u001b[0marrays\u001b[0m\u001b[0;34m,\u001b[0m \u001b[0mindex\u001b[0m\u001b[0;34m,\u001b[0m \u001b[0mdtype\u001b[0m\u001b[0;34m)\u001b[0m\u001b[0;34m\u001b[0m\u001b[0m\n\u001b[0m\u001b[1;32m   7360\u001b[0m \u001b[0;34m\u001b[0m\u001b[0m\n\u001b[1;32m   7361\u001b[0m     \u001b[0;31m# from BlockManager perspective\u001b[0m\u001b[0;34m\u001b[0m\u001b[0;34m\u001b[0m\u001b[0m\n",
      "\u001b[0;32m~/miniconda3/lib/python3.6/site-packages/pandas/core/frame.py\u001b[0m in \u001b[0;36m_homogenize\u001b[0;34m(data, index, dtype)\u001b[0m\n\u001b[1;32m   7667\u001b[0m                 \u001b[0mv\u001b[0m \u001b[0;34m=\u001b[0m \u001b[0mlib\u001b[0m\u001b[0;34m.\u001b[0m\u001b[0mfast_multiget\u001b[0m\u001b[0;34m(\u001b[0m\u001b[0mv\u001b[0m\u001b[0;34m,\u001b[0m \u001b[0moindex\u001b[0m\u001b[0;34m.\u001b[0m\u001b[0mvalues\u001b[0m\u001b[0;34m,\u001b[0m \u001b[0mdefault\u001b[0m\u001b[0;34m=\u001b[0m\u001b[0mnp\u001b[0m\u001b[0;34m.\u001b[0m\u001b[0mnan\u001b[0m\u001b[0;34m)\u001b[0m\u001b[0;34m\u001b[0m\u001b[0m\n\u001b[1;32m   7668\u001b[0m             v = _sanitize_array(v, index, dtype=dtype, copy=False,\n\u001b[0;32m-> 7669\u001b[0;31m                                 raise_cast_failure=False)\n\u001b[0m\u001b[1;32m   7670\u001b[0m \u001b[0;34m\u001b[0m\u001b[0m\n\u001b[1;32m   7671\u001b[0m         \u001b[0mhomogenized\u001b[0m\u001b[0;34m.\u001b[0m\u001b[0mappend\u001b[0m\u001b[0;34m(\u001b[0m\u001b[0mv\u001b[0m\u001b[0;34m)\u001b[0m\u001b[0;34m\u001b[0m\u001b[0m\n",
      "\u001b[0;32m~/miniconda3/lib/python3.6/site-packages/pandas/core/series.py\u001b[0m in \u001b[0;36m_sanitize_array\u001b[0;34m(data, index, dtype, copy, raise_cast_failure)\u001b[0m\n\u001b[1;32m   4165\u001b[0m             \u001b[0;32mraise\u001b[0m \u001b[0mException\u001b[0m\u001b[0;34m(\u001b[0m\u001b[0;34m'Data must be 1-dimensional'\u001b[0m\u001b[0;34m)\u001b[0m\u001b[0;34m\u001b[0m\u001b[0m\n\u001b[1;32m   4166\u001b[0m         \u001b[0;32melse\u001b[0m\u001b[0;34m:\u001b[0m\u001b[0;34m\u001b[0m\u001b[0m\n\u001b[0;32m-> 4167\u001b[0;31m             \u001b[0msubarr\u001b[0m \u001b[0;34m=\u001b[0m \u001b[0mcom\u001b[0m\u001b[0;34m.\u001b[0m\u001b[0m_asarray_tuplesafe\u001b[0m\u001b[0;34m(\u001b[0m\u001b[0mdata\u001b[0m\u001b[0;34m,\u001b[0m \u001b[0mdtype\u001b[0m\u001b[0;34m=\u001b[0m\u001b[0mdtype\u001b[0m\u001b[0;34m)\u001b[0m\u001b[0;34m\u001b[0m\u001b[0m\n\u001b[0m\u001b[1;32m   4168\u001b[0m \u001b[0;34m\u001b[0m\u001b[0m\n\u001b[1;32m   4169\u001b[0m     \u001b[0;31m# This is to prevent mixed-type Series getting all casted to\u001b[0m\u001b[0;34m\u001b[0m\u001b[0;34m\u001b[0m\u001b[0m\n",
      "\u001b[0;32m~/miniconda3/lib/python3.6/site-packages/pandas/core/common.py\u001b[0m in \u001b[0;36m_asarray_tuplesafe\u001b[0;34m(values, dtype)\u001b[0m\n\u001b[1;32m    318\u001b[0m         \u001b[0;31m# Avoid building an array of arrays:\u001b[0m\u001b[0;34m\u001b[0m\u001b[0;34m\u001b[0m\u001b[0m\n\u001b[1;32m    319\u001b[0m         \u001b[0;31m# TODO: verify whether any path hits this except #18819 (invalid)\u001b[0m\u001b[0;34m\u001b[0m\u001b[0;34m\u001b[0m\u001b[0m\n\u001b[0;32m--> 320\u001b[0;31m         \u001b[0mvalues\u001b[0m \u001b[0;34m=\u001b[0m \u001b[0;34m[\u001b[0m\u001b[0mtuple\u001b[0m\u001b[0;34m(\u001b[0m\u001b[0mx\u001b[0m\u001b[0;34m)\u001b[0m \u001b[0;32mfor\u001b[0m \u001b[0mx\u001b[0m \u001b[0;32min\u001b[0m \u001b[0mvalues\u001b[0m\u001b[0;34m]\u001b[0m\u001b[0;34m\u001b[0m\u001b[0m\n\u001b[0m\u001b[1;32m    321\u001b[0m         \u001b[0mresult\u001b[0m \u001b[0;34m=\u001b[0m \u001b[0mconstruct_1d_object_array_from_listlike\u001b[0m\u001b[0;34m(\u001b[0m\u001b[0mvalues\u001b[0m\u001b[0;34m)\u001b[0m\u001b[0;34m\u001b[0m\u001b[0m\n\u001b[1;32m    322\u001b[0m \u001b[0;34m\u001b[0m\u001b[0m\n",
      "\u001b[0;32m~/miniconda3/lib/python3.6/site-packages/pandas/core/common.py\u001b[0m in \u001b[0;36m<listcomp>\u001b[0;34m(.0)\u001b[0m\n\u001b[1;32m    318\u001b[0m         \u001b[0;31m# Avoid building an array of arrays:\u001b[0m\u001b[0;34m\u001b[0m\u001b[0;34m\u001b[0m\u001b[0m\n\u001b[1;32m    319\u001b[0m         \u001b[0;31m# TODO: verify whether any path hits this except #18819 (invalid)\u001b[0m\u001b[0;34m\u001b[0m\u001b[0;34m\u001b[0m\u001b[0m\n\u001b[0;32m--> 320\u001b[0;31m         \u001b[0mvalues\u001b[0m \u001b[0;34m=\u001b[0m \u001b[0;34m[\u001b[0m\u001b[0mtuple\u001b[0m\u001b[0;34m(\u001b[0m\u001b[0mx\u001b[0m\u001b[0;34m)\u001b[0m \u001b[0;32mfor\u001b[0m \u001b[0mx\u001b[0m \u001b[0;32min\u001b[0m \u001b[0mvalues\u001b[0m\u001b[0;34m]\u001b[0m\u001b[0;34m\u001b[0m\u001b[0m\n\u001b[0m\u001b[1;32m    321\u001b[0m         \u001b[0mresult\u001b[0m \u001b[0;34m=\u001b[0m \u001b[0mconstruct_1d_object_array_from_listlike\u001b[0m\u001b[0;34m(\u001b[0m\u001b[0mvalues\u001b[0m\u001b[0;34m)\u001b[0m\u001b[0;34m\u001b[0m\u001b[0m\n\u001b[1;32m    322\u001b[0m \u001b[0;34m\u001b[0m\u001b[0m\n",
      "\u001b[0;31mTypeError\u001b[0m: 'int' object is not iterable"
     ]
    }
   ],
   "source": [
    "df = pd.DataFrame(total)\n",
    "\n",
    "pd.crosstab(df, columns=df.columns)"
   ]
  },
  {
   "cell_type": "code",
   "execution_count": null,
   "metadata": {},
   "outputs": [],
   "source": []
  }
 ],
 "metadata": {
  "kernelspec": {
   "display_name": "Python 3",
   "language": "python",
   "name": "python3"
  },
  "language_info": {
   "codemirror_mode": {
    "name": "ipython",
    "version": 3
   },
   "file_extension": ".py",
   "mimetype": "text/x-python",
   "name": "python",
   "nbconvert_exporter": "python",
   "pygments_lexer": "ipython3",
   "version": "3.6.6"
  }
 },
 "nbformat": 4,
 "nbformat_minor": 2
}
