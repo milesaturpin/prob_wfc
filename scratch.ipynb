{
 "cells": [
  {
   "cell_type": "code",
   "execution_count": 1,
   "metadata": {},
   "outputs": [],
   "source": [
    "import matplotlib.pyplot as plt\n",
    "import skimage as sk\n",
    "from skimage import data, io, filters, color\n",
    "from skimage.transform import rescale, resize, downscale_local_mean\n",
    "import pandas as pd\n",
    "import numpy as np\n",
    "from math import floor"
   ]
  },
  {
   "cell_type": "code",
   "execution_count": 2970,
   "metadata": {},
   "outputs": [],
   "source": [
    "img = io.imread('data/1.png')\n",
    "img = color.rgb2gray(img)\n",
    "img = rescale(img, 0.08, anti_aliasing=False, anti_aliasing_sigma=7)\n",
    "img = ((img*2).round()/2).astype(int)"
   ]
  },
  {
   "cell_type": "code",
   "execution_count": 2971,
   "metadata": {},
   "outputs": [
    {
     "data": {
      "text/plain": [
       "<matplotlib.image.AxesImage at 0x7fdb21565358>"
      ]
     },
     "execution_count": 2971,
     "metadata": {},
     "output_type": "execute_result"
    },
    {
     "data": {
      "image/png": "[encoded data removed]",
      "text/plain": [
       "<Figure size 360x360 with 1 Axes>"
      ]
     },
     "metadata": {
      "needs_background": "light"
     },
     "output_type": "display_data"
    }
   ],
   "source": [
    "plt.figure( figsize=(5,5))\n",
    "plt.imshow(img, cmap='gray',)"
   ]
  },
  {
   "cell_type": "code",
   "execution_count": 2081,
   "metadata": {},
   "outputs": [],
   "source": [
    "img = io.imread('data/4.png')\n",
    "img = color.rgb2gray(img)\n",
    "img = rescale(img, 0.08, anti_aliasing=False, anti_aliasing_sigma=7)\n",
    "img = ((img).round()).astype(int)"
   ]
  },
  {
   "cell_type": "code",
   "execution_count": 2776,
   "metadata": {},
   "outputs": [],
   "source": [
    "img = io.imread('data/6.png')\n",
    "img = color.rgb2gray(img)\n",
    "img = rescale(img, 1/12, anti_aliasing=False, anti_aliasing_sigma=7)\n",
    "img = ((img*2).round()/2).astype(int)"
   ]
  },
  {
   "cell_type": "code",
   "execution_count": 2777,
   "metadata": {},
   "outputs": [
    {
     "data": {
      "text/plain": [
       "<matplotlib.image.AxesImage at 0x7fdb0137ef98>"
      ]
     },
     "execution_count": 2777,
     "metadata": {},
     "output_type": "execute_result"
    },
    {
     "data": {
      "image/png": "[encoded data removed]",
      "text/plain": [
       "<Figure size 360x360 with 1 Axes>"
      ]
     },
     "metadata": {
      "needs_background": "light"
     },
     "output_type": "display_data"
    }
   ],
   "source": [
    "plt.figure( figsize=(5,5))\n",
    "plt.imshow(img, cmap='gray',)"
   ]
  },
  {
   "cell_type": "code",
   "execution_count": 2972,
   "metadata": {},
   "outputs": [],
   "source": [
    "def preprocess_blocks(img, kernel_size):\n",
    "    \n",
    "#     blocks_count = dict()\n",
    "    \n",
    "#     for i in range(0, img.shape[0], kernel_size):\n",
    "#         for j in range(0, img.shape[0], kernel_size):\n",
    "#             block = tuple(img[i:i+kernel_size, j:j+kernel_size].flatten())\n",
    "#             if block not in blocks_dict:\n",
    "#                 blocks_dict[block] = 1\n",
    "#                 #blocks_dict[block] = num_blocks\n",
    "#             else:\n",
    "#                 blocks_dict[block] += 1\n",
    "        \n",
    "#     blocks_count.values\n",
    "    \n",
    "#     blocks_id = dict()\n",
    "#     num_blocks = 0\n",
    "#     for (block, count) in blocks_count.items():\n",
    "#         blocks_id[block] \n",
    "#         num_blocks+=1\n",
    "                \n",
    "                \n",
    "    return blocks_dict"
   ]
  },
  {
   "cell_type": "code",
   "execution_count": 2973,
   "metadata": {},
   "outputs": [
    {
     "ename": "NameError",
     "evalue": "name 'blocks_dict' is not defined",
     "output_type": "error",
     "traceback": [
      "\u001b[0;31m---------------------------------------------------------------------------\u001b[0m",
      "\u001b[0;31mNameError\u001b[0m                                 Traceback (most recent call last)",
      "\u001b[0;32m<ipython-input-2973-392b822f2206>\u001b[0m in \u001b[0;36m<module>\u001b[0;34m\u001b[0m\n\u001b[0;32m----> 1\u001b[0;31m \u001b[0mblocks\u001b[0m \u001b[0;34m=\u001b[0m \u001b[0mpreprocess_blocks\u001b[0m\u001b[0;34m(\u001b[0m\u001b[0mimg\u001b[0m\u001b[0;34m,\u001b[0m \u001b[0;36m3\u001b[0m\u001b[0;34m)\u001b[0m\u001b[0;34m\u001b[0m\u001b[0m\n\u001b[0m",
      "\u001b[0;32m<ipython-input-2972-d72f7b910682>\u001b[0m in \u001b[0;36mpreprocess_blocks\u001b[0;34m(img, kernel_size)\u001b[0m\n\u001b[1;32m      7\u001b[0m         \u001b[0;32mfor\u001b[0m \u001b[0mj\u001b[0m \u001b[0;32min\u001b[0m \u001b[0mrange\u001b[0m\u001b[0;34m(\u001b[0m\u001b[0;36m0\u001b[0m\u001b[0;34m,\u001b[0m \u001b[0mimg\u001b[0m\u001b[0;34m.\u001b[0m\u001b[0mshape\u001b[0m\u001b[0;34m[\u001b[0m\u001b[0;36m0\u001b[0m\u001b[0;34m]\u001b[0m\u001b[0;34m,\u001b[0m \u001b[0mkernel_size\u001b[0m\u001b[0;34m)\u001b[0m\u001b[0;34m:\u001b[0m\u001b[0;34m\u001b[0m\u001b[0m\n\u001b[1;32m      8\u001b[0m             \u001b[0mblock\u001b[0m \u001b[0;34m=\u001b[0m \u001b[0mtuple\u001b[0m\u001b[0;34m(\u001b[0m\u001b[0mimg\u001b[0m\u001b[0;34m[\u001b[0m\u001b[0mi\u001b[0m\u001b[0;34m:\u001b[0m\u001b[0mi\u001b[0m\u001b[0;34m+\u001b[0m\u001b[0mkernel_size\u001b[0m\u001b[0;34m,\u001b[0m \u001b[0mj\u001b[0m\u001b[0;34m:\u001b[0m\u001b[0mj\u001b[0m\u001b[0;34m+\u001b[0m\u001b[0mkernel_size\u001b[0m\u001b[0;34m]\u001b[0m\u001b[0;34m.\u001b[0m\u001b[0mflatten\u001b[0m\u001b[0;34m(\u001b[0m\u001b[0;34m)\u001b[0m\u001b[0;34m)\u001b[0m\u001b[0;34m\u001b[0m\u001b[0m\n\u001b[0;32m----> 9\u001b[0;31m             \u001b[0;32mif\u001b[0m \u001b[0mblock\u001b[0m \u001b[0;32mnot\u001b[0m \u001b[0;32min\u001b[0m \u001b[0mblocks_dict\u001b[0m\u001b[0;34m:\u001b[0m\u001b[0;34m\u001b[0m\u001b[0m\n\u001b[0m\u001b[1;32m     10\u001b[0m                 \u001b[0mblocks_dict\u001b[0m\u001b[0;34m[\u001b[0m\u001b[0mblock\u001b[0m\u001b[0;34m]\u001b[0m \u001b[0;34m=\u001b[0m \u001b[0;36m1\u001b[0m\u001b[0;34m\u001b[0m\u001b[0m\n\u001b[1;32m     11\u001b[0m                 \u001b[0;31m#blocks_dict[block] = num_blocks\u001b[0m\u001b[0;34m\u001b[0m\u001b[0;34m\u001b[0m\u001b[0m\n",
      "\u001b[0;31mNameError\u001b[0m: name 'blocks_dict' is not defined"
     ]
    }
   ],
   "source": [
    "blocks = preprocess_blocks(img, 3)"
   ]
  },
  {
   "cell_type": "code",
   "execution_count": 2968,
   "metadata": {},
   "outputs": [
    {
     "data": {
      "text/plain": [
       "array([ 0,  1,  2,  3,  4,  5,  6,  7,  8,  9, 10, 11, 12, 13, 14, 15, 16,\n",
       "       17, 18, 19, 20, 21, 22, 23, 24, 25, 26, 27, 28, 29, 30, 31, 32, 33,\n",
       "       34, 35, 36, 37, 38, 39, 40, 41, 42, 43, 44, 45, 46, 47, 48, 49, 50,\n",
       "       51, 52, 53, 54, 55, 56, 57])"
      ]
     },
     "execution_count": 2968,
     "metadata": {},
     "output_type": "execute_result"
    }
   ],
   "source": []
  },
  {
   "cell_type": "code",
   "execution_count": 2969,
   "metadata": {},
   "outputs": [
    {
     "data": {
      "text/plain": [
       "array([ 0,  1,  2,  3,  4,  5,  6,  7,  8,  9, 10, 11, 12, 13, 14, 15, 16,\n",
       "       17, 18, 19, 20, 21, 22, 23, 24, 25, 26, 27, 28, 29, 30, 31, 32, 33,\n",
       "       34, 35, 36, 37, 38, 39, 40, 41, 42, 43, 44, 45, 46, 47, 48, 49, 50,\n",
       "       51, 52, 53, 54, 55, 56, 57])"
      ]
     },
     "execution_count": 2969,
     "metadata": {},
     "output_type": "execute_result"
    }
   ],
   "source": [
    "np.sort(np.array(list(blocks.values())))"
   ]
  },
  {
   "cell_type": "code",
   "execution_count": 2962,
   "metadata": {},
   "outputs": [
    {
     "data": {
      "text/html": [
       "<div>\n",
       "<style scoped>\n",
       "    .dataframe tbody tr th:only-of-type {\n",
       "        vertical-align: middle;\n",
       "    }\n",
       "\n",
       "    .dataframe tbody tr th {\n",
       "        vertical-align: top;\n",
       "    }\n",
       "\n",
       "    .dataframe thead th {\n",
       "        text-align: right;\n",
       "    }\n",
       "</style>\n",
       "<table border=\"1\" class=\"dataframe\">\n",
       "  <thead>\n",
       "    <tr style=\"text-align: right;\">\n",
       "      <th></th>\n",
       "      <th>level_0</th>\n",
       "      <th>index</th>\n",
       "      <th>0</th>\n",
       "    </tr>\n",
       "  </thead>\n",
       "  <tbody>\n",
       "    <tr>\n",
       "      <th>0</th>\n",
       "      <td>0</td>\n",
       "      <td>(0, 0, 1, 0, 0, 1, 1, 1, 1)</td>\n",
       "      <td>0</td>\n",
       "    </tr>\n",
       "    <tr>\n",
       "      <th>1</th>\n",
       "      <td>1</td>\n",
       "      <td>(1, 0, 0, 1, 0, 0, 1, 0, 0)</td>\n",
       "      <td>1</td>\n",
       "    </tr>\n",
       "    <tr>\n",
       "      <th>2</th>\n",
       "      <td>2</td>\n",
       "      <td>(0, 0, 0, 0, 0, 0, 0, 0, 0)</td>\n",
       "      <td>2</td>\n",
       "    </tr>\n",
       "    <tr>\n",
       "      <th>3</th>\n",
       "      <td>3</td>\n",
       "      <td>(0, 0, 0, 0, 0, 1, 0, 0, 1)</td>\n",
       "      <td>3</td>\n",
       "    </tr>\n",
       "    <tr>\n",
       "      <th>4</th>\n",
       "      <td>4</td>\n",
       "      <td>(0, 0, 0, 1, 1, 1, 1, 1, 1)</td>\n",
       "      <td>4</td>\n",
       "    </tr>\n",
       "    <tr>\n",
       "      <th>5</th>\n",
       "      <td>5</td>\n",
       "      <td>(1, 0, 0, 1, 1, 1, 1, 1, 0)</td>\n",
       "      <td>5</td>\n",
       "    </tr>\n",
       "    <tr>\n",
       "      <th>6</th>\n",
       "      <td>6</td>\n",
       "      <td>(0, 1, 1, 1, 1, 1, 0, 1, 1)</td>\n",
       "      <td>6</td>\n",
       "    </tr>\n",
       "    <tr>\n",
       "      <th>7</th>\n",
       "      <td>7</td>\n",
       "      <td>(1, 1, 1, 1, 1, 0, 1, 1, 0)</td>\n",
       "      <td>7</td>\n",
       "    </tr>\n",
       "    <tr>\n",
       "      <th>8</th>\n",
       "      <td>8</td>\n",
       "      <td>(1, 1, 1, 0, 0, 1, 0, 0, 1)</td>\n",
       "      <td>8</td>\n",
       "    </tr>\n",
       "    <tr>\n",
       "      <th>9</th>\n",
       "      <td>9</td>\n",
       "      <td>(1, 0, 0, 1, 1, 1, 1, 0, 0)</td>\n",
       "      <td>9</td>\n",
       "    </tr>\n",
       "    <tr>\n",
       "      <th>10</th>\n",
       "      <td>10</td>\n",
       "      <td>(0, 0, 0, 1, 1, 1, 0, 0, 0)</td>\n",
       "      <td>10</td>\n",
       "    </tr>\n",
       "    <tr>\n",
       "      <th>11</th>\n",
       "      <td>11</td>\n",
       "      <td>(1, 1, 1, 1, 1, 1, 1, 1, 1)</td>\n",
       "      <td>11</td>\n",
       "    </tr>\n",
       "    <tr>\n",
       "      <th>12</th>\n",
       "      <td>12</td>\n",
       "      <td>(0, 0, 1, 0, 0, 0, 0, 0, 0)</td>\n",
       "      <td>12</td>\n",
       "    </tr>\n",
       "    <tr>\n",
       "      <th>13</th>\n",
       "      <td>13</td>\n",
       "      <td>(1, 0, 0, 0, 0, 0, 0, 0, 0)</td>\n",
       "      <td>13</td>\n",
       "    </tr>\n",
       "    <tr>\n",
       "      <th>14</th>\n",
       "      <td>14</td>\n",
       "      <td>(0, 1, 0, 0, 1, 0, 0, 1, 0)</td>\n",
       "      <td>14</td>\n",
       "    </tr>\n",
       "    <tr>\n",
       "      <th>15</th>\n",
       "      <td>15</td>\n",
       "      <td>(0, 1, 1, 0, 1, 1, 0, 1, 1)</td>\n",
       "      <td>15</td>\n",
       "    </tr>\n",
       "    <tr>\n",
       "      <th>16</th>\n",
       "      <td>16</td>\n",
       "      <td>(1, 0, 0, 1, 0, 0, 1, 1, 1)</td>\n",
       "      <td>16</td>\n",
       "    </tr>\n",
       "    <tr>\n",
       "      <th>17</th>\n",
       "      <td>17</td>\n",
       "      <td>(0, 1, 1, 0, 1, 1, 1, 1, 1)</td>\n",
       "      <td>17</td>\n",
       "    </tr>\n",
       "    <tr>\n",
       "      <th>18</th>\n",
       "      <td>18</td>\n",
       "      <td>(0, 0, 0, 0, 0, 0, 0, 0, 1)</td>\n",
       "      <td>18</td>\n",
       "    </tr>\n",
       "    <tr>\n",
       "      <th>19</th>\n",
       "      <td>19</td>\n",
       "      <td>(0, 0, 0, 0, 0, 0, 1, 1, 1)</td>\n",
       "      <td>19</td>\n",
       "    </tr>\n",
       "    <tr>\n",
       "      <th>20</th>\n",
       "      <td>20</td>\n",
       "      <td>(0, 0, 0, 0, 0, 0, 1, 0, 0)</td>\n",
       "      <td>20</td>\n",
       "    </tr>\n",
       "    <tr>\n",
       "      <th>21</th>\n",
       "      <td>21</td>\n",
       "      <td>(0, 0, 0, 0, 1, 1, 0, 1, 1)</td>\n",
       "      <td>21</td>\n",
       "    </tr>\n",
       "    <tr>\n",
       "      <th>22</th>\n",
       "      <td>22</td>\n",
       "      <td>(0, 0, 0, 1, 1, 0, 1, 1, 0)</td>\n",
       "      <td>22</td>\n",
       "    </tr>\n",
       "    <tr>\n",
       "      <th>23</th>\n",
       "      <td>23</td>\n",
       "      <td>(0, 1, 1, 0, 1, 1, 0, 0, 1)</td>\n",
       "      <td>23</td>\n",
       "    </tr>\n",
       "    <tr>\n",
       "      <th>24</th>\n",
       "      <td>24</td>\n",
       "      <td>(1, 1, 1, 1, 1, 1, 0, 0, 0)</td>\n",
       "      <td>24</td>\n",
       "    </tr>\n",
       "    <tr>\n",
       "      <th>25</th>\n",
       "      <td>25</td>\n",
       "      <td>(0, 1, 0, 1, 1, 0, 1, 1, 1)</td>\n",
       "      <td>25</td>\n",
       "    </tr>\n",
       "    <tr>\n",
       "      <th>26</th>\n",
       "      <td>26</td>\n",
       "      <td>(1, 1, 0, 1, 1, 0, 1, 1, 0)</td>\n",
       "      <td>26</td>\n",
       "    </tr>\n",
       "    <tr>\n",
       "      <th>27</th>\n",
       "      <td>27</td>\n",
       "      <td>(0, 0, 1, 0, 0, 1, 0, 0, 0)</td>\n",
       "      <td>27</td>\n",
       "    </tr>\n",
       "    <tr>\n",
       "      <th>28</th>\n",
       "      <td>28</td>\n",
       "      <td>(1, 0, 0, 1, 0, 0, 0, 0, 0)</td>\n",
       "      <td>28</td>\n",
       "    </tr>\n",
       "    <tr>\n",
       "      <th>29</th>\n",
       "      <td>29</td>\n",
       "      <td>(0, 1, 1, 0, 0, 0, 0, 0, 0)</td>\n",
       "      <td>29</td>\n",
       "    </tr>\n",
       "    <tr>\n",
       "      <th>30</th>\n",
       "      <td>30</td>\n",
       "      <td>(1, 1, 1, 0, 0, 0, 0, 0, 0)</td>\n",
       "      <td>30</td>\n",
       "    </tr>\n",
       "    <tr>\n",
       "      <th>31</th>\n",
       "      <td>31</td>\n",
       "      <td>(1, 1, 0, 1, 0, 0, 1, 0, 0)</td>\n",
       "      <td>31</td>\n",
       "    </tr>\n",
       "    <tr>\n",
       "      <th>32</th>\n",
       "      <td>32</td>\n",
       "      <td>(0, 0, 1, 0, 0, 1, 0, 0, 1)</td>\n",
       "      <td>32</td>\n",
       "    </tr>\n",
       "    <tr>\n",
       "      <th>33</th>\n",
       "      <td>33</td>\n",
       "      <td>(0, 1, 1, 0, 1, 0, 0, 1, 0)</td>\n",
       "      <td>33</td>\n",
       "    </tr>\n",
       "    <tr>\n",
       "      <th>34</th>\n",
       "      <td>34</td>\n",
       "      <td>(1, 1, 0, 0, 0, 0, 0, 0, 0)</td>\n",
       "      <td>34</td>\n",
       "    </tr>\n",
       "    <tr>\n",
       "      <th>35</th>\n",
       "      <td>35</td>\n",
       "      <td>(0, 0, 0, 1, 0, 0, 1, 0, 0)</td>\n",
       "      <td>35</td>\n",
       "    </tr>\n",
       "    <tr>\n",
       "      <th>36</th>\n",
       "      <td>36</td>\n",
       "      <td>(0, 0, 0, 0, 0, 0, 1, 1, 0)</td>\n",
       "      <td>36</td>\n",
       "    </tr>\n",
       "    <tr>\n",
       "      <th>37</th>\n",
       "      <td>37</td>\n",
       "      <td>(1, 1, 1, 1, 1, 1, 0, 1, 0)</td>\n",
       "      <td>37</td>\n",
       "    </tr>\n",
       "    <tr>\n",
       "      <th>38</th>\n",
       "      <td>38</td>\n",
       "      <td>(1, 1, 1, 0, 1, 0, 0, 1, 0)</td>\n",
       "      <td>38</td>\n",
       "    </tr>\n",
       "    <tr>\n",
       "      <th>39</th>\n",
       "      <td>39</td>\n",
       "      <td>(0, 0, 1, 1, 1, 1, 0, 0, 1)</td>\n",
       "      <td>39</td>\n",
       "    </tr>\n",
       "    <tr>\n",
       "      <th>40</th>\n",
       "      <td>40</td>\n",
       "      <td>(0, 1, 0, 0, 1, 0, 0, 1, 1)</td>\n",
       "      <td>40</td>\n",
       "    </tr>\n",
       "    <tr>\n",
       "      <th>41</th>\n",
       "      <td>41</td>\n",
       "      <td>(1, 1, 1, 0, 0, 1, 0, 0, 0)</td>\n",
       "      <td>41</td>\n",
       "    </tr>\n",
       "    <tr>\n",
       "      <th>42</th>\n",
       "      <td>42</td>\n",
       "      <td>(1, 1, 1, 1, 1, 1, 0, 0, 1)</td>\n",
       "      <td>42</td>\n",
       "    </tr>\n",
       "    <tr>\n",
       "      <th>43</th>\n",
       "      <td>43</td>\n",
       "      <td>(1, 1, 1, 1, 1, 1, 1, 0, 0)</td>\n",
       "      <td>43</td>\n",
       "    </tr>\n",
       "    <tr>\n",
       "      <th>44</th>\n",
       "      <td>44</td>\n",
       "      <td>(1, 1, 1, 1, 1, 0, 0, 0, 0)</td>\n",
       "      <td>44</td>\n",
       "    </tr>\n",
       "    <tr>\n",
       "      <th>45</th>\n",
       "      <td>45</td>\n",
       "      <td>(1, 1, 1, 0, 1, 1, 0, 1, 1)</td>\n",
       "      <td>45</td>\n",
       "    </tr>\n",
       "    <tr>\n",
       "      <th>46</th>\n",
       "      <td>46</td>\n",
       "      <td>(1, 1, 0, 1, 1, 0, 1, 1, 1)</td>\n",
       "      <td>46</td>\n",
       "    </tr>\n",
       "    <tr>\n",
       "      <th>47</th>\n",
       "      <td>47</td>\n",
       "      <td>(0, 0, 0, 0, 1, 1, 1, 1, 1)</td>\n",
       "      <td>47</td>\n",
       "    </tr>\n",
       "    <tr>\n",
       "      <th>48</th>\n",
       "      <td>48</td>\n",
       "      <td>(0, 1, 0, 1, 1, 1, 1, 1, 1)</td>\n",
       "      <td>48</td>\n",
       "    </tr>\n",
       "    <tr>\n",
       "      <th>49</th>\n",
       "      <td>49</td>\n",
       "      <td>(0, 0, 1, 1, 1, 1, 1, 1, 1)</td>\n",
       "      <td>49</td>\n",
       "    </tr>\n",
       "    <tr>\n",
       "      <th>50</th>\n",
       "      <td>50</td>\n",
       "      <td>(0, 1, 1, 0, 1, 1, 0, 0, 0)</td>\n",
       "      <td>50</td>\n",
       "    </tr>\n",
       "    <tr>\n",
       "      <th>51</th>\n",
       "      <td>51</td>\n",
       "      <td>(0, 1, 0, 0, 1, 0, 1, 1, 1)</td>\n",
       "      <td>51</td>\n",
       "    </tr>\n",
       "    <tr>\n",
       "      <th>52</th>\n",
       "      <td>52</td>\n",
       "      <td>(1, 1, 0, 1, 1, 1, 1, 1, 0)</td>\n",
       "      <td>52</td>\n",
       "    </tr>\n",
       "    <tr>\n",
       "      <th>53</th>\n",
       "      <td>53</td>\n",
       "      <td>(0, 0, 0, 0, 0, 0, 0, 1, 1)</td>\n",
       "      <td>53</td>\n",
       "    </tr>\n",
       "    <tr>\n",
       "      <th>54</th>\n",
       "      <td>54</td>\n",
       "      <td>(0, 0, 0, 1, 0, 0, 1, 1, 1)</td>\n",
       "      <td>54</td>\n",
       "    </tr>\n",
       "    <tr>\n",
       "      <th>55</th>\n",
       "      <td>55</td>\n",
       "      <td>(1, 1, 0, 1, 1, 0, 0, 0, 0)</td>\n",
       "      <td>55</td>\n",
       "    </tr>\n",
       "    <tr>\n",
       "      <th>56</th>\n",
       "      <td>56</td>\n",
       "      <td>(1, 0, 0, 1, 1, 0, 1, 1, 0)</td>\n",
       "      <td>56</td>\n",
       "    </tr>\n",
       "    <tr>\n",
       "      <th>57</th>\n",
       "      <td>57</td>\n",
       "      <td>(1, 1, 1, 1, 0, 0, 1, 0, 0)</td>\n",
       "      <td>57</td>\n",
       "    </tr>\n",
       "  </tbody>\n",
       "</table>\n",
       "</div>"
      ],
      "text/plain": [
       "    level_0                        index   0\n",
       "0         0  (0, 0, 1, 0, 0, 1, 1, 1, 1)   0\n",
       "1         1  (1, 0, 0, 1, 0, 0, 1, 0, 0)   1\n",
       "2         2  (0, 0, 0, 0, 0, 0, 0, 0, 0)   2\n",
       "3         3  (0, 0, 0, 0, 0, 1, 0, 0, 1)   3\n",
       "4         4  (0, 0, 0, 1, 1, 1, 1, 1, 1)   4\n",
       "5         5  (1, 0, 0, 1, 1, 1, 1, 1, 0)   5\n",
       "6         6  (0, 1, 1, 1, 1, 1, 0, 1, 1)   6\n",
       "7         7  (1, 1, 1, 1, 1, 0, 1, 1, 0)   7\n",
       "8         8  (1, 1, 1, 0, 0, 1, 0, 0, 1)   8\n",
       "9         9  (1, 0, 0, 1, 1, 1, 1, 0, 0)   9\n",
       "10       10  (0, 0, 0, 1, 1, 1, 0, 0, 0)  10\n",
       "11       11  (1, 1, 1, 1, 1, 1, 1, 1, 1)  11\n",
       "12       12  (0, 0, 1, 0, 0, 0, 0, 0, 0)  12\n",
       "13       13  (1, 0, 0, 0, 0, 0, 0, 0, 0)  13\n",
       "14       14  (0, 1, 0, 0, 1, 0, 0, 1, 0)  14\n",
       "15       15  (0, 1, 1, 0, 1, 1, 0, 1, 1)  15\n",
       "16       16  (1, 0, 0, 1, 0, 0, 1, 1, 1)  16\n",
       "17       17  (0, 1, 1, 0, 1, 1, 1, 1, 1)  17\n",
       "18       18  (0, 0, 0, 0, 0, 0, 0, 0, 1)  18\n",
       "19       19  (0, 0, 0, 0, 0, 0, 1, 1, 1)  19\n",
       "20       20  (0, 0, 0, 0, 0, 0, 1, 0, 0)  20\n",
       "21       21  (0, 0, 0, 0, 1, 1, 0, 1, 1)  21\n",
       "22       22  (0, 0, 0, 1, 1, 0, 1, 1, 0)  22\n",
       "23       23  (0, 1, 1, 0, 1, 1, 0, 0, 1)  23\n",
       "24       24  (1, 1, 1, 1, 1, 1, 0, 0, 0)  24\n",
       "25       25  (0, 1, 0, 1, 1, 0, 1, 1, 1)  25\n",
       "26       26  (1, 1, 0, 1, 1, 0, 1, 1, 0)  26\n",
       "27       27  (0, 0, 1, 0, 0, 1, 0, 0, 0)  27\n",
       "28       28  (1, 0, 0, 1, 0, 0, 0, 0, 0)  28\n",
       "29       29  (0, 1, 1, 0, 0, 0, 0, 0, 0)  29\n",
       "30       30  (1, 1, 1, 0, 0, 0, 0, 0, 0)  30\n",
       "31       31  (1, 1, 0, 1, 0, 0, 1, 0, 0)  31\n",
       "32       32  (0, 0, 1, 0, 0, 1, 0, 0, 1)  32\n",
       "33       33  (0, 1, 1, 0, 1, 0, 0, 1, 0)  33\n",
       "34       34  (1, 1, 0, 0, 0, 0, 0, 0, 0)  34\n",
       "35       35  (0, 0, 0, 1, 0, 0, 1, 0, 0)  35\n",
       "36       36  (0, 0, 0, 0, 0, 0, 1, 1, 0)  36\n",
       "37       37  (1, 1, 1, 1, 1, 1, 0, 1, 0)  37\n",
       "38       38  (1, 1, 1, 0, 1, 0, 0, 1, 0)  38\n",
       "39       39  (0, 0, 1, 1, 1, 1, 0, 0, 1)  39\n",
       "40       40  (0, 1, 0, 0, 1, 0, 0, 1, 1)  40\n",
       "41       41  (1, 1, 1, 0, 0, 1, 0, 0, 0)  41\n",
       "42       42  (1, 1, 1, 1, 1, 1, 0, 0, 1)  42\n",
       "43       43  (1, 1, 1, 1, 1, 1, 1, 0, 0)  43\n",
       "44       44  (1, 1, 1, 1, 1, 0, 0, 0, 0)  44\n",
       "45       45  (1, 1, 1, 0, 1, 1, 0, 1, 1)  45\n",
       "46       46  (1, 1, 0, 1, 1, 0, 1, 1, 1)  46\n",
       "47       47  (0, 0, 0, 0, 1, 1, 1, 1, 1)  47\n",
       "48       48  (0, 1, 0, 1, 1, 1, 1, 1, 1)  48\n",
       "49       49  (0, 0, 1, 1, 1, 1, 1, 1, 1)  49\n",
       "50       50  (0, 1, 1, 0, 1, 1, 0, 0, 0)  50\n",
       "51       51  (0, 1, 0, 0, 1, 0, 1, 1, 1)  51\n",
       "52       52  (1, 1, 0, 1, 1, 1, 1, 1, 0)  52\n",
       "53       53  (0, 0, 0, 0, 0, 0, 0, 1, 1)  53\n",
       "54       54  (0, 0, 0, 1, 0, 0, 1, 1, 1)  54\n",
       "55       55  (1, 1, 0, 1, 1, 0, 0, 0, 0)  55\n",
       "56       56  (1, 0, 0, 1, 1, 0, 1, 1, 0)  56\n",
       "57       57  (1, 1, 1, 1, 0, 0, 1, 0, 0)  57"
      ]
     },
     "execution_count": 2962,
     "metadata": {},
     "output_type": "execute_result"
    }
   ],
   "source": [
    "pd.DataFrame().from_dict(blocks, orient='index').reset_index().reset_index()"
   ]
  },
  {
   "cell_type": "code",
   "execution_count": 1874,
   "metadata": {},
   "outputs": [],
   "source": [
    "img = io.imread('data/pebbles.jpg')\n",
    "img = color.rgb2gray(img)\n",
    "img = rescale(img, 1/20, anti_aliasing=True, anti_aliasing_sigma=1.5)\n",
    "img = (np.round(img*5)).astype(int)\n",
    "img = img[:120, :120]"
   ]
  },
  {
   "cell_type": "code",
   "execution_count": 2712,
   "metadata": {},
   "outputs": [],
   "source": [
    "img = io.imread('data/aztec.png')\n",
    "img = color.rgb2gray(img)\n",
    "#img = rescale(img, 1/6, anti_aliasing=False, anti_aliasing_sigma=1.5)\n",
    "img = rescale(img, 1/12, anti_aliasing=False, anti_aliasing_sigma=1.5)"
   ]
  },
  {
   "cell_type": "code",
   "execution_count": 2713,
   "metadata": {},
   "outputs": [
    {
     "data": {
      "text/plain": [
       "array([[0.99313725, 0.99803922, 0.99803922, ..., 0.99803922, 0.99803922,\n",
       "        0.99803922],\n",
       "       [1.        , 1.        , 1.        , ..., 1.        , 1.        ,\n",
       "        1.        ],\n",
       "       [0.00588235, 0.00392157, 0.00392157, ..., 0.00392157, 0.00392157,\n",
       "        0.00392157],\n",
       "       ...,\n",
       "       [0.30294118, 0.30980392, 0.30980392, ..., 0.2754902 , 0.27843137,\n",
       "        0.27843137],\n",
       "       [0.        , 0.        , 0.        , ..., 0.        , 0.        ,\n",
       "        0.        ],\n",
       "       [1.        , 0.99607843, 0.99607843, ..., 0.99607843, 0.99607843,\n",
       "        0.99607843]])"
      ]
     },
     "execution_count": 2713,
     "metadata": {},
     "output_type": "execute_result"
    }
   ],
   "source": [
    "img"
   ]
  },
  {
   "cell_type": "code",
   "execution_count": 2714,
   "metadata": {},
   "outputs": [],
   "source": [
    "img = (np.round(img)).astype(int)\n",
    "img = img[1:109,1:109]"
   ]
  },
  {
   "cell_type": "code",
   "execution_count": 2715,
   "metadata": {},
   "outputs": [
    {
     "name": "stderr",
     "output_type": "stream",
     "text": [
      "/Users/milesturpin/miniconda3/lib/python3.6/site-packages/IPython/core/displayhook.py:271: UserWarning: Output cache limit (currently 1000 entries) hit.\n",
      "Flushing oldest 200 entries.\n",
      "  'Flushing oldest {cull_count} entries.'.format(sz=sz, cull_count=cull_count))\n"
     ]
    },
    {
     "data": {
      "text/plain": [
       "array([[1, 1, 1, ..., 1, 1, 1],\n",
       "       [0, 0, 0, ..., 0, 0, 0],\n",
       "       [1, 1, 0, ..., 0, 1, 1],\n",
       "       ...,\n",
       "       [1, 1, 0, ..., 0, 1, 1],\n",
       "       [0, 0, 0, ..., 0, 0, 0],\n",
       "       [0, 0, 0, ..., 0, 0, 0]])"
      ]
     },
     "execution_count": 2715,
     "metadata": {},
     "output_type": "execute_result"
    }
   ],
   "source": [
    "img"
   ]
  },
  {
   "cell_type": "code",
   "execution_count": 2716,
   "metadata": {},
   "outputs": [
    {
     "data": {
      "text/plain": [
       "(108, 108)"
      ]
     },
     "execution_count": 2716,
     "metadata": {},
     "output_type": "execute_result"
    }
   ],
   "source": [
    "img.shape"
   ]
  },
  {
   "cell_type": "code",
   "execution_count": 2717,
   "metadata": {},
   "outputs": [
    {
     "data": {
      "text/plain": [
       "<matplotlib.image.AxesImage at 0x7fdb00105b00>"
      ]
     },
     "execution_count": 2717,
     "metadata": {},
     "output_type": "execute_result"
    },
    {
     "data": {
      "image/png": "[encoded data removed]",
      "text/plain": [
       "<Figure size 576x576 with 1 Axes>"
      ]
     },
     "metadata": {
      "needs_background": "light"
     },
     "output_type": "display_data"
    }
   ],
   "source": [
    "plt.figure( figsize=(8,8))\n",
    "plt.imshow(img, cmap='gray',)"
   ]
  },
  {
   "cell_type": "code",
   "execution_count": 2637,
   "metadata": {},
   "outputs": [],
   "source": [
    "img = io.imread('data/maze.png')\n",
    "img = color.rgb2gray(img)\n",
    "img = rescale(img, 1/27, anti_aliasing=False, anti_aliasing_sigma=1.5)\n",
    "img = (np.round(img)).astype(int)\n",
    "img = img[:64, :120]"
   ]
  },
  {
   "cell_type": "code",
   "execution_count": 2638,
   "metadata": {},
   "outputs": [
    {
     "data": {
      "text/plain": [
       "(64, 80)"
      ]
     },
     "execution_count": 2638,
     "metadata": {},
     "output_type": "execute_result"
    }
   ],
   "source": [
    "img.shape"
   ]
  },
  {
   "cell_type": "code",
   "execution_count": 2639,
   "metadata": {},
   "outputs": [
    {
     "data": {
      "text/plain": [
       "<matplotlib.image.AxesImage at 0x7fdb561c58d0>"
      ]
     },
     "execution_count": 2639,
     "metadata": {},
     "output_type": "execute_result"
    },
    {
     "data": {
      "image/png": "[encoded data removed]",
      "text/plain": [
       "<Figure size 576x576 with 1 Axes>"
      ]
     },
     "metadata": {
      "needs_background": "light"
     },
     "output_type": "display_data"
    }
   ],
   "source": [
    "plt.figure( figsize=(8,8))\n",
    "plt.imshow(img, cmap='gray',)"
   ]
  },
  {
   "cell_type": "code",
   "execution_count": null,
   "metadata": {},
   "outputs": [],
   "source": []
  },
  {
   "cell_type": "markdown",
   "metadata": {},
   "source": [
    "Take a 3x3 patch and turn into sequence, treat each entry as categorical variance and compute covariance matrix between each pair"
   ]
  },
  {
   "cell_type": "code",
   "execution_count": 4,
   "metadata": {},
   "outputs": [],
   "source": [
    "def ndim2flat_idx(idx, shape):\n",
    "    \"\"\"\n",
    "    Inverse to np.unravel_index.\n",
    "    \n",
    "    E.g. ndim2flat_idx([1,2], (3,3)) = 5\n",
    "    \"\"\"\n",
    "    flat_idx = 0\n",
    "    place = 1\n",
    "    for i in range(len(idx))[::-1]:\n",
    "        if idx[i] >= shape[i]:\n",
    "            raise ValueError('Index too big for shape!')\n",
    "        flat_idx += idx[i]*place\n",
    "        place = place*shape[i]\n",
    "    return flat_idx"
   ]
  },
  {
   "cell_type": "markdown",
   "metadata": {},
   "source": [
    "oh wait Im counting if matches self oops"
   ]
  },
  {
   "cell_type": "code",
   "execution_count": 1651,
   "metadata": {},
   "outputs": [],
   "source": [
    "# num loops = 64*64*50*50 = 10 million\n",
    "\n",
    "def compute_count_tensor(img, kernel_size, stride, dilation=0):\n",
    "    \"\"\"\n",
    "    Currently kernel size is also stride.\n",
    "    \"\"\"\n",
    "    \n",
    "    indices = [[i,j] for i in range(kernel_size) for j in range(kernel_size)]\n",
    "    \n",
    "    w = img.shape[1]\n",
    "    h = img.shape[0]\n",
    "    num_convs_w = floor((w-kernel_size)/stride)+1\n",
    "    num_convs_h = floor((w-kernel_size)/stride)+1\n",
    "    \n",
    "    count_tensor = np.zeros([kernel_size**2, kernel_size**2, \n",
    "                             np.max(img)-np.min(img)+1, np.max(img)-np.min(img)+1])\n",
    "    print(count_tensor.shape)\n",
    "    for i in range(0, num_convs_h, stride):\n",
    "        for j in range(0, num_convs_w, stride):\n",
    "            for idx1 in indices:\n",
    "                for idx2 in indices:\n",
    "\n",
    "                    idx = (\n",
    "                        ndim2flat_idx(idx1, (kernel_size,kernel_size)),\n",
    "                        ndim2flat_idx(idx2, (kernel_size,kernel_size)),\n",
    "                        img[i + idx1[0], j + idx1[1]],\n",
    "                        img[i + idx2[0], j + idx2[1]]\n",
    "                    )\n",
    "\n",
    "                    if idx1 != idx2:\n",
    "                        count_tensor[idx] = count_tensor[idx] + 1\n",
    "                        \n",
    "    return count_tensor\n",
    "\n",
    "def normalize_count_tensor(count_tensor):\n",
    "    normalized_tensor = count_tensor / np.sum(count_tensor, axis=(2,3), keepdims=True)\n",
    "    affinity_tensor = np.log(normalized_tensor + 0.0000001)\n",
    "    affinity_tensor = np.nan_to_num(affinity_tensor, nan=0)\n",
    "    return affinity_tensor"
   ]
  },
  {
   "cell_type": "code",
   "execution_count": 2778,
   "metadata": {},
   "outputs": [
    {
     "data": {
      "text/plain": [
       "(48, 48)"
      ]
     },
     "execution_count": 2778,
     "metadata": {},
     "output_type": "execute_result"
    }
   ],
   "source": [
    "img.shape"
   ]
  },
  {
   "cell_type": "code",
   "execution_count": 2904,
   "metadata": {},
   "outputs": [
    {
     "name": "stdout",
     "output_type": "stream",
     "text": [
      "(256, 256, 2, 2)\n"
     ]
    },
    {
     "name": "stderr",
     "output_type": "stream",
     "text": [
      "/Users/milesturpin/miniconda3/lib/python3.6/site-packages/ipykernel_launcher.py:36: RuntimeWarning: invalid value encountered in true_divide\n"
     ]
    }
   ],
   "source": [
    "kernel_size = 16\n",
    "learn_stride=2\n",
    "stride = 8\n",
    "num_colors = np.max(img) - np.min(img) + 1\n",
    "count_tensor = compute_count_tensor(img, kernel_size=kernel_size, stride=learn_stride)\n",
    "affinity_tensor = normalize_count_tensor(count_tensor)"
   ]
  },
  {
   "cell_type": "code",
   "execution_count": 2905,
   "metadata": {},
   "outputs": [
    {
     "data": {
      "text/plain": [
       "array([[[[ 0., 49., 45., ..., 26., 15., 28.],\n",
       "         [49.,  0., 49., ..., 25., 18., 27.],\n",
       "         [45., 49.,  0., ..., 25., 19., 26.],\n",
       "         ...,\n",
       "         [26., 25., 25., ...,  0., 25., 38.],\n",
       "         [15., 18., 19., ..., 25.,  0., 26.],\n",
       "         [28., 27., 26., ..., 38., 26.,  0.]],\n",
       "\n",
       "        [[ 0., 11., 15., ..., 34., 45., 32.],\n",
       "         [ 7.,  0.,  7., ..., 31., 38., 29.],\n",
       "         [11.,  7.,  0., ..., 31., 37., 30.],\n",
       "         ...,\n",
       "         [13., 14., 14., ...,  0., 14.,  1.],\n",
       "         [12.,  9.,  8., ...,  2.,  0.,  1.],\n",
       "         [13., 14., 15., ...,  3., 15.,  0.]]],\n",
       "\n",
       "\n",
       "       [[[ 0.,  7., 11., ..., 13., 12., 13.],\n",
       "         [11.,  0.,  7., ..., 14.,  9., 14.],\n",
       "         [15.,  7.,  0., ..., 14.,  8., 15.],\n",
       "         ...,\n",
       "         [34., 31., 31., ...,  0.,  2.,  3.],\n",
       "         [45., 38., 37., ..., 14.,  0., 15.],\n",
       "         [32., 29., 30., ...,  1.,  1.,  0.]],\n",
       "\n",
       "        [[ 0., 14., 10., ...,  8.,  9.,  8.],\n",
       "         [14.,  0., 18., ..., 11., 16., 11.],\n",
       "         [10., 18.,  0., ..., 11., 17., 10.],\n",
       "         ...,\n",
       "         [ 8., 11., 11., ...,  0., 40., 39.],\n",
       "         [ 9., 16., 17., ..., 40.,  0., 39.],\n",
       "         [ 8., 11., 10., ..., 39., 39.,  0.]]]])"
      ]
     },
     "execution_count": 2905,
     "metadata": {},
     "output_type": "execute_result"
    }
   ],
   "source": [
    "np.swapaxes(np.swapaxes(count_tensor, 0,2), 1,3).round(2)"
   ]
  },
  {
   "cell_type": "code",
   "execution_count": 2906,
   "metadata": {},
   "outputs": [
    {
     "data": {
      "image/png": "[encoded data removed]",
      "text/plain": [
       "<Figure size 864x864 with 4 Axes>"
      ]
     },
     "metadata": {
      "needs_background": "light"
     },
     "output_type": "display_data"
    }
   ],
   "source": [
    "fig, axes = plt.subplots(2,2, figsize=(12,12))\n",
    "for i in range(2):\n",
    "    for j in range(2):\n",
    "        axes[i,j].imshow(affinity_tensor[:,:,i,j], cmap='gray')\n",
    "        axes[i,j].set_title(f'({i},{j})')"
   ]
  },
  {
   "cell_type": "code",
   "execution_count": 2059,
   "metadata": {},
   "outputs": [],
   "source": [
    "# def calc_total_log_prob(affinity_tensor, img, kernel_size, stride):\n",
    "    \n",
    "#     w = img.shape[1]\n",
    "#     h = img.shape[0]\n",
    "#     num_convs_w = floor((w-kernel_size)/stride)+1\n",
    "#     num_convs_h = floor((w-kernel_size)/stride)+1\n",
    "    \n",
    "#     log_prob = 0\n",
    "#     cnt2 = 0\n",
    "#     for i in stride * np.arange(num_convs_h):\n",
    "#         #print('i', i)\n",
    "#         for j in stride * np.arange(num_convs_w):\n",
    "#             #print('j', j)\n",
    "#             local_prob, cnt = calc_log_prob(affinity_tensor, img, i, j, kernel_size)\n",
    "#             log_prob = log_prob + local_prob\n",
    "#             #print(cnt)\n",
    "#             cnt2 += cnt\n",
    "                    \n",
    "#     return log_prob, cnt2\n",
    "\n",
    "# def calc_log_prob(affinity_tensor, img, i, j, kernel_size):\n",
    "    \n",
    "#     indices = [[i,j] for i in range(kernel_size) for j in range(kernel_size)]\n",
    "#     log_prob = 0\n",
    "#     #res = []\n",
    "#     #res2 = []\n",
    "#     cnt = 0\n",
    "#     for pos1 in range(16):\n",
    "#         # plus 1 so that no collisions\n",
    "#         for pos2 in range(pos1+1, 16):\n",
    "#             idx1 = indices[pos1]\n",
    "#             idx2 = indices[pos2]\n",
    "#             #print(idx1, idx2)\n",
    "\n",
    "#             idx = (\n",
    "#                 pos1, \n",
    "#                 pos2,\n",
    "#                 img[i + idx1[0], j + idx1[1]],\n",
    "#                 img[i + idx2[0], j + idx2[1]]\n",
    "#             )\n",
    "            \n",
    "#             if idx1 != idx2:\n",
    "#                 #res.append(int(affinity_tensor[idx]))\n",
    "#                 #res2.append({(i,j, ndim2flat_idx(idx1, (kernel_size,kernel_size)),\n",
    "#                 #   ndim2flat_idx(idx2, (kernel_size,kernel_size))) :int(affinity_tensor[idx])})\n",
    "#                 log_prob = log_prob + affinity_tensor[idx]\n",
    "#                 cnt+=1\n",
    "                    \n",
    "#     return log_prob, cnt\n",
    "# #, res, res2"
   ]
  },
  {
   "cell_type": "code",
   "execution_count": 2486,
   "metadata": {},
   "outputs": [],
   "source": [
    "def construct_filters_idx_dict(shape, kernel_size, stride):\n",
    "    \"\"\"\n",
    "    Creates a dict that gives all the absolute sequence image indexes in each filter\n",
    "    E.g.\n",
    "    (0, 2) -> [2, 3, 8, 9 ...]\n",
    "    \n",
    "    \"\"\"\n",
    "    \n",
    "    image_idx = np.arange(shape[0]*shape[1]).reshape(shape)\n",
    "    \n",
    "    num_convs_h = floor((shape[0]-kernel_size)/stride)+1\n",
    "    num_convs_w = floor((shape[1]-kernel_size)/stride)+1\n",
    "    \n",
    "    total = dict()\n",
    "    \n",
    "    log_prob = 0\n",
    "    cnt2 = 0\n",
    "    for i in stride * np.arange(num_convs_h):\n",
    "        for j in stride * np.arange(num_convs_w):\n",
    "            \n",
    "            sub_img = image_idx[i:i+kernel_size, j:j+kernel_size].flatten().tolist()\n",
    "            total[(i,j)] = sub_img\n",
    "    return total\n",
    "\n",
    "def invert_dict(d): \n",
    "    inverse = dict() \n",
    "    for key in d: \n",
    "        # Go through the list that is saved in the dict:\n",
    "        for item in d[key]:\n",
    "            # Check if in the inverted dict the key exists\n",
    "            if item not in inverse: \n",
    "                # If not create a new list\n",
    "                inverse[item] = [key] \n",
    "            else: \n",
    "                inverse[item].append(key) \n",
    "    return inverse\n",
    "\n",
    "def invert_filter2img_dict(filter_idx_to_image_idx, kernel_size, shape): \n",
    "    \"\"\"\n",
    "    output_dict behavior: 35 -> [(0, 2, 9), (2, 2, 7) … ] \n",
    "    \"\"\"\n",
    "    \n",
    "    image_idx_to_filter_idx = dict() \n",
    "    for (i,j), img_idxs in filter_idx_to_image_idx.items(): \n",
    "        # Go through the list that is saved in the dict:\n",
    "        for img_idx in img_idxs:\n",
    "            # Check if in the inverted dict the key exists\n",
    "            if img_idx not in image_idx_to_filter_idx: \n",
    "                # If not create a new list\n",
    "                # (kernel idx0, kernel idx1, relative position in kernel)\n",
    "                ker_seq_pos = get_seq_pos(i,j,kernel_size, shape, img_idx)\n",
    "                image_idx_to_filter_idx[img_idx] = [(i, j, ker_seq_pos)] \n",
    "            else: \n",
    "                ker_seq_pos = get_seq_pos(i,j,kernel_size, shape, img_idx)\n",
    "                image_idx_to_filter_idx[img_idx].append((i, j, ker_seq_pos))\n",
    "    image_idx_to_filter_idx = {\n",
    "        key:np.array(val) for key, val in image_idx_to_filter_idx.items()\n",
    "    }\n",
    "    return image_idx_to_filter_idx\n",
    "\n",
    "def construct_alternate_img_array(image_idx_to_filter_idx, img, kernel_size, stride):\n",
    "    \"\"\"\n",
    "    Construct another way to index into image values\n",
    "    (i, j, rel_ker_pos, image value)\n",
    "    Makes it easy to \n",
    "    \n",
    "    Just need to keep updated similarly to image. There are dependencies here.\n",
    "    \"\"\"\n",
    "    \n",
    "    \n",
    "    arr = np.zeros((\n",
    "        num_convs(img.shape[0], kernel_size, stride),\n",
    "        num_convs(img.shape[1], kernel_size, stride),\n",
    "        kernel_size**2))\n",
    "    \n",
    "    for abs_seq_idx, pos_info in image_idx_to_filter_idx.items(): \n",
    "        # Go through the list that is saved in the dict:\n",
    "        for (i, j, rel_pos) in pos_info:\n",
    "            img_idx = np.unravel_index(abs_seq_idx, img.shape)\n",
    "            arr[int(i/stride), int(j/stride), rel_pos] = img[img_idx]\n",
    "    \n",
    "#     alt_img = alt_img.reshape((\n",
    "#         num_convs(img.shape[0], kernel_size, stride), \n",
    "#         num_convs(img.shape[1], kernel_size, stride), \n",
    "#         kernel_size**2,\n",
    "#         -1\n",
    "#     ))\n",
    "    \n",
    "    #alt_img = np.swapaxes(alt_img, 0, 1)\n",
    "    \n",
    "    return arr\n",
    "\n",
    "# def augment_img2filter_dict(d):\n",
    "    \n",
    "#     for image_idx, filter_list in image_idx_to_filter_idx.items():\n",
    "#         for i,j in filter_list:\n",
    "#             (i,j, )"
   ]
  },
  {
   "cell_type": "code",
   "execution_count": 2467,
   "metadata": {},
   "outputs": [],
   "source": [
    "filter_idx_to_image_idx = construct_filters_idx_dict((3,3), 2, 1)\n",
    "#image_idx_to_filter_idx = invert_dict(filter_idx_to_image_idx)\n",
    "image_idx_to_filter_idx = invert_filter2img_dict(filter_idx_to_image_idx, 2, (3,3))\n",
    "alt_img = construct_alternate_img_array(\n",
    "    image_idx_to_filter_idx, np.arange(9).reshape((3,3), order='C'), 2, 1)"
   ]
  },
  {
   "cell_type": "code",
   "execution_count": 2468,
   "metadata": {},
   "outputs": [
    {
     "data": {
      "text/plain": [
       "(2, 2, 4)"
      ]
     },
     "execution_count": 2468,
     "metadata": {},
     "output_type": "execute_result"
    }
   ],
   "source": [
    "alt_img.shape"
   ]
  },
  {
   "cell_type": "code",
   "execution_count": 2469,
   "metadata": {},
   "outputs": [
    {
     "data": {
      "text/plain": [
       "array([[0, 1, 2],\n",
       "       [3, 4, 5],\n",
       "       [6, 7, 8]])"
      ]
     },
     "execution_count": 2469,
     "metadata": {},
     "output_type": "execute_result"
    }
   ],
   "source": [
    "np.arange(9).reshape((3,3))"
   ]
  },
  {
   "cell_type": "code",
   "execution_count": 2470,
   "metadata": {},
   "outputs": [
    {
     "data": {
      "text/plain": [
       "array([[[0., 1., 3., 4.],\n",
       "        [1., 2., 4., 5.]],\n",
       "\n",
       "       [[3., 4., 6., 7.],\n",
       "        [4., 5., 7., 8.]]])"
      ]
     },
     "execution_count": 2470,
     "metadata": {},
     "output_type": "execute_result"
    }
   ],
   "source": [
    "alt_img"
   ]
  },
  {
   "cell_type": "code",
   "execution_count": 2472,
   "metadata": {},
   "outputs": [
    {
     "data": {
      "text/plain": [
       "array([0., 1., 3., 4.])"
      ]
     },
     "execution_count": 2472,
     "metadata": {},
     "output_type": "execute_result"
    }
   ],
   "source": [
    "alt_img[0,0,:]"
   ]
  },
  {
   "cell_type": "code",
   "execution_count": 2337,
   "metadata": {},
   "outputs": [],
   "source": [
    "num_convs = lambda dim_len, kernel_size, stride: floor((dim_len-kernel_size)/stride)+1"
   ]
  },
  {
   "cell_type": "code",
   "execution_count": 2331,
   "metadata": {},
   "outputs": [
    {
     "data": {
      "text/plain": [
       "array([[ 0, 33,  1],\n",
       "       [ 0, 34,  0]])"
      ]
     },
     "execution_count": 2331,
     "metadata": {},
     "output_type": "execute_result"
    }
   ],
   "source": [
    "alt_img[image_idx_to_filter_idx[34], 4]"
   ]
  },
  {
   "cell_type": "code",
   "execution_count": 2336,
   "metadata": {},
   "outputs": [
    {
     "data": {
      "text/plain": [
       "array([[0, 0, 0, 0],\n",
       "       [0, 0, 1, 0],\n",
       "       [0, 1, 0, 0],\n",
       "       [0, 0, 2, 1],\n",
       "       [1, 0, 0, 1],\n",
       "       [0, 0, 3, 0],\n",
       "       [0, 1, 2, 0],\n",
       "       [1, 0, 1, 0],\n",
       "       [1, 1, 0, 0],\n",
       "       [0, 1, 1, 0]])"
      ]
     },
     "execution_count": 2336,
     "metadata": {},
     "output_type": "execute_result"
    }
   ],
   "source": [
    "alt_img[:10]"
   ]
  },
  {
   "cell_type": "code",
   "execution_count": 2383,
   "metadata": {},
   "outputs": [
    {
     "data": {
      "text/plain": [
       "(13, 13, 81, 4)"
      ]
     },
     "execution_count": 2383,
     "metadata": {},
     "output_type": "execute_result"
    }
   ],
   "source": [
    "alt_img.shape"
   ]
  },
  {
   "cell_type": "code",
   "execution_count": 2388,
   "metadata": {},
   "outputs": [
    {
     "data": {
      "text/plain": [
       "array([ 3,  0, 42,  0])"
      ]
     },
     "execution_count": 2388,
     "metadata": {},
     "output_type": "execute_result"
    }
   ],
   "source": [
    "alt_img[0,3,3]"
   ]
  },
  {
   "cell_type": "code",
   "execution_count": 2381,
   "metadata": {},
   "outputs": [
    {
     "data": {
      "text/plain": [
       "array([[ 0, 27,  7],\n",
       "       [ 0, 30,  4],\n",
       "       [ 0, 33,  1]])"
      ]
     },
     "execution_count": 2381,
     "metadata": {},
     "output_type": "execute_result"
    }
   ],
   "source": [
    "image_idx_to_filter_idx[34]"
   ]
  },
  {
   "cell_type": "code",
   "execution_count": 2385,
   "metadata": {},
   "outputs": [
    {
     "data": {
      "text/plain": [
       "3"
      ]
     },
     "execution_count": 2385,
     "metadata": {},
     "output_type": "execute_result"
    }
   ],
   "source": [
    "stride"
   ]
  },
  {
   "cell_type": "code",
   "execution_count": 2387,
   "metadata": {},
   "outputs": [
    {
     "data": {
      "text/plain": [
       "array([[ 6, 12,  3,  0],\n",
       "       [ 0, 15,  4,  1],\n",
       "       [ 0, 15, 57,  1]])"
      ]
     },
     "execution_count": 2387,
     "metadata": {},
     "output_type": "execute_result"
    }
   ],
   "source": [
    "alt_img[\n",
    "    (image_idx_to_filter_idx[34][:,0]/stride).astype(int),\n",
    "    (image_idx_to_filter_idx[34][:,1]/stride).astype(int),\n",
    "    image_idx_to_filter_idx[34][:,2],\n",
    "    :\n",
    "]"
   ]
  },
  {
   "cell_type": "code",
   "execution_count": null,
   "metadata": {},
   "outputs": [],
   "source": []
  },
  {
   "cell_type": "code",
   "execution_count": 2328,
   "metadata": {},
   "outputs": [
    {
     "data": {
      "text/plain": [
       "(44100, 4)"
      ]
     },
     "execution_count": 2328,
     "metadata": {},
     "output_type": "execute_result"
    }
   ],
   "source": [
    "alt_img.shape"
   ]
  },
  {
   "cell_type": "code",
   "execution_count": 2318,
   "metadata": {},
   "outputs": [
    {
     "data": {
      "text/plain": [
       "array([[ 8, 45,  3],\n",
       "       [ 8, 46,  2],\n",
       "       [ 9, 45,  1],\n",
       "       [ 9, 46,  0]])"
      ]
     },
     "execution_count": 2318,
     "metadata": {},
     "output_type": "execute_result"
    }
   ],
   "source": [
    "image_idx_to_filter_idx[1000]"
   ]
  },
  {
   "cell_type": "code",
   "execution_count": 2303,
   "metadata": {},
   "outputs": [
    {
     "data": {
      "text/plain": [
       "(106, 106)"
      ]
     },
     "execution_count": 2303,
     "metadata": {},
     "output_type": "execute_result"
    }
   ],
   "source": [
    "img.shape"
   ]
  },
  {
   "cell_type": "code",
   "execution_count": 749,
   "metadata": {},
   "outputs": [
    {
     "data": {
      "text/plain": [
       "{(0, 0), (0, 2), (2, 0), (2, 2)}"
      ]
     },
     "execution_count": 749,
     "metadata": {},
     "output_type": "execute_result"
    }
   ],
   "source": [
    "set(image_idx_to_filter_idx[34])"
   ]
  },
  {
   "cell_type": "code",
   "execution_count": 794,
   "metadata": {},
   "outputs": [],
   "source": [
    "def get_seq_pos(i, j, kernel_size, shape, abs_seq_pos):\n",
    "    abs_idx = np.unravel_index(abs_seq_pos, shape)\n",
    "    ker_pos = abs_idx - np.array([i,j])\n",
    "    seq_pos = ker_pos[0]*kernel_size + ker_pos[1]\n",
    "    return seq_pos"
   ]
  },
  {
   "cell_type": "code",
   "execution_count": 795,
   "metadata": {},
   "outputs": [
    {
     "data": {
      "text/plain": [
       "8"
      ]
     },
     "execution_count": 795,
     "metadata": {},
     "output_type": "execute_result"
    }
   ],
   "source": [
    "get_seq_pos(0,2, 4, (16,16), 34)"
   ]
  },
  {
   "cell_type": "code",
   "execution_count": 688,
   "metadata": {},
   "outputs": [],
   "source": [
    "#def kernel2absolute_seq_pos()\n",
    "\n",
    "# def construct_unique_pairs(shape, kernel_size, stride):\n",
    "    \n",
    "#     image_idx = np.arange(shape[0]*shape[1]).reshape(shape)\n",
    "#     # Goes in order across rows e.g. (0,0) (0,1) etc.\n",
    "#     indices = [[i,j] for i in range(kernel_size) for j in range(kernel_size)]\n",
    "    \n",
    "#     num_convs_h = floor((shape[0]-kernel_size)/stride)+1\n",
    "#     num_convs_w = floor((shape[1]-kernel_size)/stride)+1\n",
    "    \n",
    "#     seq_pairs = []\n",
    "#     idx_pairs = []\n",
    "#     for i in stride * np.arange(num_convs_h):\n",
    "#         for j in stride * np.arange(num_convs_w):\n",
    "#             for kernel_seq_pos1 in range(kernel_size**2):\n",
    "#                 # plus 1 so that no collisions\n",
    "#                 for kernel_seq_pos2 in range(kernel_seq_pos1+1, kernel_size**2):\n",
    "                    \n",
    "#                     # Convert position along sequence to absolute index\n",
    "#                     # 3 -> [0, 2] -> [4,4]+[0,2]=[4,6] -> 70\n",
    "#                     kernel_idx1 = indices[kernel_seq_pos1]\n",
    "#                     kernel_idx2 = indices[kernel_seq_pos2]\n",
    "#                     abs_idx1 = (i + kernel_idx1[0], j + kernel_idx1[1])\n",
    "#                     abs_idx2 = (i + kernel_idx2[0], j + kernel_idx2[1])\n",
    "#                     abs_seq_pos1 = image_idx[abs_idx1]\n",
    "#                     abs_seq_pos2 = image_idx[abs_idx2]\n",
    "                    \n",
    "                    \n",
    "#                     seq_pairs.append((abs_seq_pos1, abs_seq_pos2))\n",
    "#                     idx_pairs.append((abs_idx1, abs_idx2))\n",
    "#                     #print(i,j,kernel_seq_pos1, abs_seq_pos1)\n",
    "                    \n",
    "#     # Remove duplicates with set\n",
    "#     print(len(seq_pairs), '->', len(list(set(seq_pairs))))\n",
    "#     return list(set(seq_pairs)), list(set(idx_pairs))"
   ]
  },
  {
   "cell_type": "code",
   "execution_count": 752,
   "metadata": {},
   "outputs": [],
   "source": [
    "#def kernel2absolute_seq_pos()\n",
    "\n",
    "def construct_pairs(img, kernel_size, stride):\n",
    "    \n",
    "    image_idx = np.arange(img.shape[0]*img.shape[1]).reshape(img.shape)\n",
    "    # Goes in order across rows e.g. (0,0) (0,1) etc.\n",
    "    indices = [[i,j] for i in range(kernel_size) for j in range(kernel_size)]\n",
    "    \n",
    "    num_convs_h = floor((img.shape[0]-kernel_size)/stride)+1\n",
    "    num_convs_w = floor((img.shape[1]-kernel_size)/stride)+1\n",
    "    \n",
    "    seq_pairs = []\n",
    "    idx_pairs = []\n",
    "    affinity_idx_pairs = []\n",
    "    for i in stride * np.arange(num_convs_h):\n",
    "        for j in stride * np.arange(num_convs_w):\n",
    "            for kernel_seq_pos1 in range(kernel_size**2):\n",
    "                # plus 1 so that no collisions\n",
    "                for kernel_seq_pos2 in range(kernel_seq_pos1+1, kernel_size**2):\n",
    "                    \n",
    "                    # Convert position along sequence to absolute index\n",
    "                    # 3 -> [0, 2] -> [4,4]+[0,2]=[4,6] -> 70\n",
    "                    kernel_idx1 = indices[kernel_seq_pos1]\n",
    "                    kernel_idx2 = indices[kernel_seq_pos2]\n",
    "                    abs_idx1 = (i + kernel_idx1[0], j + kernel_idx1[1])\n",
    "                    abs_idx2 = (i + kernel_idx2[0], j + kernel_idx2[1])\n",
    "                    abs_seq_pos1 = image_idx[abs_idx1]\n",
    "                    abs_seq_pos2 = image_idx[abs_idx2]\n",
    "                    \n",
    "                    \n",
    "                    seq_pairs.append((abs_seq_pos1, abs_seq_pos2))\n",
    "                    idx_pairs.append((abs_idx1, abs_idx2))\n",
    "                    #print(i,j,kernel_seq_pos1, abs_seq_pos1)\n",
    "                    \n",
    "                    affinity_idx_pairs.append([\n",
    "                        kernel_seq_pos1,\n",
    "                        kernel_seq_pos2,\n",
    "                        img[abs_idx1],\n",
    "                        img[abs_idx2]\n",
    "                    ])\n",
    "                        \n",
    "\n",
    "    #return list(set(seq_pairs)), list(set(idx_pairs))\n",
    "    return affinity_idx_pairs"
   ]
  },
  {
   "cell_type": "code",
   "execution_count": 753,
   "metadata": {},
   "outputs": [],
   "source": [
    "#aip = construct_pairs(img, 4, 2)"
   ]
  },
  {
   "cell_type": "code",
   "execution_count": 754,
   "metadata": {},
   "outputs": [
    {
     "data": {
      "text/plain": [
       "[[0, 1, 1, 0],\n",
       " [0, 2, 1, 0],\n",
       " [0, 3, 1, 0],\n",
       " [0, 4, 1, 0],\n",
       " [0, 5, 1, 1],\n",
       " [0, 6, 1, 0],\n",
       " [0, 7, 1, 1],\n",
       " [0, 8, 1, 0],\n",
       " [0, 9, 1, 0],\n",
       " [0, 10, 1, 1],\n",
       " [0, 11, 1, 0],\n",
       " [0, 12, 1, 0],\n",
       " [0, 13, 1, 1],\n",
       " [0, 14, 1, 0],\n",
       " [0, 15, 1, 0],\n",
       " [1, 2, 0, 0],\n",
       " [1, 3, 0, 0],\n",
       " [1, 4, 0, 0],\n",
       " [1, 5, 0, 1],\n",
       " [1, 6, 0, 0],\n",
       " [1, 7, 0, 1],\n",
       " [1, 8, 0, 0],\n",
       " [1, 9, 0, 0],\n",
       " [1, 10, 0, 1],\n",
       " [1, 11, 0, 0],\n",
       " [1, 12, 0, 0],\n",
       " [1, 13, 0, 1],\n",
       " [1, 14, 0, 0],\n",
       " [1, 15, 0, 0],\n",
       " [2, 3, 0, 0],\n",
       " [2, 4, 0, 0],\n",
       " [2, 5, 0, 1],\n",
       " [2, 6, 0, 0],\n",
       " [2, 7, 0, 1],\n",
       " [2, 8, 0, 0],\n",
       " [2, 9, 0, 0],\n",
       " [2, 10, 0, 1],\n",
       " [2, 11, 0, 0],\n",
       " [2, 12, 0, 0],\n",
       " [2, 13, 0, 1],\n",
       " [2, 14, 0, 0],\n",
       " [2, 15, 0, 0],\n",
       " [3, 4, 0, 0],\n",
       " [3, 5, 0, 1],\n",
       " [3, 6, 0, 0],\n",
       " [3, 7, 0, 1],\n",
       " [3, 8, 0, 0],\n",
       " [3, 9, 0, 0],\n",
       " [3, 10, 0, 1],\n",
       " [3, 11, 0, 0],\n",
       " [3, 12, 0, 0],\n",
       " [3, 13, 0, 1],\n",
       " [3, 14, 0, 0],\n",
       " [3, 15, 0, 0],\n",
       " [4, 5, 0, 1],\n",
       " [4, 6, 0, 0],\n",
       " [4, 7, 0, 1],\n",
       " [4, 8, 0, 0],\n",
       " [4, 9, 0, 0],\n",
       " [4, 10, 0, 1],\n",
       " [4, 11, 0, 0],\n",
       " [4, 12, 0, 0],\n",
       " [4, 13, 0, 1],\n",
       " [4, 14, 0, 0],\n",
       " [4, 15, 0, 0],\n",
       " [5, 6, 1, 0],\n",
       " [5, 7, 1, 1],\n",
       " [5, 8, 1, 0],\n",
       " [5, 9, 1, 0],\n",
       " [5, 10, 1, 1],\n",
       " [5, 11, 1, 0],\n",
       " [5, 12, 1, 0],\n",
       " [5, 13, 1, 1],\n",
       " [5, 14, 1, 0],\n",
       " [5, 15, 1, 0],\n",
       " [6, 7, 0, 1],\n",
       " [6, 8, 0, 0],\n",
       " [6, 9, 0, 0],\n",
       " [6, 10, 0, 1],\n",
       " [6, 11, 0, 0],\n",
       " [6, 12, 0, 0],\n",
       " [6, 13, 0, 1],\n",
       " [6, 14, 0, 0],\n",
       " [6, 15, 0, 0],\n",
       " [7, 8, 1, 0],\n",
       " [7, 9, 1, 0],\n",
       " [7, 10, 1, 1],\n",
       " [7, 11, 1, 0],\n",
       " [7, 12, 1, 0],\n",
       " [7, 13, 1, 1],\n",
       " [7, 14, 1, 0],\n",
       " [7, 15, 1, 0],\n",
       " [8, 9, 0, 0],\n",
       " [8, 10, 0, 1],\n",
       " [8, 11, 0, 0],\n",
       " [8, 12, 0, 0],\n",
       " [8, 13, 0, 1],\n",
       " [8, 14, 0, 0],\n",
       " [8, 15, 0, 0],\n",
       " [9, 10, 0, 1],\n",
       " [9, 11, 0, 0],\n",
       " [9, 12, 0, 0],\n",
       " [9, 13, 0, 1],\n",
       " [9, 14, 0, 0],\n",
       " [9, 15, 0, 0],\n",
       " [10, 11, 1, 0],\n",
       " [10, 12, 1, 0],\n",
       " [10, 13, 1, 1],\n",
       " [10, 14, 1, 0],\n",
       " [10, 15, 1, 0],\n",
       " [11, 12, 0, 0],\n",
       " [11, 13, 0, 1],\n",
       " [11, 14, 0, 0],\n",
       " [11, 15, 0, 0],\n",
       " [12, 13, 0, 1],\n",
       " [12, 14, 0, 0],\n",
       " [12, 15, 0, 0],\n",
       " [13, 14, 1, 0],\n",
       " [13, 15, 1, 0],\n",
       " [14, 15, 0, 0],\n",
       " [0, 1, 0, 0],\n",
       " [0, 2, 0, 1],\n",
       " [0, 3, 0, 0],\n",
       " [0, 4, 0, 0],\n",
       " [0, 5, 0, 1],\n",
       " [0, 6, 0, 0],\n",
       " [0, 7, 0, 1],\n",
       " [0, 8, 0, 1],\n",
       " [0, 9, 0, 0],\n",
       " [0, 10, 0, 0],\n",
       " [0, 11, 0, 0],\n",
       " [0, 12, 0, 0],\n",
       " [0, 13, 0, 0],\n",
       " [0, 14, 0, 0],\n",
       " [0, 15, 0, 0],\n",
       " [1, 2, 0, 1],\n",
       " [1, 3, 0, 0],\n",
       " [1, 4, 0, 0],\n",
       " [1, 5, 0, 1],\n",
       " [1, 6, 0, 0],\n",
       " [1, 7, 0, 1],\n",
       " [1, 8, 0, 1],\n",
       " [1, 9, 0, 0],\n",
       " [1, 10, 0, 0],\n",
       " [1, 11, 0, 0],\n",
       " [1, 12, 0, 0],\n",
       " [1, 13, 0, 0],\n",
       " [1, 14, 0, 0],\n",
       " [1, 15, 0, 0],\n",
       " [2, 3, 1, 0],\n",
       " [2, 4, 1, 0],\n",
       " [2, 5, 1, 1],\n",
       " [2, 6, 1, 0],\n",
       " [2, 7, 1, 1],\n",
       " [2, 8, 1, 1],\n",
       " [2, 9, 1, 0],\n",
       " [2, 10, 1, 0],\n",
       " [2, 11, 1, 0],\n",
       " [2, 12, 1, 0],\n",
       " [2, 13, 1, 0],\n",
       " [2, 14, 1, 0],\n",
       " [2, 15, 1, 0],\n",
       " [3, 4, 0, 0],\n",
       " [3, 5, 0, 1],\n",
       " [3, 6, 0, 0],\n",
       " [3, 7, 0, 1],\n",
       " [3, 8, 0, 1],\n",
       " [3, 9, 0, 0],\n",
       " [3, 10, 0, 0],\n",
       " [3, 11, 0, 0],\n",
       " [3, 12, 0, 0],\n",
       " [3, 13, 0, 0],\n",
       " [3, 14, 0, 0],\n",
       " [3, 15, 0, 0],\n",
       " [4, 5, 0, 1],\n",
       " [4, 6, 0, 0],\n",
       " [4, 7, 0, 1],\n",
       " [4, 8, 0, 1],\n",
       " [4, 9, 0, 0],\n",
       " [4, 10, 0, 0],\n",
       " [4, 11, 0, 0],\n",
       " [4, 12, 0, 0],\n",
       " [4, 13, 0, 0],\n",
       " [4, 14, 0, 0],\n",
       " [4, 15, 0, 0],\n",
       " [5, 6, 1, 0],\n",
       " [5, 7, 1, 1],\n",
       " [5, 8, 1, 1],\n",
       " [5, 9, 1, 0],\n",
       " [5, 10, 1, 0],\n",
       " [5, 11, 1, 0],\n",
       " [5, 12, 1, 0],\n",
       " [5, 13, 1, 0],\n",
       " [5, 14, 1, 0],\n",
       " [5, 15, 1, 0],\n",
       " [6, 7, 0, 1],\n",
       " [6, 8, 0, 1],\n",
       " [6, 9, 0, 0],\n",
       " [6, 10, 0, 0],\n",
       " [6, 11, 0, 0],\n",
       " [6, 12, 0, 0],\n",
       " [6, 13, 0, 0],\n",
       " [6, 14, 0, 0],\n",
       " [6, 15, 0, 0],\n",
       " [7, 8, 1, 1],\n",
       " [7, 9, 1, 0],\n",
       " [7, 10, 1, 0],\n",
       " [7, 11, 1, 0],\n",
       " [7, 12, 1, 0],\n",
       " [7, 13, 1, 0],\n",
       " [7, 14, 1, 0],\n",
       " [7, 15, 1, 0],\n",
       " [8, 9, 1, 0],\n",
       " [8, 10, 1, 0],\n",
       " [8, 11, 1, 0],\n",
       " [8, 12, 1, 0],\n",
       " [8, 13, 1, 0],\n",
       " [8, 14, 1, 0],\n",
       " [8, 15, 1, 0],\n",
       " [9, 10, 0, 0],\n",
       " [9, 11, 0, 0],\n",
       " [9, 12, 0, 0],\n",
       " [9, 13, 0, 0],\n",
       " [9, 14, 0, 0],\n",
       " [9, 15, 0, 0],\n",
       " [10, 11, 0, 0],\n",
       " [10, 12, 0, 0],\n",
       " [10, 13, 0, 0],\n",
       " [10, 14, 0, 0],\n",
       " [10, 15, 0, 0],\n",
       " [11, 12, 0, 0],\n",
       " [11, 13, 0, 0],\n",
       " [11, 14, 0, 0],\n",
       " [11, 15, 0, 0],\n",
       " [12, 13, 0, 0],\n",
       " [12, 14, 0, 0],\n",
       " [12, 15, 0, 0],\n",
       " [13, 14, 0, 0],\n",
       " [13, 15, 0, 0],\n",
       " [14, 15, 0, 0],\n",
       " [0, 1, 1, 0],\n",
       " [0, 2, 1, 0],\n",
       " [0, 3, 1, 0],\n",
       " [0, 4, 1, 0],\n",
       " [0, 5, 1, 1],\n",
       " [0, 6, 1, 0],\n",
       " [0, 7, 1, 0],\n",
       " [0, 8, 1, 0],\n",
       " [0, 9, 1, 0],\n",
       " [0, 10, 1, 1],\n",
       " [0, 11, 1, 0],\n",
       " [0, 12, 1, 0],\n",
       " [0, 13, 1, 0],\n",
       " [0, 14, 1, 0],\n",
       " [0, 15, 1, 1],\n",
       " [1, 2, 0, 0],\n",
       " [1, 3, 0, 0],\n",
       " [1, 4, 0, 0],\n",
       " [1, 5, 0, 1],\n",
       " [1, 6, 0, 0],\n",
       " [1, 7, 0, 0],\n",
       " [1, 8, 0, 0],\n",
       " [1, 9, 0, 0],\n",
       " [1, 10, 0, 1],\n",
       " [1, 11, 0, 0],\n",
       " [1, 12, 0, 0],\n",
       " [1, 13, 0, 0],\n",
       " [1, 14, 0, 0],\n",
       " [1, 15, 0, 1],\n",
       " [2, 3, 0, 0],\n",
       " [2, 4, 0, 0],\n",
       " [2, 5, 0, 1],\n",
       " [2, 6, 0, 0],\n",
       " [2, 7, 0, 0],\n",
       " [2, 8, 0, 0],\n",
       " [2, 9, 0, 0],\n",
       " [2, 10, 0, 1],\n",
       " [2, 11, 0, 0],\n",
       " [2, 12, 0, 0],\n",
       " [2, 13, 0, 0],\n",
       " [2, 14, 0, 0],\n",
       " [2, 15, 0, 1],\n",
       " [3, 4, 0, 0],\n",
       " [3, 5, 0, 1],\n",
       " [3, 6, 0, 0],\n",
       " [3, 7, 0, 0],\n",
       " [3, 8, 0, 0],\n",
       " [3, 9, 0, 0],\n",
       " [3, 10, 0, 1],\n",
       " [3, 11, 0, 0],\n",
       " [3, 12, 0, 0],\n",
       " [3, 13, 0, 0],\n",
       " [3, 14, 0, 0],\n",
       " [3, 15, 0, 1],\n",
       " [4, 5, 0, 1],\n",
       " [4, 6, 0, 0],\n",
       " [4, 7, 0, 0],\n",
       " [4, 8, 0, 0],\n",
       " [4, 9, 0, 0],\n",
       " [4, 10, 0, 1],\n",
       " [4, 11, 0, 0],\n",
       " [4, 12, 0, 0],\n",
       " [4, 13, 0, 0],\n",
       " [4, 14, 0, 0],\n",
       " [4, 15, 0, 1],\n",
       " [5, 6, 1, 0],\n",
       " [5, 7, 1, 0],\n",
       " [5, 8, 1, 0],\n",
       " [5, 9, 1, 0],\n",
       " [5, 10, 1, 1],\n",
       " [5, 11, 1, 0],\n",
       " [5, 12, 1, 0],\n",
       " [5, 13, 1, 0],\n",
       " [5, 14, 1, 0],\n",
       " [5, 15, 1, 1],\n",
       " [6, 7, 0, 0],\n",
       " [6, 8, 0, 0],\n",
       " [6, 9, 0, 0],\n",
       " [6, 10, 0, 1],\n",
       " [6, 11, 0, 0],\n",
       " [6, 12, 0, 0],\n",
       " [6, 13, 0, 0],\n",
       " [6, 14, 0, 0],\n",
       " [6, 15, 0, 1],\n",
       " [7, 8, 0, 0],\n",
       " [7, 9, 0, 0],\n",
       " [7, 10, 0, 1],\n",
       " [7, 11, 0, 0],\n",
       " [7, 12, 0, 0],\n",
       " [7, 13, 0, 0],\n",
       " [7, 14, 0, 0],\n",
       " [7, 15, 0, 1],\n",
       " [8, 9, 0, 0],\n",
       " [8, 10, 0, 1],\n",
       " [8, 11, 0, 0],\n",
       " [8, 12, 0, 0],\n",
       " [8, 13, 0, 0],\n",
       " [8, 14, 0, 0],\n",
       " [8, 15, 0, 1],\n",
       " [9, 10, 0, 1],\n",
       " [9, 11, 0, 0],\n",
       " [9, 12, 0, 0],\n",
       " [9, 13, 0, 0],\n",
       " [9, 14, 0, 0],\n",
       " [9, 15, 0, 1],\n",
       " [10, 11, 1, 0],\n",
       " [10, 12, 1, 0],\n",
       " [10, 13, 1, 0],\n",
       " [10, 14, 1, 0],\n",
       " [10, 15, 1, 1],\n",
       " [11, 12, 0, 0],\n",
       " [11, 13, 0, 0],\n",
       " [11, 14, 0, 0],\n",
       " [11, 15, 0, 1],\n",
       " [12, 13, 0, 0],\n",
       " [12, 14, 0, 0],\n",
       " [12, 15, 0, 1],\n",
       " [13, 14, 0, 0],\n",
       " [13, 15, 0, 1],\n",
       " [14, 15, 0, 1],\n",
       " [0, 1, 0, 0],\n",
       " [0, 2, 0, 0],\n",
       " [0, 3, 0, 0],\n",
       " [0, 4, 0, 0],\n",
       " [0, 5, 0, 0],\n",
       " [0, 6, 0, 0],\n",
       " [0, 7, 0, 1],\n",
       " [0, 8, 0, 1],\n",
       " [0, 9, 0, 0],\n",
       " [0, 10, 0, 1],\n",
       " [0, 11, 0, 0],\n",
       " [0, 12, 0, 0],\n",
       " [0, 13, 0, 1],\n",
       " [0, 14, 0, 0],\n",
       " [0, 15, 0, 0],\n",
       " [1, 2, 0, 0],\n",
       " [1, 3, 0, 0],\n",
       " [1, 4, 0, 0],\n",
       " [1, 5, 0, 0],\n",
       " [1, 6, 0, 0],\n",
       " [1, 7, 0, 1],\n",
       " [1, 8, 0, 1],\n",
       " [1, 9, 0, 0],\n",
       " [1, 10, 0, 1],\n",
       " [1, 11, 0, 0],\n",
       " [1, 12, 0, 0],\n",
       " [1, 13, 0, 1],\n",
       " [1, 14, 0, 0],\n",
       " [1, 15, 0, 0],\n",
       " [2, 3, 0, 0],\n",
       " [2, 4, 0, 0],\n",
       " [2, 5, 0, 0],\n",
       " [2, 6, 0, 0],\n",
       " [2, 7, 0, 1],\n",
       " [2, 8, 0, 1],\n",
       " [2, 9, 0, 0],\n",
       " [2, 10, 0, 1],\n",
       " [2, 11, 0, 0],\n",
       " [2, 12, 0, 0],\n",
       " [2, 13, 0, 1],\n",
       " [2, 14, 0, 0],\n",
       " [2, 15, 0, 0],\n",
       " [3, 4, 0, 0],\n",
       " [3, 5, 0, 0],\n",
       " [3, 6, 0, 0],\n",
       " [3, 7, 0, 1],\n",
       " [3, 8, 0, 1],\n",
       " [3, 9, 0, 0],\n",
       " [3, 10, 0, 1],\n",
       " [3, 11, 0, 0],\n",
       " [3, 12, 0, 0],\n",
       " [3, 13, 0, 1],\n",
       " [3, 14, 0, 0],\n",
       " [3, 15, 0, 0],\n",
       " [4, 5, 0, 0],\n",
       " [4, 6, 0, 0],\n",
       " [4, 7, 0, 1],\n",
       " [4, 8, 0, 1],\n",
       " [4, 9, 0, 0],\n",
       " [4, 10, 0, 1],\n",
       " [4, 11, 0, 0],\n",
       " [4, 12, 0, 0],\n",
       " [4, 13, 0, 1],\n",
       " [4, 14, 0, 0],\n",
       " [4, 15, 0, 0],\n",
       " [5, 6, 0, 0],\n",
       " [5, 7, 0, 1],\n",
       " [5, 8, 0, 1],\n",
       " [5, 9, 0, 0],\n",
       " [5, 10, 0, 1],\n",
       " [5, 11, 0, 0],\n",
       " [5, 12, 0, 0],\n",
       " [5, 13, 0, 1],\n",
       " [5, 14, 0, 0],\n",
       " [5, 15, 0, 0],\n",
       " [6, 7, 0, 1],\n",
       " [6, 8, 0, 1],\n",
       " [6, 9, 0, 0],\n",
       " [6, 10, 0, 1],\n",
       " [6, 11, 0, 0],\n",
       " [6, 12, 0, 0],\n",
       " [6, 13, 0, 1],\n",
       " [6, 14, 0, 0],\n",
       " [6, 15, 0, 0],\n",
       " [7, 8, 1, 1],\n",
       " [7, 9, 1, 0],\n",
       " [7, 10, 1, 1],\n",
       " [7, 11, 1, 0],\n",
       " [7, 12, 1, 0],\n",
       " [7, 13, 1, 1],\n",
       " [7, 14, 1, 0],\n",
       " [7, 15, 1, 0],\n",
       " [8, 9, 1, 0],\n",
       " [8, 10, 1, 1],\n",
       " [8, 11, 1, 0],\n",
       " [8, 12, 1, 0],\n",
       " [8, 13, 1, 1],\n",
       " [8, 14, 1, 0],\n",
       " [8, 15, 1, 0],\n",
       " [9, 10, 0, 1],\n",
       " [9, 11, 0, 0],\n",
       " [9, 12, 0, 0],\n",
       " [9, 13, 0, 1],\n",
       " [9, 14, 0, 0],\n",
       " [9, 15, 0, 0],\n",
       " [10, 11, 1, 0],\n",
       " [10, 12, 1, 0],\n",
       " [10, 13, 1, 1],\n",
       " [10, 14, 1, 0],\n",
       " [10, 15, 1, 0],\n",
       " [11, 12, 0, 0],\n",
       " [11, 13, 0, 1],\n",
       " [11, 14, 0, 0],\n",
       " [11, 15, 0, 0],\n",
       " [12, 13, 0, 1],\n",
       " [12, 14, 0, 0],\n",
       " [12, 15, 0, 0],\n",
       " [13, 14, 1, 0],\n",
       " [13, 15, 1, 0],\n",
       " [14, 15, 0, 0],\n",
       " [0, 1, 0, 0],\n",
       " [0, 2, 0, 1],\n",
       " [0, 3, 0, 0],\n",
       " [0, 4, 0, 0],\n",
       " [0, 5, 0, 1],\n",
       " [0, 6, 0, 0],\n",
       " [0, 7, 0, 1],\n",
       " [0, 8, 0, 1],\n",
       " [0, 9, 0, 0],\n",
       " [0, 10, 0, 0],\n",
       " [0, 11, 0, 0],\n",
       " [0, 12, 0, 0],\n",
       " [0, 13, 0, 0],\n",
       " [0, 14, 0, 0],\n",
       " [0, 15, 0, 0],\n",
       " [1, 2, 0, 1],\n",
       " [1, 3, 0, 0],\n",
       " [1, 4, 0, 0],\n",
       " [1, 5, 0, 1],\n",
       " [1, 6, 0, 0],\n",
       " [1, 7, 0, 1],\n",
       " [1, 8, 0, 1],\n",
       " [1, 9, 0, 0],\n",
       " [1, 10, 0, 0],\n",
       " [1, 11, 0, 0],\n",
       " [1, 12, 0, 0],\n",
       " [1, 13, 0, 0],\n",
       " [1, 14, 0, 0],\n",
       " [1, 15, 0, 0],\n",
       " [2, 3, 1, 0],\n",
       " [2, 4, 1, 0],\n",
       " [2, 5, 1, 1],\n",
       " [2, 6, 1, 0],\n",
       " [2, 7, 1, 1],\n",
       " [2, 8, 1, 1],\n",
       " [2, 9, 1, 0],\n",
       " [2, 10, 1, 0],\n",
       " [2, 11, 1, 0],\n",
       " [2, 12, 1, 0],\n",
       " [2, 13, 1, 0],\n",
       " [2, 14, 1, 0],\n",
       " [2, 15, 1, 0],\n",
       " [3, 4, 0, 0],\n",
       " [3, 5, 0, 1],\n",
       " [3, 6, 0, 0],\n",
       " [3, 7, 0, 1],\n",
       " [3, 8, 0, 1],\n",
       " [3, 9, 0, 0],\n",
       " [3, 10, 0, 0],\n",
       " [3, 11, 0, 0],\n",
       " [3, 12, 0, 0],\n",
       " [3, 13, 0, 0],\n",
       " [3, 14, 0, 0],\n",
       " [3, 15, 0, 0],\n",
       " [4, 5, 0, 1],\n",
       " [4, 6, 0, 0],\n",
       " [4, 7, 0, 1],\n",
       " [4, 8, 0, 1],\n",
       " [4, 9, 0, 0],\n",
       " [4, 10, 0, 0],\n",
       " [4, 11, 0, 0],\n",
       " [4, 12, 0, 0],\n",
       " [4, 13, 0, 0],\n",
       " [4, 14, 0, 0],\n",
       " [4, 15, 0, 0],\n",
       " [5, 6, 1, 0],\n",
       " [5, 7, 1, 1],\n",
       " [5, 8, 1, 1],\n",
       " [5, 9, 1, 0],\n",
       " [5, 10, 1, 0],\n",
       " [5, 11, 1, 0],\n",
       " [5, 12, 1, 0],\n",
       " [5, 13, 1, 0],\n",
       " [5, 14, 1, 0],\n",
       " [5, 15, 1, 0],\n",
       " [6, 7, 0, 1],\n",
       " [6, 8, 0, 1],\n",
       " [6, 9, 0, 0],\n",
       " [6, 10, 0, 0],\n",
       " [6, 11, 0, 0],\n",
       " [6, 12, 0, 0],\n",
       " [6, 13, 0, 0],\n",
       " [6, 14, 0, 0],\n",
       " [6, 15, 0, 0],\n",
       " [7, 8, 1, 1],\n",
       " [7, 9, 1, 0],\n",
       " [7, 10, 1, 0],\n",
       " [7, 11, 1, 0],\n",
       " [7, 12, 1, 0],\n",
       " [7, 13, 1, 0],\n",
       " [7, 14, 1, 0],\n",
       " [7, 15, 1, 0],\n",
       " [8, 9, 1, 0],\n",
       " [8, 10, 1, 0],\n",
       " [8, 11, 1, 0],\n",
       " [8, 12, 1, 0],\n",
       " [8, 13, 1, 0],\n",
       " [8, 14, 1, 0],\n",
       " [8, 15, 1, 0],\n",
       " [9, 10, 0, 0],\n",
       " [9, 11, 0, 0],\n",
       " [9, 12, 0, 0],\n",
       " [9, 13, 0, 0],\n",
       " [9, 14, 0, 0],\n",
       " [9, 15, 0, 0],\n",
       " [10, 11, 0, 0],\n",
       " [10, 12, 0, 0],\n",
       " [10, 13, 0, 0],\n",
       " [10, 14, 0, 0],\n",
       " [10, 15, 0, 0],\n",
       " [11, 12, 0, 0],\n",
       " [11, 13, 0, 0],\n",
       " [11, 14, 0, 0],\n",
       " [11, 15, 0, 0],\n",
       " [12, 13, 0, 0],\n",
       " [12, 14, 0, 0],\n",
       " [12, 15, 0, 0],\n",
       " [13, 14, 0, 0],\n",
       " [13, 15, 0, 0],\n",
       " [14, 15, 0, 0],\n",
       " [0, 1, 1, 0],\n",
       " [0, 2, 1, 0],\n",
       " [0, 3, 1, 0],\n",
       " [0, 4, 1, 0],\n",
       " [0, 5, 1, 1],\n",
       " [0, 6, 1, 0],\n",
       " [0, 7, 1, 0],\n",
       " [0, 8, 1, 0],\n",
       " [0, 9, 1, 0],\n",
       " [0, 10, 1, 1],\n",
       " [0, 11, 1, 0],\n",
       " [0, 12, 1, 0],\n",
       " [0, 13, 1, 0],\n",
       " [0, 14, 1, 0],\n",
       " [0, 15, 1, 1],\n",
       " [1, 2, 0, 0],\n",
       " [1, 3, 0, 0],\n",
       " [1, 4, 0, 0],\n",
       " [1, 5, 0, 1],\n",
       " [1, 6, 0, 0],\n",
       " [1, 7, 0, 0],\n",
       " [1, 8, 0, 0],\n",
       " [1, 9, 0, 0],\n",
       " [1, 10, 0, 1],\n",
       " [1, 11, 0, 0],\n",
       " [1, 12, 0, 0],\n",
       " [1, 13, 0, 0],\n",
       " [1, 14, 0, 0],\n",
       " [1, 15, 0, 1],\n",
       " [2, 3, 0, 0],\n",
       " [2, 4, 0, 0],\n",
       " [2, 5, 0, 1],\n",
       " [2, 6, 0, 0],\n",
       " [2, 7, 0, 0],\n",
       " [2, 8, 0, 0],\n",
       " [2, 9, 0, 0],\n",
       " [2, 10, 0, 1],\n",
       " [2, 11, 0, 0],\n",
       " [2, 12, 0, 0],\n",
       " [2, 13, 0, 0],\n",
       " [2, 14, 0, 0],\n",
       " [2, 15, 0, 1],\n",
       " [3, 4, 0, 0],\n",
       " [3, 5, 0, 1],\n",
       " [3, 6, 0, 0],\n",
       " [3, 7, 0, 0],\n",
       " [3, 8, 0, 0],\n",
       " [3, 9, 0, 0],\n",
       " [3, 10, 0, 1],\n",
       " [3, 11, 0, 0],\n",
       " [3, 12, 0, 0],\n",
       " [3, 13, 0, 0],\n",
       " [3, 14, 0, 0],\n",
       " [3, 15, 0, 1],\n",
       " [4, 5, 0, 1],\n",
       " [4, 6, 0, 0],\n",
       " [4, 7, 0, 0],\n",
       " [4, 8, 0, 0],\n",
       " [4, 9, 0, 0],\n",
       " [4, 10, 0, 1],\n",
       " [4, 11, 0, 0],\n",
       " [4, 12, 0, 0],\n",
       " [4, 13, 0, 0],\n",
       " [4, 14, 0, 0],\n",
       " [4, 15, 0, 1],\n",
       " [5, 6, 1, 0],\n",
       " [5, 7, 1, 0],\n",
       " [5, 8, 1, 0],\n",
       " [5, 9, 1, 0],\n",
       " [5, 10, 1, 1],\n",
       " [5, 11, 1, 0],\n",
       " [5, 12, 1, 0],\n",
       " [5, 13, 1, 0],\n",
       " [5, 14, 1, 0],\n",
       " [5, 15, 1, 1],\n",
       " [6, 7, 0, 0],\n",
       " [6, 8, 0, 0],\n",
       " [6, 9, 0, 0],\n",
       " [6, 10, 0, 1],\n",
       " [6, 11, 0, 0],\n",
       " [6, 12, 0, 0],\n",
       " [6, 13, 0, 0],\n",
       " [6, 14, 0, 0],\n",
       " [6, 15, 0, 1],\n",
       " [7, 8, 0, 0],\n",
       " [7, 9, 0, 0],\n",
       " [7, 10, 0, 1],\n",
       " [7, 11, 0, 0],\n",
       " [7, 12, 0, 0],\n",
       " [7, 13, 0, 0],\n",
       " [7, 14, 0, 0],\n",
       " [7, 15, 0, 1],\n",
       " [8, 9, 0, 0],\n",
       " [8, 10, 0, 1],\n",
       " [8, 11, 0, 0],\n",
       " [8, 12, 0, 0],\n",
       " [8, 13, 0, 0],\n",
       " [8, 14, 0, 0],\n",
       " [8, 15, 0, 1],\n",
       " [9, 10, 0, 1],\n",
       " [9, 11, 0, 0],\n",
       " [9, 12, 0, 0],\n",
       " [9, 13, 0, 0],\n",
       " [9, 14, 0, 0],\n",
       " [9, 15, 0, 1],\n",
       " [10, 11, 1, 0],\n",
       " [10, 12, 1, 0],\n",
       " [10, 13, 1, 0],\n",
       " [10, 14, 1, 0],\n",
       " [10, 15, 1, 1],\n",
       " [11, 12, 0, 0],\n",
       " [11, 13, 0, 0],\n",
       " [11, 14, 0, 0],\n",
       " [11, 15, 0, 1],\n",
       " [12, 13, 0, 0],\n",
       " [12, 14, 0, 0],\n",
       " [12, 15, 0, 1],\n",
       " [13, 14, 0, 0],\n",
       " [13, 15, 0, 1],\n",
       " [14, 15, 0, 1],\n",
       " [0, 1, 0, 0],\n",
       " [0, 2, 0, 0],\n",
       " [0, 3, 0, 0],\n",
       " [0, 4, 0, 0],\n",
       " [0, 5, 0, 0],\n",
       " [0, 6, 0, 0],\n",
       " [0, 7, 0, 1],\n",
       " [0, 8, 0, 1],\n",
       " [0, 9, 0, 0],\n",
       " [0, 10, 0, 1],\n",
       " [0, 11, 0, 0],\n",
       " [0, 12, 0, 0],\n",
       " [0, 13, 0, 1],\n",
       " [0, 14, 0, 0],\n",
       " [0, 15, 0, 0],\n",
       " [1, 2, 0, 0],\n",
       " [1, 3, 0, 0],\n",
       " [1, 4, 0, 0],\n",
       " [1, 5, 0, 0],\n",
       " [1, 6, 0, 0],\n",
       " [1, 7, 0, 1],\n",
       " [1, 8, 0, 1],\n",
       " [1, 9, 0, 0],\n",
       " [1, 10, 0, 1],\n",
       " [1, 11, 0, 0],\n",
       " [1, 12, 0, 0],\n",
       " [1, 13, 0, 1],\n",
       " [1, 14, 0, 0],\n",
       " [1, 15, 0, 0],\n",
       " [2, 3, 0, 0],\n",
       " [2, 4, 0, 0],\n",
       " [2, 5, 0, 0],\n",
       " [2, 6, 0, 0],\n",
       " [2, 7, 0, 1],\n",
       " [2, 8, 0, 1],\n",
       " [2, 9, 0, 0],\n",
       " [2, 10, 0, 1],\n",
       " [2, 11, 0, 0],\n",
       " [2, 12, 0, 0],\n",
       " [2, 13, 0, 1],\n",
       " [2, 14, 0, 0],\n",
       " [2, 15, 0, 0],\n",
       " [3, 4, 0, 0],\n",
       " [3, 5, 0, 0],\n",
       " [3, 6, 0, 0],\n",
       " [3, 7, 0, 1],\n",
       " [3, 8, 0, 1],\n",
       " [3, 9, 0, 0],\n",
       " [3, 10, 0, 1],\n",
       " [3, 11, 0, 0],\n",
       " [3, 12, 0, 0],\n",
       " [3, 13, 0, 1],\n",
       " [3, 14, 0, 0],\n",
       " [3, 15, 0, 0],\n",
       " [4, 5, 0, 0],\n",
       " [4, 6, 0, 0],\n",
       " [4, 7, 0, 1],\n",
       " [4, 8, 0, 1],\n",
       " [4, 9, 0, 0],\n",
       " [4, 10, 0, 1],\n",
       " [4, 11, 0, 0],\n",
       " [4, 12, 0, 0],\n",
       " [4, 13, 0, 1],\n",
       " [4, 14, 0, 0],\n",
       " [4, 15, 0, 0],\n",
       " [5, 6, 0, 0],\n",
       " [5, 7, 0, 1],\n",
       " [5, 8, 0, 1],\n",
       " [5, 9, 0, 0],\n",
       " [5, 10, 0, 1],\n",
       " [5, 11, 0, 0],\n",
       " [5, 12, 0, 0],\n",
       " [5, 13, 0, 1],\n",
       " [5, 14, 0, 0],\n",
       " [5, 15, 0, 0],\n",
       " [6, 7, 0, 1],\n",
       " [6, 8, 0, 1],\n",
       " [6, 9, 0, 0],\n",
       " [6, 10, 0, 1],\n",
       " [6, 11, 0, 0],\n",
       " [6, 12, 0, 0],\n",
       " [6, 13, 0, 1],\n",
       " [6, 14, 0, 0],\n",
       " [6, 15, 0, 0],\n",
       " [7, 8, 1, 1],\n",
       " [7, 9, 1, 0],\n",
       " [7, 10, 1, 1],\n",
       " [7, 11, 1, 0],\n",
       " [7, 12, 1, 0],\n",
       " [7, 13, 1, 1],\n",
       " [7, 14, 1, 0],\n",
       " [7, 15, 1, 0],\n",
       " [8, 9, 1, 0],\n",
       " [8, 10, 1, 1],\n",
       " [8, 11, 1, 0],\n",
       " [8, 12, 1, 0],\n",
       " [8, 13, 1, 1],\n",
       " [8, 14, 1, 0],\n",
       " [8, 15, 1, 0],\n",
       " [9, 10, 0, 1],\n",
       " [9, 11, 0, 0],\n",
       " [9, 12, 0, 0],\n",
       " [9, 13, 0, 1],\n",
       " [9, 14, 0, 0],\n",
       " [9, 15, 0, 0],\n",
       " [10, 11, 1, 0],\n",
       " [10, 12, 1, 0],\n",
       " [10, 13, 1, 1],\n",
       " [10, 14, 1, 0],\n",
       " [10, 15, 1, 0],\n",
       " [11, 12, 0, 0],\n",
       " [11, 13, 0, 1],\n",
       " [11, 14, 0, 0],\n",
       " [11, 15, 0, 0],\n",
       " [12, 13, 0, 1],\n",
       " [12, 14, 0, 0],\n",
       " [12, 15, 0, 0],\n",
       " [13, 14, 1, 0],\n",
       " [13, 15, 1, 0],\n",
       " [14, 15, 0, 0],\n",
       " [0, 1, 0, 0],\n",
       " [0, 2, 0, 1],\n",
       " [0, 3, 0, 0],\n",
       " [0, 4, 0, 0],\n",
       " [0, 5, 0, 1],\n",
       " [0, 6, 0, 0],\n",
       " [0, 7, 0, 0],\n",
       " [0, 8, 0, 1],\n",
       " [0, 9, 0, 0],\n",
       " [0, 10, 0, 0],\n",
       " [0, 11, 0, 0],\n",
       " [0, 12, 0, 0],\n",
       " [0, 13, 0, 0],\n",
       " [0, 14, 0, 0],\n",
       " [0, 15, 0, 0],\n",
       " [1, 2, 0, 1],\n",
       " [1, 3, 0, 0],\n",
       " [1, 4, 0, 0],\n",
       " [1, 5, 0, 1],\n",
       " [1, 6, 0, 0],\n",
       " [1, 7, 0, 0],\n",
       " [1, 8, 0, 1],\n",
       " [1, 9, 0, 0],\n",
       " [1, 10, 0, 0],\n",
       " [1, 11, 0, 0],\n",
       " [1, 12, 0, 0],\n",
       " [1, 13, 0, 0],\n",
       " [1, 14, 0, 0],\n",
       " [1, 15, 0, 0],\n",
       " [2, 3, 1, 0],\n",
       " [2, 4, 1, 0],\n",
       " [2, 5, 1, 1],\n",
       " [2, 6, 1, 0],\n",
       " [2, 7, 1, 0],\n",
       " [2, 8, 1, 1],\n",
       " [2, 9, 1, 0],\n",
       " [2, 10, 1, 0],\n",
       " [2, 11, 1, 0],\n",
       " [2, 12, 1, 0],\n",
       " [2, 13, 1, 0],\n",
       " [2, 14, 1, 0],\n",
       " [2, 15, 1, 0],\n",
       " [3, 4, 0, 0],\n",
       " [3, 5, 0, 1],\n",
       " [3, 6, 0, 0],\n",
       " [3, 7, 0, 0],\n",
       " [3, 8, 0, 1],\n",
       " [3, 9, 0, 0],\n",
       " [3, 10, 0, 0],\n",
       " [3, 11, 0, 0],\n",
       " [3, 12, 0, 0],\n",
       " [3, 13, 0, 0],\n",
       " [3, 14, 0, 0],\n",
       " [3, 15, 0, 0],\n",
       " [4, 5, 0, 1],\n",
       " [4, 6, 0, 0],\n",
       " [4, 7, 0, 0],\n",
       " [4, 8, 0, 1],\n",
       " [4, 9, 0, 0],\n",
       " [4, 10, 0, 0],\n",
       " [4, 11, 0, 0],\n",
       " [4, 12, 0, 0],\n",
       " [4, 13, 0, 0],\n",
       " [4, 14, 0, 0],\n",
       " [4, 15, 0, 0],\n",
       " [5, 6, 1, 0],\n",
       " [5, 7, 1, 0],\n",
       " [5, 8, 1, 1],\n",
       " [5, 9, 1, 0],\n",
       " [5, 10, 1, 0],\n",
       " [5, 11, 1, 0],\n",
       " [5, 12, 1, 0],\n",
       " [5, 13, 1, 0],\n",
       " [5, 14, 1, 0],\n",
       " [5, 15, 1, 0],\n",
       " [6, 7, 0, 0],\n",
       " [6, 8, 0, 1],\n",
       " [6, 9, 0, 0],\n",
       " [6, 10, 0, 0],\n",
       " [6, 11, 0, 0],\n",
       " [6, 12, 0, 0],\n",
       " [6, 13, 0, 0],\n",
       " [6, 14, 0, 0],\n",
       " [6, 15, 0, 0],\n",
       " [7, 8, 0, 1],\n",
       " [7, 9, 0, 0],\n",
       " [7, 10, 0, 0],\n",
       " [7, 11, 0, 0],\n",
       " [7, 12, 0, 0],\n",
       " [7, 13, 0, 0],\n",
       " [7, 14, 0, 0],\n",
       " [7, 15, 0, 0],\n",
       " [8, 9, 1, 0],\n",
       " [8, 10, 1, 0],\n",
       " [8, 11, 1, 0],\n",
       " [8, 12, 1, 0],\n",
       " [8, 13, 1, 0],\n",
       " [8, 14, 1, 0],\n",
       " [8, 15, 1, 0],\n",
       " [9, 10, 0, 0],\n",
       " [9, 11, 0, 0],\n",
       " [9, 12, 0, 0],\n",
       " [9, 13, 0, 0],\n",
       " [9, 14, 0, 0],\n",
       " [9, 15, 0, 0],\n",
       " [10, 11, 0, 0],\n",
       " [10, 12, 0, 0],\n",
       " [10, 13, 0, 0],\n",
       " [10, 14, 0, 0],\n",
       " [10, 15, 0, 0],\n",
       " [11, 12, 0, 0],\n",
       " [11, 13, 0, 0],\n",
       " [11, 14, 0, 0],\n",
       " [11, 15, 0, 0],\n",
       " [12, 13, 0, 0],\n",
       " [12, 14, 0, 0],\n",
       " [12, 15, 0, 0],\n",
       " [13, 14, 0, 0],\n",
       " [13, 15, 0, 0],\n",
       " [14, 15, 0, 0],\n",
       " [0, 1, 1, 0],\n",
       " [0, 2, 1, 0],\n",
       " [0, 3, 1, 0],\n",
       " [0, 4, 1, 0],\n",
       " [0, 5, 1, 0],\n",
       " [0, 6, 1, 0],\n",
       " [0, 7, 1, 0],\n",
       " [0, 8, 1, 0],\n",
       " [0, 9, 1, 0],\n",
       " [0, 10, 1, 0],\n",
       " [0, 11, 1, 0],\n",
       " [0, 12, 1, 0],\n",
       " [0, 13, 1, 0],\n",
       " [0, 14, 1, 0],\n",
       " [0, 15, 1, 1],\n",
       " [1, 2, 0, 0],\n",
       " [1, 3, 0, 0],\n",
       " [1, 4, 0, 0],\n",
       " [1, 5, 0, 0],\n",
       " [1, 6, 0, 0],\n",
       " [1, 7, 0, 0],\n",
       " [1, 8, 0, 0],\n",
       " [1, 9, 0, 0],\n",
       " [1, 10, 0, 0],\n",
       " [1, 11, 0, 0],\n",
       " [1, 12, 0, 0],\n",
       " [1, 13, 0, 0],\n",
       " [1, 14, 0, 0],\n",
       " [1, 15, 0, 1],\n",
       " [2, 3, 0, 0],\n",
       " [2, 4, 0, 0],\n",
       " [2, 5, 0, 0],\n",
       " [2, 6, 0, 0],\n",
       " [2, 7, 0, 0],\n",
       " [2, 8, 0, 0],\n",
       " [2, 9, 0, 0],\n",
       " [2, 10, 0, 0],\n",
       " [2, 11, 0, 0],\n",
       " [2, 12, 0, 0],\n",
       " [2, 13, 0, 0],\n",
       " ...]"
      ]
     },
     "execution_count": 754,
     "metadata": {},
     "output_type": "execute_result"
    }
   ],
   "source": [
    "aip"
   ]
  },
  {
   "cell_type": "code",
   "execution_count": 1145,
   "metadata": {},
   "outputs": [],
   "source": [
    "# def calc_total_log_prob(affinity_tensor, img, kernel_size, stride):\n",
    "    \n",
    "#     abs_seq_pairs = construct_unique_pairs(img.shape, kernel_size, stride)\n",
    "#     abs_seq_pairs\n",
    "#     np.unravel_index(, img.shape)\n",
    "    \n",
    "#     for abs_seq_pair in pairs:\n",
    "\n",
    "def calc_total_log_prob(affinity_tensor, img, kernel_size, stride):\n",
    "    \n",
    "    w = img.shape[1]\n",
    "    h = img.shape[0]\n",
    "    num_convs_w = floor((w-kernel_size)/stride)+1\n",
    "    num_convs_h = floor((h-kernel_size)/stride)+1\n",
    "    \n",
    "    log_prob = 0\n",
    "    #cnt2 = 0\n",
    "    \n",
    "    #pairs = construct_unique_pairs(img.shape, 4, 2)\n",
    "    for i in stride * np.arange(num_convs_h):\n",
    "        #print('i', i)\n",
    "        for j in stride * np.arange(num_convs_w):\n",
    "            #print('j', j)\n",
    "            local_prob = calc_log_prob(affinity_tensor, img, i, j, kernel_size)\n",
    "            #, cnt\n",
    "            log_prob = log_prob + local_prob\n",
    "            #print(cnt)\n",
    "            #cnt2 += cnt\n",
    "                    \n",
    "    return log_prob\n",
    "#, cnt2\n",
    "\n",
    "def calc_log_prob(affinity_tensor, img, i, j, kernel_size):\n",
    "    \n",
    "    # Goes in order across rows e.g. (0,0) (0,1) etc.\n",
    "    indices = [[i,j] for i in range(kernel_size) for j in range(kernel_size)]\n",
    "    log_prob = 0\n",
    "    #res = []\n",
    "    #res2 = []\n",
    "    #cnt = 0\n",
    "    for pos1 in range(kernel_size**2):\n",
    "        # plus 1 so that no collisions\n",
    "        for pos2 in range(pos1+1, kernel_size**2):\n",
    "            idx1 = indices[pos1]\n",
    "            idx2 = indices[pos2]\n",
    "            #print(idx1, idx2)\n",
    "\n",
    "            idx = (\n",
    "                pos1, \n",
    "                pos2,\n",
    "                img[i + idx1[0], j + idx1[1]],\n",
    "                img[i + idx2[0], j + idx2[1]]\n",
    "            )\n",
    "            \n",
    "            #if idx1 != idx2:\n",
    "            #res.append(int(affinity_tensor[idx]))\n",
    "            #res2.append({(i,j, ndim2flat_idx(idx1, (kernel_size,kernel_size)),\n",
    "            #  ndim2flat_idx(idx2, (kernel_size,kernel_size))) :int(affinity_tensor[idx])})\n",
    "            log_prob = log_prob + affinity_tensor[idx]\n",
    "            #cnt+=1\n",
    "                    \n",
    "    return log_prob\n",
    "#, cnt\n",
    "#, res, res2\n",
    "\n",
    "\n",
    "\n",
    "def calc_updated_log_prob(affinity_tensor, img, kernel_size, stride, modified_cells=None):\n",
    "    \n",
    "    mc = [absidx1, absidx2]\n",
    "    \n",
    "    filters_set1 = set(image_idx_to_filter_idx[mc[0]])\n",
    "    filters_set2 = set(image_idx_to_filter_idx[mc[1]])\n",
    "    filters_set = filters_set1 | filters_set2\n",
    "    \n",
    "    w = img.shape[1]\n",
    "    h = img.shape[0]\n",
    "    num_convs_w = floor((w-kernel_size)/stride)+1\n",
    "    num_convs_h = floor((w-kernel_size)/stride)+1\n",
    "    \n",
    "    log_prob = 0\n",
    "    cnt2 = 0\n",
    "    for i in stride * np.arange(num_convs_h):\n",
    "        #print('i', i)\n",
    "        for j in stride * np.arange(num_convs_w):\n",
    "            #print('j', j)\n",
    "            local_prob, cnt = calc_log_prob(affinity_tensor, img, i, j, kernel_size)\n",
    "            log_prob = log_prob + local_prob\n",
    "            #print(cnt)\n",
    "            cnt2 += cnt\n",
    "                    \n",
    "    return log_prob, cnt2"
   ]
  },
  {
   "cell_type": "code",
   "execution_count": 762,
   "metadata": {},
   "outputs": [],
   "source": [
    "def get_overlapping_filters_idx(i,j, kernel_size, stride):\n",
    "    pass"
   ]
  },
  {
   "cell_type": "markdown",
   "metadata": {},
   "source": [
    "## Prob of img"
   ]
  },
  {
   "cell_type": "code",
   "execution_count": 2806,
   "metadata": {},
   "outputs": [
    {
     "data": {
      "text/plain": [
       "-13359888.129455823"
      ]
     },
     "execution_count": 2806,
     "metadata": {},
     "output_type": "execute_result"
    }
   ],
   "source": [
    "calc_total_log_prob(affinity_tensor, img, kernel_size, stride)"
   ]
  },
  {
   "cell_type": "code",
   "execution_count": 2807,
   "metadata": {},
   "outputs": [
    {
     "data": {
      "text/plain": [
       "-13845522.675479058"
      ]
     },
     "execution_count": 2807,
     "metadata": {},
     "output_type": "execute_result"
    }
   ],
   "source": [
    "calc_total_log_prob(affinity_tensor, np.zeros(img.shape).astype(int), kernel_size, stride)"
   ]
  },
  {
   "cell_type": "code",
   "execution_count": 1050,
   "metadata": {},
   "outputs": [
    {
     "name": "stdout",
     "output_type": "stream",
     "text": [
      "-315009.91827381356\n"
     ]
    },
    {
     "data": {
      "text/plain": [
       "<matplotlib.image.AxesImage at 0x7fdc6308e240>"
      ]
     },
     "execution_count": 1050,
     "metadata": {},
     "output_type": "execute_result"
    },
    {
     "data": {
      "image/png": "[encoded data removed]",
      "text/plain": [
       "<Figure size 432x288 with 1 Axes>"
      ]
     },
     "metadata": {
      "needs_background": "light"
     },
     "output_type": "display_data"
    }
   ],
   "source": [
    "arr = (np.random.rand(img.shape[0],img.shape[1]) < 0.05).astype(int)       \n",
    "print(calc_total_log_prob(affinity_tensor, arr, 8,4))\n",
    "plt.imshow(arr, cmap='gray')"
   ]
  },
  {
   "cell_type": "code",
   "execution_count": 2702,
   "metadata": {},
   "outputs": [
    {
     "data": {
      "text/plain": [
       "-18732387.029929664"
      ]
     },
     "execution_count": 2702,
     "metadata": {},
     "output_type": "execute_result"
    }
   ],
   "source": [
    "calc_total_log_prob(\n",
    "    affinity_tensor, (np.zeros(img.shape)+1).astype(int), kernel_size, stride)"
   ]
  },
  {
   "cell_type": "code",
   "execution_count": 767,
   "metadata": {},
   "outputs": [
    {
     "name": "stdout",
     "output_type": "stream",
     "text": [
      "-13276.974854295566\n"
     ]
    },
    {
     "data": {
      "text/plain": [
       "<matplotlib.image.AxesImage at 0x7fdc62fd62e8>"
      ]
     },
     "execution_count": 767,
     "metadata": {},
     "output_type": "execute_result"
    },
    {
     "data": {
      "image/png": "[encoded data removed]",
      "text/plain": [
       "<Figure size 432x288 with 1 Axes>"
      ]
     },
     "metadata": {
      "needs_background": "light"
     },
     "output_type": "display_data"
    }
   ],
   "source": [
    "arr = (np.random.rand(16,16) < 0.2).astype(int)\n",
    "print(calc_total_log_prob(affinity_tensor, arr, 4, 2))\n",
    "plt.imshow(arr, cmap='gray')"
   ]
  },
  {
   "cell_type": "code",
   "execution_count": 156,
   "metadata": {},
   "outputs": [],
   "source": [
    "#count_tensor[2,4].flatten() / count_tensor[2,4].flatten().sum()"
   ]
  },
  {
   "cell_type": "code",
   "execution_count": 157,
   "metadata": {},
   "outputs": [],
   "source": [
    "# total = []\n",
    "# other = []\n",
    "# for i in range(img.shape[0]-2):\n",
    "#     for j in range(img.shape[1]-2):\n",
    "        \n",
    "#         total.append([img[i + idx[0], j + idx[1]] for idx in indices])\n",
    "#         other += [[idx[0], idx[1], ] for idx in indices]"
   ]
  },
  {
   "cell_type": "markdown",
   "metadata": {},
   "source": []
  },
  {
   "cell_type": "markdown",
   "metadata": {},
   "source": [
    "scan across the image, at every location, look at all pairwise combinations of pixels in the window, and add a count to the co-occurence values \n",
    "\n",
    "[idx, data] size (3^2 * (width-2)^2, 4)\n",
    "0, 6, 0, 1\n",
    "0, 4, 1, 0\n",
    "\n",
    "or\n",
    "\n",
    "[pos1, pos2, conv_filter_idx]\n",
    "\n",
    "-> [pos1, pos2, value1, value2] = count; size (9, 9, 2, 2)"
   ]
  },
  {
   "cell_type": "code",
   "execution_count": 158,
   "metadata": {},
   "outputs": [
    {
     "data": {
      "text/plain": [
       "-171.4119594134845"
      ]
     },
     "execution_count": 158,
     "metadata": {},
     "output_type": "execute_result"
    }
   ],
   "source": [
    "calc_log_prob(affinity_tensor, img, 9, 9, 4)"
   ]
  },
  {
   "cell_type": "code",
   "execution_count": 159,
   "metadata": {},
   "outputs": [
    {
     "data": {
      "text/plain": [
       "0.4336758440171742"
      ]
     },
     "execution_count": 159,
     "metadata": {},
     "output_type": "execute_result"
    }
   ],
   "source": [
    "np.random.rand()"
   ]
  },
  {
   "cell_type": "code",
   "execution_count": null,
   "metadata": {},
   "outputs": [],
   "source": [
    "np.array(\n",
    "        [kernel_size*floor(a/kernel_size), \n",
    "        kernel_size*floor(b/kernel_size)])"
   ]
  },
  {
   "cell_type": "code",
   "execution_count": 327,
   "metadata": {},
   "outputs": [
    {
     "data": {
      "text/plain": [
       "2"
      ]
     },
     "execution_count": 327,
     "metadata": {},
     "output_type": "execute_result"
    }
   ],
   "source": [
    "# stride=2\n",
    "# kernel_size=3\n",
    "# floor((6-kernel_size)/stride)+1"
   ]
  },
  {
   "cell_type": "code",
   "execution_count": null,
   "metadata": {},
   "outputs": [],
   "source": []
  },
  {
   "cell_type": "code",
   "execution_count": 368,
   "metadata": {},
   "outputs": [
    {
     "name": "stdout",
     "output_type": "stream",
     "text": [
      "9\n",
      "12\n"
     ]
    }
   ],
   "source": [
    "# stride=2\n",
    "# kernel_size=4\n",
    "# num_convs_h = floor((20-kernel_size)/stride)+1\n",
    "# print(num_convs_h)\n",
    "# print(stride*np.random.randint(num_convs_h))"
   ]
  },
  {
   "cell_type": "code",
   "execution_count": 719,
   "metadata": {},
   "outputs": [
    {
     "data": {
      "text/plain": [
       "array([ 2,  3,  4,  5, 18, 19, 20, 21, 34, 35, 36, 37, 50, 51, 52, 53])"
      ]
     },
     "execution_count": 719,
     "metadata": {},
     "output_type": "execute_result"
    }
   ],
   "source": [
    "np.array(filter_idx_to_image_idx[(0,2)])"
   ]
  },
  {
   "cell_type": "code",
   "execution_count": 726,
   "metadata": {},
   "outputs": [
    {
     "data": {
      "text/plain": [
       "array([0, 0, 1, 0, 0, 1, 0, 1, 1, 0, 0, 0, 0, 0, 0, 0])"
      ]
     },
     "execution_count": 726,
     "metadata": {},
     "output_type": "execute_result"
    }
   ],
   "source": [
    "np.array([\n",
    "                img[np.unravel_index(image_idx, img.shape)]\n",
    "                for image_idx \n",
    "                in filter_idx_to_image_idx[(0,2)]])"
   ]
  },
  {
   "cell_type": "code",
   "execution_count": 737,
   "metadata": {},
   "outputs": [
    {
     "data": {
      "text/plain": [
       "array([0, 4, 8])"
      ]
     },
     "execution_count": 737,
     "metadata": {},
     "output_type": "execute_result"
    }
   ],
   "source": [
    "np.arange(9).reshape((3,3))[np.arange(3),[0,1,2]]"
   ]
  },
  {
   "cell_type": "code",
   "execution_count": 736,
   "metadata": {},
   "outputs": [
    {
     "data": {
      "text/plain": [
       "array([[1, 2],\n",
       "       [4, 5],\n",
       "       [7, 8]])"
      ]
     },
     "execution_count": 736,
     "metadata": {},
     "output_type": "execute_result"
    }
   ],
   "source": [
    "np.arange(9).reshape((3,3))[:,[1,2]]"
   ]
  },
  {
   "cell_type": "code",
   "execution_count": null,
   "metadata": {},
   "outputs": [],
   "source": []
  },
  {
   "cell_type": "code",
   "execution_count": 2299,
   "metadata": {},
   "outputs": [
    {
     "data": {
      "text/plain": [
       "(81, 81)"
      ]
     },
     "execution_count": 2299,
     "metadata": {},
     "output_type": "execute_result"
    }
   ],
   "source": [
    "affinity_tensor[\n",
    "            :, \n",
    "            np.arange(81), \n",
    "            1, \n",
    "            [\n",
    "                img[np.unravel_index(image_idx, img.shape)]\n",
    "                for image_idx \n",
    "                in filter_idx_to_image_idx[(0,3)]]].shape"
   ]
  },
  {
   "cell_type": "code",
   "execution_count": 1490,
   "metadata": {},
   "outputs": [
    {
     "data": {
      "text/plain": [
       "(64, 64, 2, 2)"
      ]
     },
     "execution_count": 1490,
     "metadata": {},
     "output_type": "execute_result"
    }
   ],
   "source": [
    "affinity_tensor.shape"
   ]
  },
  {
   "cell_type": "code",
   "execution_count": 2254,
   "metadata": {},
   "outputs": [
    {
     "data": {
      "text/plain": [
       "5"
      ]
     },
     "execution_count": 2254,
     "metadata": {},
     "output_type": "execute_result"
    }
   ],
   "source": [
    "37 % 16"
   ]
  },
  {
   "cell_type": "code",
   "execution_count": 2255,
   "metadata": {},
   "outputs": [
    {
     "data": {
      "text/plain": [
       "2"
      ]
     },
     "execution_count": 2255,
     "metadata": {},
     "output_type": "execute_result"
    }
   ],
   "source": [
    "37 // 16"
   ]
  },
  {
   "cell_type": "code",
   "execution_count": 2319,
   "metadata": {},
   "outputs": [
    {
     "data": {
      "text/plain": [
       "array([0, 0, 0, 2, 2, 2, 1, 1, 1])"
      ]
     },
     "execution_count": 2319,
     "metadata": {},
     "output_type": "execute_result"
    }
   ],
   "source": [
    "np.repeat(np.array([0,2,1]), 3)"
   ]
  },
  {
   "cell_type": "code",
   "execution_count": null,
   "metadata": {},
   "outputs": [],
   "source": [
    "image_idx_to_filter_idx"
   ]
  },
  {
   "cell_type": "code",
   "execution_count": 2510,
   "metadata": {},
   "outputs": [
    {
     "data": {
      "text/plain": [
       "(13, 13, 81)"
      ]
     },
     "execution_count": 2510,
     "metadata": {},
     "output_type": "execute_result"
    }
   ],
   "source": [
    "alt_img.shape"
   ]
  },
  {
   "cell_type": "code",
   "execution_count": 2499,
   "metadata": {},
   "outputs": [
    {
     "name": "stdout",
     "output_type": "stream",
     "text": [
      "[[ 0 27  7]\n",
      " [ 0 30  4]\n",
      " [ 0 33  1]]\n"
     ]
    },
    {
     "data": {
      "text/plain": [
       "array([[-0.57628266, -2.59856462],\n",
       "       [-2.08773954, -1.57691424],\n",
       "       [-0.63690727, -2.15673235],\n",
       "       [-0.63690727, -2.08773954],\n",
       "       [-2.23084026, -1.53769354],\n",
       "       [-0.66865597, -2.02320107],\n",
       "       [-0.57628266, -2.39789417],\n",
       "       [ 0.        ,  0.        ],\n",
       "       [-0.59109775, -2.59856462],\n",
       "       [-1.08221818, -1.4284943 ],\n",
       "       [-0.94564269, -1.4635856 ],\n",
       "       [-1.33005426, -2.08773954],\n",
       "       [-1.26942967, -1.96257649],\n",
       "       [-0.96714889, -1.4284943 ],\n",
       "       [-1.21227127, -2.31088289],\n",
       "       [-1.03459015, -1.4635856 ],\n",
       "       [-1.15820407, -2.59856462],\n",
       "       [-1.21227127, -2.39789417],\n",
       "       [-1.15820407, -1.53769354],\n",
       "       [-1.29928262, -1.61773621],\n",
       "       [-1.13222859, -1.39459276],\n",
       "       [-1.29928262, -1.39459276],\n",
       "       [-0.92458928, -2.23084026],\n",
       "       [-1.08221818, -1.4635856 ],\n",
       "       [-1.01160064, -2.15673235],\n",
       "       [-1.29928262, -1.53769354],\n",
       "       [-1.10691079, -2.15673235],\n",
       "       [-1.57691424, -1.85135093],\n",
       "       [-1.6602958 , -1.80005767],\n",
       "       [-1.61773621, -1.75126753],\n",
       "       [-1.6602958 , -1.80005767],\n",
       "       [-0.77043864, -1.6602958 ],\n",
       "       [-0.75273907, -1.80005767],\n",
       "       [-0.75273907, -1.80005767],\n",
       "       [-1.61773621, -1.85135093],\n",
       "       [-1.61773621, -1.6602958 ],\n",
       "       [-1.05812064, -1.53769354],\n",
       "       [-1.36180295, -2.02320107],\n",
       "       [-0.92458928, -1.57691424],\n",
       "       [-1.18487231, -2.08773954],\n",
       "       [-1.26942967, -2.15673235],\n",
       "       [-1.05812064, -1.4284943 ],\n",
       "       [-1.05812064, -1.4284943 ],\n",
       "       [-1.21227127, -2.15673235],\n",
       "       [-0.96714889, -1.49995323],\n",
       "       [-0.90397   , -1.90541812],\n",
       "       [-1.08221818, -1.96257649],\n",
       "       [-1.39459276, -1.75126753],\n",
       "       [-0.96714889, -1.85135093],\n",
       "       [-1.21227127, -1.61773621],\n",
       "       [-1.49995323, -1.6602958 ],\n",
       "       [-1.29928262, -1.61773621],\n",
       "       [-1.03459015, -1.90541812],\n",
       "       [-0.92458928, -1.80005767],\n",
       "       [-1.29928262, -2.49320424],\n",
       "       [-0.98912779, -1.33005426],\n",
       "       [-1.24044214, -2.39789417],\n",
       "       [-1.29928262, -2.49320424],\n",
       "       [-1.29928262, -2.49320424],\n",
       "       [-1.29928262, -2.39789417],\n",
       "       [-1.21227127, -2.59856462],\n",
       "       [-0.96714889, -1.33005426],\n",
       "       [-1.15820407, -2.49320424],\n",
       "       [-1.13222859, -1.80005767],\n",
       "       [-1.36180295, -1.70474754],\n",
       "       [-0.94564269, -1.80005767],\n",
       "       [-1.24044214, -1.70474754],\n",
       "       [-0.8837673 , -1.90541812],\n",
       "       [-1.01160064, -1.80005767],\n",
       "       [-1.24044214, -1.85135093],\n",
       "       [-1.24044214, -1.80005767],\n",
       "       [-1.26942967, -1.80005767],\n",
       "       [-1.6602958 , -1.53769354],\n",
       "       [-0.92458928, -2.08773954],\n",
       "       [-0.75273907, -1.90541812],\n",
       "       [-0.8254984 , -1.96257649],\n",
       "       [-1.39459276, -1.57691424],\n",
       "       [-0.70144578, -2.02320107],\n",
       "       [-0.75273907, -2.31088289],\n",
       "       [-1.53769354, -1.4284943 ],\n",
       "       [-1.6602958 , -1.57691424],\n",
       "       [-0.62140309, -2.31088289],\n",
       "       [-2.08773954, -1.57691424],\n",
       "       [-0.65265563, -2.08773954],\n",
       "       [-0.57628266, -2.39789417],\n",
       "       [ 0.        ,  0.        ],\n",
       "       [-0.56168387, -2.59856462],\n",
       "       [-0.62140309, -2.15673235],\n",
       "       [-2.08773954, -1.53769354],\n",
       "       [-1.90541812, -1.49995323],\n",
       "       [-1.24044214, -2.02320107],\n",
       "       [-0.94564269, -1.4635856 ],\n",
       "       [-1.24044214, -2.31088289],\n",
       "       [-1.01160064, -1.53769354],\n",
       "       [-1.15820407, -2.71634749],\n",
       "       [-1.15820407, -2.49320424],\n",
       "       [-1.03459015, -1.4635856 ],\n",
       "       [-0.98912779, -1.4284943 ],\n",
       "       [-1.29928262, -2.15673235],\n",
       "       [-1.26942967, -1.39459276],\n",
       "       [-0.8837673 , -2.15673235],\n",
       "       [-1.08221818, -1.4635856 ],\n",
       "       [-0.98912779, -2.23084026],\n",
       "       [-1.29928262, -1.49995323],\n",
       "       [-1.10691079, -2.31088289],\n",
       "       [-1.13222859, -1.61773621],\n",
       "       [-0.90397   , -2.23084026],\n",
       "       [-0.92458928, -3.00402906],\n",
       "       [-1.61773621, -1.80005767],\n",
       "       [-0.77043864, -1.70474754],\n",
       "       [-0.73534733, -1.90541812],\n",
       "       [-0.7182529 , -1.85135093],\n",
       "       [-1.57691424, -1.96257649],\n",
       "       [-1.70474754, -1.70474754],\n",
       "       [-0.75273907, -1.80005767],\n",
       "       [-0.77043864, -1.70474754],\n",
       "       [-1.4635856 , -1.85135093],\n",
       "       [-1.08221818, -2.31088289],\n",
       "       [-1.26942967, -2.23084026],\n",
       "       [-0.98912779, -1.4635856 ],\n",
       "       [-1.08221818, -1.4635856 ],\n",
       "       [-1.24044214, -2.23084026],\n",
       "       [-1.01160064, -1.49995323],\n",
       "       [-0.98912779, -1.53769354],\n",
       "       [-0.96714889, -1.57691424],\n",
       "       [-0.94564269, -1.53769354],\n",
       "       [-0.90397   , -1.90541812],\n",
       "       [-1.13222859, -1.61773621],\n",
       "       [-1.39459276, -1.75126753],\n",
       "       [-1.26942967, -1.70474754],\n",
       "       [-1.03459015, -1.90541812],\n",
       "       [-0.86396468, -1.80005767],\n",
       "       [-0.92458928, -2.02320107],\n",
       "       [-1.15820407, -1.70474754],\n",
       "       [-0.90397   , -1.85135093],\n",
       "       [-1.29928262, -2.49320424],\n",
       "       [-1.26942967, -2.49320424],\n",
       "       [-1.24044214, -2.39789417],\n",
       "       [-1.26942967, -2.59856462],\n",
       "       [-0.94564269, -1.36180295],\n",
       "       [-1.26942967, -2.49320424],\n",
       "       [-0.96714889, -1.39459276],\n",
       "       [-1.29928262, -2.49320424],\n",
       "       [-0.98912779, -1.4635856 ],\n",
       "       [-1.15820407, -1.75126753],\n",
       "       [-0.86396468, -1.96257649],\n",
       "       [-0.92458928, -1.85135093],\n",
       "       [-1.18487231, -1.80005767],\n",
       "       [-1.26942967, -1.85135093],\n",
       "       [-1.18487231, -1.80005767],\n",
       "       [-1.26942967, -1.80005767],\n",
       "       [-0.92458928, -1.90541812],\n",
       "       [-1.26942967, -1.80005767],\n",
       "       [-0.78845714, -1.96257649],\n",
       "       [-1.26942967, -1.61773621],\n",
       "       [-0.70144578, -2.08773954],\n",
       "       [-0.75273907, -2.23084026],\n",
       "       [-1.49995323, -1.4635856 ],\n",
       "       [-1.6602958 , -1.70474754],\n",
       "       [-1.49995323, -1.57691424],\n",
       "       [-0.86396468, -2.08773954],\n",
       "       [-0.73534733, -2.08773954],\n",
       "       [-0.59109775, -2.49320424],\n",
       "       [ 0.        ,  0.        ],\n",
       "       [-0.56168387, -2.59856462],\n",
       "       [-0.63690727, -2.08773954],\n",
       "       [-2.15673235, -1.57691424],\n",
       "       [-1.96257649, -1.53769354],\n",
       "       [-0.62140309, -2.15673235],\n",
       "       [-0.62140309, -2.08773954],\n",
       "       [-0.57628266, -2.71634749],\n",
       "       [-1.05812064, -1.4635856 ],\n",
       "       [-1.18487231, -2.59856462],\n",
       "       [-1.18487231, -2.49320424],\n",
       "       [-1.08221818, -1.4284943 ],\n",
       "       [-0.98912779, -1.39459276],\n",
       "       [-1.26942967, -2.15673235],\n",
       "       [-1.21227127, -2.15673235],\n",
       "       [-0.94564269, -1.49995323],\n",
       "       [-1.29928262, -2.15673235],\n",
       "       [-1.03459015, -2.15673235],\n",
       "       [-1.33005426, -1.57691424],\n",
       "       [-1.10691079, -2.31088289],\n",
       "       [-1.13222859, -1.61773621],\n",
       "       [-0.90397   , -2.31088289],\n",
       "       [-0.96714889, -3.00402906],\n",
       "       [-1.01160064, -2.15673235],\n",
       "       [-1.26942967, -1.57691424],\n",
       "       [-1.13222859, -1.4635856 ],\n",
       "       [-0.73534733, -1.85135093],\n",
       "       [-1.57691424, -1.90541812],\n",
       "       [-1.70474754, -1.6602958 ],\n",
       "       [-0.75273907, -1.75126753],\n",
       "       [-0.77043864, -1.6602958 ],\n",
       "       [-1.57691424, -1.85135093],\n",
       "       [-0.75273907, -1.80005767],\n",
       "       [-1.75126753, -1.70474754],\n",
       "       [-1.49995323, -1.80005767],\n",
       "       [-1.13222859, -1.4284943 ],\n",
       "       [-1.26942967, -2.23084026],\n",
       "       [-0.98912779, -1.4635856 ],\n",
       "       [-1.05812064, -1.49995323],\n",
       "       [-0.94564269, -1.53769354],\n",
       "       [-0.98912779, -1.53769354],\n",
       "       [-0.96714889, -1.57691424],\n",
       "       [-1.21227127, -2.15673235],\n",
       "       [-0.96714889, -1.49995323],\n",
       "       [-1.33005426, -1.70474754],\n",
       "       [-1.08221818, -1.96257649],\n",
       "       [-0.8837673 , -1.80005767],\n",
       "       [-0.90397   , -2.02320107],\n",
       "       [-1.15820407, -1.70474754],\n",
       "       [-0.8837673 , -1.75126753],\n",
       "       [-1.26942967, -1.6602958 ],\n",
       "       [-1.18487231, -1.6602958 ],\n",
       "       [-0.8837673 , -1.90541812],\n",
       "       [-1.26942967, -2.59856462],\n",
       "       [-0.98912779, -1.33005426],\n",
       "       [-1.21227127, -2.49320424],\n",
       "       [-0.94564269, -1.36180295],\n",
       "       [-1.26942967, -2.59856462],\n",
       "       [-0.92458928, -1.4284943 ],\n",
       "       [-0.96714889, -1.39459276],\n",
       "       [-1.29928262, -2.49320424],\n",
       "       [-1.15820407, -2.49320424],\n",
       "       [-1.13222859, -1.80005767],\n",
       "       [-1.24044214, -1.90541812],\n",
       "       [-1.24044214, -1.85135093],\n",
       "       [-1.21227127, -1.75126753],\n",
       "       [-0.90397   , -1.85135093],\n",
       "       [-1.21227127, -1.75126753],\n",
       "       [-0.94564269, -1.80005767],\n",
       "       [-0.94564269, -1.85135093],\n",
       "       [-1.24044214, -1.85135093],\n",
       "       [-0.73534733, -2.15673235],\n",
       "       [-1.4284943 , -1.4284943 ],\n",
       "       [-1.70474754, -1.61773621],\n",
       "       [-1.53769354, -1.57691424],\n",
       "       [-0.84454659, -2.15673235],\n",
       "       [-0.7182529 , -1.96257649],\n",
       "       [-0.84454659, -1.96257649],\n",
       "       [-1.36180295, -1.61773621],\n",
       "       [-1.70474754, -1.53769354]])"
      ]
     },
     "execution_count": 2499,
     "metadata": {},
     "output_type": "execute_result"
    }
   ],
   "source": [
    "def test():\n",
    "    abs_seq_pos = 34\n",
    "    filter_info = image_idx_to_filter_idx[abs_seq_pos]\n",
    "    print(filter_info)\n",
    "    num_overlapping_filters = filter_info.shape[0]\n",
    "\n",
    "    relative_positions = filter_info[:,2]\n",
    "    rep_relative_positions = np.repeat(\n",
    "        relative_positions, kernel_size**2)\n",
    "    rep_arange = np.tile(np.arange(kernel_size**2), num_overlapping_filters)\n",
    "    \n",
    "    # oh wait nvm going to use this to update the img.. wait shouldnt these be the same?\n",
    "#     kernel_img_vals = alt_img[\n",
    "#         (filter_info[:,0]/stride).astype(int),\n",
    "#         (filter_info[:,1]/stride).astype(int),\n",
    "#         filter_info[:,2],\n",
    "#         3\n",
    "#     ]\n",
    "    #print(kernel_img_vals)\n",
    "    kernel_img_vals = alt_img[\n",
    "        np.repeat((filter_info[:,0]/stride).astype(int), kernel_size**2),\n",
    "        np.repeat((filter_info[:,1]/stride).astype(int), kernel_size**2),\n",
    "        rep_arange].astype(int)\n",
    "\n",
    "    aff = affinity_tensor[\n",
    "            rep_relative_positions, \n",
    "            rep_arange, \n",
    "            # index later to get modded config?\n",
    "            :, \n",
    "            kernel_img_vals\n",
    "    ]\n",
    "\n",
    "    return aff\n",
    "\n",
    "test()"
   ]
  },
  {
   "cell_type": "code",
   "execution_count": 2589,
   "metadata": {},
   "outputs": [],
   "source": [
    "\n",
    "\n",
    "def mcmc_step(affinity_tensor, img, alt_img, beta, kernel_size, stride, sample_prop=1, \n",
    "              max_filters=100, step=None, pix_by_pix=False):\n",
    "    '''Monte Carlo step using Metropolis algorithm '''\n",
    "    \n",
    "    # Get the kernel indices that we're calculating energy for\n",
    "    h=img.shape[0]\n",
    "    w=img.shape[1]\n",
    "    #kernel_idx = np.array(\n",
    "    #    [kernel_size*floor(a/kernel_size), \n",
    "    #    kernel_size*floor(b/kernel_size)])\n",
    "    num_convs_w = floor((w-kernel_size)/stride)+1\n",
    "    num_convs_h = floor((h-kernel_size)/stride)+1\n",
    "    \n",
    "    image_idx = np.arange(img.shape[0]*img.shape[1]).reshape(img.shape)\n",
    "    \n",
    "    \n",
    "    #for _ in num_mods:\n",
    "    \n",
    "    ### Multiply stride by sample from number of filters to get idx of corner\n",
    "    ##kernel_idx = np.array([\n",
    "    ##    stride*np.random.randint(num_convs_h),\n",
    "    ##    stride*np.random.randint(num_convs_w)])\n",
    "    ##    \n",
    "    ### Random positions relative to sequence\n",
    "    \n",
    "    ##pos1 = np.random.randint(kernel_size**2)\n",
    "    ##pos2 = np.random.randint(kernel_size**2)\n",
    "    ### Get relative indices in window\n",
    "    \n",
    "    ##idx1 = np.unravel_index(pos1, (kernel_size,kernel_size))\n",
    "    ##idx2 = np.unravel_index(pos2, (kernel_size,kernel_size))\n",
    "    ##abs_idx1 = tuple(kernel_idx + idx1)\n",
    "    ##abs_idx2 = tuple(kernel_idx + idx2)\n",
    "    ##\n",
    "    ##abs_seq_pos1 = image_idx[abs_idx1]\n",
    "    ##abs_seq_pos2 = image_idx[abs_idx2]\n",
    "    \n",
    "    \n",
    "    if pix_by_pix:\n",
    "        \n",
    "        # Update pixel by pixel in sequence\n",
    "        abs_seq_pos = step % (h*w)\n",
    "        \n",
    "        # Update pixel by pixel within kernel\n",
    "#         filter_num = step // kernel_size**2\n",
    "#         rel_pos = step % kernel_size**2\n",
    "#         filter_idx = np.unravel_index(filter_num, shape=(num_convs_h, num_convs_w))\n",
    "#         filter_idx = (filter_idx[0]*stride, filter_idx[1]*stride)\n",
    "    else:\n",
    "        abs_seq_pos = np.random.randint(h*w)\n",
    "    abs_idx = np.unravel_index(abs_seq_pos, (h, w))\n",
    "    \n",
    "    \n",
    "    # Calc current log_prob for sampled window\n",
    "    ###log_prob, cnt = calc_total_log_prob(\n",
    "    ###   affinity_tensor, img, kernel_size, stride)\n",
    "    \n",
    "    #print(cnt)\n",
    "    #, res1, res11\n",
    "#     log_prob = calc_log_prob(\n",
    "#         affinity_tensor, img, kernel_idx[0], kernel_idx[1], kernel_size)\n",
    "\n",
    "    # Get current config for pos1 and pos2 and propose new config\n",
    "    # Accept config with some probability\n",
    "    \n",
    "    current_config = img[abs_idx]\n",
    "    ##\n",
    "    modded_img = img.copy()\n",
    "    ###modded_img[abs_idx1] = np.random.randint(2)\n",
    "    ###modded_img[abs_idx2] = np.random.randint(2)\n",
    "    ##\n",
    "    ### just make sure you dont sample old config\n",
    "    ##sample_config = lambda: [np.random.randint(2), np.random.randint(2)]\n",
    "    ##proposal_config = sample_config()\n",
    "    proposal_config = np.random.randint(num_colors)\n",
    "    while proposal_config == current_config:\n",
    "        proposal_config = np.random.randint(num_colors)\n",
    "    ##modded_img[abs_idx1] = proposal_config[0]\n",
    "    ##modded_img[abs_idx2] = proposal_config[1]\n",
    "    modded_img[abs_idx] = proposal_config\n",
    "    \n",
    "#     print('kernel' , kernel_size,'stride', stride)\n",
    "#     print('kernel idx:', kernel_idx)\n",
    "#     print(pos1, pos2, idx1, idx2)\n",
    "#     print('abs_idx1:', abs_idx1, 'abs_idx2:', abs_idx2)\n",
    "#     print('current', current_config)\n",
    "#     print('mod', modded_img[abs_idx1], modded_img[abs_idx2])\n",
    "    #print('kernel' , kernel_size,'stride', stride)\n",
    "    #print(abs_seq_pos, abs_idx)\n",
    "    #print('current', current_config)\n",
    "    \n",
    "    delta_likelihood = 0\n",
    "    \n",
    "    #abs_seq_pos_list = [abs_seq_pos1, abs_seq_pos2]\n",
    "    \n",
    "    # Update the likelihood for both \n",
    "    #for i in range(len(abs_seq_pos_list)):\n",
    "        \n",
    "    # Check if value is actually changed\n",
    "    #if current_config[i] != proposal_config[i]:\n",
    "\n",
    "        #print(i, 'actually changed')\n",
    "\n",
    "    #abs_seq_pos = abs_seq_pos_list[i]\n",
    "    \n",
    "    # 34 -> [(0,2),(2,2) ... ] \n",
    "#     filter_corners = np.array(image_idx_to_filter_idx[abs_seq_pos])\n",
    "#     # subsample filters\n",
    "#     if len(filter_corners) > max_filters:\n",
    "#         subsample_filters = np.random.choice(\n",
    "#             len(filter_corners), size=max_filters, replace=False).astype(int)\n",
    "#         #print(subsample_filters)\n",
    "#         filter_corners = filter_corners[subsample_filters]\n",
    "        \n",
    "#     #print(filter_corners)\n",
    "#     #print(img.shape)\n",
    "#     #print(abs_seq_pos)\n",
    "#     #print('filter corners', filter_corners)\n",
    "    \n",
    "    \n",
    "    \n",
    "    \n",
    "#     for i, j in filter_corners:\n",
    "#         # (0,2) and 34 -> (2,0)\n",
    "#         ker_seq_pos = get_seq_pos(i, j, kernel_size, img.shape, abs_seq_pos)\n",
    "#         #print('ker seq pos:',i,j, abs_seq_pos, '->', ker_seq_pos)\n",
    "\n",
    "#         # (0,2) -> list of img_seq_idx -> abs_img_idx -> img_vals\n",
    "#         kernel_img_vals = np.array([\n",
    "#             img[np.unravel_index(image_idx, img.shape)]\n",
    "#             for image_idx \n",
    "#             in filter_idx_to_image_idx[(i,j)]])\n",
    "\n",
    "#         #print(kernel_img_vals)\n",
    "#         subsample_pairs = np.random.choice(\n",
    "#             kernel_size**2, size=int(sample_prop*kernel_size**2), replace=False).astype(int)\n",
    "#         #print(subsample_pairs)\n",
    "#         #print(ker_seq_pos)\n",
    "#         #print(kernel_img_vals)\n",
    "#         # should return vector length kernel^2 with likelihoods \n",
    "#         updated_local_likelihood = affinity_tensor[\n",
    "#             ker_seq_pos, \n",
    "#             np.arange(kernel_size**2)[subsample_pairs], \n",
    "#             proposal_config, \n",
    "#             kernel_img_vals[subsample_pairs]]\n",
    "\n",
    "#         old_local_likelihood = affinity_tensor[\n",
    "#             ker_seq_pos, \n",
    "#             np.arange(kernel_size**2)[subsample_pairs], \n",
    "#             current_config, \n",
    "#             kernel_img_vals[subsample_pairs]]\n",
    "#         #print(np.sum(updated_local_likelihood), np.sum(old_local_likelihood))\n",
    "\n",
    "#         delta_likelihood += (\n",
    "#             np.sum(updated_local_likelihood) - np.sum(old_local_likelihood))\n",
    "        \n",
    "    \n",
    "    # array of shape (num overlapping filters, 3), rows are (0,2,5)\n",
    "    filter_info = image_idx_to_filter_idx[abs_seq_pos]\n",
    "    num_overlapping_filters = filter_info.shape[0]\n",
    "    \n",
    "    relative_positions = filter_info[:,2]\n",
    "    rep_relative_positions = np.repeat(\n",
    "        relative_positions, kernel_size**2)\n",
    "    rep_arange = np.tile(np.arange(kernel_size**2), num_overlapping_filters)\n",
    "    \n",
    "    #print(filter_info)\n",
    "    #print(num_overlapping_filters)\n",
    "    #print(rep_relative_positions)\n",
    "    #print('\\n')\n",
    "    #print(rep_arange)\n",
    "    #print('\\n')\n",
    "    #print(np.repeat((filter_info[:,0]/stride).astype(int), kernel_size**2))\n",
    "    #\n",
    "    #print()\n",
    "    kernel_img_vals = alt_img[\n",
    "        np.repeat((filter_info[:,0]/stride).astype(int), kernel_size**2),\n",
    "        np.repeat((filter_info[:,1]/stride).astype(int), kernel_size**2),\n",
    "        rep_arange].astype(int)\n",
    "    \n",
    "    aff = affinity_tensor[\n",
    "            rep_relative_positions, \n",
    "            rep_arange, \n",
    "            # index later to get modded config?\n",
    "            :, \n",
    "            kernel_img_vals\n",
    "    ]\n",
    "    \n",
    "    #print(aff.shape)\n",
    "    \n",
    "    likelihoods = aff.sum(axis=0)\n",
    "    log_diff = likelihoods[proposal_config] - likelihoods[current_config]\n",
    "    #print(log_diff)\n",
    "    \n",
    "#     for i, j in filter_corners:\n",
    "#         # (0,2) and 34 -> (2,0)\n",
    "#         ker_seq_pos = get_seq_pos(i, j, kernel_size, img.shape, abs_seq_pos)\n",
    "#         #print('ker seq pos:',i,j, abs_seq_pos, '->', ker_seq_pos)\n",
    "\n",
    "#         # (0,2) -> list of img_seq_idx -> abs_img_idx -> img_vals\n",
    "#         kernel_img_vals = np.array([\n",
    "#             img[np.unravel_index(image_idx, img.shape)]\n",
    "#             for image_idx \n",
    "#             in filter_idx_to_image_idx[(i,j)]])\n",
    "\n",
    "#         #print(kernel_img_vals)\n",
    "#         subsample_pairs = np.random.choice(\n",
    "#             kernel_size**2, size=int(sample_prop*kernel_size**2), replace=False).astype(int)\n",
    "#         #print(subsample_pairs)\n",
    "#         #print(ker_seq_pos)\n",
    "#         #print(kernel_img_vals)\n",
    "#         # should return vector length kernel^2 with likelihoods \n",
    "#         updated_local_likelihood = affinity_tensor[\n",
    "#             ker_seq_pos, \n",
    "#             np.arange(kernel_size**2)[subsample_pairs], \n",
    "#             proposal_config, \n",
    "#             kernel_img_vals[subsample_pairs]]\n",
    "\n",
    "#         old_local_likelihood = affinity_tensor[\n",
    "#             ker_seq_pos, \n",
    "#             np.arange(kernel_size**2)[subsample_pairs], \n",
    "#             current_config, \n",
    "#             kernel_img_vals[subsample_pairs]]\n",
    "#         #print(np.sum(updated_local_likelihood), np.sum(old_local_likelihood))\n",
    "\n",
    "#         delta_likelihood += (\n",
    "#             np.sum(updated_local_likelihood) - np.sum(old_local_likelihood))\n",
    "        \n",
    "        \n",
    "                \n",
    "    # sample img vals and seq position with array later\n",
    "    \n",
    "    \n",
    "    # Proposal log_prob\n",
    "    ###modded_log_prob, cnt2 = calc_total_log_prob(\n",
    "    ###   affinity_tensor, modded_img, kernel_size, stride)\n",
    "    \n",
    "    #print(cnt2)\n",
    "    #print('mod')\n",
    "    #, res2, res22\n",
    "#     modded_log_prob = calc_log_prob(\n",
    "#         affinity_tensor, modded_img, kernel_idx[0], kernel_idx[1], kernel_size)\n",
    "\n",
    "    \n",
    "    ###log_diff = modded_log_prob - log_prob\n",
    "    ###log_diff = delta_likelihood\n",
    "    #print(log_diff)\n",
    "    \n",
    "    #print(list(zip(res1, res2)))\n",
    "    #print([i==j for (i,j) in list(zip(res1, res2))])\n",
    "    #print(len(res1)-sum([i==j for (i,j) in list(zip(res1, res2))]))\n",
    "    #print(np.where([i!=j for (i,j) in list(zip(res1, res2))]))\n",
    "    #print(np.array(res11)[np.where([i!=j for (i,j) in list(zip(res1, res2))])[0]])\n",
    "    #print(np.array(res22)[np.where([i!=j for (i,j) in list(zip(res1, res2))])[0]])\n",
    "    \n",
    "\n",
    "\n",
    "\n",
    "\n",
    "\n",
    "\n",
    "    ##\n",
    "    #print(log_prob, modded_log_prob)\n",
    "    #print('log diff', log_diff)\n",
    "    #print(np.exp(log_diff*beta))\n",
    "\n",
    "    # If higher likelihood then keep\n",
    "    if log_diff >= 0:\n",
    "        #print('accept!')\n",
    "        #return modded_img, 1, modded_log_prob\n",
    "\n",
    "        alt_img[\n",
    "            (filter_info[:,0]/stride).astype(int),\n",
    "            (filter_info[:,1]/stride).astype(int),\n",
    "            filter_info[:,2]] = proposal_config\n",
    "        \n",
    "        return modded_img, alt_img, 1, log_diff\n",
    "    \n",
    "    # if lower likelihood, accept with some prob\n",
    "    elif np.random.rand() < np.exp(log_diff*beta):\n",
    "        #print('accept!')\n",
    "        #return modded_img, 1, modded_log_prob\n",
    "        \n",
    "        alt_img[\n",
    "            (filter_info[:,0]/stride).astype(int),\n",
    "            (filter_info[:,1]/stride).astype(int),\n",
    "            filter_info[:,2]] = proposal_config\n",
    "        \n",
    "        return modded_img, alt_img, 1, log_diff\n",
    "    else:\n",
    "        #print('reject :(')\n",
    "        #return img, 0, log_prob\n",
    "        return img, alt_img, 0, 0\n",
    "    "
   ]
  },
  {
   "cell_type": "code",
   "execution_count": 2557,
   "metadata": {},
   "outputs": [
    {
     "ename": "KeyError",
     "evalue": "2915",
     "output_type": "error",
     "traceback": [
      "\u001b[0;31m---------------------------------------------------------------------------\u001b[0m",
      "\u001b[0;31mKeyError\u001b[0m                                  Traceback (most recent call last)",
      "\u001b[0;32m<ipython-input-2557-25be113dace8>\u001b[0m in \u001b[0;36m<module>\u001b[0;34m\u001b[0m\n\u001b[1;32m      2\u001b[0m \u001b[0mnp\u001b[0m\u001b[0;34m.\u001b[0m\u001b[0mrandom\u001b[0m\u001b[0;34m.\u001b[0m\u001b[0mseed\u001b[0m\u001b[0;34m(\u001b[0m\u001b[0;36m5\u001b[0m\u001b[0;34m)\u001b[0m\u001b[0;34m\u001b[0m\u001b[0m\n\u001b[1;32m      3\u001b[0m mcmc_step(affinity_tensor, img, alt_img, beta=5, kernel_size=8, stride=4, sample_prop=0.25, \n\u001b[0;32m----> 4\u001b[0;31m           max_filters=10)\n\u001b[0m",
      "\u001b[0;32m<ipython-input-2556-9ba113d63e4e>\u001b[0m in \u001b[0;36mmcmc_step\u001b[0;34m(affinity_tensor, img, alt_img, beta, kernel_size, stride, sample_prop, max_filters, step, pix_by_pix)\u001b[0m\n\u001b[1;32m    159\u001b[0m \u001b[0;34m\u001b[0m\u001b[0m\n\u001b[1;32m    160\u001b[0m     \u001b[0;31m# array of shape (num overlapping filters, 3), rows are (0,2,5)\u001b[0m\u001b[0;34m\u001b[0m\u001b[0;34m\u001b[0m\u001b[0m\n\u001b[0;32m--> 161\u001b[0;31m     \u001b[0mfilter_info\u001b[0m \u001b[0;34m=\u001b[0m \u001b[0mimage_idx_to_filter_idx\u001b[0m\u001b[0;34m[\u001b[0m\u001b[0mabs_seq_pos\u001b[0m\u001b[0;34m]\u001b[0m\u001b[0;34m\u001b[0m\u001b[0m\n\u001b[0m\u001b[1;32m    162\u001b[0m     \u001b[0mnum_overlapping_filters\u001b[0m \u001b[0;34m=\u001b[0m \u001b[0mfilter_info\u001b[0m\u001b[0;34m.\u001b[0m\u001b[0mshape\u001b[0m\u001b[0;34m[\u001b[0m\u001b[0;36m0\u001b[0m\u001b[0;34m]\u001b[0m\u001b[0;34m\u001b[0m\u001b[0m\n\u001b[1;32m    163\u001b[0m \u001b[0;34m\u001b[0m\u001b[0m\n",
      "\u001b[0;31mKeyError\u001b[0m: 2915"
     ]
    }
   ],
   "source": [
    "# 3\n",
    "np.random.seed(5)\n",
    "mcmc_step(affinity_tensor, img, alt_img, beta=5, kernel_size=8, stride=4, sample_prop=0.25, \n",
    "          max_filters=10)"
   ]
  },
  {
   "cell_type": "code",
   "execution_count": 901,
   "metadata": {},
   "outputs": [
    {
     "data": {
      "text/plain": [
       "(16, 16)"
      ]
     },
     "execution_count": 901,
     "metadata": {},
     "output_type": "execute_result"
    }
   ],
   "source": [
    "img_samp.shape"
   ]
  },
  {
   "cell_type": "code",
   "execution_count": 1528,
   "metadata": {},
   "outputs": [],
   "source": [
    "from time import time"
   ]
  },
  {
   "cell_type": "code",
   "execution_count": 2907,
   "metadata": {},
   "outputs": [],
   "source": [
    "# Run this first!!\n",
    "#kernel_size=9\n",
    "#stride=3\n",
    "#init_samp = np.random.randint(num_colors, size=img.shape)\n",
    "#gen_size = (48,48)\n",
    "#assert gen_size[0] % \n",
    "init_samp = np.random.randint(num_colors, size=(48,48))\n",
    "#init_samp = np.random.randint(num_colors, size=(kernel_size, kernel_size))\n",
    "log_prob_init = calc_total_log_prob(\n",
    "    affinity_tensor, init_samp, kernel_size=kernel_size, stride=stride)"
   ]
  },
  {
   "cell_type": "code",
   "execution_count": 2916,
   "metadata": {},
   "outputs": [
    {
     "name": "stdout",
     "output_type": "stream",
     "text": [
      "Step 0 - log_prob = -1203202.0, accept_prob = 0.0\n",
      "Step 3000 - log_prob = -1086588.0, accept_prob = 0.405\n",
      "Step 6000 - log_prob = -1030202.0, accept_prob = 0.235\n",
      "Step 9000 - log_prob = -1004571.0, accept_prob = 0.17\n",
      "Step 12000 - log_prob = -995174.0, accept_prob = 0.085\n",
      "Step 15000 - log_prob = -991911.0, accept_prob = 0.11\n",
      "Step 18000 - log_prob = -990928.0, accept_prob = 0.07\n",
      "Step 21000 - log_prob = -989845.0, accept_prob = 0.03\n",
      "Step 24000 - log_prob = -989680.0, accept_prob = 0.07\n",
      "Step 27000 - log_prob = -989027.0, accept_prob = 0.03\n",
      "Finished in 4s\n"
     ]
    }
   ],
   "source": [
    "#np.random.seed(4)\n",
    "\n",
    "samps = []\n",
    "accepts = []\n",
    "probs = []\n",
    "\n",
    "img_samp = init_samp\n",
    "log_prob = log_prob_init\n",
    "\n",
    "\n",
    "#img_samp = np.zeros(img.shape).astype(int)+1\n",
    "#img_samp = img[:48, :48]\n",
    "\n",
    "tot_steps = 30000\n",
    "upper_beta=0.1\n",
    "lower_beta=0.003\n",
    "\n",
    "# Take down temperature over time\n",
    "betas = np.linspace(lower_beta, upper_beta, tot_steps)\n",
    "\n",
    "filter_idx_to_image_idx = construct_filters_idx_dict(\n",
    "    img_samp.shape, kernel_size, stride)\n",
    "\n",
    "#image_idx_to_filter_idx = invert_dict(filter_idx_to_image_idx)\n",
    "\n",
    "image_idx_to_filter_idx = invert_filter2img_dict(\n",
    "    filter_idx_to_image_idx, kernel_size, img_samp.shape)\n",
    "\n",
    "alt_img_samp = construct_alternate_img_array(\n",
    "    image_idx_to_filter_idx, img_samp, kernel_size, stride)\n",
    "\n",
    "#print(log_prob)\n",
    "start = time()\n",
    "for step in range(tot_steps):\n",
    "    img_samp, alt_img_samp, accept, delta_prob = mcmc_step(\n",
    "        affinity_tensor, \n",
    "        img_samp, \n",
    "        alt_img_samp,\n",
    "        beta=betas[step], \n",
    "        #beta=lower_beta,\n",
    "        kernel_size=kernel_size, \n",
    "        stride=stride,\n",
    "        sample_prop=1,\n",
    "        max_filters=5,\n",
    "        step=step,\n",
    "        #pix_by_pix=True\n",
    "    )\n",
    "    \n",
    "    log_prob += delta_prob\n",
    "    #)\n",
    "    \n",
    "    #betas[step]\n",
    "    samps.append(img_samp)\n",
    "    accepts.append(accept)\n",
    "    probs.append(log_prob)\n",
    "    \n",
    "    if (step*10) % tot_steps == 0:\n",
    "        accept_prob = np.array(accepts)[-200:].mean()\n",
    "        print(f'Step {step} - log_prob = {round(log_prob)}, accept_prob = {accept_prob}' )\n",
    "end = time()\n",
    "print(f'Finished in {round(end-start)}s')"
   ]
  },
  {
   "cell_type": "code",
   "execution_count": null,
   "metadata": {},
   "outputs": [],
   "source": []
  },
  {
   "cell_type": "code",
   "execution_count": 2917,
   "metadata": {},
   "outputs": [
    {
     "name": "stdout",
     "output_type": "stream",
     "text": [
      "0.15196666666666667\n"
     ]
    }
   ],
   "source": [
    "print(sum(accepts)/len(accepts))"
   ]
  },
  {
   "cell_type": "code",
   "execution_count": 2918,
   "metadata": {},
   "outputs": [
    {
     "data": {
      "text/plain": [
       "<matplotlib.axes._subplots.AxesSubplot at 0x7fdb1456d780>"
      ]
     },
     "execution_count": 2918,
     "metadata": {},
     "output_type": "execute_result"
    },
    {
     "data": {
      "image/png": "[encoded data removed]",
      "text/plain": [
       "<Figure size 432x288 with 1 Axes>"
      ]
     },
     "metadata": {
      "needs_background": "light"
     },
     "output_type": "display_data"
    }
   ],
   "source": [
    "accept_df = pd.Series(accepts).cumsum().reset_index()\n",
    "(accept_df[0]/(accept_df['index']+1)).plot()\n"
   ]
  },
  {
   "cell_type": "code",
   "execution_count": 2919,
   "metadata": {},
   "outputs": [
    {
     "data": {
      "text/plain": [
       "<matplotlib.axes._subplots.AxesSubplot at 0x7fdb973d6cc0>"
      ]
     },
     "execution_count": 2919,
     "metadata": {},
     "output_type": "execute_result"
    },
    {
     "data": {
      "image/png": "[encoded data removed]",
      "text/plain": [
       "<Figure size 432x288 with 1 Axes>"
      ]
     },
     "metadata": {
      "needs_background": "light"
     },
     "output_type": "display_data"
    }
   ],
   "source": [
    "accept_df = pd.Series(accepts).rolling(100).sum().reset_index()\n",
    "(accept_df[0]/100).plot()\n"
   ]
  },
  {
   "cell_type": "code",
   "execution_count": 2920,
   "metadata": {},
   "outputs": [
    {
     "data": {
      "text/plain": [
       "[<matplotlib.lines.Line2D at 0x7fdb52480c18>]"
      ]
     },
     "execution_count": 2920,
     "metadata": {},
     "output_type": "execute_result"
    },
    {
     "data": {
      "image/png": "[encoded data removed]",
      "text/plain": [
       "<Figure size 432x288 with 1 Axes>"
      ]
     },
     "metadata": {
      "needs_background": "light"
     },
     "output_type": "display_data"
    }
   ],
   "source": [
    "plt.plot(probs)"
   ]
  },
  {
   "cell_type": "code",
   "execution_count": 2921,
   "metadata": {},
   "outputs": [],
   "source": [
    "from matplotlib import animation, rc\n",
    "from IPython.display import HTML"
   ]
  },
  {
   "cell_type": "code",
   "execution_count": 2922,
   "metadata": {},
   "outputs": [
    {
     "data": {
      "text/plain": [
       "-93778.07129349507"
      ]
     },
     "execution_count": 2922,
     "metadata": {},
     "output_type": "execute_result"
    }
   ],
   "source": [
    "calc_total_log_prob(affinity_tensor, samps[-1], 4,2)"
   ]
  },
  {
   "cell_type": "code",
   "execution_count": 2923,
   "metadata": {},
   "outputs": [
    {
     "data": {
      "text/plain": [
       "<matplotlib.image.AxesImage at 0x7fdc571327b8>"
      ]
     },
     "execution_count": 2923,
     "metadata": {},
     "output_type": "execute_result"
    },
    {
     "data": {
      "image/png": "[encoded data removed]",
      "text/plain": [
       "<Figure size 576x576 with 1 Axes>"
      ]
     },
     "metadata": {
      "needs_background": "light"
     },
     "output_type": "display_data"
    }
   ],
   "source": [
    "plt.figure(figsize=(8,8))\n",
    "plt.imshow(samps[-1],cmap='gray')"
   ]
  },
  {
   "cell_type": "code",
   "execution_count": 2886,
   "metadata": {},
   "outputs": [
    {
     "data": {
      "text/plain": [
       "<matplotlib.image.AxesImage at 0x7fdb1405a940>"
      ]
     },
     "execution_count": 2886,
     "metadata": {},
     "output_type": "execute_result"
    },
    {
     "data": {
      "image/png": "[encoded data removed]",
      "text/plain": [
       "<Figure size 576x576 with 1 Axes>"
      ]
     },
     "metadata": {
      "needs_background": "light"
     },
     "output_type": "display_data"
    }
   ],
   "source": [
    "plt.figure(figsize=(8,8))\n",
    "plt.imshow(np.array(samps[9000:]).mean(axis=0), cmap='gray')"
   ]
  },
  {
   "cell_type": "code",
   "execution_count": 2802,
   "metadata": {},
   "outputs": [],
   "source": [
    "import datetime"
   ]
  },
  {
   "cell_type": "code",
   "execution_count": 2866,
   "metadata": {},
   "outputs": [
    {
     "data": {
      "image/png": "[encoded data removed]",
      "text/plain": [
       "<Figure size 288x288 with 1 Axes>"
      ]
     },
     "metadata": {
      "needs_background": "light"
     },
     "output_type": "display_data"
    }
   ],
   "source": [
    "fig, ax = plt.subplots(1,1, figsize=(4,4))\n",
    "\n",
    "#im = ax.imshow(samps[0])\n",
    "ax.axis('off')\n",
    "\n",
    "num_frames=min(50, len(samps))\n",
    "frame_idx = np.round(\n",
    "    np.linspace(0, len(samps)-1, num_frames)).astype(int)\n",
    "\n",
    "def init():\n",
    "    im.set_array(samps[0])\n",
    "    return im\n",
    "\n",
    "def animate(i):\n",
    "    #print(i)\n",
    "    #ax.clear()\n",
    "    ax.imshow(samps[frame_idx[i]], cmap='gray')\n",
    "    #im.set_array(samps[i])\n",
    "\n",
    "anim = animation.FuncAnimation(\n",
    "    fig, animate, \n",
    "    frames=num_frames-1, \n",
    "    #init_func=init, \n",
    "    interval=75) \n",
    "\n",
    "directory = datetime.datetime.now().strftime(\"%m%d%y_%H%M%S\")\n",
    "anim.save(f'gifs/k{kernel_size}s{stride}ts{tot_steps}lb{lower_beta}ub{upper_beta}_{directory}.gif', writer='imagemagick')"
   ]
  },
  {
   "cell_type": "code",
   "execution_count": 2270,
   "metadata": {},
   "outputs": [
    {
     "name": "stderr",
     "output_type": "stream",
     "text": [
      "/Users/milesturpin/miniconda3/lib/python3.6/site-packages/ipykernel_launcher.py:19: RuntimeWarning: Mean of empty slice.\n",
      "/Users/milesturpin/miniconda3/lib/python3.6/site-packages/numpy/core/_methods.py:154: RuntimeWarning: invalid value encountered in true_divide\n",
      "  ret, rcount, out=ret, casting='unsafe', subok=False)\n",
      "/Users/milesturpin/miniconda3/lib/python3.6/site-packages/matplotlib/image.py:395: UserWarning: Warning: converting a masked element to nan.\n",
      "  dv = (np.float64(self.norm.vmax) -\n",
      "/Users/milesturpin/miniconda3/lib/python3.6/site-packages/matplotlib/image.py:396: UserWarning: Warning: converting a masked element to nan.\n",
      "  np.float64(self.norm.vmin))\n",
      "/Users/milesturpin/miniconda3/lib/python3.6/site-packages/matplotlib/image.py:403: UserWarning: Warning: converting a masked element to nan.\n",
      "  a_min = np.float64(newmin)\n",
      "/Users/milesturpin/miniconda3/lib/python3.6/site-packages/matplotlib/image.py:408: UserWarning: Warning: converting a masked element to nan.\n",
      "  a_max = np.float64(newmax)\n",
      "<string>:6: UserWarning: Warning: converting a masked element to nan.\n",
      "/Users/milesturpin/miniconda3/lib/python3.6/site-packages/numpy/ma/core.py:711: UserWarning: Warning: converting a masked element to nan.\n",
      "  data = np.array(a, copy=False, subok=subok)\n"
     ]
    },
    {
     "data": {
      "image/png": "[encoded data removed]",
      "text/plain": [
       "<Figure size 288x288 with 1 Axes>"
      ]
     },
     "metadata": {
      "needs_background": "light"
     },
     "output_type": "display_data"
    }
   ],
   "source": [
    "fig, ax = plt.subplots(1,1, figsize=(4,4))\n",
    "\n",
    "#im = ax.imshow(samps[0])\n",
    "ax.axis('off')\n",
    "\n",
    "samps_arr = np.array(samps)\n",
    "\n",
    "num_frames=min(50, len(samps))\n",
    "frame_idx = np.round(\n",
    "    np.linspace(0, len(samps)-1, num_frames)).astype(int)\n",
    "\n",
    "def init():\n",
    "    im.set_array(samps[0])\n",
    "    return im\n",
    "\n",
    "def animate(i):\n",
    "    #print(i)\n",
    "    #ax.clear()\n",
    "    ax.imshow(samps_arr[:frame_idx[i]].mean(axis=0), cmap='gray')\n",
    "    #im.set_array(samps[i])\n",
    "\n",
    "anim = animation.FuncAnimation(\n",
    "    fig, animate, \n",
    "    frames=num_frames-1, \n",
    "    #init_func=init, \n",
    "    interval=75) \n",
    "\n",
    "directory = datetime.datetime.now().strftime(\"%m%d%y_%H%M%S\")\n",
    "anim.save(f'gifs/k{kernel_size}s{stride}ts{tot_steps}lb{lower_beta}ub{upper_beta}_{directory}_mean.gif', writer='imagemagick')"
   ]
  },
  {
   "cell_type": "code",
   "execution_count": 75,
   "metadata": {},
   "outputs": [
    {
     "data": {
      "text/html": [
       "<video width=\"720\" height=\"720\" controls autoplay loop>\n",
       "  <source type=\"video/mp4\" src=\"data:video/mp4;base64,AAAAHGZ0eXBNNFYgAAACAGlzb21pc28yYXZjMQAAAAhmcmVlAAAgY21kYXQAAAKvBgX//6vcRem9\n",
       "5tlIt5Ys2CDZI+7veDI2NCAtIGNvcmUgMTUyIHIyODU0IGU5YTU5MDMgLSBILjI2NC9NUEVHLTQg\n",
       "QVZDIGNvZGVjIC0gQ29weWxlZnQgMjAwMy0yMDE3IC0gaHR0cDovL3d3dy52aWRlb2xhbi5vcmcv\n",
       "eDI2NC5odG1sIC0gb3B0aW9uczogY2FiYWM9MSByZWY9MyBkZWJsb2NrPTE6MDowIGFuYWx5c2U9\n",
       "MHgzOjB4MTEzIG1lPWhleCBzdWJtZT03IHBzeT0xIHBzeV9yZD0xLjAwOjAuMDAgbWl4ZWRfcmVm\n",
       "PTEgbWVfcmFuZ2U9MTYgY2hyb21hX21lPTEgdHJlbGxpcz0xIDh4OGRjdD0xIGNxbT0wIGRlYWR6\n",
       "b25lPTIxLDExIGZhc3RfcHNraXA9MSBjaHJvbWFfcXBfb2Zmc2V0PS0yIHRocmVhZHM9MjIgbG9v\n",
       "a2FoZWFkX3RocmVhZHM9MyBzbGljZWRfdGhyZWFkcz0wIG5yPTAgZGVjaW1hdGU9MSBpbnRlcmxh\n",
       "Y2VkPTAgYmx1cmF5X2NvbXBhdD0wIGNvbnN0cmFpbmVkX2ludHJhPTAgYmZyYW1lcz0zIGJfcHly\n",
       "YW1pZD0yIGJfYWRhcHQ9MSBiX2JpYXM9MCBkaXJlY3Q9MSB3ZWlnaHRiPTEgb3Blbl9nb3A9MCB3\n",
       "ZWlnaHRwPTIga2V5aW50PTI1MCBrZXlpbnRfbWluPTEwIHNjZW5lY3V0PTQwIGludHJhX3JlZnJl\n",
       "c2g9MCByY19sb29rYWhlYWQ9NDAgcmM9Y3JmIG1idHJlZT0xIGNyZj0yMy4wIHFjb21wPTAuNjAg\n",
       "cXBtaW49MCBxcG1heD02OSBxcHN0ZXA9NCBpcF9yYXRpbz0xLjQwIGFxPTE6MS4wMACAAAARkmWI\n",
       "hAAR//73iB8yy2n5OtdyEeetLq0fUO5GcV6kvf4gAAADAAADAAADAzSyCkX1Rzvzg8AAAAMDPACD\n",
       "gTcE6YPGAf+vEAVcItEAU3kpzuFKEvfVvcsqcp8CcG57C+xgUwtgSNrcUop961UpZac+Wpvb5DXN\n",
       "wODRNFvDTzxZ8NBjyXaIb7/96QeT8P40DoR9ZaLaONyhLrnU+lyosi9y0PlBUmKWXhwH6Txyeoc+\n",
       "+eBFqq3y3VHs/8BhG0Ula/2MvmBiy/9eZM5w+U8vS2RO6jyLd8cCmQz/2Kqzdl7p3vV/zpxjilJI\n",
       "6FMPGkqNnCZ51G0DftX9gdQl63CQkKQ7WKCdh5rnoHbucW0ZO6Ec6IxbP8HFrj8NmGrCiFYsQI1E\n",
       "a7PuTNPsUgESy4QaZehlud5wWEJ+GC68l43SSOSKGh2f3X5DT2cwTLoHyYqZkpTXMo3ob0Ya2can\n",
       "wOt6gLzjGiLdVvsWszlVnlddEyCv/CTg7iey4bXOULwAAIxeEtCU/qujA2ZaBv5cZAfqU+TlKHQB\n",
       "/PxFWLSWMfP94V7k7ZCF2YbBMH3+suxNdsKtCX7x0KAhIC+qAMBAjbFQ7OgpCNPBYBlhoNWojVLZ\n",
       "5ZzWtY/dNDT6/raLfAYrTAS6Jd0qJWANXB+a52Hnm73uRoYh5s0F9Iy17sVA0o/pcT6qWfUxljLC\n",
       "V/eM9+8tKmKliyAMa79CTWjI7AxR2LLPxcS1ovb4rr312nK/Sv9TmR1ZB4XlmM/sv3FsIVMRvl7U\n",
       "YGleJqBwvYrXhRpUBePCsUJ+1q12SABlGI8ulew6v2Tqlaz0ToJJkZn/Do7J5TuEg03K58LpeQJ6\n",
       "qlCZlAuQT7ofDEhQKMCVy7Ylj/O9ugz7jDzqbv1/38NJRioSQGUKK5JTVdB4qoCfcxqnUAzThlS/\n",
       "hLxbbwyGBGqNCDWjmTxsR+CwVZ/MxCkd1Elvg59WNl6C5ZI1xeqIjCG5eeI1CJ6OpYxghbOuS2Cn\n",
       "3u+0DTLDylh12LVgwPS6vRaomJI2PnMhSIZyAYZ0tc+TqguJJvPcyevapJdpzJUG4ZXohreL9srC\n",
       "poFyG44DamLkCXU+9dePlA2K+P2MnM2B+IyzSVbtIT66NIwdXnOBkjtXsF+HnImJvqQosEevdwQw\n",
       "nq0cm1HEzZaV/fibHEAAAYlHWuI+oobAMBTkQh79LiVeaBQiUkL5JQJDuvIjSWIF2xGOZT0cyXz7\n",
       "hRxr2qy8BXFNUGt42d/8g21SLLK1pdKSOY7JfKwLwFJZtJjAY1Q7Pnk++IvqAaFv5rt/LKVuWdnP\n",
       "2DvMhgbVJ2fqekJjO/Z4tQIRSvmUOs0l5JZuS5xPjPHAAE3FNSEYRTosDwQyAgqfgWG/BFDu9Nx2\n",
       "1rgPHIlbxbp4AzZKniRwCE+6A6mRVqqTLT7XIUEe4EEogqBc2e4X9lQ9KGdPtH2xTJYY1tXBPK84\n",
       "Hp4ELpO6GdASUEX0AJ0dJ81TiTjAIi/65Uik9H+ZynXtKfaGwZDYLIcO/goQfNzqTRb20TycAAAM\n",
       "uhzAGnNMFjGsTZ2/rWNyipKk/R7pq2etukJURioIdnzvUblg+XaYXdkHf6CN9iK6VaG1R1J2qzLm\n",
       "gTbEzqLxsGkHv/7utAnfo04NEjNt9Rhjq79gXKFfnUyuAAADAAeCXntp13xW+p4HbwXyhSc3midG\n",
       "eqEDiK0Izlhcz+76dVRUq4HwnAOhhs2tvtYwtE3ShnP9PamfYFZOf/8ZDU5E/jrsl++vohTI2BsR\n",
       "1hs8hd1Slrp6azank5wNLicGQ8JISwPiUhNf2PxoTBmvDeaA62TJmFtYiu6BwC++tD4kgQEPOnbJ\n",
       "3RAgHApRRAEarVN6IQ6lo71ULld5/QGhoGSVHdT8+/Y+Rqmu2rUTFbZUE6cyUtbc7zbDRW73ryEH\n",
       "N+coZl0jJb8lmK+Gz946IR3a3VWhxqWa/veAHFRk3x6Sf5v6w1gLNeJcfD//oaKTwB3C8OfpGM4B\n",
       "7k0crHiot70oLx+XLHvNnoKgCLSMAnwXqafb1wk6HDfD82Pf9hXpbLaqeNGEvgEfh2iNTl3VU8/2\n",
       "sQSBvCsLC1vOn0Iv7Rin4Lu5nHh6HAZrtbvCoW7aC4CHC4mhBtcywIRuej1XWzpQv/K/TeqLKLBz\n",
       "9syy1nUgg36Y0akbh05VfWFg71miHdb9FmHL2tk2ws9oQpTB6idcZmY+FOiqqbqx8Ro6Uw8Lp36A\n",
       "Vy0yLYACjWihrrYARrqOt3vwoAGR0RtEx0a6GuqET4cI3UNGM3u0eNgLNf+zqFi0rRlIM8c1vbJf\n",
       "Jd64P9iWcnOB0yzQcfdW8fLpeWxKuLnZxiyL/VA+3QUIiniHxK2WVMdUw+/gY3DXI8lRvrd/6Kxa\n",
       "WPv3B/tf0H6ZXH+PkW1az/dp8WZwevQOupuAApuMrYMplltDHZFhoomp/RQmV5owCAvpS3K+NBH0\n",
       "qgdQroHTZrEJDIJR2V7Mn5w5296jFYCLMo7W6OP5fA6SjzhiPH1RS2HlS5nWSgwFKH3VFO+MJgbh\n",
       "2UtFdK12TJ4+CHw+wKiVPi4/S299ff7dHJEiwxZdOQZfGY8y0YOBMrU/TowUxAvK7/JT4Een4g2G\n",
       "FbPGQ03n4lezvbyI6eg1zjB1EwqsWnYF4iUIsvfdF39b3FSQ4Kq9f/NgRwvmtrW/PGWPorYZ1nmk\n",
       "zVCfYXmwwTGFkHJy1ImlneFXIFp1/ts7APuUQAeti2W7TozzwaGRyXWGnGBMr2V/FQmIJxZpMBdH\n",
       "3KrEmqr02yyNutyuBup/yEWbrQ/UgK9bVbSv48r/36c1CEyxH86X30nzFm/U1ILCMBPKLiL0L2zC\n",
       "cGmsgjhkuPyuvIyUwgb8VzJDCsLGV/ZGHFwuyTEQHas3+UzVdmyN1zrewuI/tnxh4pC5kaLQRH6e\n",
       "o9081g5kTUVK7w6aByxuDNeCyvvE2ASM2mI0n5vRESPlAo6PKdn3JmAceg7ksUESifJCP3TeTXTy\n",
       "qYGAl1p728axxOWBlALSufCrUTmZaG9L0QfinLC8n4toTsma+vt8jI6BgichBdCaP9brfG+f/gpD\n",
       "k8+8KeCK4KoJgSwz6Vntboe5KZFQXTHwfTUzNHqQ8ZPec7jml+AGhZf9PrVWX4qli0GnHeF2OuUB\n",
       "xYnTUPE3pUpkvVjh7Tq1z9Z6AbANANViisVPH2pd/qnWTaPTc/bG4+tEQwLvynDzZ3pGa98XI0x7\n",
       "vnJQa9RMMUN+3RJzT01M11lvf35h4mIA0a34x3hXMQPsL/TV6ZBr+6zReHQa0uMJ2qavmNt/EmJs\n",
       "QDx298QajDDQAQisbTwVn6yMVQM1kZoVpLmzKzu8FlH6vPvMkIFyfPLnRXdyS1zC4hQpUkl+habD\n",
       "+rsBgGaUxlOhEVydWSKzs9VsNTLM74D7ai/FYELLoWQmY/FFtq5RzsBMT98p2WdCXwn3JqfVsf9S\n",
       "15kG1+xuyi6LVfpaA3v2h5b0dgYXvf56Ba8IWno5kvn2KuunkPynaBNUGt42eCtpee1ykNAxzHZL\n",
       "3eydsJ+JcYy5aoHr4q1BEeWscCV7i3Pr+q48oGCA12SsppBZPUWq5j9d9Ng91RKRrn1Iw9ygsMZy\n",
       "yETF++mqJQxxIAAIcHaCDLeZYM+VFKLW0UYuIOM+KRyhE9UcqpNuCjEjF85DYZccRsw1zy3HWG/m\n",
       "+C5JNBXMLAjaAlvYqhQBpTt130y6k1fEHlgNoZTd/FWQEILzqY82rQ80lolw0N/MIS3TwFQCzRoJ\n",
       "LSqO4Jg38gvuOB0ixiU5hR64Fyt1yXwx55v4nwEzIqURWGv9P7dqX945lO1WB8FkH3+nDRCBtrDl\n",
       "tjMlWe/pAwEFRGCYdHZFxRyjyzd74vl28bPfk4q10VHEXo4fQsxpcVMOLMQX6OKoxz81vQKMQ+Oh\n",
       "Gum7a5zeRMsUP3nDScbrsXIg29bMf+SmxSlzIgKaeuSRyMS5tNzZyqOeExCl7fLhDeHSUrED5kgE\n",
       "rJlkmIWzvAllpdGdkMgxuvE16CcJwALACaTu8GuqexjkgvdMYyJAWGdDRyRFHWnkpGFabTaEf/Z5\n",
       "D3RoDHSg9GEwUBTIFnqksRmAQP1hrK9Fz/PGHQ110YmERTSTdfn4/jp5FfkErfK90W2f+yzY3cvb\n",
       "yR2xbIb1VjcuK7heJwNBhDZ2GYBOUuKi01B0JJqxTKRd/G8rDBa8rvUTSGpWo/4ipl/CTWwGQblo\n",
       "Ozr2aEBg//DTfFNUH6tsz48ILanj2e8hzgIi48uPbqi4mzPEBe+Hfu3oLZN3qTTOCbSQVHLQDXCn\n",
       "WCrEOK0MbaLInGpnKn0gOJwdymfpZtmsEMDFwXaGiEtpX8+0zlaFWCXHE2gJVLVAheUNZHsWkhdJ\n",
       "SUI5SMKrLwvEnTEriSVIuZRXp6N/9+cMtSzO7b7l62ig/NCHyHwinxnj0+jZ/4yLn9RdG0fmZ239\n",
       "m0fpY+iBKKuUn11rqVAm/nyoqxHWl3Cs0etVXkqaZi7Tq2FJihxcFYu/L/IA18IzVLiJTj9muv6m\n",
       "wEOzdfoP7hbMFuiCeyDtOSYqLPp5kcgH8s9s2nLDPcjFsS//DtAULoVuK6gSeiAHiqnUZnH7aFrQ\n",
       "jZ80wFSlUhWnmYms9NZkNBD1G8BpA9p1UAEMBRUDlDAnPJsWEvSu1Wp5jnDE1OXQeAgverq7VtPp\n",
       "Mm0GnYtURXi8RGB7qoWn9bQwPsRaLafHeqGhHXWxRtJRkRQDnP7n2773WxJn5DEL/de0fTW9gNWn\n",
       "6VKd2+ylXckC8FXRU5D4Y97Sa0DYr3zX+tm0V4zay1gx5BlfYtS0OOHEgt4X53kDsTArxD25i8QX\n",
       "KXfNoTQSvZrBXRa2LV1DPc1e7EPoeW1DGqVPHFa0NiiMKI0VqO6VqlF/wOuzFa5KdKkdkkrxfc2X\n",
       "pNUnI9NarPVJ3t+DrAhqtpCe0NoQUUEyxZ233fXpS+TCbyRaB3vQePnKQbu7QEUW5Cv0a7zXo4nj\n",
       "ciPIYHXtdc2yWgNWw74xJnzuH8ojEekfEbBd5OT8nnbLhwklfX5rWCqcvGlNnGncl0Sig220Xx5B\n",
       "mOZDSidugmA4hrB+67D57IitSmeSmC16YrcUz9GS5xuwBS677rFvryuQ8AAAAwCVHnHfN9hBWZ4R\n",
       "ts2CbHB6BhLwNid9vcRDb5WmlJiSHvbP/0s7p1Ca+pZAVRZBvNWhiJzKzXnEa6Qg7UwKXmC9kQN1\n",
       "0ByJxWHo2PTnes6j9cyHhSW87ME998cjeRD91l9hplW1DjDj8czLSzM0ot6UDfkn6NPe2GF8Oht8\n",
       "7paPw3g/tFItY+w99yV/HndXjhr/mObTPq/EM/DUGBaXFvIJcSy7xcBfr2Owt+jqSrk+xybHx/II\n",
       "J/bRK/XkWlYqLagoJ3gES9qzUG1D/4aNfH7hRfmcViIVUKfT7x6GY8teR98Sg9oBMB4iPHH3P/oE\n",
       "IsJP0wi8EsymgosZ8pXuDC3NWOmVYKvl8uPCnAAAAwNljjoiK14deWQpT9BBzUioc37vjTpYemqG\n",
       "HLOo4JfM61+KeR6SXzWKQ8moCDrv5aQn7pX++fe3UtmwaQ7Bkf4oJpJDUh3/rzZNc09fRJUo5vyr\n",
       "RgpmsryFFJxbxTTbYPzcanWCKt712+B1T4FyZAFWQuoy/horulRcGWWSNUDleZNZyOwGn1UK6Wx5\n",
       "m6bYuxkDJnsABzZ1vXQ5Urn6GHVqH6lueH/lgak6TlPKWLNP30PmD/nVAZV/x1BXxubQwVenKBIA\n",
       "8mf6w4gNPg1W6NAvbWbhSH5wArBdu3bsLFxsF81YeNr61PWd/9wpOaMOZQ0w33ZLVBA54zLmwCLH\n",
       "BgGDsDAekUz7jsA1rJ4XSkGMuW1tw2nK6buyX7e1htFH1kMJPXX+0wMe0vVtBiJ76bu+DVyCUk3g\n",
       "7wuNg9DLvjfREp10dElOi+zT3hbQaC+OpB/14S9RYNqvrakt7ZAAfvFR7wuXXthRfdD5abIweNQb\n",
       "DVXiAmmUK6JFRpRRcY7BbrbV3G7bvlSVttY77KGCRRNgGBQAAAMAAAMAAAMAAAMAfsEAAAKPQZok\n",
       "bEEf/rUqgAAHzP7vgAIsE7Kaf//P9dJDavzOi1ujQGEf5jrIBMC7vR1WlxsgjizysLhL49SxcJJf\n",
       "HX6DiFIJ5icRYlGHndWtsMppv+RYSWQgEWwf5faX8PK0YlHv6r8FfPoJDVMLVrCnKcKVXlIeKoTN\n",
       "91KMlUObOdaFuGncn2vg38bkU3t/kX2gZfPutjAqg9/rBZE6uSRRIvrry8jnAXTUZ0oKpdC+T/b7\n",
       "o702cdHGCukuPO1c4ZIrhc8io7oDo4xGvw1XqMW6EjUX0t0RY8SM73u0t+6XtCuxMDDWBSvqgcV+\n",
       "yWChzFc+Um7ZI9x8gzCgvQLDKAsZQq4vJ9e6xH4c5oGkl0b3thbr0+tH9SWGIl7RtmpXyhmONjVi\n",
       "J0ydKOmmir5uyqC7djHrjD8sLTVfK+JkiJ+FXcNUbyTdMIo7prSJsTrQNi5hxz211RbuBkzo+Pby\n",
       "5OVIr3hZuz7bOPSoUQ/P1aMRwEIPjlzBm4iOsRaQ81+uVbam8j0x9rcQs6CjDPn41UMFKbEN+mqW\n",
       "wECtfpriTkGkNq7BxLMb9T8e2zxPWikA+1yhucgBDg0r/YKx7NRDpWD2aVXpSUXyIMFqpHpy0ewc\n",
       "MbkO898PAF3SHNfqQB5msVvDaS/Hvmhp0QqxoXDqw2hpDi+AfaSNcUuwuTZp7KGIFtgD+vE+D8fr\n",
       "NrjW2v5t3GYqG9WDbrs3xHuM9KXQ9gGhFBWhZXekf1WTSsi8eAFteInQT+euEH7osDoekKfUQ4rB\n",
       "mnmLCV5G+hJN7vzMy5qaKX/6L9d4xdaN/EkxdJVYyV8fYs4U/8ysi3/syfqcDm/gMqPCrZbXPLCM\n",
       "NqIvGkDenttCtb++kEqPXayUyL7ffigeMAAAALxBnkJ4h38AAB6NB7zWK5yoWZQgAAhMdv8nV9Af\n",
       "/jEjBhLJZPB4U4tXWqocAH7/2QseAAeP6XfvRoLs2kFubwaSQW60nCoftTyc1q/PK/5eBtrWThM0\n",
       "RVzdr99kIPCItZMsxj43GbJA2/tBqlxbyv1Hr/msDnhfi4mkg33t3v4K9gJRdfaw1DQld9F3i4FC\n",
       "+YKc5NtNYcKf3cfPG5Gpyv1By4giAtwFOY412OwKaZCHTX3FHweNCniSNaYDBwAAAIcBnmF0Q38A\n",
       "ACxHe8gB2v6gis3HyBZWIv6ICMwHcqBNZUU+Pk8uqC6m2xndA2H6tgA5yfg+MiOx0KKqt3dlt/Ws\n",
       "iNg7/6taDB+YdHtCyni/R/ZF2vOoa7N8LxMTcIg1RtKCAeUNSSKC7SP/RZJ6NEjziEwoybvEcIqQ\n",
       "qGHNBqOmqrBSMkOAGVAAAAB5AZ5jakN/AAADACJR//CTK2y0wnMSMp3CzIkAUwi+uuJqiAKYNMEK\n",
       "0QdGB4kncgDQHqmD8YgA7Lyx2KZgRejFBG2JxKOyeCd2bt5ckzadV42s2cGqzuOuTcmVqmtkYUuP\n",
       "mSViNjaOAkijmDTDPkT1E/zD57EXT5Ak4QAAAKRBmmhJqEFomUwII//+tSqAAAAGW+QRACCBCidE\n",
       "nFGV4QLKTbT5nvjuxpR0PTldvQcSgdUYuwx/+L7oInLrz+yII84Kq+pw0W51FaclfE/SWX3ViJDo\n",
       "DAS5HqJHjsorX02Iw+xXB0IPWnB0eB8J1RhdvHWrn8r3fXrZOBx5HGK7mGCJbuDIn93EyUDiA/5M\n",
       "p6bkAUQ13GGOAAI4ux1RW+139gB6QQAAAG9BnoZFESw7/wAAAwAYbbIQAgc7da9Hx0m/+aFetBqe\n",
       "6BBgwMG5ZX2Lt6hihwiIj+0rKJe5ggPE5s5oQ7tHAAyrR1PmhKuf1ivswkdWIB0XxDFxHEIRO4ma\n",
       "vTKq2xc4/kb7htyEztMljXBEsA6ugTcAAABRAZ6ldEN/AAADACJR/+mD+rnvEs4jByutNMCTiwa/\n",
       "xyteiEFmM/B8qFTQ/LIZzjLfZMT3I5w0ZiVcsW1y8hP9gWjT+Ke6v6i3cSh0ZWRT/B8xAAAAVAGe\n",
       "p2pDfwAAAwAiUf/paDT/5ZxPt0CoUKp46jeLRdVTWgN16nxllMBeXY8b2w2Rtx0s4Ra7vdDLmvr2\n",
       "jPYT3RFSABp0cAI0jt9lfizBQPPX9KIXkAAAANdBmqxJqEFsmUwIIf/+qlUAAAMADLe9ogBA+flU\n",
       "axlSp7+w66dueIEAE5bbmcaWvbe+VRnZvFmdIdQhYmwjM5wj+l38aF1S1RLV/zp2jdptdTiU89WV\n",
       "WqxxG0Jtq6rEWcCIsFMbExlqvAj/9SoHLXPx0FiSMj9vPJS8fil1YYKUrQhpeVVs3BKIdors8dDq\n",
       "AF84cOyIpxywM1S8D233DEnWBStTi5QHtIGqcL87knG3CUA9RqmPaloGo35ycHV9/A+o+sJCu1RQ\n",
       "pSfAwg8PtQUZZpRPUqAN6AAAAJlBnspFFSw7/wAAAwAYbbIQAgc7cxF8ElZ+Bn1pZo/kgPkUjnDF\n",
       "x+VCfYfiZ8S4qiUyEc2jC34ACoE5/1YEPa2nUaWiwNrIBztzoIF3HyAqqs4L/B6R3f4/zsCSxTBG\n",
       "7q6gCE34f6bUqpG+35kcdWZrTNWMwk92Lc07Qu5PVvHrus8oJEAZwOvmCUp1iUz+DEqUq2WekOPo\n",
       "EvEAAABXAZ7pdEN/AAADACJR/+loNP/lnE+3QKhQqnjqOAvfzHxVGghTrRysmAfYPNV4sbaHF29Z\n",
       "B+M+hikVZU/1KvHkUC4uEoLmvY1FcUFrAzkUSZnL+y/HAJmAAAAAZAGe62pDfwAAAwAiUf/paDT/\n",
       "9N6uXE5pwXSWH5w4UuNxo2yADmvLHYpjUq+P8SfWL0Lh0nwF40fXdN6lXjiiLFp31LWHYKh0e57p\n",
       "WvhiURwGlyUZ1GirfA6co8Bp4l98tGvw8m4AAADZQZrwSahBbJlMCH///qmWAAADA+uz/2BiE5wA\n",
       "CaEu0V3msEd1daWgynk7u6QAQr5BuKLF/VgGwErwW7xAvDMqdn+WjEkPJpoyr//TiZJkVHCyDpRM\n",
       "KnhX+x9Tc5WKlaVZdEvP29huV7Ra35kmfZzj8Hk64HFyXnSZ8v5gNwGVjWr8tqPMpBzRWdZN5hSE\n",
       "Bngc0LaX1b6L32UXZA+h44QAhl/HnMHtIb6NnilhoPGIWlqUdIrxuIiHZNBrJUTaWUVAmSaN2F3F\n",
       "oEcg093YpSK0I2tRLIvz/IoDewAAAHxBnw5FFSw7/wAAAwHz/u6IJX/6cUgBMVcWsOf3UAGrhgTi\n",
       "E8Ots/fUg+pabHBojsaBP3pvLUmdRDTzJj9ZTBGK0pi5hipZp6dOFsnL6R/S8+QjW8Qt8Qydi3yI\n",
       "o6yXyeCM3uCva+WE5PNV19rNDP73rOd8qcLoESZeYE3BAAAAVgGfLXRDfwAAAwAiUf/paDT/8xxR\n",
       "V5VinEwaRCNVhDPtsV9r7HSw1r1Jksdvr/2q6GgjUbV42jFsmURxZGePSO+HB2jOj95Y5O1L+CJR\n",
       "sS+CcaG7rAR9AAAAdAGfL2pDfwAAAwLWnR/VsarSIhPEOgAc7YPI1Ortl9Nn3KHbKw++y9/6kXhn\n",
       "fdxXlI+Kd36du7ShnLt4Pwi/MRIVDWaIngFaoNwrhDvGGjgMIQ9fKYazOFfc2U/9y5/Cm2wTLYOp\n",
       "LjPeVSIVsjz1OCHloHdAAAAAtEGbM0moQWyZTAhv//6nhAAAbsTZPiOp1H6dRlSMQAY8bH9fjY2V\n",
       "ZblBbZhBpSNOgh9jLATNuFEK/ocpTZIvKx/wINE2nru/ljptlNWe5UdStL7ciKbtfqC0KAn1Ko2m\n",
       "pqZ6WnHt7Cq6DV4liZzPK/lIdIwXmcvxuPuHOYvXFpKR6iwiP4jAf2GqDu+ZwkKK7ZfL2QvZrRti\n",
       "d0rqCA7IahU6uBf5uL3PxiO8ZEJQZFa/lQgBdwAAAHVBn1FFFSw3/wAAJ8nSGt0kEPBD8M1S93Qy\n",
       "zHVEqEAIF0dthioyK3e/DkbNP8Ur1J9UlKPyQQ/s0cJCrtxIGGXXqW9hoijcG1MfnSe9dqnzRmGr\n",
       "7ynjxJQNMYQNYn2ixAl6miADDAqIKJdPMx5aKYNH1v1dwg8AAABQAZ9yakN/AAADAOKUPZirvBl5\n",
       "4FVkz5bHtKggzRyu1jK4VbTHGVPYmbn92XNXvHp7wue2ecpkauK4hoS8yhAH/runWCoQVV0lKp4V\n",
       "UkYgk4AAAAQWbW9vdgAAAGxtdmhkAAAAAAAAAAAAAAAAAAAD6AAAB9AAAQAAAQAAAAAAAAAAAAAA\n",
       "AAEAAAAAAAAAAAAAAAAAAAABAAAAAAAAAAAAAAAAAABAAAAAAAAAAAAAAAAAAAAAAAAAAAAAAAAA\n",
       "AAAAAAAAAgAAA0B0cmFrAAAAXHRraGQAAAADAAAAAAAAAAAAAAABAAAAAAAAB9AAAAAAAAAAAAAA\n",
       "AAAAAAAAAAEAAAAAAAAAAAAAAAAAAAABAAAAAAAAAAAAAAAAAABAAAAAAtAAAALQAAAAAAAkZWR0\n",
       "cwAAABxlbHN0AAAAAAAAAAEAAAfQAAAIAAABAAAAAAK4bWRpYQAAACBtZGhkAAAAAAAAAAAAAAAA\n",
       "AAAoAAAAUABVxAAAAAAALWhkbHIAAAAAAAAAAHZpZGUAAAAAAAAAAAAAAABWaWRlb0hhbmRsZXIA\n",
       "AAACY21pbmYAAAAUdm1oZAAAAAEAAAAAAAAAAAAAACRkaW5mAAAAHGRyZWYAAAAAAAAAAQAAAAx1\n",
       "cmwgAAAAAQAAAiNzdGJsAAAAs3N0c2QAAAAAAAAAAQAAAKNhdmMxAAAAAAAAAAEAAAAAAAAAAAAA\n",
       "AAAAAAAAAtAC0ABIAAAASAAAAAAAAAABAAAAAAAAAAAAAAAAAAAAAAAAAAAAAAAAAAAAAAAAAAAA\n",
       "GP//AAAAMWF2Y0MBZAAf/+EAGGdkAB+s2UC0FuhAAAADAEAAAAUDxgxlgAEABmjr48siwAAAABx1\n",
       "dWlka2hA8l8kT8W6OaUbzwMj8wAAAAAAAAAYc3R0cwAAAAAAAAABAAAAFAAABAAAAAAUc3RzcwAA\n",
       "AAAAAAABAAAAAQAAAKhjdHRzAAAAAAAAABMAAAABAAAIAAAAAAEAABQAAAAAAQAACAAAAAABAAAA\n",
       "AAAAAAEAAAQAAAAAAQAAFAAAAAABAAAIAAAAAAEAAAAAAAAAAQAABAAAAAABAAAUAAAAAAEAAAgA\n",
       "AAAAAQAAAAAAAAABAAAEAAAAAAEAABQAAAAAAQAACAAAAAABAAAAAAAAAAEAAAQAAAAAAQAAEAAA\n",
       "AAACAAAEAAAAABxzdHNjAAAAAAAAAAEAAAABAAAAFAAAAAEAAABkc3RzegAAAAAAAAAAAAAAFAAA\n",
       "FEkAAAKTAAAAwAAAAIsAAAB9AAAAqAAAAHMAAABVAAAAWAAAANsAAACdAAAAWwAAAGgAAADdAAAA\n",
       "gAAAAFoAAAB4AAAAuAAAAHkAAABUAAAAFHN0Y28AAAAAAAAAAQAAACwAAABidWR0YQAAAFptZXRh\n",
       "AAAAAAAAACFoZGxyAAAAAAAAAABtZGlyYXBwbAAAAAAAAAAAAAAAAC1pbHN0AAAAJal0b28AAAAd\n",
       "ZGF0YQAAAAEAAAAATGF2ZjU4LjEyLjEwMA==\n",
       "\">\n",
       "  Your browser does not support the video tag.\n",
       "</video>"
      ],
      "text/plain": [
       "<IPython.core.display.HTML object>"
      ]
     },
     "execution_count": 75,
     "metadata": {},
     "output_type": "execute_result"
    },
    {
     "data": {
      "image/png": "[encoded data removed]",
      "text/plain": [
       "<Figure size 720x720 with 1 Axes>"
      ]
     },
     "metadata": {
      "needs_background": "light"
     },
     "output_type": "display_data"
    }
   ],
   "source": [
    "HTML(anim.to_jshtml())"
   ]
  },
  {
   "cell_type": "code",
   "execution_count": null,
   "metadata": {},
   "outputs": [],
   "source": []
  },
  {
   "cell_type": "code",
   "execution_count": null,
   "metadata": {},
   "outputs": [],
   "source": []
  },
  {
   "cell_type": "code",
   "execution_count": null,
   "metadata": {},
   "outputs": [],
   "source": []
  },
  {
   "cell_type": "code",
   "execution_count": null,
   "metadata": {},
   "outputs": [],
   "source": []
  },
  {
   "cell_type": "code",
   "execution_count": null,
   "metadata": {},
   "outputs": [],
   "source": []
  },
  {
   "cell_type": "code",
   "execution_count": null,
   "metadata": {},
   "outputs": [],
   "source": []
  },
  {
   "cell_type": "code",
   "execution_count": null,
   "metadata": {},
   "outputs": [],
   "source": []
  },
  {
   "cell_type": "code",
   "execution_count": 138,
   "metadata": {},
   "outputs": [
    {
     "data": {
      "text/plain": [
       "<matplotlib.image.AxesImage at 0x7fb048516da0>"
      ]
     },
     "execution_count": 138,
     "metadata": {},
     "output_type": "execute_result"
    },
    {
     "data": {
      "image/png": "[encoded data removed]",
      "text/plain": [
       "<Figure size 1584x360 with 1 Axes>"
      ]
     },
     "metadata": {
      "needs_background": "light"
     },
     "output_type": "display_data"
    }
   ],
   "source": [
    "plt.figure(figsize=(22,5))\n",
    "plt.imshow(np.array(total).T, )"
   ]
  },
  {
   "cell_type": "code",
   "execution_count": null,
   "metadata": {},
   "outputs": [],
   "source": []
  },
  {
   "cell_type": "code",
   "execution_count": null,
   "metadata": {},
   "outputs": [],
   "source": []
  },
  {
   "cell_type": "code",
   "execution_count": 146,
   "metadata": {},
   "outputs": [],
   "source": [
    "for i in range(len(df.columns)):\n",
    "    df.loc[:,i] = df.loc[:,i].astype('category')"
   ]
  },
  {
   "cell_type": "code",
   "execution_count": 149,
   "metadata": {},
   "outputs": [
    {
     "name": "stdout",
     "output_type": "stream",
     "text": [
      "<class 'pandas.core.frame.DataFrame'>\n",
      "RangeIndex: 196 entries, 0 to 195\n",
      "Data columns (total 9 columns):\n",
      "0    196 non-null category\n",
      "1    196 non-null category\n",
      "2    196 non-null category\n",
      "3    196 non-null category\n",
      "4    196 non-null category\n",
      "5    196 non-null category\n",
      "6    196 non-null category\n",
      "7    196 non-null category\n",
      "8    196 non-null category\n",
      "dtypes: category(9)\n",
      "memory usage: 2.6 KB\n"
     ]
    }
   ],
   "source": [
    "df.info()"
   ]
  },
  {
   "cell_type": "code",
   "execution_count": 150,
   "metadata": {},
   "outputs": [
    {
     "ename": "TypeError",
     "evalue": "'int' object is not iterable",
     "output_type": "error",
     "traceback": [
      "\u001b[0;31m---------------------------------------------------------------------------\u001b[0m",
      "\u001b[0;31mTypeError\u001b[0m                                 Traceback (most recent call last)",
      "\u001b[0;32m<ipython-input-150-332859af580d>\u001b[0m in \u001b[0;36m<module>\u001b[0;34m\u001b[0m\n\u001b[1;32m      1\u001b[0m \u001b[0mdf\u001b[0m \u001b[0;34m=\u001b[0m \u001b[0mpd\u001b[0m\u001b[0;34m.\u001b[0m\u001b[0mDataFrame\u001b[0m\u001b[0;34m(\u001b[0m\u001b[0mtotal\u001b[0m\u001b[0;34m)\u001b[0m\u001b[0;34m\u001b[0m\u001b[0m\n\u001b[1;32m      2\u001b[0m \u001b[0;34m\u001b[0m\u001b[0m\n\u001b[0;32m----> 3\u001b[0;31m \u001b[0mpd\u001b[0m\u001b[0;34m.\u001b[0m\u001b[0mcrosstab\u001b[0m\u001b[0;34m(\u001b[0m\u001b[0mdf\u001b[0m\u001b[0;34m,\u001b[0m \u001b[0mcolumns\u001b[0m\u001b[0;34m=\u001b[0m\u001b[0mdf\u001b[0m\u001b[0;34m.\u001b[0m\u001b[0mcolumns\u001b[0m\u001b[0;34m)\u001b[0m\u001b[0;34m\u001b[0m\u001b[0m\n\u001b[0m",
      "\u001b[0;32m~/miniconda3/lib/python3.6/site-packages/pandas/core/reshape/pivot.py\u001b[0m in \u001b[0;36mcrosstab\u001b[0;34m(index, columns, values, rownames, colnames, aggfunc, margins, margins_name, dropna, normalize)\u001b[0m\n\u001b[1;32m    480\u001b[0m \u001b[0;34m\u001b[0m\u001b[0m\n\u001b[1;32m    481\u001b[0m     \u001b[0;32mfrom\u001b[0m \u001b[0mpandas\u001b[0m \u001b[0;32mimport\u001b[0m \u001b[0mDataFrame\u001b[0m\u001b[0;34m\u001b[0m\u001b[0m\n\u001b[0;32m--> 482\u001b[0;31m     \u001b[0mdf\u001b[0m \u001b[0;34m=\u001b[0m \u001b[0mDataFrame\u001b[0m\u001b[0;34m(\u001b[0m\u001b[0mdata\u001b[0m\u001b[0;34m,\u001b[0m \u001b[0mindex\u001b[0m\u001b[0;34m=\u001b[0m\u001b[0mcommon_idx\u001b[0m\u001b[0;34m)\u001b[0m\u001b[0;34m\u001b[0m\u001b[0m\n\u001b[0m\u001b[1;32m    483\u001b[0m     \u001b[0;32mif\u001b[0m \u001b[0mvalues\u001b[0m \u001b[0;32mis\u001b[0m \u001b[0;32mNone\u001b[0m\u001b[0;34m:\u001b[0m\u001b[0;34m\u001b[0m\u001b[0m\n\u001b[1;32m    484\u001b[0m         \u001b[0mdf\u001b[0m\u001b[0;34m[\u001b[0m\u001b[0;34m'__dummy__'\u001b[0m\u001b[0;34m]\u001b[0m \u001b[0;34m=\u001b[0m \u001b[0;36m0\u001b[0m\u001b[0;34m\u001b[0m\u001b[0m\n",
      "\u001b[0;32m~/miniconda3/lib/python3.6/site-packages/pandas/core/frame.py\u001b[0m in \u001b[0;36m__init__\u001b[0;34m(self, data, index, columns, dtype, copy)\u001b[0m\n\u001b[1;32m    346\u001b[0m                                  dtype=dtype, copy=copy)\n\u001b[1;32m    347\u001b[0m         \u001b[0;32melif\u001b[0m \u001b[0misinstance\u001b[0m\u001b[0;34m(\u001b[0m\u001b[0mdata\u001b[0m\u001b[0;34m,\u001b[0m \u001b[0mdict\u001b[0m\u001b[0;34m)\u001b[0m\u001b[0;34m:\u001b[0m\u001b[0;34m\u001b[0m\u001b[0m\n\u001b[0;32m--> 348\u001b[0;31m             \u001b[0mmgr\u001b[0m \u001b[0;34m=\u001b[0m \u001b[0mself\u001b[0m\u001b[0;34m.\u001b[0m\u001b[0m_init_dict\u001b[0m\u001b[0;34m(\u001b[0m\u001b[0mdata\u001b[0m\u001b[0;34m,\u001b[0m \u001b[0mindex\u001b[0m\u001b[0;34m,\u001b[0m \u001b[0mcolumns\u001b[0m\u001b[0;34m,\u001b[0m \u001b[0mdtype\u001b[0m\u001b[0;34m=\u001b[0m\u001b[0mdtype\u001b[0m\u001b[0;34m)\u001b[0m\u001b[0;34m\u001b[0m\u001b[0m\n\u001b[0m\u001b[1;32m    349\u001b[0m         \u001b[0;32melif\u001b[0m \u001b[0misinstance\u001b[0m\u001b[0;34m(\u001b[0m\u001b[0mdata\u001b[0m\u001b[0;34m,\u001b[0m \u001b[0mma\u001b[0m\u001b[0;34m.\u001b[0m\u001b[0mMaskedArray\u001b[0m\u001b[0;34m)\u001b[0m\u001b[0;34m:\u001b[0m\u001b[0;34m\u001b[0m\u001b[0m\n\u001b[1;32m    350\u001b[0m             \u001b[0;32mimport\u001b[0m \u001b[0mnumpy\u001b[0m\u001b[0;34m.\u001b[0m\u001b[0mma\u001b[0m\u001b[0;34m.\u001b[0m\u001b[0mmrecords\u001b[0m \u001b[0;32mas\u001b[0m \u001b[0mmrecords\u001b[0m\u001b[0;34m\u001b[0m\u001b[0m\n",
      "\u001b[0;32m~/miniconda3/lib/python3.6/site-packages/pandas/core/frame.py\u001b[0m in \u001b[0;36m_init_dict\u001b[0;34m(self, data, index, columns, dtype)\u001b[0m\n\u001b[1;32m    457\u001b[0m             \u001b[0marrays\u001b[0m \u001b[0;34m=\u001b[0m \u001b[0;34m[\u001b[0m\u001b[0mdata\u001b[0m\u001b[0;34m[\u001b[0m\u001b[0mk\u001b[0m\u001b[0;34m]\u001b[0m \u001b[0;32mfor\u001b[0m \u001b[0mk\u001b[0m \u001b[0;32min\u001b[0m \u001b[0mkeys\u001b[0m\u001b[0;34m]\u001b[0m\u001b[0;34m\u001b[0m\u001b[0m\n\u001b[1;32m    458\u001b[0m \u001b[0;34m\u001b[0m\u001b[0m\n\u001b[0;32m--> 459\u001b[0;31m         \u001b[0;32mreturn\u001b[0m \u001b[0m_arrays_to_mgr\u001b[0m\u001b[0;34m(\u001b[0m\u001b[0marrays\u001b[0m\u001b[0;34m,\u001b[0m \u001b[0mdata_names\u001b[0m\u001b[0;34m,\u001b[0m \u001b[0mindex\u001b[0m\u001b[0;34m,\u001b[0m \u001b[0mcolumns\u001b[0m\u001b[0;34m,\u001b[0m \u001b[0mdtype\u001b[0m\u001b[0;34m=\u001b[0m\u001b[0mdtype\u001b[0m\u001b[0;34m)\u001b[0m\u001b[0;34m\u001b[0m\u001b[0m\n\u001b[0m\u001b[1;32m    460\u001b[0m \u001b[0;34m\u001b[0m\u001b[0m\n\u001b[1;32m    461\u001b[0m     \u001b[0;32mdef\u001b[0m \u001b[0m_init_ndarray\u001b[0m\u001b[0;34m(\u001b[0m\u001b[0mself\u001b[0m\u001b[0;34m,\u001b[0m \u001b[0mvalues\u001b[0m\u001b[0;34m,\u001b[0m \u001b[0mindex\u001b[0m\u001b[0;34m,\u001b[0m \u001b[0mcolumns\u001b[0m\u001b[0;34m,\u001b[0m \u001b[0mdtype\u001b[0m\u001b[0;34m=\u001b[0m\u001b[0;32mNone\u001b[0m\u001b[0;34m,\u001b[0m \u001b[0mcopy\u001b[0m\u001b[0;34m=\u001b[0m\u001b[0;32mFalse\u001b[0m\u001b[0;34m)\u001b[0m\u001b[0;34m:\u001b[0m\u001b[0;34m\u001b[0m\u001b[0m\n",
      "\u001b[0;32m~/miniconda3/lib/python3.6/site-packages/pandas/core/frame.py\u001b[0m in \u001b[0;36m_arrays_to_mgr\u001b[0;34m(arrays, arr_names, index, columns, dtype)\u001b[0m\n\u001b[1;32m   7357\u001b[0m \u001b[0;34m\u001b[0m\u001b[0m\n\u001b[1;32m   7358\u001b[0m     \u001b[0;31m# don't force copy because getting jammed in an ndarray anyway\u001b[0m\u001b[0;34m\u001b[0m\u001b[0;34m\u001b[0m\u001b[0m\n\u001b[0;32m-> 7359\u001b[0;31m     \u001b[0marrays\u001b[0m \u001b[0;34m=\u001b[0m \u001b[0m_homogenize\u001b[0m\u001b[0;34m(\u001b[0m\u001b[0marrays\u001b[0m\u001b[0;34m,\u001b[0m \u001b[0mindex\u001b[0m\u001b[0;34m,\u001b[0m \u001b[0mdtype\u001b[0m\u001b[0;34m)\u001b[0m\u001b[0;34m\u001b[0m\u001b[0m\n\u001b[0m\u001b[1;32m   7360\u001b[0m \u001b[0;34m\u001b[0m\u001b[0m\n\u001b[1;32m   7361\u001b[0m     \u001b[0;31m# from BlockManager perspective\u001b[0m\u001b[0;34m\u001b[0m\u001b[0;34m\u001b[0m\u001b[0m\n",
      "\u001b[0;32m~/miniconda3/lib/python3.6/site-packages/pandas/core/frame.py\u001b[0m in \u001b[0;36m_homogenize\u001b[0;34m(data, index, dtype)\u001b[0m\n\u001b[1;32m   7667\u001b[0m                 \u001b[0mv\u001b[0m \u001b[0;34m=\u001b[0m \u001b[0mlib\u001b[0m\u001b[0;34m.\u001b[0m\u001b[0mfast_multiget\u001b[0m\u001b[0;34m(\u001b[0m\u001b[0mv\u001b[0m\u001b[0;34m,\u001b[0m \u001b[0moindex\u001b[0m\u001b[0;34m.\u001b[0m\u001b[0mvalues\u001b[0m\u001b[0;34m,\u001b[0m \u001b[0mdefault\u001b[0m\u001b[0;34m=\u001b[0m\u001b[0mnp\u001b[0m\u001b[0;34m.\u001b[0m\u001b[0mnan\u001b[0m\u001b[0;34m)\u001b[0m\u001b[0;34m\u001b[0m\u001b[0m\n\u001b[1;32m   7668\u001b[0m             v = _sanitize_array(v, index, dtype=dtype, copy=False,\n\u001b[0;32m-> 7669\u001b[0;31m                                 raise_cast_failure=False)\n\u001b[0m\u001b[1;32m   7670\u001b[0m \u001b[0;34m\u001b[0m\u001b[0m\n\u001b[1;32m   7671\u001b[0m         \u001b[0mhomogenized\u001b[0m\u001b[0;34m.\u001b[0m\u001b[0mappend\u001b[0m\u001b[0;34m(\u001b[0m\u001b[0mv\u001b[0m\u001b[0;34m)\u001b[0m\u001b[0;34m\u001b[0m\u001b[0m\n",
      "\u001b[0;32m~/miniconda3/lib/python3.6/site-packages/pandas/core/series.py\u001b[0m in \u001b[0;36m_sanitize_array\u001b[0;34m(data, index, dtype, copy, raise_cast_failure)\u001b[0m\n\u001b[1;32m   4165\u001b[0m             \u001b[0;32mraise\u001b[0m \u001b[0mException\u001b[0m\u001b[0;34m(\u001b[0m\u001b[0;34m'Data must be 1-dimensional'\u001b[0m\u001b[0;34m)\u001b[0m\u001b[0;34m\u001b[0m\u001b[0m\n\u001b[1;32m   4166\u001b[0m         \u001b[0;32melse\u001b[0m\u001b[0;34m:\u001b[0m\u001b[0;34m\u001b[0m\u001b[0m\n\u001b[0;32m-> 4167\u001b[0;31m             \u001b[0msubarr\u001b[0m \u001b[0;34m=\u001b[0m \u001b[0mcom\u001b[0m\u001b[0;34m.\u001b[0m\u001b[0m_asarray_tuplesafe\u001b[0m\u001b[0;34m(\u001b[0m\u001b[0mdata\u001b[0m\u001b[0;34m,\u001b[0m \u001b[0mdtype\u001b[0m\u001b[0;34m=\u001b[0m\u001b[0mdtype\u001b[0m\u001b[0;34m)\u001b[0m\u001b[0;34m\u001b[0m\u001b[0m\n\u001b[0m\u001b[1;32m   4168\u001b[0m \u001b[0;34m\u001b[0m\u001b[0m\n\u001b[1;32m   4169\u001b[0m     \u001b[0;31m# This is to prevent mixed-type Series getting all casted to\u001b[0m\u001b[0;34m\u001b[0m\u001b[0;34m\u001b[0m\u001b[0m\n",
      "\u001b[0;32m~/miniconda3/lib/python3.6/site-packages/pandas/core/common.py\u001b[0m in \u001b[0;36m_asarray_tuplesafe\u001b[0;34m(values, dtype)\u001b[0m\n\u001b[1;32m    318\u001b[0m         \u001b[0;31m# Avoid building an array of arrays:\u001b[0m\u001b[0;34m\u001b[0m\u001b[0;34m\u001b[0m\u001b[0m\n\u001b[1;32m    319\u001b[0m         \u001b[0;31m# TODO: verify whether any path hits this except #18819 (invalid)\u001b[0m\u001b[0;34m\u001b[0m\u001b[0;34m\u001b[0m\u001b[0m\n\u001b[0;32m--> 320\u001b[0;31m         \u001b[0mvalues\u001b[0m \u001b[0;34m=\u001b[0m \u001b[0;34m[\u001b[0m\u001b[0mtuple\u001b[0m\u001b[0;34m(\u001b[0m\u001b[0mx\u001b[0m\u001b[0;34m)\u001b[0m \u001b[0;32mfor\u001b[0m \u001b[0mx\u001b[0m \u001b[0;32min\u001b[0m \u001b[0mvalues\u001b[0m\u001b[0;34m]\u001b[0m\u001b[0;34m\u001b[0m\u001b[0m\n\u001b[0m\u001b[1;32m    321\u001b[0m         \u001b[0mresult\u001b[0m \u001b[0;34m=\u001b[0m \u001b[0mconstruct_1d_object_array_from_listlike\u001b[0m\u001b[0;34m(\u001b[0m\u001b[0mvalues\u001b[0m\u001b[0;34m)\u001b[0m\u001b[0;34m\u001b[0m\u001b[0m\n\u001b[1;32m    322\u001b[0m \u001b[0;34m\u001b[0m\u001b[0m\n",
      "\u001b[0;32m~/miniconda3/lib/python3.6/site-packages/pandas/core/common.py\u001b[0m in \u001b[0;36m<listcomp>\u001b[0;34m(.0)\u001b[0m\n\u001b[1;32m    318\u001b[0m         \u001b[0;31m# Avoid building an array of arrays:\u001b[0m\u001b[0;34m\u001b[0m\u001b[0;34m\u001b[0m\u001b[0m\n\u001b[1;32m    319\u001b[0m         \u001b[0;31m# TODO: verify whether any path hits this except #18819 (invalid)\u001b[0m\u001b[0;34m\u001b[0m\u001b[0;34m\u001b[0m\u001b[0m\n\u001b[0;32m--> 320\u001b[0;31m         \u001b[0mvalues\u001b[0m \u001b[0;34m=\u001b[0m \u001b[0;34m[\u001b[0m\u001b[0mtuple\u001b[0m\u001b[0;34m(\u001b[0m\u001b[0mx\u001b[0m\u001b[0;34m)\u001b[0m \u001b[0;32mfor\u001b[0m \u001b[0mx\u001b[0m \u001b[0;32min\u001b[0m \u001b[0mvalues\u001b[0m\u001b[0;34m]\u001b[0m\u001b[0;34m\u001b[0m\u001b[0m\n\u001b[0m\u001b[1;32m    321\u001b[0m         \u001b[0mresult\u001b[0m \u001b[0;34m=\u001b[0m \u001b[0mconstruct_1d_object_array_from_listlike\u001b[0m\u001b[0;34m(\u001b[0m\u001b[0mvalues\u001b[0m\u001b[0;34m)\u001b[0m\u001b[0;34m\u001b[0m\u001b[0m\n\u001b[1;32m    322\u001b[0m \u001b[0;34m\u001b[0m\u001b[0m\n",
      "\u001b[0;31mTypeError\u001b[0m: 'int' object is not iterable"
     ]
    }
   ],
   "source": [
    "df = pd.DataFrame(total)\n",
    "\n",
    "pd.crosstab(df, columns=df.columns)"
   ]
  },
  {
   "cell_type": "code",
   "execution_count": null,
   "metadata": {},
   "outputs": [],
   "source": []
  }
 ],
 "metadata": {
  "kernelspec": {
   "display_name": "Python 3",
   "language": "python",
   "name": "python3"
  },
  "language_info": {
   "codemirror_mode": {
    "name": "ipython",
    "version": 3
   },
   "file_extension": ".py",
   "mimetype": "text/x-python",
   "name": "python",
   "nbconvert_exporter": "python",
   "pygments_lexer": "ipython3",
   "version": "3.6.6"
  }
 },
 "nbformat": 4,
 "nbformat_minor": 2
}
