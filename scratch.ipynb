{
 "cells": [
  {
   "cell_type": "code",
   "execution_count": 1,
   "metadata": {},
   "outputs": [],
   "source": [
    "import matplotlib.pyplot as plt\n",
    "import skimage as sk\n",
    "from skimage import data, io, filters, color\n",
    "from skimage.transform import rescale, resize, downscale_local_mean\n",
    "import pandas as pd\n",
    "import numpy as np\n",
    "from math import floor"
   ]
  },
  {
   "cell_type": "code",
   "execution_count": 3048,
   "metadata": {},
   "outputs": [],
   "source": [
    "img = io.imread('data/1.png')\n",
    "img = color.rgb2gray(img)\n",
    "img = rescale(img, 0.08, anti_aliasing=False, anti_aliasing_sigma=7)\n",
    "img = ((img*2).round()/2).astype(int)"
   ]
  },
  {
   "cell_type": "code",
   "execution_count": 3049,
   "metadata": {},
   "outputs": [
    {
     "data": {
      "text/plain": [
       "<matplotlib.image.AxesImage at 0x7fdc578b6f60>"
      ]
     },
     "execution_count": 3049,
     "metadata": {},
     "output_type": "execute_result"
    },
    {
     "data": {
      "image/png": "[encoded data removed]",
      "text/plain": [
       "<Figure size 360x360 with 1 Axes>"
      ]
     },
     "metadata": {
      "needs_background": "light"
     },
     "output_type": "display_data"
    }
   ],
   "source": [
    "plt.figure( figsize=(5,5))\n",
    "plt.imshow(img, cmap='gray',)"
   ]
  },
  {
   "cell_type": "code",
   "execution_count": 3865,
   "metadata": {},
   "outputs": [],
   "source": [
    "img = io.imread('data/3.png')\n",
    "img = color.rgb2gray(img)\n",
    "img = rescale(img, 0.353, anti_aliasing=True, anti_aliasing_sigma=1)\n",
    "img = ((img).round()).astype(int)"
   ]
  },
  {
   "cell_type": "code",
   "execution_count": 3866,
   "metadata": {},
   "outputs": [
    {
     "data": {
      "text/plain": [
       "<matplotlib.image.AxesImage at 0x7fdc4659a668>"
      ]
     },
     "execution_count": 3866,
     "metadata": {},
     "output_type": "execute_result"
    },
    {
     "data": {
      "image/png": "[encoded data removed]",
      "text/plain": [
       "<Figure size 360x360 with 1 Axes>"
      ]
     },
     "metadata": {
      "needs_background": "light"
     },
     "output_type": "display_data"
    }
   ],
   "source": [
    "plt.figure( figsize=(5,5))\n",
    "plt.imshow(img, cmap='gray',)"
   ]
  },
  {
   "cell_type": "code",
   "execution_count": 3867,
   "metadata": {},
   "outputs": [
    {
     "data": {
      "text/plain": [
       "(100, 100)"
      ]
     },
     "execution_count": 3867,
     "metadata": {},
     "output_type": "execute_result"
    }
   ],
   "source": [
    "img.shape"
   ]
  },
  {
   "cell_type": "code",
   "execution_count": 3868,
   "metadata": {},
   "outputs": [],
   "source": [
    "img = io.imread('data/6.png')\n",
    "img = color.rgb2gray(img)\n",
    "img = rescale(img, 1/12, anti_aliasing=False, anti_aliasing_sigma=7)\n",
    "img = ((img*2).round()/2).astype(int)"
   ]
  },
  {
   "cell_type": "code",
   "execution_count": 3869,
   "metadata": {},
   "outputs": [
    {
     "data": {
      "text/plain": [
       "<matplotlib.image.AxesImage at 0x7fdaf20af4e0>"
      ]
     },
     "execution_count": 3869,
     "metadata": {},
     "output_type": "execute_result"
    },
    {
     "data": {
      "image/png": "[encoded data removed]",
      "text/plain": [
       "<Figure size 360x360 with 1 Axes>"
      ]
     },
     "metadata": {
      "needs_background": "light"
     },
     "output_type": "display_data"
    }
   ],
   "source": [
    "plt.figure( figsize=(5,5))\n",
    "plt.imshow(img, cmap='gray',)"
   ]
  },
  {
   "cell_type": "code",
   "execution_count": 2988,
   "metadata": {},
   "outputs": [
    {
     "ename": "TypeError",
     "evalue": "'int' object is not iterable",
     "output_type": "error",
     "traceback": [
      "\u001b[0;31m---------------------------------------------------------------------------\u001b[0m",
      "\u001b[0;31mTypeError\u001b[0m                                 Traceback (most recent call last)",
      "\u001b[0;32m<ipython-input-2988-92df4d00ebd0>\u001b[0m in \u001b[0;36m<module>\u001b[0;34m\u001b[0m\n\u001b[0;32m----> 1\u001b[0;31m \u001b[0minvert_dict\u001b[0m\u001b[0;34m(\u001b[0m\u001b[0mblocks\u001b[0m\u001b[0;34m)\u001b[0m\u001b[0;34m\u001b[0m\u001b[0m\n\u001b[0m",
      "\u001b[0;32m<ipython-input-2486-a2cb26efc333>\u001b[0m in \u001b[0;36minvert_dict\u001b[0;34m(d)\u001b[0m\n\u001b[1;32m     27\u001b[0m     \u001b[0;32mfor\u001b[0m \u001b[0mkey\u001b[0m \u001b[0;32min\u001b[0m \u001b[0md\u001b[0m\u001b[0;34m:\u001b[0m\u001b[0;34m\u001b[0m\u001b[0m\n\u001b[1;32m     28\u001b[0m         \u001b[0;31m# Go through the list that is saved in the dict:\u001b[0m\u001b[0;34m\u001b[0m\u001b[0;34m\u001b[0m\u001b[0m\n\u001b[0;32m---> 29\u001b[0;31m         \u001b[0;32mfor\u001b[0m \u001b[0mitem\u001b[0m \u001b[0;32min\u001b[0m \u001b[0md\u001b[0m\u001b[0;34m[\u001b[0m\u001b[0mkey\u001b[0m\u001b[0;34m]\u001b[0m\u001b[0;34m:\u001b[0m\u001b[0;34m\u001b[0m\u001b[0m\n\u001b[0m\u001b[1;32m     30\u001b[0m             \u001b[0;31m# Check if in the inverted dict the key exists\u001b[0m\u001b[0;34m\u001b[0m\u001b[0;34m\u001b[0m\u001b[0m\n\u001b[1;32m     31\u001b[0m             \u001b[0;32mif\u001b[0m \u001b[0mitem\u001b[0m \u001b[0;32mnot\u001b[0m \u001b[0;32min\u001b[0m \u001b[0minverse\u001b[0m\u001b[0;34m:\u001b[0m\u001b[0;34m\u001b[0m\u001b[0m\n",
      "\u001b[0;31mTypeError\u001b[0m: 'int' object is not iterable"
     ]
    }
   ],
   "source": []
  },
  {
   "cell_type": "code",
   "execution_count": 2969,
   "metadata": {},
   "outputs": [
    {
     "data": {
      "text/plain": [
       "array([ 0,  1,  2,  3,  4,  5,  6,  7,  8,  9, 10, 11, 12, 13, 14, 15, 16,\n",
       "       17, 18, 19, 20, 21, 22, 23, 24, 25, 26, 27, 28, 29, 30, 31, 32, 33,\n",
       "       34, 35, 36, 37, 38, 39, 40, 41, 42, 43, 44, 45, 46, 47, 48, 49, 50,\n",
       "       51, 52, 53, 54, 55, 56, 57])"
      ]
     },
     "execution_count": 2969,
     "metadata": {},
     "output_type": "execute_result"
    }
   ],
   "source": [
    "np.sort(np.array(list(blocks.values())))"
   ]
  },
  {
   "cell_type": "code",
   "execution_count": 2962,
   "metadata": {},
   "outputs": [
    {
     "data": {
      "text/html": [
       "<div>\n",
       "<style scoped>\n",
       "    .dataframe tbody tr th:only-of-type {\n",
       "        vertical-align: middle;\n",
       "    }\n",
       "\n",
       "    .dataframe tbody tr th {\n",
       "        vertical-align: top;\n",
       "    }\n",
       "\n",
       "    .dataframe thead th {\n",
       "        text-align: right;\n",
       "    }\n",
       "</style>\n",
       "<table border=\"1\" class=\"dataframe\">\n",
       "  <thead>\n",
       "    <tr style=\"text-align: right;\">\n",
       "      <th></th>\n",
       "      <th>level_0</th>\n",
       "      <th>index</th>\n",
       "      <th>0</th>\n",
       "    </tr>\n",
       "  </thead>\n",
       "  <tbody>\n",
       "    <tr>\n",
       "      <th>0</th>\n",
       "      <td>0</td>\n",
       "      <td>(0, 0, 1, 0, 0, 1, 1, 1, 1)</td>\n",
       "      <td>0</td>\n",
       "    </tr>\n",
       "    <tr>\n",
       "      <th>1</th>\n",
       "      <td>1</td>\n",
       "      <td>(1, 0, 0, 1, 0, 0, 1, 0, 0)</td>\n",
       "      <td>1</td>\n",
       "    </tr>\n",
       "    <tr>\n",
       "      <th>2</th>\n",
       "      <td>2</td>\n",
       "      <td>(0, 0, 0, 0, 0, 0, 0, 0, 0)</td>\n",
       "      <td>2</td>\n",
       "    </tr>\n",
       "    <tr>\n",
       "      <th>3</th>\n",
       "      <td>3</td>\n",
       "      <td>(0, 0, 0, 0, 0, 1, 0, 0, 1)</td>\n",
       "      <td>3</td>\n",
       "    </tr>\n",
       "    <tr>\n",
       "      <th>4</th>\n",
       "      <td>4</td>\n",
       "      <td>(0, 0, 0, 1, 1, 1, 1, 1, 1)</td>\n",
       "      <td>4</td>\n",
       "    </tr>\n",
       "    <tr>\n",
       "      <th>5</th>\n",
       "      <td>5</td>\n",
       "      <td>(1, 0, 0, 1, 1, 1, 1, 1, 0)</td>\n",
       "      <td>5</td>\n",
       "    </tr>\n",
       "    <tr>\n",
       "      <th>6</th>\n",
       "      <td>6</td>\n",
       "      <td>(0, 1, 1, 1, 1, 1, 0, 1, 1)</td>\n",
       "      <td>6</td>\n",
       "    </tr>\n",
       "    <tr>\n",
       "      <th>7</th>\n",
       "      <td>7</td>\n",
       "      <td>(1, 1, 1, 1, 1, 0, 1, 1, 0)</td>\n",
       "      <td>7</td>\n",
       "    </tr>\n",
       "    <tr>\n",
       "      <th>8</th>\n",
       "      <td>8</td>\n",
       "      <td>(1, 1, 1, 0, 0, 1, 0, 0, 1)</td>\n",
       "      <td>8</td>\n",
       "    </tr>\n",
       "    <tr>\n",
       "      <th>9</th>\n",
       "      <td>9</td>\n",
       "      <td>(1, 0, 0, 1, 1, 1, 1, 0, 0)</td>\n",
       "      <td>9</td>\n",
       "    </tr>\n",
       "    <tr>\n",
       "      <th>10</th>\n",
       "      <td>10</td>\n",
       "      <td>(0, 0, 0, 1, 1, 1, 0, 0, 0)</td>\n",
       "      <td>10</td>\n",
       "    </tr>\n",
       "    <tr>\n",
       "      <th>11</th>\n",
       "      <td>11</td>\n",
       "      <td>(1, 1, 1, 1, 1, 1, 1, 1, 1)</td>\n",
       "      <td>11</td>\n",
       "    </tr>\n",
       "    <tr>\n",
       "      <th>12</th>\n",
       "      <td>12</td>\n",
       "      <td>(0, 0, 1, 0, 0, 0, 0, 0, 0)</td>\n",
       "      <td>12</td>\n",
       "    </tr>\n",
       "    <tr>\n",
       "      <th>13</th>\n",
       "      <td>13</td>\n",
       "      <td>(1, 0, 0, 0, 0, 0, 0, 0, 0)</td>\n",
       "      <td>13</td>\n",
       "    </tr>\n",
       "    <tr>\n",
       "      <th>14</th>\n",
       "      <td>14</td>\n",
       "      <td>(0, 1, 0, 0, 1, 0, 0, 1, 0)</td>\n",
       "      <td>14</td>\n",
       "    </tr>\n",
       "    <tr>\n",
       "      <th>15</th>\n",
       "      <td>15</td>\n",
       "      <td>(0, 1, 1, 0, 1, 1, 0, 1, 1)</td>\n",
       "      <td>15</td>\n",
       "    </tr>\n",
       "    <tr>\n",
       "      <th>16</th>\n",
       "      <td>16</td>\n",
       "      <td>(1, 0, 0, 1, 0, 0, 1, 1, 1)</td>\n",
       "      <td>16</td>\n",
       "    </tr>\n",
       "    <tr>\n",
       "      <th>17</th>\n",
       "      <td>17</td>\n",
       "      <td>(0, 1, 1, 0, 1, 1, 1, 1, 1)</td>\n",
       "      <td>17</td>\n",
       "    </tr>\n",
       "    <tr>\n",
       "      <th>18</th>\n",
       "      <td>18</td>\n",
       "      <td>(0, 0, 0, 0, 0, 0, 0, 0, 1)</td>\n",
       "      <td>18</td>\n",
       "    </tr>\n",
       "    <tr>\n",
       "      <th>19</th>\n",
       "      <td>19</td>\n",
       "      <td>(0, 0, 0, 0, 0, 0, 1, 1, 1)</td>\n",
       "      <td>19</td>\n",
       "    </tr>\n",
       "    <tr>\n",
       "      <th>20</th>\n",
       "      <td>20</td>\n",
       "      <td>(0, 0, 0, 0, 0, 0, 1, 0, 0)</td>\n",
       "      <td>20</td>\n",
       "    </tr>\n",
       "    <tr>\n",
       "      <th>21</th>\n",
       "      <td>21</td>\n",
       "      <td>(0, 0, 0, 0, 1, 1, 0, 1, 1)</td>\n",
       "      <td>21</td>\n",
       "    </tr>\n",
       "    <tr>\n",
       "      <th>22</th>\n",
       "      <td>22</td>\n",
       "      <td>(0, 0, 0, 1, 1, 0, 1, 1, 0)</td>\n",
       "      <td>22</td>\n",
       "    </tr>\n",
       "    <tr>\n",
       "      <th>23</th>\n",
       "      <td>23</td>\n",
       "      <td>(0, 1, 1, 0, 1, 1, 0, 0, 1)</td>\n",
       "      <td>23</td>\n",
       "    </tr>\n",
       "    <tr>\n",
       "      <th>24</th>\n",
       "      <td>24</td>\n",
       "      <td>(1, 1, 1, 1, 1, 1, 0, 0, 0)</td>\n",
       "      <td>24</td>\n",
       "    </tr>\n",
       "    <tr>\n",
       "      <th>25</th>\n",
       "      <td>25</td>\n",
       "      <td>(0, 1, 0, 1, 1, 0, 1, 1, 1)</td>\n",
       "      <td>25</td>\n",
       "    </tr>\n",
       "    <tr>\n",
       "      <th>26</th>\n",
       "      <td>26</td>\n",
       "      <td>(1, 1, 0, 1, 1, 0, 1, 1, 0)</td>\n",
       "      <td>26</td>\n",
       "    </tr>\n",
       "    <tr>\n",
       "      <th>27</th>\n",
       "      <td>27</td>\n",
       "      <td>(0, 0, 1, 0, 0, 1, 0, 0, 0)</td>\n",
       "      <td>27</td>\n",
       "    </tr>\n",
       "    <tr>\n",
       "      <th>28</th>\n",
       "      <td>28</td>\n",
       "      <td>(1, 0, 0, 1, 0, 0, 0, 0, 0)</td>\n",
       "      <td>28</td>\n",
       "    </tr>\n",
       "    <tr>\n",
       "      <th>29</th>\n",
       "      <td>29</td>\n",
       "      <td>(0, 1, 1, 0, 0, 0, 0, 0, 0)</td>\n",
       "      <td>29</td>\n",
       "    </tr>\n",
       "    <tr>\n",
       "      <th>30</th>\n",
       "      <td>30</td>\n",
       "      <td>(1, 1, 1, 0, 0, 0, 0, 0, 0)</td>\n",
       "      <td>30</td>\n",
       "    </tr>\n",
       "    <tr>\n",
       "      <th>31</th>\n",
       "      <td>31</td>\n",
       "      <td>(1, 1, 0, 1, 0, 0, 1, 0, 0)</td>\n",
       "      <td>31</td>\n",
       "    </tr>\n",
       "    <tr>\n",
       "      <th>32</th>\n",
       "      <td>32</td>\n",
       "      <td>(0, 0, 1, 0, 0, 1, 0, 0, 1)</td>\n",
       "      <td>32</td>\n",
       "    </tr>\n",
       "    <tr>\n",
       "      <th>33</th>\n",
       "      <td>33</td>\n",
       "      <td>(0, 1, 1, 0, 1, 0, 0, 1, 0)</td>\n",
       "      <td>33</td>\n",
       "    </tr>\n",
       "    <tr>\n",
       "      <th>34</th>\n",
       "      <td>34</td>\n",
       "      <td>(1, 1, 0, 0, 0, 0, 0, 0, 0)</td>\n",
       "      <td>34</td>\n",
       "    </tr>\n",
       "    <tr>\n",
       "      <th>35</th>\n",
       "      <td>35</td>\n",
       "      <td>(0, 0, 0, 1, 0, 0, 1, 0, 0)</td>\n",
       "      <td>35</td>\n",
       "    </tr>\n",
       "    <tr>\n",
       "      <th>36</th>\n",
       "      <td>36</td>\n",
       "      <td>(0, 0, 0, 0, 0, 0, 1, 1, 0)</td>\n",
       "      <td>36</td>\n",
       "    </tr>\n",
       "    <tr>\n",
       "      <th>37</th>\n",
       "      <td>37</td>\n",
       "      <td>(1, 1, 1, 1, 1, 1, 0, 1, 0)</td>\n",
       "      <td>37</td>\n",
       "    </tr>\n",
       "    <tr>\n",
       "      <th>38</th>\n",
       "      <td>38</td>\n",
       "      <td>(1, 1, 1, 0, 1, 0, 0, 1, 0)</td>\n",
       "      <td>38</td>\n",
       "    </tr>\n",
       "    <tr>\n",
       "      <th>39</th>\n",
       "      <td>39</td>\n",
       "      <td>(0, 0, 1, 1, 1, 1, 0, 0, 1)</td>\n",
       "      <td>39</td>\n",
       "    </tr>\n",
       "    <tr>\n",
       "      <th>40</th>\n",
       "      <td>40</td>\n",
       "      <td>(0, 1, 0, 0, 1, 0, 0, 1, 1)</td>\n",
       "      <td>40</td>\n",
       "    </tr>\n",
       "    <tr>\n",
       "      <th>41</th>\n",
       "      <td>41</td>\n",
       "      <td>(1, 1, 1, 0, 0, 1, 0, 0, 0)</td>\n",
       "      <td>41</td>\n",
       "    </tr>\n",
       "    <tr>\n",
       "      <th>42</th>\n",
       "      <td>42</td>\n",
       "      <td>(1, 1, 1, 1, 1, 1, 0, 0, 1)</td>\n",
       "      <td>42</td>\n",
       "    </tr>\n",
       "    <tr>\n",
       "      <th>43</th>\n",
       "      <td>43</td>\n",
       "      <td>(1, 1, 1, 1, 1, 1, 1, 0, 0)</td>\n",
       "      <td>43</td>\n",
       "    </tr>\n",
       "    <tr>\n",
       "      <th>44</th>\n",
       "      <td>44</td>\n",
       "      <td>(1, 1, 1, 1, 1, 0, 0, 0, 0)</td>\n",
       "      <td>44</td>\n",
       "    </tr>\n",
       "    <tr>\n",
       "      <th>45</th>\n",
       "      <td>45</td>\n",
       "      <td>(1, 1, 1, 0, 1, 1, 0, 1, 1)</td>\n",
       "      <td>45</td>\n",
       "    </tr>\n",
       "    <tr>\n",
       "      <th>46</th>\n",
       "      <td>46</td>\n",
       "      <td>(1, 1, 0, 1, 1, 0, 1, 1, 1)</td>\n",
       "      <td>46</td>\n",
       "    </tr>\n",
       "    <tr>\n",
       "      <th>47</th>\n",
       "      <td>47</td>\n",
       "      <td>(0, 0, 0, 0, 1, 1, 1, 1, 1)</td>\n",
       "      <td>47</td>\n",
       "    </tr>\n",
       "    <tr>\n",
       "      <th>48</th>\n",
       "      <td>48</td>\n",
       "      <td>(0, 1, 0, 1, 1, 1, 1, 1, 1)</td>\n",
       "      <td>48</td>\n",
       "    </tr>\n",
       "    <tr>\n",
       "      <th>49</th>\n",
       "      <td>49</td>\n",
       "      <td>(0, 0, 1, 1, 1, 1, 1, 1, 1)</td>\n",
       "      <td>49</td>\n",
       "    </tr>\n",
       "    <tr>\n",
       "      <th>50</th>\n",
       "      <td>50</td>\n",
       "      <td>(0, 1, 1, 0, 1, 1, 0, 0, 0)</td>\n",
       "      <td>50</td>\n",
       "    </tr>\n",
       "    <tr>\n",
       "      <th>51</th>\n",
       "      <td>51</td>\n",
       "      <td>(0, 1, 0, 0, 1, 0, 1, 1, 1)</td>\n",
       "      <td>51</td>\n",
       "    </tr>\n",
       "    <tr>\n",
       "      <th>52</th>\n",
       "      <td>52</td>\n",
       "      <td>(1, 1, 0, 1, 1, 1, 1, 1, 0)</td>\n",
       "      <td>52</td>\n",
       "    </tr>\n",
       "    <tr>\n",
       "      <th>53</th>\n",
       "      <td>53</td>\n",
       "      <td>(0, 0, 0, 0, 0, 0, 0, 1, 1)</td>\n",
       "      <td>53</td>\n",
       "    </tr>\n",
       "    <tr>\n",
       "      <th>54</th>\n",
       "      <td>54</td>\n",
       "      <td>(0, 0, 0, 1, 0, 0, 1, 1, 1)</td>\n",
       "      <td>54</td>\n",
       "    </tr>\n",
       "    <tr>\n",
       "      <th>55</th>\n",
       "      <td>55</td>\n",
       "      <td>(1, 1, 0, 1, 1, 0, 0, 0, 0)</td>\n",
       "      <td>55</td>\n",
       "    </tr>\n",
       "    <tr>\n",
       "      <th>56</th>\n",
       "      <td>56</td>\n",
       "      <td>(1, 0, 0, 1, 1, 0, 1, 1, 0)</td>\n",
       "      <td>56</td>\n",
       "    </tr>\n",
       "    <tr>\n",
       "      <th>57</th>\n",
       "      <td>57</td>\n",
       "      <td>(1, 1, 1, 1, 0, 0, 1, 0, 0)</td>\n",
       "      <td>57</td>\n",
       "    </tr>\n",
       "  </tbody>\n",
       "</table>\n",
       "</div>"
      ],
      "text/plain": [
       "    level_0                        index   0\n",
       "0         0  (0, 0, 1, 0, 0, 1, 1, 1, 1)   0\n",
       "1         1  (1, 0, 0, 1, 0, 0, 1, 0, 0)   1\n",
       "2         2  (0, 0, 0, 0, 0, 0, 0, 0, 0)   2\n",
       "3         3  (0, 0, 0, 0, 0, 1, 0, 0, 1)   3\n",
       "4         4  (0, 0, 0, 1, 1, 1, 1, 1, 1)   4\n",
       "5         5  (1, 0, 0, 1, 1, 1, 1, 1, 0)   5\n",
       "6         6  (0, 1, 1, 1, 1, 1, 0, 1, 1)   6\n",
       "7         7  (1, 1, 1, 1, 1, 0, 1, 1, 0)   7\n",
       "8         8  (1, 1, 1, 0, 0, 1, 0, 0, 1)   8\n",
       "9         9  (1, 0, 0, 1, 1, 1, 1, 0, 0)   9\n",
       "10       10  (0, 0, 0, 1, 1, 1, 0, 0, 0)  10\n",
       "11       11  (1, 1, 1, 1, 1, 1, 1, 1, 1)  11\n",
       "12       12  (0, 0, 1, 0, 0, 0, 0, 0, 0)  12\n",
       "13       13  (1, 0, 0, 0, 0, 0, 0, 0, 0)  13\n",
       "14       14  (0, 1, 0, 0, 1, 0, 0, 1, 0)  14\n",
       "15       15  (0, 1, 1, 0, 1, 1, 0, 1, 1)  15\n",
       "16       16  (1, 0, 0, 1, 0, 0, 1, 1, 1)  16\n",
       "17       17  (0, 1, 1, 0, 1, 1, 1, 1, 1)  17\n",
       "18       18  (0, 0, 0, 0, 0, 0, 0, 0, 1)  18\n",
       "19       19  (0, 0, 0, 0, 0, 0, 1, 1, 1)  19\n",
       "20       20  (0, 0, 0, 0, 0, 0, 1, 0, 0)  20\n",
       "21       21  (0, 0, 0, 0, 1, 1, 0, 1, 1)  21\n",
       "22       22  (0, 0, 0, 1, 1, 0, 1, 1, 0)  22\n",
       "23       23  (0, 1, 1, 0, 1, 1, 0, 0, 1)  23\n",
       "24       24  (1, 1, 1, 1, 1, 1, 0, 0, 0)  24\n",
       "25       25  (0, 1, 0, 1, 1, 0, 1, 1, 1)  25\n",
       "26       26  (1, 1, 0, 1, 1, 0, 1, 1, 0)  26\n",
       "27       27  (0, 0, 1, 0, 0, 1, 0, 0, 0)  27\n",
       "28       28  (1, 0, 0, 1, 0, 0, 0, 0, 0)  28\n",
       "29       29  (0, 1, 1, 0, 0, 0, 0, 0, 0)  29\n",
       "30       30  (1, 1, 1, 0, 0, 0, 0, 0, 0)  30\n",
       "31       31  (1, 1, 0, 1, 0, 0, 1, 0, 0)  31\n",
       "32       32  (0, 0, 1, 0, 0, 1, 0, 0, 1)  32\n",
       "33       33  (0, 1, 1, 0, 1, 0, 0, 1, 0)  33\n",
       "34       34  (1, 1, 0, 0, 0, 0, 0, 0, 0)  34\n",
       "35       35  (0, 0, 0, 1, 0, 0, 1, 0, 0)  35\n",
       "36       36  (0, 0, 0, 0, 0, 0, 1, 1, 0)  36\n",
       "37       37  (1, 1, 1, 1, 1, 1, 0, 1, 0)  37\n",
       "38       38  (1, 1, 1, 0, 1, 0, 0, 1, 0)  38\n",
       "39       39  (0, 0, 1, 1, 1, 1, 0, 0, 1)  39\n",
       "40       40  (0, 1, 0, 0, 1, 0, 0, 1, 1)  40\n",
       "41       41  (1, 1, 1, 0, 0, 1, 0, 0, 0)  41\n",
       "42       42  (1, 1, 1, 1, 1, 1, 0, 0, 1)  42\n",
       "43       43  (1, 1, 1, 1, 1, 1, 1, 0, 0)  43\n",
       "44       44  (1, 1, 1, 1, 1, 0, 0, 0, 0)  44\n",
       "45       45  (1, 1, 1, 0, 1, 1, 0, 1, 1)  45\n",
       "46       46  (1, 1, 0, 1, 1, 0, 1, 1, 1)  46\n",
       "47       47  (0, 0, 0, 0, 1, 1, 1, 1, 1)  47\n",
       "48       48  (0, 1, 0, 1, 1, 1, 1, 1, 1)  48\n",
       "49       49  (0, 0, 1, 1, 1, 1, 1, 1, 1)  49\n",
       "50       50  (0, 1, 1, 0, 1, 1, 0, 0, 0)  50\n",
       "51       51  (0, 1, 0, 0, 1, 0, 1, 1, 1)  51\n",
       "52       52  (1, 1, 0, 1, 1, 1, 1, 1, 0)  52\n",
       "53       53  (0, 0, 0, 0, 0, 0, 0, 1, 1)  53\n",
       "54       54  (0, 0, 0, 1, 0, 0, 1, 1, 1)  54\n",
       "55       55  (1, 1, 0, 1, 1, 0, 0, 0, 0)  55\n",
       "56       56  (1, 0, 0, 1, 1, 0, 1, 1, 0)  56\n",
       "57       57  (1, 1, 1, 1, 0, 0, 1, 0, 0)  57"
      ]
     },
     "execution_count": 2962,
     "metadata": {},
     "output_type": "execute_result"
    }
   ],
   "source": [
    "pd.DataFrame().from_dict(blocks, orient='index').reset_index().reset_index()"
   ]
  },
  {
   "cell_type": "code",
   "execution_count": 3752,
   "metadata": {},
   "outputs": [],
   "source": [
    "img = io.imread('data/pebbles.jpg')\n",
    "img = color.rgb2gray(img)\n",
    "img = rescale(img, 1/20, anti_aliasing=True, anti_aliasing_sigma=1.5)\n",
    "img = (np.round(img*3-0.25)).astype(int)\n",
    "img = img[:120, :120]"
   ]
  },
  {
   "cell_type": "code",
   "execution_count": 3753,
   "metadata": {},
   "outputs": [
    {
     "data": {
      "text/plain": [
       "<matplotlib.image.AxesImage at 0x7fdc2f655278>"
      ]
     },
     "execution_count": 3753,
     "metadata": {},
     "output_type": "execute_result"
    },
    {
     "data": {
      "image/png": "[encoded data removed]",
      "text/plain": [
       "<Figure size 360x360 with 1 Axes>"
      ]
     },
     "metadata": {
      "needs_background": "light"
     },
     "output_type": "display_data"
    }
   ],
   "source": [
    "plt.figure( figsize=(5,5))\n",
    "plt.imshow(img, cmap='gray',)"
   ]
  },
  {
   "cell_type": "code",
   "execution_count": 3394,
   "metadata": {},
   "outputs": [],
   "source": [
    "img = io.imread('data/aztec.png')\n",
    "img = color.rgb2gray(img)\n",
    "img = rescale(img, 1/6, anti_aliasing=False, anti_aliasing_sigma=1.5)\n",
    "#img = rescale(img, 1/12, anti_aliasing=False, anti_aliasing_sigma=1.5)"
   ]
  },
  {
   "cell_type": "code",
   "execution_count": 3395,
   "metadata": {},
   "outputs": [
    {
     "data": {
      "text/plain": [
       "array([[0.95294118, 0.95196078, 0.95294118, ..., 0.95294118, 0.95294118,\n",
       "        0.95294118],\n",
       "       [0.99117647, 0.99516873, 0.9981099 , ..., 0.99818059, 0.9981099 ,\n",
       "        0.99901961],\n",
       "       [0.9754902 , 0.99411765, 1.        , ..., 1.        , 1.        ,\n",
       "        0.99019608],\n",
       "       ...,\n",
       "       [0.81372549, 0.81176471, 0.81764706, ..., 0.81764706, 0.81764706,\n",
       "        0.81764706],\n",
       "       [0.99901961, 0.99901961, 1.        , ..., 1.        , 1.        ,\n",
       "        0.99019608],\n",
       "       [0.99243588, 0.99607843, 0.99929863, ..., 1.        , 0.99901961,\n",
       "        0.99509804]])"
      ]
     },
     "execution_count": 3395,
     "metadata": {},
     "output_type": "execute_result"
    }
   ],
   "source": [
    "img"
   ]
  },
  {
   "cell_type": "code",
   "execution_count": 3396,
   "metadata": {},
   "outputs": [],
   "source": [
    "img = (np.round(img)).astype(int)\n",
    "#img = img[1:109,1:109]"
   ]
  },
  {
   "cell_type": "code",
   "execution_count": 3397,
   "metadata": {},
   "outputs": [
    {
     "data": {
      "text/plain": [
       "array([[1, 1, 1, ..., 1, 1, 1],\n",
       "       [1, 1, 1, ..., 1, 1, 1],\n",
       "       [1, 1, 1, ..., 1, 1, 1],\n",
       "       ...,\n",
       "       [1, 1, 1, ..., 1, 1, 1],\n",
       "       [1, 1, 1, ..., 1, 1, 1],\n",
       "       [1, 1, 1, ..., 1, 1, 1]])"
      ]
     },
     "execution_count": 3397,
     "metadata": {},
     "output_type": "execute_result"
    }
   ],
   "source": [
    "img"
   ]
  },
  {
   "cell_type": "code",
   "execution_count": 3477,
   "metadata": {},
   "outputs": [
    {
     "data": {
      "text/plain": [
       "(48, 48)"
      ]
     },
     "execution_count": 3477,
     "metadata": {},
     "output_type": "execute_result"
    }
   ],
   "source": [
    "img.shape"
   ]
  },
  {
   "cell_type": "code",
   "execution_count": 3399,
   "metadata": {},
   "outputs": [
    {
     "data": {
      "text/plain": [
       "<matplotlib.image.AxesImage at 0x7fdb161fb908>"
      ]
     },
     "execution_count": 3399,
     "metadata": {},
     "output_type": "execute_result"
    },
    {
     "data": {
      "image/png": "[encoded data removed]",
      "text/plain": [
       "<Figure size 576x576 with 1 Axes>"
      ]
     },
     "metadata": {
      "needs_background": "light"
     },
     "output_type": "display_data"
    }
   ],
   "source": [
    "plt.figure( figsize=(8,8))\n",
    "plt.imshow(img, cmap='gray',)"
   ]
  },
  {
   "cell_type": "code",
   "execution_count": 3171,
   "metadata": {},
   "outputs": [],
   "source": [
    "img = io.imread('data/maze.png')\n",
    "img = color.rgb2gray(img)\n",
    "img = rescale(img, 1/27, anti_aliasing=False, anti_aliasing_sigma=1.5)\n",
    "img = (np.round(img)).astype(int)\n",
    "img = img[:64, :120]"
   ]
  },
  {
   "cell_type": "code",
   "execution_count": 3172,
   "metadata": {},
   "outputs": [
    {
     "data": {
      "text/plain": [
       "(64, 80)"
      ]
     },
     "execution_count": 3172,
     "metadata": {},
     "output_type": "execute_result"
    }
   ],
   "source": [
    "img.shape"
   ]
  },
  {
   "cell_type": "code",
   "execution_count": 3173,
   "metadata": {},
   "outputs": [
    {
     "data": {
      "text/plain": [
       "<matplotlib.image.AxesImage at 0x7fdc179d6518>"
      ]
     },
     "execution_count": 3173,
     "metadata": {},
     "output_type": "execute_result"
    },
    {
     "data": {
      "image/png": "[encoded data removed]",
      "text/plain": [
       "<Figure size 576x576 with 1 Axes>"
      ]
     },
     "metadata": {
      "needs_background": "light"
     },
     "output_type": "display_data"
    }
   ],
   "source": [
    "plt.figure( figsize=(8,8))\n",
    "plt.imshow(img, cmap='gray',)"
   ]
  },
  {
   "cell_type": "code",
   "execution_count": null,
   "metadata": {},
   "outputs": [],
   "source": []
  },
  {
   "cell_type": "markdown",
   "metadata": {},
   "source": [
    "Take a 3x3 patch and turn into sequence, treat each entry as categorical variance and compute covariance matrix between each pair"
   ]
  },
  {
   "cell_type": "code",
   "execution_count": null,
   "metadata": {},
   "outputs": [],
   "source": []
  },
  {
   "cell_type": "code",
   "execution_count": 3129,
   "metadata": {},
   "outputs": [],
   "source": [
    "def preprocess_blocks(img, block_size):\n",
    "    \n",
    "#     blocks_count = dict()\n",
    "    \n",
    "#     for i in range(0, img.shape[0], kernel_size):\n",
    "#         for j in range(0, img.shape[1], kernel_size):\n",
    "#             block = tuple(img[i:i+kernel_size, j:j+kernel_size].flatten())\n",
    "#             if block not in blocks_dict:\n",
    "#                 blocks_dict[block] = 1\n",
    "#                 #blocks_dict[block] = num_blocks\n",
    "#             else:\n",
    "#                 blocks_dict[block] += 1\n",
    "        \n",
    "#     blocks_count.values\n",
    "    \n",
    "#     blocks_id = dict()\n",
    "#     num_blocks = 0\n",
    "#     for (block, count) in blocks_count.items():\n",
    "#         blocks_id[block] \n",
    "#         num_blocks+=1\n",
    "\n",
    "    blocks_id = dict()\n",
    "    num_blocks = 0\n",
    "    for i in range(0, img.shape[0], block_size):\n",
    "        for j in range(0, img.shape[1], block_size):\n",
    "            block = tuple(img[i:i+block_size, j:j+block_size].flatten())\n",
    "            if block not in blocks_id:\n",
    "                blocks_id[block] = num_blocks\n",
    "                num_blocks+=1\n",
    "                \n",
    "    return blocks_id"
   ]
  },
  {
   "cell_type": "code",
   "execution_count": 3130,
   "metadata": {},
   "outputs": [
    {
     "data": {
      "text/plain": [
       "(48, 48)"
      ]
     },
     "execution_count": 3130,
     "metadata": {},
     "output_type": "execute_result"
    }
   ],
   "source": [
    "img.shape"
   ]
  },
  {
   "cell_type": "code",
   "execution_count": 3133,
   "metadata": {},
   "outputs": [],
   "source": [
    "blocks = preprocess_blocks(img, 2)\n",
    "#blocks_ids = {block_id:block_tup for (block_tup, block_id) in blocks.items()}"
   ]
  },
  {
   "cell_type": "code",
   "execution_count": 3134,
   "metadata": {},
   "outputs": [
    {
     "data": {
      "text/plain": [
       "{(0, 0, 0, 0): 0,\n",
       " (1, 1, 1, 1): 1,\n",
       " (0, 0, 1, 1): 2,\n",
       " (1, 0, 1, 1): 3,\n",
       " (1, 1, 0, 0): 4,\n",
       " (1, 1, 0, 1): 5,\n",
       " (0, 1, 1, 1): 6,\n",
       " (1, 0, 1, 0): 7,\n",
       " (1, 1, 1, 0): 8,\n",
       " (0, 1, 0, 1): 9,\n",
       " (0, 0, 1, 0): 10,\n",
       " (0, 0, 0, 1): 11,\n",
       " (0, 1, 0, 0): 12,\n",
       " (1, 0, 0, 0): 13}"
      ]
     },
     "execution_count": 3134,
     "metadata": {},
     "output_type": "execute_result"
    }
   ],
   "source": [
    "blocks"
   ]
  },
  {
   "cell_type": "code",
   "execution_count": 3135,
   "metadata": {},
   "outputs": [
    {
     "data": {
      "text/plain": [
       "(48, 48)"
      ]
     },
     "execution_count": 3135,
     "metadata": {},
     "output_type": "execute_result"
    }
   ],
   "source": [
    "img.shape"
   ]
  },
  {
   "cell_type": "code",
   "execution_count": 3136,
   "metadata": {},
   "outputs": [],
   "source": [
    "def convert_img_to_blocks(img, block_size, blocks_dict):\n",
    "    \n",
    "    block_img = np.zeros((\n",
    "        int(img.shape[0]/block_size), \n",
    "        int(img.shape[1]/block_size)))\n",
    "    \n",
    "    for i in range(0, img.shape[0], block_size):\n",
    "        for j in range(0, img.shape[1], block_size):\n",
    "            block = tuple(img[i:i+block_size, j:j+block_size].flatten())\n",
    "            block_img[\n",
    "                int(i/block_size),int(j/block_size)] = blocks_dict[block]\n",
    "                        \n",
    "    return block_img.astype(int)\n",
    "\n",
    "def convert_blocks_to_img(block_img, block_size, blocks_dict):\n",
    "    \n",
    "    block_ids = {block_id:block_tup for (block_tup, block_id) in blocks.items()}\n",
    "    \n",
    "    img = np.zeros((\n",
    "        int(block_img.shape[0]*block_size), \n",
    "        int(block_img.shape[1]*block_size)))\n",
    "    \n",
    "    for i in range(block_img.shape[0]):\n",
    "        for j in range(block_img.shape[1]):\n",
    "            block_id = block_img[i,j]\n",
    "            block = block_ids[block_id]\n",
    "            block = np.array(block).reshape((block_size, block_size))\n",
    "            img[i*block_size : (i+1)*block_size, \n",
    "                j*block_size : (j+1)*block_size] = block\n",
    "                        \n",
    "    return img"
   ]
  },
  {
   "cell_type": "code",
   "execution_count": 3137,
   "metadata": {},
   "outputs": [
    {
     "name": "stderr",
     "output_type": "stream",
     "text": [
      "/Users/milesturpin/miniconda3/lib/python3.6/site-packages/IPython/core/displayhook.py:271: UserWarning: Output cache limit (currently 1000 entries) hit.\n",
      "Flushing oldest 200 entries.\n",
      "  'Flushing oldest {cull_count} entries.'.format(sz=sz, cull_count=cull_count))\n"
     ]
    },
    {
     "data": {
      "text/plain": [
       "array([[0., 0., 1., ..., 1., 1., 1.],\n",
       "       [0., 0., 1., ..., 1., 1., 1.],\n",
       "       [1., 1., 1., ..., 1., 1., 1.],\n",
       "       ...,\n",
       "       [0., 0., 0., ..., 0., 0., 0.],\n",
       "       [0., 0., 0., ..., 0., 0., 0.],\n",
       "       [0., 0., 0., ..., 1., 1., 1.]])"
      ]
     },
     "execution_count": 3137,
     "metadata": {},
     "output_type": "execute_result"
    }
   ],
   "source": [
    "convert_blocks_to_img(convert_img_to_blocks(img, 2, blocks), 2, blocks)"
   ]
  },
  {
   "cell_type": "code",
   "execution_count": null,
   "metadata": {},
   "outputs": [],
   "source": []
  },
  {
   "cell_type": "code",
   "execution_count": 4,
   "metadata": {},
   "outputs": [],
   "source": [
    "def ndim2flat_idx(idx, shape):\n",
    "    \"\"\"\n",
    "    Inverse to np.unravel_index.\n",
    "    \n",
    "    E.g. ndim2flat_idx([1,2], (3,3)) = 5\n",
    "    \"\"\"\n",
    "    flat_idx = 0\n",
    "    place = 1\n",
    "    for i in range(len(idx))[::-1]:\n",
    "        if idx[i] >= shape[i]:\n",
    "            raise ValueError('Index too big for shape!')\n",
    "        flat_idx += idx[i]*place\n",
    "        place = place*shape[i]\n",
    "    return flat_idx"
   ]
  },
  {
   "cell_type": "markdown",
   "metadata": {},
   "source": [
    "oh wait Im counting if matches self oops"
   ]
  },
  {
   "cell_type": "code",
   "execution_count": 3184,
   "metadata": {},
   "outputs": [],
   "source": [
    "# num loops = 64*64*50*50 = 10 million\n",
    "\n",
    "def compute_count_tensor(img, kernel_size, stride):\n",
    "    \"\"\"\n",
    "    Currently kernel size is also stride.\n",
    "    \"\"\"\n",
    "    \n",
    "    indices = [[i,j] for i in range(kernel_size) for j in range(kernel_size)]\n",
    "    \n",
    "    w = img.shape[1]\n",
    "    h = img.shape[0]\n",
    "    num_convs_w = floor((w-kernel_size)/stride)+1\n",
    "    num_convs_h = floor((h-kernel_size)/stride)+1\n",
    "    \n",
    "    count_tensor = np.zeros([kernel_size**2, kernel_size**2, \n",
    "                             np.max(img)-np.min(img)+1, np.max(img)-np.min(img)+1])\n",
    "    print(count_tensor.shape)\n",
    "    for i in range(0, num_convs_h, stride):\n",
    "        for j in range(0, num_convs_w, stride):\n",
    "            for idx1 in indices:\n",
    "                for idx2 in indices:\n",
    "\n",
    "                    idx = (\n",
    "                        ndim2flat_idx(idx1, (kernel_size,kernel_size)),\n",
    "                        ndim2flat_idx(idx2, (kernel_size,kernel_size)),\n",
    "                        img[i + idx1[0], j + idx1[1]],\n",
    "                        img[i + idx2[0], j + idx2[1]]\n",
    "                    )\n",
    "\n",
    "                    if idx1 != idx2:\n",
    "                        count_tensor[idx] = count_tensor[idx] + 1\n",
    "                        \n",
    "    return count_tensor\n",
    "\n",
    "\n",
    "def normalize_count_tensor(count_tensor):\n",
    "    normalized_tensor = count_tensor / np.sum(count_tensor, axis=(2,3), keepdims=True)\n",
    "    affinity_tensor = np.log(normalized_tensor + 0.0000001)\n",
    "    affinity_tensor = np.nan_to_num(affinity_tensor, nan=0)\n",
    "    return affinity_tensor"
   ]
  },
  {
   "cell_type": "code",
   "execution_count": 3870,
   "metadata": {},
   "outputs": [],
   "source": [
    "orig_img = img"
   ]
  },
  {
   "cell_type": "code",
   "execution_count": 3871,
   "metadata": {},
   "outputs": [],
   "source": [
    "img = orig_img"
   ]
  },
  {
   "cell_type": "code",
   "execution_count": 3872,
   "metadata": {},
   "outputs": [
    {
     "data": {
      "text/plain": [
       "(48, 48)"
      ]
     },
     "execution_count": 3872,
     "metadata": {},
     "output_type": "execute_result"
    }
   ],
   "source": [
    "img.shape"
   ]
  },
  {
   "cell_type": "code",
   "execution_count": 3873,
   "metadata": {},
   "outputs": [
    {
     "name": "stdout",
     "output_type": "stream",
     "text": [
      "256.0\n"
     ]
    }
   ],
   "source": [
    "block_size=3\n",
    "print(img.shape[0]*img.shape[1]/(block_size**2))\n",
    "blocks = preprocess_blocks(img, block_size)\n",
    "img = convert_img_to_blocks(img, block_size, blocks)"
   ]
  },
  {
   "cell_type": "code",
   "execution_count": 3874,
   "metadata": {},
   "outputs": [
    {
     "data": {
      "text/plain": [
       "(16, 16)"
      ]
     },
     "execution_count": 3874,
     "metadata": {},
     "output_type": "execute_result"
    }
   ],
   "source": [
    "img.shape"
   ]
  },
  {
   "cell_type": "code",
   "execution_count": 3875,
   "metadata": {},
   "outputs": [
    {
     "data": {
      "text/plain": [
       "57"
      ]
     },
     "execution_count": 3875,
     "metadata": {},
     "output_type": "execute_result"
    }
   ],
   "source": [
    "np.max(img)"
   ]
  },
  {
   "cell_type": "code",
   "execution_count": 3877,
   "metadata": {},
   "outputs": [
    {
     "name": "stdout",
     "output_type": "stream",
     "text": [
      "(4, 4, 58, 58)\n"
     ]
    },
    {
     "name": "stderr",
     "output_type": "stream",
     "text": [
      "/Users/milesturpin/miniconda3/lib/python3.6/site-packages/ipykernel_launcher.py:37: RuntimeWarning: invalid value encountered in true_divide\n"
     ]
    }
   ],
   "source": [
    "kernel_size = 2\n",
    "learn_stride= 1\n",
    "stride = 1\n",
    "num_colors = np.max(img) - np.min(img) + 1\n",
    "count_tensor = compute_count_tensor(img, kernel_size=kernel_size, stride=learn_stride)\n",
    "affinity_tensor = normalize_count_tensor(count_tensor)"
   ]
  },
  {
   "cell_type": "code",
   "execution_count": 3878,
   "metadata": {},
   "outputs": [],
   "source": [
    "#np.swapaxes(np.swapaxes(count_tensor, 0,2), 1,3).round(2)"
   ]
  },
  {
   "cell_type": "code",
   "execution_count": 3879,
   "metadata": {},
   "outputs": [
    {
     "data": {
      "image/png": "[encoded data removed]",
      "text/plain": [
       "<Figure size 864x864 with 16 Axes>"
      ]
     },
     "metadata": {
      "needs_background": "light"
     },
     "output_type": "display_data"
    }
   ],
   "source": [
    "fig, axes = plt.subplots(4,4, figsize=(12,12))\n",
    "for i in range(4):\n",
    "    for j in range(4):\n",
    "        axes[i,j].imshow(affinity_tensor[:,:,i,j], cmap='gray')\n",
    "        axes[i,j].set_title(f'({i},{j})')"
   ]
  },
  {
   "cell_type": "code",
   "execution_count": 3450,
   "metadata": {},
   "outputs": [],
   "source": [
    "def calc_total_log_prob(affinity_tensor, img, kernel_size, stride):\n",
    "    \n",
    "    w = img.shape[1]\n",
    "    h = img.shape[0]\n",
    "    num_convs_w = floor((w-kernel_size)/stride)+1\n",
    "    num_convs_h = floor((w-kernel_size)/stride)+1\n",
    "    \n",
    "    log_prob = 0\n",
    "    cnt2 = 0\n",
    "    for i in stride * np.arange(num_convs_h):\n",
    "        #print('i', i)\n",
    "        for j in stride * np.arange(num_convs_w):\n",
    "            #print('j', j)\n",
    "            local_prob, cnt = calc_log_prob(affinity_tensor, img, i, j, kernel_size)\n",
    "            log_prob = log_prob + local_prob\n",
    "            #print(cnt)\n",
    "            cnt2 += cnt\n",
    "                    \n",
    "    return log_prob, cnt2\n",
    "\n",
    "def calc_log_prob(affinity_tensor, img, i, j, kernel_size):\n",
    "    \n",
    "    indices = [[i,j] for i in range(kernel_size) for j in range(kernel_size)]\n",
    "    log_prob = 0\n",
    "    #res = []\n",
    "    #res2 = []\n",
    "    cnt = 0\n",
    "    for pos1 in range(kernel_size**2):\n",
    "        # plus 1 so that no collisions\n",
    "        for pos2 in range(pos1+1, kernel_size**2):\n",
    "            idx1 = indices[pos1]\n",
    "            idx2 = indices[pos2]\n",
    "            #print(idx1, idx2)\n",
    "\n",
    "            idx = (\n",
    "                pos1, \n",
    "                pos2,\n",
    "                img[i + idx1[0], j + idx1[1]],\n",
    "                img[i + idx2[0], j + idx2[1]]\n",
    "            )\n",
    "            \n",
    "            if idx1 != idx2:\n",
    "                #res.append(int(affinity_tensor[idx]))\n",
    "                #res2.append({(i,j, ndim2flat_idx(idx1, (kernel_size,kernel_size)),\n",
    "                #   ndim2flat_idx(idx2, (kernel_size,kernel_size))) :int(affinity_tensor[idx])})\n",
    "                log_prob = log_prob + affinity_tensor[idx]\n",
    "                cnt+=1\n",
    "                    \n",
    "    return log_prob, cnt\n",
    "#, res, res2"
   ]
  },
  {
   "cell_type": "code",
   "execution_count": 2486,
   "metadata": {},
   "outputs": [],
   "source": [
    "def construct_filters_idx_dict(shape, kernel_size, stride):\n",
    "    \"\"\"\n",
    "    Creates a dict that gives all the absolute sequence image indexes in each filter\n",
    "    E.g.\n",
    "    (0, 2) -> [2, 3, 8, 9 ...]\n",
    "    \n",
    "    \"\"\"\n",
    "    \n",
    "    image_idx = np.arange(shape[0]*shape[1]).reshape(shape)\n",
    "    \n",
    "    num_convs_h = floor((shape[0]-kernel_size)/stride)+1\n",
    "    num_convs_w = floor((shape[1]-kernel_size)/stride)+1\n",
    "    \n",
    "    total = dict()\n",
    "    \n",
    "    log_prob = 0\n",
    "    cnt2 = 0\n",
    "    for i in stride * np.arange(num_convs_h):\n",
    "        for j in stride * np.arange(num_convs_w):\n",
    "            \n",
    "            sub_img = image_idx[i:i+kernel_size, j:j+kernel_size].flatten().tolist()\n",
    "            total[(i,j)] = sub_img\n",
    "    return total\n",
    "\n",
    "def invert_dict(d): \n",
    "    inverse = dict() \n",
    "    for key in d: \n",
    "        # Go through the list that is saved in the dict:\n",
    "        for item in d[key]:\n",
    "            # Check if in the inverted dict the key exists\n",
    "            if item not in inverse: \n",
    "                # If not create a new list\n",
    "                inverse[item] = [key] \n",
    "            else: \n",
    "                inverse[item].append(key) \n",
    "    return inverse\n",
    "\n",
    "def invert_filter2img_dict(filter_idx_to_image_idx, kernel_size, shape): \n",
    "    \"\"\"\n",
    "    output_dict behavior: 35 -> [(0, 2, 9), (2, 2, 7) … ] \n",
    "    \"\"\"\n",
    "    \n",
    "    image_idx_to_filter_idx = dict() \n",
    "    for (i,j), img_idxs in filter_idx_to_image_idx.items(): \n",
    "        # Go through the list that is saved in the dict:\n",
    "        for img_idx in img_idxs:\n",
    "            # Check if in the inverted dict the key exists\n",
    "            if img_idx not in image_idx_to_filter_idx: \n",
    "                # If not create a new list\n",
    "                # (kernel idx0, kernel idx1, relative position in kernel)\n",
    "                ker_seq_pos = get_seq_pos(i,j,kernel_size, shape, img_idx)\n",
    "                image_idx_to_filter_idx[img_idx] = [(i, j, ker_seq_pos)] \n",
    "            else: \n",
    "                ker_seq_pos = get_seq_pos(i,j,kernel_size, shape, img_idx)\n",
    "                image_idx_to_filter_idx[img_idx].append((i, j, ker_seq_pos))\n",
    "    image_idx_to_filter_idx = {\n",
    "        key:np.array(val) for key, val in image_idx_to_filter_idx.items()\n",
    "    }\n",
    "    return image_idx_to_filter_idx\n",
    "\n",
    "def construct_alternate_img_array(image_idx_to_filter_idx, img, kernel_size, stride):\n",
    "    \"\"\"\n",
    "    Construct another way to index into image values\n",
    "    (i, j, rel_ker_pos, image value)\n",
    "    Makes it easy to \n",
    "    \n",
    "    Just need to keep updated similarly to image. There are dependencies here.\n",
    "    \"\"\"\n",
    "    \n",
    "    arr = np.zeros((\n",
    "        num_convs(img.shape[0], kernel_size, stride),\n",
    "        num_convs(img.shape[1], kernel_size, stride),\n",
    "        kernel_size**2))\n",
    "    \n",
    "    for abs_seq_idx, pos_info in image_idx_to_filter_idx.items(): \n",
    "        # Go through the list that is saved in the dict:\n",
    "        for (i, j, rel_pos) in pos_info:\n",
    "            img_idx = np.unravel_index(abs_seq_idx, img.shape)\n",
    "            arr[int(i/stride), int(j/stride), rel_pos] = img[img_idx]\n",
    "    \n",
    "    return arr"
   ]
  },
  {
   "cell_type": "code",
   "execution_count": 2467,
   "metadata": {},
   "outputs": [],
   "source": [
    "filter_idx_to_image_idx = construct_filters_idx_dict((3,3), 2, 1)\n",
    "#image_idx_to_filter_idx = invert_dict(filter_idx_to_image_idx)\n",
    "image_idx_to_filter_idx = invert_filter2img_dict(filter_idx_to_image_idx, 2, (3,3))\n",
    "alt_img = construct_alternate_img_array(\n",
    "    image_idx_to_filter_idx, np.arange(9).reshape((3,3), order='C'), 2, 1)"
   ]
  },
  {
   "cell_type": "code",
   "execution_count": 2468,
   "metadata": {},
   "outputs": [
    {
     "data": {
      "text/plain": [
       "(2, 2, 4)"
      ]
     },
     "execution_count": 2468,
     "metadata": {},
     "output_type": "execute_result"
    }
   ],
   "source": [
    "alt_img.shape"
   ]
  },
  {
   "cell_type": "code",
   "execution_count": 2469,
   "metadata": {},
   "outputs": [
    {
     "data": {
      "text/plain": [
       "array([[0, 1, 2],\n",
       "       [3, 4, 5],\n",
       "       [6, 7, 8]])"
      ]
     },
     "execution_count": 2469,
     "metadata": {},
     "output_type": "execute_result"
    }
   ],
   "source": [
    "np.arange(9).reshape((3,3))"
   ]
  },
  {
   "cell_type": "code",
   "execution_count": 2470,
   "metadata": {},
   "outputs": [
    {
     "data": {
      "text/plain": [
       "array([[[0., 1., 3., 4.],\n",
       "        [1., 2., 4., 5.]],\n",
       "\n",
       "       [[3., 4., 6., 7.],\n",
       "        [4., 5., 7., 8.]]])"
      ]
     },
     "execution_count": 2470,
     "metadata": {},
     "output_type": "execute_result"
    }
   ],
   "source": [
    "alt_img"
   ]
  },
  {
   "cell_type": "code",
   "execution_count": 2472,
   "metadata": {},
   "outputs": [
    {
     "data": {
      "text/plain": [
       "array([0., 1., 3., 4.])"
      ]
     },
     "execution_count": 2472,
     "metadata": {},
     "output_type": "execute_result"
    }
   ],
   "source": [
    "alt_img[0,0,:]"
   ]
  },
  {
   "cell_type": "code",
   "execution_count": 2337,
   "metadata": {},
   "outputs": [],
   "source": [
    "num_convs = lambda dim_len, kernel_size, stride: floor((dim_len-kernel_size)/stride)+1"
   ]
  },
  {
   "cell_type": "code",
   "execution_count": 2331,
   "metadata": {},
   "outputs": [
    {
     "data": {
      "text/plain": [
       "array([[ 0, 33,  1],\n",
       "       [ 0, 34,  0]])"
      ]
     },
     "execution_count": 2331,
     "metadata": {},
     "output_type": "execute_result"
    }
   ],
   "source": [
    "alt_img[image_idx_to_filter_idx[34], 4]"
   ]
  },
  {
   "cell_type": "code",
   "execution_count": 2336,
   "metadata": {},
   "outputs": [
    {
     "data": {
      "text/plain": [
       "array([[0, 0, 0, 0],\n",
       "       [0, 0, 1, 0],\n",
       "       [0, 1, 0, 0],\n",
       "       [0, 0, 2, 1],\n",
       "       [1, 0, 0, 1],\n",
       "       [0, 0, 3, 0],\n",
       "       [0, 1, 2, 0],\n",
       "       [1, 0, 1, 0],\n",
       "       [1, 1, 0, 0],\n",
       "       [0, 1, 1, 0]])"
      ]
     },
     "execution_count": 2336,
     "metadata": {},
     "output_type": "execute_result"
    }
   ],
   "source": [
    "alt_img[:10]"
   ]
  },
  {
   "cell_type": "code",
   "execution_count": 2383,
   "metadata": {},
   "outputs": [
    {
     "data": {
      "text/plain": [
       "(13, 13, 81, 4)"
      ]
     },
     "execution_count": 2383,
     "metadata": {},
     "output_type": "execute_result"
    }
   ],
   "source": [
    "alt_img.shape"
   ]
  },
  {
   "cell_type": "code",
   "execution_count": 2388,
   "metadata": {},
   "outputs": [
    {
     "data": {
      "text/plain": [
       "array([ 3,  0, 42,  0])"
      ]
     },
     "execution_count": 2388,
     "metadata": {},
     "output_type": "execute_result"
    }
   ],
   "source": [
    "alt_img[0,3,3]"
   ]
  },
  {
   "cell_type": "code",
   "execution_count": 2381,
   "metadata": {},
   "outputs": [
    {
     "data": {
      "text/plain": [
       "array([[ 0, 27,  7],\n",
       "       [ 0, 30,  4],\n",
       "       [ 0, 33,  1]])"
      ]
     },
     "execution_count": 2381,
     "metadata": {},
     "output_type": "execute_result"
    }
   ],
   "source": [
    "image_idx_to_filter_idx[34]"
   ]
  },
  {
   "cell_type": "code",
   "execution_count": 2385,
   "metadata": {},
   "outputs": [
    {
     "data": {
      "text/plain": [
       "3"
      ]
     },
     "execution_count": 2385,
     "metadata": {},
     "output_type": "execute_result"
    }
   ],
   "source": [
    "stride"
   ]
  },
  {
   "cell_type": "code",
   "execution_count": 2387,
   "metadata": {},
   "outputs": [
    {
     "data": {
      "text/plain": [
       "array([[ 6, 12,  3,  0],\n",
       "       [ 0, 15,  4,  1],\n",
       "       [ 0, 15, 57,  1]])"
      ]
     },
     "execution_count": 2387,
     "metadata": {},
     "output_type": "execute_result"
    }
   ],
   "source": [
    "alt_img[\n",
    "    (image_idx_to_filter_idx[34][:,0]/stride).astype(int),\n",
    "    (image_idx_to_filter_idx[34][:,1]/stride).astype(int),\n",
    "    image_idx_to_filter_idx[34][:,2],\n",
    "    :\n",
    "]"
   ]
  },
  {
   "cell_type": "code",
   "execution_count": 2328,
   "metadata": {},
   "outputs": [
    {
     "data": {
      "text/plain": [
       "(44100, 4)"
      ]
     },
     "execution_count": 2328,
     "metadata": {},
     "output_type": "execute_result"
    }
   ],
   "source": [
    "alt_img.shape"
   ]
  },
  {
   "cell_type": "code",
   "execution_count": 2318,
   "metadata": {},
   "outputs": [
    {
     "data": {
      "text/plain": [
       "array([[ 8, 45,  3],\n",
       "       [ 8, 46,  2],\n",
       "       [ 9, 45,  1],\n",
       "       [ 9, 46,  0]])"
      ]
     },
     "execution_count": 2318,
     "metadata": {},
     "output_type": "execute_result"
    }
   ],
   "source": [
    "image_idx_to_filter_idx[1000]"
   ]
  },
  {
   "cell_type": "code",
   "execution_count": 2303,
   "metadata": {},
   "outputs": [
    {
     "data": {
      "text/plain": [
       "(106, 106)"
      ]
     },
     "execution_count": 2303,
     "metadata": {},
     "output_type": "execute_result"
    }
   ],
   "source": [
    "img.shape"
   ]
  },
  {
   "cell_type": "code",
   "execution_count": 749,
   "metadata": {},
   "outputs": [
    {
     "data": {
      "text/plain": [
       "{(0, 0), (0, 2), (2, 0), (2, 2)}"
      ]
     },
     "execution_count": 749,
     "metadata": {},
     "output_type": "execute_result"
    }
   ],
   "source": [
    "set(image_idx_to_filter_idx[34])"
   ]
  },
  {
   "cell_type": "code",
   "execution_count": 794,
   "metadata": {},
   "outputs": [],
   "source": [
    "def get_seq_pos(i, j, kernel_size, shape, abs_seq_pos):\n",
    "    abs_idx = np.unravel_index(abs_seq_pos, shape)\n",
    "    ker_pos = abs_idx - np.array([i,j])\n",
    "    seq_pos = ker_pos[0]*kernel_size + ker_pos[1]\n",
    "    return seq_pos"
   ]
  },
  {
   "cell_type": "code",
   "execution_count": 795,
   "metadata": {},
   "outputs": [
    {
     "data": {
      "text/plain": [
       "8"
      ]
     },
     "execution_count": 795,
     "metadata": {},
     "output_type": "execute_result"
    }
   ],
   "source": [
    "get_seq_pos(0,2, 4, (16,16), 34)"
   ]
  },
  {
   "cell_type": "code",
   "execution_count": 3461,
   "metadata": {},
   "outputs": [],
   "source": [
    "def calc_total_log_prob(affinity_tensor, img, kernel_size, stride):\n",
    "    \n",
    "    w = img.shape[1]\n",
    "    h = img.shape[0]\n",
    "    num_convs_w = floor((w-kernel_size)/stride)+1\n",
    "    num_convs_h = floor((h-kernel_size)/stride)+1\n",
    "    \n",
    "    log_prob = 0\n",
    "    for i in stride * np.arange(num_convs_h):\n",
    "        for j in stride * np.arange(num_convs_w):\n",
    "            local_prob = calc_log_prob(affinity_tensor, img, i, j, kernel_size)\n",
    "            log_prob = log_prob + local_prob\n",
    "    #print(log_prob)\n",
    "    return log_prob\n",
    "\n",
    "def calc_log_prob(affinity_tensor, img, i, j, kernel_size):\n",
    "    \n",
    "    # Goes in order across rows e.g. (0,0) (0,1) etc.\n",
    "    indices = [[i,j] for i in range(kernel_size) for j in range(kernel_size)]\n",
    "    log_prob = 0\n",
    "    for pos1 in range(kernel_size**2):\n",
    "        # plus 1 so that no collisions\n",
    "        for pos2 in range(pos1+1, kernel_size**2):\n",
    "            idx1 = indices[pos1]\n",
    "            idx2 = indices[pos2]\n",
    "            idx = (pos1, pos2,\n",
    "                img[i + idx1[0], j + idx1[1]],\n",
    "                img[i + idx2[0], j + idx2[1]])         \n",
    "            log_prob = log_prob + affinity_tensor[idx]    \n",
    "    #print(log_prob)\n",
    "    return log_prob"
   ]
  },
  {
   "cell_type": "markdown",
   "metadata": {},
   "source": [
    "## Prob of img"
   ]
  },
  {
   "cell_type": "code",
   "execution_count": 3527,
   "metadata": {},
   "outputs": [
    {
     "data": {
      "text/plain": [
       "-168487.18748769775"
      ]
     },
     "execution_count": 3527,
     "metadata": {},
     "output_type": "execute_result"
    }
   ],
   "source": [
    "calc_total_log_prob(affinity_tensor, img, kernel_size, stride)"
   ]
  },
  {
   "cell_type": "code",
   "execution_count": 3528,
   "metadata": {},
   "outputs": [
    {
     "data": {
      "text/plain": [
       "-109977.14533204271"
      ]
     },
     "execution_count": 3528,
     "metadata": {},
     "output_type": "execute_result"
    }
   ],
   "source": [
    "calc_total_log_prob(affinity_tensor, np.zeros(img.shape).astype(int), kernel_size, stride)"
   ]
  },
  {
   "cell_type": "code",
   "execution_count": 1050,
   "metadata": {},
   "outputs": [
    {
     "name": "stdout",
     "output_type": "stream",
     "text": [
      "-315009.91827381356\n"
     ]
    },
    {
     "data": {
      "text/plain": [
       "<matplotlib.image.AxesImage at 0x7fdc6308e240>"
      ]
     },
     "execution_count": 1050,
     "metadata": {},
     "output_type": "execute_result"
    },
    {
     "data": {
      "image/png": "[encoded data removed]",
      "text/plain": [
       "<Figure size 432x288 with 1 Axes>"
      ]
     },
     "metadata": {
      "needs_background": "light"
     },
     "output_type": "display_data"
    }
   ],
   "source": [
    "arr = (np.random.rand(img.shape[0],img.shape[1]) < 0.05).astype(int)       \n",
    "print(calc_total_log_prob(affinity_tensor, arr, 8,4))\n",
    "plt.imshow(arr, cmap='gray')"
   ]
  },
  {
   "cell_type": "code",
   "execution_count": 2702,
   "metadata": {},
   "outputs": [
    {
     "data": {
      "text/plain": [
       "-18732387.029929664"
      ]
     },
     "execution_count": 2702,
     "metadata": {},
     "output_type": "execute_result"
    }
   ],
   "source": [
    "calc_total_log_prob(\n",
    "    affinity_tensor, (np.zeros(img.shape)+1).astype(int), kernel_size, stride)"
   ]
  },
  {
   "cell_type": "code",
   "execution_count": 767,
   "metadata": {},
   "outputs": [
    {
     "name": "stdout",
     "output_type": "stream",
     "text": [
      "-13276.974854295566\n"
     ]
    },
    {
     "data": {
      "text/plain": [
       "<matplotlib.image.AxesImage at 0x7fdc62fd62e8>"
      ]
     },
     "execution_count": 767,
     "metadata": {},
     "output_type": "execute_result"
    },
    {
     "data": {
      "image/png": "[encoded data removed]",
      "text/plain": [
       "<Figure size 432x288 with 1 Axes>"
      ]
     },
     "metadata": {
      "needs_background": "light"
     },
     "output_type": "display_data"
    }
   ],
   "source": [
    "arr = (np.random.rand(16,16) < 0.2).astype(int)\n",
    "print(calc_total_log_prob(affinity_tensor, arr, 4, 2))\n",
    "plt.imshow(arr, cmap='gray')"
   ]
  },
  {
   "cell_type": "markdown",
   "metadata": {},
   "source": []
  },
  {
   "cell_type": "markdown",
   "metadata": {},
   "source": [
    "scan across the image, at every location, look at all pairwise combinations of pixels in the window, and add a count to the co-occurence values \n",
    "\n",
    "[idx, data] size (3^2 * (width-2)^2, 4)\n",
    "0, 6, 0, 1\n",
    "0, 4, 1, 0\n",
    "\n",
    "or\n",
    "\n",
    "[pos1, pos2, conv_filter_idx]\n",
    "\n",
    "-> [pos1, pos2, value1, value2] = count; size (9, 9, 2, 2)"
   ]
  },
  {
   "cell_type": "code",
   "execution_count": 158,
   "metadata": {},
   "outputs": [
    {
     "data": {
      "text/plain": [
       "-171.4119594134845"
      ]
     },
     "execution_count": 158,
     "metadata": {},
     "output_type": "execute_result"
    }
   ],
   "source": [
    "calc_log_prob(affinity_tensor, img, 9, 9, 4)"
   ]
  },
  {
   "cell_type": "code",
   "execution_count": 719,
   "metadata": {},
   "outputs": [
    {
     "data": {
      "text/plain": [
       "array([ 2,  3,  4,  5, 18, 19, 20, 21, 34, 35, 36, 37, 50, 51, 52, 53])"
      ]
     },
     "execution_count": 719,
     "metadata": {},
     "output_type": "execute_result"
    }
   ],
   "source": [
    "np.array(filter_idx_to_image_idx[(0,2)])"
   ]
  },
  {
   "cell_type": "code",
   "execution_count": 726,
   "metadata": {},
   "outputs": [
    {
     "data": {
      "text/plain": [
       "array([0, 0, 1, 0, 0, 1, 0, 1, 1, 0, 0, 0, 0, 0, 0, 0])"
      ]
     },
     "execution_count": 726,
     "metadata": {},
     "output_type": "execute_result"
    }
   ],
   "source": [
    "np.array([\n",
    "                img[np.unravel_index(image_idx, img.shape)]\n",
    "                for image_idx \n",
    "                in filter_idx_to_image_idx[(0,2)]])"
   ]
  },
  {
   "cell_type": "code",
   "execution_count": 737,
   "metadata": {},
   "outputs": [
    {
     "data": {
      "text/plain": [
       "array([0, 4, 8])"
      ]
     },
     "execution_count": 737,
     "metadata": {},
     "output_type": "execute_result"
    }
   ],
   "source": [
    "np.arange(9).reshape((3,3))[np.arange(3),[0,1,2]]"
   ]
  },
  {
   "cell_type": "code",
   "execution_count": 736,
   "metadata": {},
   "outputs": [
    {
     "data": {
      "text/plain": [
       "array([[1, 2],\n",
       "       [4, 5],\n",
       "       [7, 8]])"
      ]
     },
     "execution_count": 736,
     "metadata": {},
     "output_type": "execute_result"
    }
   ],
   "source": [
    "np.arange(9).reshape((3,3))[:,[1,2]]"
   ]
  },
  {
   "cell_type": "code",
   "execution_count": null,
   "metadata": {},
   "outputs": [],
   "source": []
  },
  {
   "cell_type": "code",
   "execution_count": 2299,
   "metadata": {},
   "outputs": [
    {
     "data": {
      "text/plain": [
       "(81, 81)"
      ]
     },
     "execution_count": 2299,
     "metadata": {},
     "output_type": "execute_result"
    }
   ],
   "source": [
    "affinity_tensor[\n",
    "            :, \n",
    "            np.arange(81), \n",
    "            1, \n",
    "            [\n",
    "                img[np.unravel_index(image_idx, img.shape)]\n",
    "                for image_idx \n",
    "                in filter_idx_to_image_idx[(0,3)]]].shape"
   ]
  },
  {
   "cell_type": "code",
   "execution_count": 1490,
   "metadata": {},
   "outputs": [
    {
     "data": {
      "text/plain": [
       "(64, 64, 2, 2)"
      ]
     },
     "execution_count": 1490,
     "metadata": {},
     "output_type": "execute_result"
    }
   ],
   "source": [
    "affinity_tensor.shape"
   ]
  },
  {
   "cell_type": "code",
   "execution_count": 2254,
   "metadata": {},
   "outputs": [
    {
     "data": {
      "text/plain": [
       "5"
      ]
     },
     "execution_count": 2254,
     "metadata": {},
     "output_type": "execute_result"
    }
   ],
   "source": [
    "37 % 16"
   ]
  },
  {
   "cell_type": "code",
   "execution_count": 2255,
   "metadata": {},
   "outputs": [
    {
     "data": {
      "text/plain": [
       "2"
      ]
     },
     "execution_count": 2255,
     "metadata": {},
     "output_type": "execute_result"
    }
   ],
   "source": [
    "37 // 16"
   ]
  },
  {
   "cell_type": "code",
   "execution_count": 2319,
   "metadata": {},
   "outputs": [
    {
     "data": {
      "text/plain": [
       "array([0, 0, 0, 2, 2, 2, 1, 1, 1])"
      ]
     },
     "execution_count": 2319,
     "metadata": {},
     "output_type": "execute_result"
    }
   ],
   "source": [
    "np.repeat(np.array([0,2,1]), 3)"
   ]
  },
  {
   "cell_type": "code",
   "execution_count": null,
   "metadata": {},
   "outputs": [],
   "source": [
    "image_idx_to_filter_idx"
   ]
  },
  {
   "cell_type": "code",
   "execution_count": 3787,
   "metadata": {},
   "outputs": [
    {
     "data": {
      "text/plain": [
       "(13, 13, 81)"
      ]
     },
     "execution_count": 3787,
     "metadata": {},
     "output_type": "execute_result"
    }
   ],
   "source": [
    "alt_img.shape"
   ]
  },
  {
   "cell_type": "code",
   "execution_count": 2974,
   "metadata": {},
   "outputs": [
    {
     "name": "stdout",
     "output_type": "stream",
     "text": [
      "[[ 0 24 10]\n",
      " [ 0 32  2]]\n"
     ]
    },
    {
     "ename": "IndexError",
     "evalue": "index 81 is out of bounds for axis 2 with size 81",
     "output_type": "error",
     "traceback": [
      "\u001b[0;31m---------------------------------------------------------------------------\u001b[0m",
      "\u001b[0;31mIndexError\u001b[0m                                Traceback (most recent call last)",
      "\u001b[0;32m<ipython-input-2974-f11bcf0ffca8>\u001b[0m in \u001b[0;36m<module>\u001b[0;34m\u001b[0m\n\u001b[1;32m     26\u001b[0m     \u001b[0;32mreturn\u001b[0m \u001b[0maff\u001b[0m\u001b[0;34m\u001b[0m\u001b[0m\n\u001b[1;32m     27\u001b[0m \u001b[0;34m\u001b[0m\u001b[0m\n\u001b[0;32m---> 28\u001b[0;31m \u001b[0mtest\u001b[0m\u001b[0;34m(\u001b[0m\u001b[0;34m)\u001b[0m\u001b[0;34m.\u001b[0m\u001b[0mshape\u001b[0m\u001b[0;34m\u001b[0m\u001b[0m\n\u001b[0m",
      "\u001b[0;32m<ipython-input-2974-f11bcf0ffca8>\u001b[0m in \u001b[0;36mtest\u001b[0;34m()\u001b[0m\n\u001b[1;32m     14\u001b[0m         \u001b[0mnp\u001b[0m\u001b[0;34m.\u001b[0m\u001b[0mrepeat\u001b[0m\u001b[0;34m(\u001b[0m\u001b[0;34m(\u001b[0m\u001b[0mfilter_info\u001b[0m\u001b[0;34m[\u001b[0m\u001b[0;34m:\u001b[0m\u001b[0;34m,\u001b[0m\u001b[0;36m0\u001b[0m\u001b[0;34m]\u001b[0m\u001b[0;34m/\u001b[0m\u001b[0mstride\u001b[0m\u001b[0;34m)\u001b[0m\u001b[0;34m.\u001b[0m\u001b[0mastype\u001b[0m\u001b[0;34m(\u001b[0m\u001b[0mint\u001b[0m\u001b[0;34m)\u001b[0m\u001b[0;34m,\u001b[0m \u001b[0mkernel_size\u001b[0m\u001b[0;34m**\u001b[0m\u001b[0;36m2\u001b[0m\u001b[0;34m)\u001b[0m\u001b[0;34m,\u001b[0m\u001b[0;34m\u001b[0m\u001b[0m\n\u001b[1;32m     15\u001b[0m         \u001b[0mnp\u001b[0m\u001b[0;34m.\u001b[0m\u001b[0mrepeat\u001b[0m\u001b[0;34m(\u001b[0m\u001b[0;34m(\u001b[0m\u001b[0mfilter_info\u001b[0m\u001b[0;34m[\u001b[0m\u001b[0;34m:\u001b[0m\u001b[0;34m,\u001b[0m\u001b[0;36m1\u001b[0m\u001b[0;34m]\u001b[0m\u001b[0;34m/\u001b[0m\u001b[0mstride\u001b[0m\u001b[0;34m)\u001b[0m\u001b[0;34m.\u001b[0m\u001b[0mastype\u001b[0m\u001b[0;34m(\u001b[0m\u001b[0mint\u001b[0m\u001b[0;34m)\u001b[0m\u001b[0;34m,\u001b[0m \u001b[0mkernel_size\u001b[0m\u001b[0;34m**\u001b[0m\u001b[0;36m2\u001b[0m\u001b[0;34m)\u001b[0m\u001b[0;34m,\u001b[0m\u001b[0;34m\u001b[0m\u001b[0m\n\u001b[0;32m---> 16\u001b[0;31m         rep_arange].astype(int)\n\u001b[0m\u001b[1;32m     17\u001b[0m \u001b[0;34m\u001b[0m\u001b[0m\n\u001b[1;32m     18\u001b[0m     aff = affinity_tensor[\n",
      "\u001b[0;31mIndexError\u001b[0m: index 81 is out of bounds for axis 2 with size 81"
     ]
    }
   ],
   "source": [
    "def test():\n",
    "    abs_seq_pos = 34\n",
    "    filter_info = image_idx_to_filter_idx[abs_seq_pos]\n",
    "    print(filter_info)\n",
    "    num_overlapping_filters = filter_info.shape[0]\n",
    "\n",
    "    relative_positions = filter_info[:,2]\n",
    "    rep_relative_positions = np.repeat(\n",
    "        relative_positions, kernel_size**2)\n",
    "    rep_arange = np.tile(np.arange(kernel_size**2), num_overlapping_filters)\n",
    "    \n",
    "    #print(kernel_img_vals)\n",
    "    kernel_img_vals = alt_img[\n",
    "        np.repeat((filter_info[:,0]/stride).astype(int), kernel_size**2),\n",
    "        np.repeat((filter_info[:,1]/stride).astype(int), kernel_size**2),\n",
    "        rep_arange].astype(int)\n",
    "\n",
    "    aff = affinity_tensor[\n",
    "            rep_relative_positions, \n",
    "            rep_arange, \n",
    "            # index later to get modded config?\n",
    "            :, \n",
    "            kernel_img_vals\n",
    "    ]\n",
    "    \n",
    "    return aff\n",
    "\n",
    "test().shape"
   ]
  },
  {
   "cell_type": "code",
   "execution_count": 3057,
   "metadata": {},
   "outputs": [],
   "source": [
    "\n",
    "\n",
    "def mcmc_step(affinity_tensor, img, alt_img, beta, kernel_size, stride, sample_prop=1, \n",
    "              max_filters=100, step=None, pix_by_pix=False):\n",
    "    '''Monte Carlo step using Metropolis algorithm '''\n",
    "    \n",
    "    # Get the kernel indices that we're calculating energy for\n",
    "    h=img.shape[0]\n",
    "    w=img.shape[1]\n",
    "    num_convs_w = floor((w-kernel_size)/stride)+1\n",
    "    num_convs_h = floor((h-kernel_size)/stride)+1\n",
    "    \n",
    "    image_idx = np.arange(img.shape[0]*img.shape[1]).reshape(img.shape)\n",
    "    \n",
    "    if pix_by_pix:\n",
    "        # Update pixel by pixel in sequence\n",
    "        abs_seq_pos = step % (h*w)\n",
    "    else:\n",
    "        abs_seq_pos = np.random.randint(h*w)\n",
    "    abs_idx = np.unravel_index(abs_seq_pos, (h, w))\n",
    "\n",
    "    # Get current config for pos1 and pos2 and propose new config\n",
    "    # Accept config with some probability\n",
    "    \n",
    "    current_config = img[abs_idx]\n",
    "    modded_img = img.copy()\n",
    "    proposal_config = np.random.randint(num_colors)\n",
    "    while proposal_config == current_config:\n",
    "        proposal_config = np.random.randint(num_colors)\n",
    "    modded_img[abs_idx] = proposal_config\n",
    "    \n",
    "#     print('kernel' , kernel_size,'stride', stride)\n",
    "#     print('kernel idx:', kernel_idx)\n",
    "#     print(pos1, pos2, idx1, idx2)\n",
    "#     print('abs_idx1:', abs_idx1, 'abs_idx2:', abs_idx2)\n",
    "#     print('current', current_config)\n",
    "#     print('mod', modded_img[abs_idx1], modded_img[abs_idx2])\n",
    "    #print('kernel' , kernel_size,'stride', stride)\n",
    "    #print(abs_seq_pos, abs_idx)\n",
    "    #print('current', current_config)\n",
    "    \n",
    "    # array of shape (num overlapping filters, 3), rows are (0,2,5)\n",
    "    filter_info = image_idx_to_filter_idx[abs_seq_pos]\n",
    "    num_overlapping_filters = filter_info.shape[0]\n",
    "    \n",
    "    relative_positions = filter_info[:,2]\n",
    "    rep_relative_positions = np.repeat(\n",
    "        relative_positions, kernel_size**2)\n",
    "    rep_arange = np.tile(np.arange(kernel_size**2), num_overlapping_filters)\n",
    "    \n",
    "    kernel_img_vals = alt_img[\n",
    "        np.repeat((filter_info[:,0]/stride).astype(int), kernel_size**2),\n",
    "        np.repeat((filter_info[:,1]/stride).astype(int), kernel_size**2),\n",
    "        rep_arange].astype(int)\n",
    "    \n",
    "    aff = affinity_tensor[\n",
    "            rep_relative_positions, \n",
    "            rep_arange, \n",
    "            # index later to get modded config?\n",
    "            :, \n",
    "            kernel_img_vals\n",
    "    ]\n",
    "    \n",
    "    likelihoods = aff.sum(axis=0)\n",
    "    log_diff = likelihoods[proposal_config] - likelihoods[current_config]\n",
    "\n",
    "    # If higher likelihood then keep\n",
    "    if log_diff >= 0:\n",
    "        #print('accept!')\n",
    "        alt_img[\n",
    "            (filter_info[:,0]/stride).astype(int),\n",
    "            (filter_info[:,1]/stride).astype(int),\n",
    "            filter_info[:,2]] = proposal_config\n",
    "        return modded_img, alt_img, 1, log_diff\n",
    "    \n",
    "    # if lower likelihood, accept with some prob\n",
    "    elif np.random.rand() < np.exp(log_diff*beta):\n",
    "        #print('accept!')\n",
    "        alt_img[\n",
    "            (filter_info[:,0]/stride).astype(int),\n",
    "            (filter_info[:,1]/stride).astype(int),\n",
    "            filter_info[:,2]] = proposal_config\n",
    "        return modded_img, alt_img, 1, log_diff\n",
    "    else:\n",
    "        #print('reject :(')\n",
    "        #return img, 0, log_prob\n",
    "        return img, alt_img, 0, 0\n",
    "    "
   ]
  },
  {
   "cell_type": "code",
   "execution_count": 2557,
   "metadata": {},
   "outputs": [
    {
     "ename": "KeyError",
     "evalue": "2915",
     "output_type": "error",
     "traceback": [
      "\u001b[0;31m---------------------------------------------------------------------------\u001b[0m",
      "\u001b[0;31mKeyError\u001b[0m                                  Traceback (most recent call last)",
      "\u001b[0;32m<ipython-input-2557-25be113dace8>\u001b[0m in \u001b[0;36m<module>\u001b[0;34m\u001b[0m\n\u001b[1;32m      2\u001b[0m \u001b[0mnp\u001b[0m\u001b[0;34m.\u001b[0m\u001b[0mrandom\u001b[0m\u001b[0;34m.\u001b[0m\u001b[0mseed\u001b[0m\u001b[0;34m(\u001b[0m\u001b[0;36m5\u001b[0m\u001b[0;34m)\u001b[0m\u001b[0;34m\u001b[0m\u001b[0m\n\u001b[1;32m      3\u001b[0m mcmc_step(affinity_tensor, img, alt_img, beta=5, kernel_size=8, stride=4, sample_prop=0.25, \n\u001b[0;32m----> 4\u001b[0;31m           max_filters=10)\n\u001b[0m",
      "\u001b[0;32m<ipython-input-2556-9ba113d63e4e>\u001b[0m in \u001b[0;36mmcmc_step\u001b[0;34m(affinity_tensor, img, alt_img, beta, kernel_size, stride, sample_prop, max_filters, step, pix_by_pix)\u001b[0m\n\u001b[1;32m    159\u001b[0m \u001b[0;34m\u001b[0m\u001b[0m\n\u001b[1;32m    160\u001b[0m     \u001b[0;31m# array of shape (num overlapping filters, 3), rows are (0,2,5)\u001b[0m\u001b[0;34m\u001b[0m\u001b[0;34m\u001b[0m\u001b[0m\n\u001b[0;32m--> 161\u001b[0;31m     \u001b[0mfilter_info\u001b[0m \u001b[0;34m=\u001b[0m \u001b[0mimage_idx_to_filter_idx\u001b[0m\u001b[0;34m[\u001b[0m\u001b[0mabs_seq_pos\u001b[0m\u001b[0;34m]\u001b[0m\u001b[0;34m\u001b[0m\u001b[0m\n\u001b[0m\u001b[1;32m    162\u001b[0m     \u001b[0mnum_overlapping_filters\u001b[0m \u001b[0;34m=\u001b[0m \u001b[0mfilter_info\u001b[0m\u001b[0;34m.\u001b[0m\u001b[0mshape\u001b[0m\u001b[0;34m[\u001b[0m\u001b[0;36m0\u001b[0m\u001b[0;34m]\u001b[0m\u001b[0;34m\u001b[0m\u001b[0m\n\u001b[1;32m    163\u001b[0m \u001b[0;34m\u001b[0m\u001b[0m\n",
      "\u001b[0;31mKeyError\u001b[0m: 2915"
     ]
    }
   ],
   "source": [
    "# 3\n",
    "np.random.seed(5)\n",
    "mcmc_step(affinity_tensor, img, alt_img, beta=5, kernel_size=8, stride=4, sample_prop=0.25, \n",
    "          max_filters=10)"
   ]
  },
  {
   "cell_type": "code",
   "execution_count": 3439,
   "metadata": {},
   "outputs": [
    {
     "data": {
      "text/plain": [
       "(24, 24)"
      ]
     },
     "execution_count": 3439,
     "metadata": {},
     "output_type": "execute_result"
    }
   ],
   "source": [
    "img_samp.shape"
   ]
  },
  {
   "cell_type": "code",
   "execution_count": 1528,
   "metadata": {},
   "outputs": [],
   "source": [
    "from time import time"
   ]
  },
  {
   "cell_type": "code",
   "execution_count": 4055,
   "metadata": {},
   "outputs": [],
   "source": [
    "# Run this first!!\n",
    "#kernel_size=9\n",
    "#stride=1\n",
    "#init_samp = np.random.randint(num_colors, size=img.shape)\n",
    "#gen_size = (48,48)\n",
    "#assert gen_size[0] % \n",
    "\n",
    "init_samp = np.random.randint(num_colors, size=(16,16))\n",
    "init_samp = (np.zeros((16,16))+32).astype(int)\n",
    "#init_samp = img[:48, :48]\n",
    "#init_samp = np.random.randint(num_colors, size=(kernel_size, kernel_size))\n",
    "log_prob_init = calc_total_log_prob(\n",
    "    affinity_tensor, init_samp, kernel_size=kernel_size, stride=stride)"
   ]
  },
  {
   "cell_type": "code",
   "execution_count": 4064,
   "metadata": {},
   "outputs": [
    {
     "name": "stdout",
     "output_type": "stream",
     "text": [
      "Step 0 - log_prob = -16954.0, accept_prob = 1.0\n",
      "Step 10000 - log_prob = -12244.0, accept_prob = 0.195\n",
      "Step 20000 - log_prob = -8266.0, accept_prob = 0.03\n",
      "Step 30000 - log_prob = -6760.0, accept_prob = 0.01\n",
      "Step 40000 - log_prob = -6041.0, accept_prob = 0.0\n",
      "Step 50000 - log_prob = -5799.0, accept_prob = 0.01\n",
      "Step 60000 - log_prob = -5536.0, accept_prob = 0.005\n",
      "Step 70000 - log_prob = -5345.0, accept_prob = 0.0\n",
      "Step 80000 - log_prob = -5168.0, accept_prob = 0.0\n",
      "Step 90000 - log_prob = -5016.0, accept_prob = 0.0\n",
      "Finished in 6.9s\n"
     ]
    }
   ],
   "source": [
    "#np.random.seed(4)\n",
    "\n",
    "samps = []\n",
    "accepts = []\n",
    "probs = []\n",
    "\n",
    "img_samp = init_samp\n",
    "log_prob = log_prob_init\n",
    "\n",
    "\n",
    "#img_samp = np.zeros(img.shape).astype(int)+1\n",
    "\n",
    "\n",
    "tot_steps = 100000\n",
    "upper_beta = 2\n",
    "lower_beta = -3\n",
    "\n",
    "# Take down temperature over time\n",
    "betas = np.exp(np.linspace(lower_beta, upper_beta, tot_steps))\n",
    "\n",
    "filter_idx_to_image_idx = construct_filters_idx_dict(\n",
    "    img_samp.shape, kernel_size, stride)\n",
    "\n",
    "#image_idx_to_filter_idx = invert_dict(filter_idx_to_image_idx)\n",
    "\n",
    "image_idx_to_filter_idx = invert_filter2img_dict(\n",
    "    filter_idx_to_image_idx, kernel_size, img_samp.shape)\n",
    "\n",
    "alt_img_samp = construct_alternate_img_array(\n",
    "    image_idx_to_filter_idx, img_samp, kernel_size, stride)\n",
    "\n",
    "#print(log_prob)\n",
    "start = time()\n",
    "for step in range(tot_steps):\n",
    "    img_samp, alt_img_samp, accept, delta_prob = mcmc_step(\n",
    "        affinity_tensor, \n",
    "        img_samp, \n",
    "        alt_img_samp,\n",
    "        beta=betas[step], \n",
    "        #beta=np.exp(lower_beta),\n",
    "        kernel_size=kernel_size, \n",
    "        stride=stride,\n",
    "        sample_prop=1,\n",
    "        max_filters=5,\n",
    "        step=step,\n",
    "        pix_by_pix=True\n",
    "    )\n",
    "    \n",
    "    log_prob += delta_prob\n",
    "    #)\n",
    "    \n",
    "    #betas[step]\n",
    "    samps.append(img_samp)\n",
    "    accepts.append(accept)\n",
    "    probs.append(log_prob)\n",
    "    \n",
    "    if (step*10) % tot_steps == 0:\n",
    "        accept_prob = np.array(accepts)[-200:].mean()\n",
    "        print(f'Step {step} - log_prob = {round(log_prob)}, accept_prob = {accept_prob}' )\n",
    "end = time()\n",
    "print(f'Finished in {round(end-start,1)}s')"
   ]
  },
  {
   "cell_type": "code",
   "execution_count": null,
   "metadata": {},
   "outputs": [],
   "source": []
  },
  {
   "cell_type": "code",
   "execution_count": 4065,
   "metadata": {},
   "outputs": [
    {
     "name": "stdout",
     "output_type": "stream",
     "text": [
      "0.05277\n"
     ]
    }
   ],
   "source": [
    "print(sum(accepts)/len(accepts))"
   ]
  },
  {
   "cell_type": "code",
   "execution_count": 4066,
   "metadata": {},
   "outputs": [
    {
     "data": {
      "text/plain": [
       "<matplotlib.axes._subplots.AxesSubplot at 0x7fdb8e72c400>"
      ]
     },
     "execution_count": 4066,
     "metadata": {},
     "output_type": "execute_result"
    },
    {
     "data": {
      "image/png": "[encoded data removed]",
      "text/plain": [
       "<Figure size 432x288 with 1 Axes>"
      ]
     },
     "metadata": {
      "needs_background": "light"
     },
     "output_type": "display_data"
    }
   ],
   "source": [
    "accept_df = pd.Series(accepts).cumsum().reset_index()\n",
    "(accept_df[0]/(accept_df['index']+1)).plot()\n"
   ]
  },
  {
   "cell_type": "code",
   "execution_count": 4067,
   "metadata": {},
   "outputs": [
    {
     "data": {
      "text/plain": [
       "<matplotlib.axes._subplots.AxesSubplot at 0x7fdb8ec1b240>"
      ]
     },
     "execution_count": 4067,
     "metadata": {},
     "output_type": "execute_result"
    },
    {
     "data": {
      "image/png": "[encoded data removed]",
      "text/plain": [
       "<Figure size 432x288 with 1 Axes>"
      ]
     },
     "metadata": {
      "needs_background": "light"
     },
     "output_type": "display_data"
    }
   ],
   "source": [
    "accept_df = pd.Series(accepts).rolling(100).sum().reset_index()\n",
    "(accept_df[0]/100).plot()\n"
   ]
  },
  {
   "cell_type": "code",
   "execution_count": 4068,
   "metadata": {},
   "outputs": [
    {
     "data": {
      "text/plain": [
       "[<matplotlib.lines.Line2D at 0x7fdb17012668>]"
      ]
     },
     "execution_count": 4068,
     "metadata": {},
     "output_type": "execute_result"
    },
    {
     "data": {
      "image/png": "[encoded data removed]",
      "text/plain": [
       "<Figure size 432x288 with 1 Axes>"
      ]
     },
     "metadata": {
      "needs_background": "light"
     },
     "output_type": "display_data"
    }
   ],
   "source": [
    "plt.plot(probs)"
   ]
  },
  {
   "cell_type": "code",
   "execution_count": 4069,
   "metadata": {},
   "outputs": [],
   "source": [
    "from matplotlib import animation, rc\n",
    "from IPython.display import HTML"
   ]
  },
  {
   "cell_type": "code",
   "execution_count": 4070,
   "metadata": {},
   "outputs": [
    {
     "data": {
      "text/plain": [
       "-4974.238889382374"
      ]
     },
     "execution_count": 4070,
     "metadata": {},
     "output_type": "execute_result"
    }
   ],
   "source": [
    "calc_total_log_prob(affinity_tensor, samps[-1], kernel_size, stride)"
   ]
  },
  {
   "cell_type": "code",
   "execution_count": 4071,
   "metadata": {},
   "outputs": [
    {
     "data": {
      "text/plain": [
       "<matplotlib.image.AxesImage at 0x7fdb2d4ab668>"
      ]
     },
     "execution_count": 4071,
     "metadata": {},
     "output_type": "execute_result"
    },
    {
     "data": {
      "image/png": "[encoded data removed]",
      "text/plain": [
       "<Figure size 576x576 with 1 Axes>"
      ]
     },
     "metadata": {
      "needs_background": "light"
     },
     "output_type": "display_data"
    }
   ],
   "source": [
    "plt.figure(figsize=(8,8))\n",
    "plt.imshow(\n",
    "   convert_blocks_to_img(samps[-1], block_size, blocks ),\n",
    "    #samps[-1],\n",
    "    cmap='gray')"
   ]
  },
  {
   "cell_type": "code",
   "execution_count": 3933,
   "metadata": {},
   "outputs": [
    {
     "name": "stderr",
     "output_type": "stream",
     "text": [
      "/Users/milesturpin/miniconda3/lib/python3.6/site-packages/ipykernel_launcher.py:2: RuntimeWarning: Mean of empty slice.\n",
      "  \n",
      "/Users/milesturpin/miniconda3/lib/python3.6/site-packages/numpy/core/_methods.py:161: RuntimeWarning: invalid value encountered in double_scalars\n",
      "  ret = ret.dtype.type(ret / rcount)\n"
     ]
    },
    {
     "ename": "TypeError",
     "evalue": "Invalid dimensions for image data",
     "output_type": "error",
     "traceback": [
      "\u001b[0;31m---------------------------------------------------------------------------\u001b[0m",
      "\u001b[0;31mTypeError\u001b[0m                                 Traceback (most recent call last)",
      "\u001b[0;32m<ipython-input-3933-31aa55f0844d>\u001b[0m in \u001b[0;36m<module>\u001b[0;34m\u001b[0m\n\u001b[1;32m      1\u001b[0m \u001b[0mplt\u001b[0m\u001b[0;34m.\u001b[0m\u001b[0mfigure\u001b[0m\u001b[0;34m(\u001b[0m\u001b[0mfigsize\u001b[0m\u001b[0;34m=\u001b[0m\u001b[0;34m(\u001b[0m\u001b[0;36m8\u001b[0m\u001b[0;34m,\u001b[0m\u001b[0;36m8\u001b[0m\u001b[0;34m)\u001b[0m\u001b[0;34m)\u001b[0m\u001b[0;34m\u001b[0m\u001b[0m\n\u001b[0;32m----> 2\u001b[0;31m \u001b[0mplt\u001b[0m\u001b[0;34m.\u001b[0m\u001b[0mimshow\u001b[0m\u001b[0;34m(\u001b[0m\u001b[0mnp\u001b[0m\u001b[0;34m.\u001b[0m\u001b[0marray\u001b[0m\u001b[0;34m(\u001b[0m\u001b[0msamps\u001b[0m\u001b[0;34m[\u001b[0m\u001b[0;36m9000\u001b[0m\u001b[0;34m:\u001b[0m\u001b[0;34m]\u001b[0m\u001b[0;34m)\u001b[0m\u001b[0;34m.\u001b[0m\u001b[0mmean\u001b[0m\u001b[0;34m(\u001b[0m\u001b[0maxis\u001b[0m\u001b[0;34m=\u001b[0m\u001b[0;36m0\u001b[0m\u001b[0;34m)\u001b[0m\u001b[0;34m,\u001b[0m \u001b[0mcmap\u001b[0m\u001b[0;34m=\u001b[0m\u001b[0;34m'gray'\u001b[0m\u001b[0;34m)\u001b[0m\u001b[0;34m\u001b[0m\u001b[0m\n\u001b[0m",
      "\u001b[0;32m~/miniconda3/lib/python3.6/site-packages/matplotlib/pyplot.py\u001b[0m in \u001b[0;36mimshow\u001b[0;34m(X, cmap, norm, aspect, interpolation, alpha, vmin, vmax, origin, extent, shape, filternorm, filterrad, imlim, resample, url, data, **kwargs)\u001b[0m\n\u001b[1;32m   2699\u001b[0m         \u001b[0mfilternorm\u001b[0m\u001b[0;34m=\u001b[0m\u001b[0mfilternorm\u001b[0m\u001b[0;34m,\u001b[0m \u001b[0mfilterrad\u001b[0m\u001b[0;34m=\u001b[0m\u001b[0mfilterrad\u001b[0m\u001b[0;34m,\u001b[0m \u001b[0mimlim\u001b[0m\u001b[0;34m=\u001b[0m\u001b[0mimlim\u001b[0m\u001b[0;34m,\u001b[0m\u001b[0;34m\u001b[0m\u001b[0m\n\u001b[1;32m   2700\u001b[0m         resample=resample, url=url, **({\"data\": data} if data is not\n\u001b[0;32m-> 2701\u001b[0;31m         None else {}), **kwargs)\n\u001b[0m\u001b[1;32m   2702\u001b[0m     \u001b[0msci\u001b[0m\u001b[0;34m(\u001b[0m\u001b[0m__ret\u001b[0m\u001b[0;34m)\u001b[0m\u001b[0;34m\u001b[0m\u001b[0m\n\u001b[1;32m   2703\u001b[0m     \u001b[0;32mreturn\u001b[0m \u001b[0m__ret\u001b[0m\u001b[0;34m\u001b[0m\u001b[0m\n",
      "\u001b[0;32m~/miniconda3/lib/python3.6/site-packages/matplotlib/__init__.py\u001b[0m in \u001b[0;36minner\u001b[0;34m(ax, data, *args, **kwargs)\u001b[0m\n\u001b[1;32m   1803\u001b[0m                         \u001b[0;34m\"the Matplotlib list!)\"\u001b[0m \u001b[0;34m%\u001b[0m \u001b[0;34m(\u001b[0m\u001b[0mlabel_namer\u001b[0m\u001b[0;34m,\u001b[0m \u001b[0mfunc\u001b[0m\u001b[0;34m.\u001b[0m\u001b[0m__name__\u001b[0m\u001b[0;34m)\u001b[0m\u001b[0;34m,\u001b[0m\u001b[0;34m\u001b[0m\u001b[0m\n\u001b[1;32m   1804\u001b[0m                         RuntimeWarning, stacklevel=2)\n\u001b[0;32m-> 1805\u001b[0;31m             \u001b[0;32mreturn\u001b[0m \u001b[0mfunc\u001b[0m\u001b[0;34m(\u001b[0m\u001b[0max\u001b[0m\u001b[0;34m,\u001b[0m \u001b[0;34m*\u001b[0m\u001b[0margs\u001b[0m\u001b[0;34m,\u001b[0m \u001b[0;34m**\u001b[0m\u001b[0mkwargs\u001b[0m\u001b[0;34m)\u001b[0m\u001b[0;34m\u001b[0m\u001b[0m\n\u001b[0m\u001b[1;32m   1806\u001b[0m \u001b[0;34m\u001b[0m\u001b[0m\n\u001b[1;32m   1807\u001b[0m         inner.__doc__ = _add_data_doc(inner.__doc__,\n",
      "\u001b[0;32m~/miniconda3/lib/python3.6/site-packages/matplotlib/axes/_axes.py\u001b[0m in \u001b[0;36mimshow\u001b[0;34m(self, X, cmap, norm, aspect, interpolation, alpha, vmin, vmax, origin, extent, shape, filternorm, filterrad, imlim, resample, url, **kwargs)\u001b[0m\n\u001b[1;32m   5481\u001b[0m                               resample=resample, **kwargs)\n\u001b[1;32m   5482\u001b[0m \u001b[0;34m\u001b[0m\u001b[0m\n\u001b[0;32m-> 5483\u001b[0;31m         \u001b[0mim\u001b[0m\u001b[0;34m.\u001b[0m\u001b[0mset_data\u001b[0m\u001b[0;34m(\u001b[0m\u001b[0mX\u001b[0m\u001b[0;34m)\u001b[0m\u001b[0;34m\u001b[0m\u001b[0m\n\u001b[0m\u001b[1;32m   5484\u001b[0m         \u001b[0mim\u001b[0m\u001b[0;34m.\u001b[0m\u001b[0mset_alpha\u001b[0m\u001b[0;34m(\u001b[0m\u001b[0malpha\u001b[0m\u001b[0;34m)\u001b[0m\u001b[0;34m\u001b[0m\u001b[0m\n\u001b[1;32m   5485\u001b[0m         \u001b[0;32mif\u001b[0m \u001b[0mim\u001b[0m\u001b[0;34m.\u001b[0m\u001b[0mget_clip_path\u001b[0m\u001b[0;34m(\u001b[0m\u001b[0;34m)\u001b[0m \u001b[0;32mis\u001b[0m \u001b[0;32mNone\u001b[0m\u001b[0;34m:\u001b[0m\u001b[0;34m\u001b[0m\u001b[0m\n",
      "\u001b[0;32m~/miniconda3/lib/python3.6/site-packages/matplotlib/image.py\u001b[0m in \u001b[0;36mset_data\u001b[0;34m(self, A)\u001b[0m\n\u001b[1;32m    644\u001b[0m         if not (self._A.ndim == 2\n\u001b[1;32m    645\u001b[0m                 or self._A.ndim == 3 and self._A.shape[-1] in [3, 4]):\n\u001b[0;32m--> 646\u001b[0;31m             \u001b[0;32mraise\u001b[0m \u001b[0mTypeError\u001b[0m\u001b[0;34m(\u001b[0m\u001b[0;34m\"Invalid dimensions for image data\"\u001b[0m\u001b[0;34m)\u001b[0m\u001b[0;34m\u001b[0m\u001b[0m\n\u001b[0m\u001b[1;32m    647\u001b[0m \u001b[0;34m\u001b[0m\u001b[0m\n\u001b[1;32m    648\u001b[0m         \u001b[0;32mif\u001b[0m \u001b[0mself\u001b[0m\u001b[0;34m.\u001b[0m\u001b[0m_A\u001b[0m\u001b[0;34m.\u001b[0m\u001b[0mndim\u001b[0m \u001b[0;34m==\u001b[0m \u001b[0;36m3\u001b[0m\u001b[0;34m:\u001b[0m\u001b[0;34m\u001b[0m\u001b[0m\n",
      "\u001b[0;31mTypeError\u001b[0m: Invalid dimensions for image data"
     ]
    },
    {
     "data": {
      "image/png": "[encoded data removed]",
      "text/plain": [
       "<Figure size 576x576 with 1 Axes>"
      ]
     },
     "metadata": {
      "needs_background": "light"
     },
     "output_type": "display_data"
    }
   ],
   "source": [
    "plt.figure(figsize=(8,8))\n",
    "plt.imshow(np.array(samps[9000:]).mean(axis=0), cmap='gray')"
   ]
  },
  {
   "cell_type": "code",
   "execution_count": 3274,
   "metadata": {},
   "outputs": [],
   "source": [
    "import datetime"
   ]
  },
  {
   "cell_type": "code",
   "execution_count": 4072,
   "metadata": {},
   "outputs": [
    {
     "data": {
      "image/png": "[encoded data removed]",
      "text/plain": [
       "<Figure size 288x288 with 1 Axes>"
      ]
     },
     "metadata": {
      "needs_background": "light"
     },
     "output_type": "display_data"
    }
   ],
   "source": [
    "fig, ax = plt.subplots(1,1, figsize=(4,4))\n",
    "\n",
    "#im = ax.imshow(samps[0])\n",
    "ax.axis('off')\n",
    "\n",
    "num_frames=min(50, len(samps))\n",
    "frame_idx = np.round(\n",
    "    np.linspace(0, len(samps)-1, num_frames)).astype(int)\n",
    "\n",
    "def init():\n",
    "    im.set_array(samps[0])\n",
    "    return im\n",
    "\n",
    "def animate(i):\n",
    "    #print(i)\n",
    "    #ax.clear()\n",
    "    ax.imshow(\n",
    "        convert_blocks_to_img(samps[frame_idx[i]], block_size, blocks), \n",
    "        cmap='gray')\n",
    "    #im.set_array(samps[i])\n",
    "\n",
    "anim = animation.FuncAnimation(\n",
    "    fig, animate, \n",
    "    frames=num_frames-1, \n",
    "    #init_func=init, \n",
    "    interval=75) \n",
    "\n",
    "directory = datetime.datetime.now().strftime(\"%m%d%y_%H%M%S\")\n",
    "anim.save(f'gifs/k{kernel_size}s{stride}ts{tot_steps}lb{lower_beta}ub{upper_beta}_{directory}.gif', writer='imagemagick')"
   ]
  },
  {
   "cell_type": "code",
   "execution_count": 2270,
   "metadata": {},
   "outputs": [
    {
     "name": "stderr",
     "output_type": "stream",
     "text": [
      "/Users/milesturpin/miniconda3/lib/python3.6/site-packages/ipykernel_launcher.py:19: RuntimeWarning: Mean of empty slice.\n",
      "/Users/milesturpin/miniconda3/lib/python3.6/site-packages/numpy/core/_methods.py:154: RuntimeWarning: invalid value encountered in true_divide\n",
      "  ret, rcount, out=ret, casting='unsafe', subok=False)\n",
      "/Users/milesturpin/miniconda3/lib/python3.6/site-packages/matplotlib/image.py:395: UserWarning: Warning: converting a masked element to nan.\n",
      "  dv = (np.float64(self.norm.vmax) -\n",
      "/Users/milesturpin/miniconda3/lib/python3.6/site-packages/matplotlib/image.py:396: UserWarning: Warning: converting a masked element to nan.\n",
      "  np.float64(self.norm.vmin))\n",
      "/Users/milesturpin/miniconda3/lib/python3.6/site-packages/matplotlib/image.py:403: UserWarning: Warning: converting a masked element to nan.\n",
      "  a_min = np.float64(newmin)\n",
      "/Users/milesturpin/miniconda3/lib/python3.6/site-packages/matplotlib/image.py:408: UserWarning: Warning: converting a masked element to nan.\n",
      "  a_max = np.float64(newmax)\n",
      "<string>:6: UserWarning: Warning: converting a masked element to nan.\n",
      "/Users/milesturpin/miniconda3/lib/python3.6/site-packages/numpy/ma/core.py:711: UserWarning: Warning: converting a masked element to nan.\n",
      "  data = np.array(a, copy=False, subok=subok)\n"
     ]
    },
    {
     "data": {
      "image/png": "[encoded data removed]",
      "text/plain": [
       "<Figure size 288x288 with 1 Axes>"
      ]
     },
     "metadata": {
      "needs_background": "light"
     },
     "output_type": "display_data"
    }
   ],
   "source": [
    "fig, ax = plt.subplots(1,1, figsize=(4,4))\n",
    "\n",
    "#im = ax.imshow(samps[0])\n",
    "ax.axis('off')\n",
    "\n",
    "samps_arr = np.array(samps)\n",
    "\n",
    "num_frames=min(50, len(samps))\n",
    "frame_idx = np.round(\n",
    "    np.linspace(0, len(samps)-1, num_frames)).astype(int)\n",
    "\n",
    "def init():\n",
    "    im.set_array(samps[0])\n",
    "    return im\n",
    "\n",
    "def animate(i):\n",
    "    #print(i)\n",
    "    #ax.clear()\n",
    "    ax.imshow(samps_arr[:frame_idx[i]].mean(axis=0), cmap='gray')\n",
    "    #im.set_array(samps[i])\n",
    "\n",
    "anim = animation.FuncAnimation(\n",
    "    fig, animate, \n",
    "    frames=num_frames-1, \n",
    "    #init_func=init, \n",
    "    interval=75) \n",
    "\n",
    "directory = datetime.datetime.now().strftime(\"%m%d%y_%H%M%S\")\n",
    "anim.save(\n",
    "    f'gifs/k{kernel_size}s{stride}ts{tot_steps}lb{lower_beta}ub{upper_beta}_{directory}_mean.gif', \n",
    "     writer='imagemagick')"
   ]
  },
  {
   "cell_type": "code",
   "execution_count": null,
   "metadata": {},
   "outputs": [],
   "source": []
  }
 ],
 "metadata": {
  "kernelspec": {
   "display_name": "Python 3",
   "language": "python",
   "name": "python3"
  },
  "language_info": {
   "codemirror_mode": {
    "name": "ipython",
    "version": 3
   },
   "file_extension": ".py",
   "mimetype": "text/x-python",
   "name": "python",
   "nbconvert_exporter": "python",
   "pygments_lexer": "ipython3",
   "version": "3.6.6"
  }
 },
 "nbformat": 4,
 "nbformat_minor": 2
}
